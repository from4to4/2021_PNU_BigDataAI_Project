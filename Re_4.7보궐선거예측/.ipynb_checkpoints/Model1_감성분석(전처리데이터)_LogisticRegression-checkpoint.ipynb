{
 "cells": [
  {
   "cell_type": "markdown",
   "metadata": {},
   "source": [
    "# 모델1\n",
    "- Feature\n",
    "    - **기사제목+댓글 텍스트**\n",
    "- Label\n",
    "    - **긍정/부정**\n",
    "\n",
    "\n",
    "- 학습 방법\n",
    "    - 시간 관계상, 학습을 위해 직접 긍정/부정 라벨링이 어렵기 때문에 **후보평가**와 **정당 평가** 중 하나도 있는 값을 y로 설정하여 학습시키기\n",
    "    - Logistic 이용"
   ]
  },
  {
   "cell_type": "code",
   "execution_count": 1,
   "metadata": {
    "ExecuteTime": {
     "end_time": "2021-05-11T15:41:46.883935Z",
     "start_time": "2021-05-11T15:41:45.725943Z"
    }
   },
   "outputs": [],
   "source": [
    "import pandas as pd\n",
    "import numpy as np\n",
    "import matplotlib.pyplot as plt \n",
    "import seaborn as sns \n",
    "import re\n",
    "from sklearn.model_selection import GridSearchCV\n",
    "from sklearn.metrics import accuracy_score, confusion_matrix\n",
    "import warnings\n",
    "\n",
    "# 모델 저장\n",
    "import pickle\n",
    "\n",
    "# KFold\n",
    "from sklearn.model_selection import KFold # 순서대로 하거나 or 랜덤하게 클래스를 나눈다.\n",
    "from sklearn.model_selection import StratifiedKFold # 결과데이터를 보고 각 클래스가 균등한 비율로 들어있게끔 나눈다.\n",
    "\n",
    "# 교차검증 함수\n",
    "from sklearn.model_selection import cross_val_score\n",
    "from sklearn.model_selection import cross_validate\n",
    "\n",
    "warnings.filterwarnings('ignore')\n",
    "plt.style.use('seaborn-whitegrid')\n",
    "plt.rcParams['font.family'] = 'Malgun Gothic'\n",
    "# plt.rcParams['font.family'] = 'AppleGothic'\n",
    "plt.rcParams['font.size'] = 10\n",
    "plt.rcParams['figure.figsize'] = 10,5\n",
    "plt.rcParams['axes.unicode_minus'] = False"
   ]
  },
  {
   "cell_type": "markdown",
   "metadata": {},
   "source": [
    "## 0. 데이터 불러오기"
   ]
  },
  {
   "cell_type": "code",
   "execution_count": 2,
   "metadata": {
    "ExecuteTime": {
     "end_time": "2021-05-11T15:41:49.111416Z",
     "start_time": "2021-05-11T15:41:46.885930Z"
    }
   },
   "outputs": [
    {
     "data": {
      "text/html": [
       "<div>\n",
       "<style scoped>\n",
       "    .dataframe tbody tr th:only-of-type {\n",
       "        vertical-align: middle;\n",
       "    }\n",
       "\n",
       "    .dataframe tbody tr th {\n",
       "        vertical-align: top;\n",
       "    }\n",
       "\n",
       "    .dataframe thead th {\n",
       "        text-align: right;\n",
       "    }\n",
       "</style>\n",
       "<table border=\"1\" class=\"dataframe\">\n",
       "  <thead>\n",
       "    <tr style=\"text-align: right;\">\n",
       "      <th></th>\n",
       "      <th>제목</th>\n",
       "      <th>날짜</th>\n",
       "      <th>작성일</th>\n",
       "      <th>댓글</th>\n",
       "      <th>출처</th>\n",
       "      <th>지역(서울:1, 부산:2)</th>\n",
       "      <th>정당(1:더불어민주당,2:국민의힘)</th>\n",
       "      <th>정당평가(부정;0, 긍정:1)</th>\n",
       "      <th>후보(기호 순)</th>\n",
       "      <th>후보평가(부정;0, 긍정:1)</th>\n",
       "      <th>제목댓글</th>\n",
       "      <th>전처리 제목댓글</th>\n",
       "    </tr>\n",
       "  </thead>\n",
       "  <tbody>\n",
       "    <tr>\n",
       "      <th>0</th>\n",
       "      <td>[재보궐 D-31] 부산 김영춘 vs 박형준, 서울도 양자 대결?</td>\n",
       "      <td>2021-03-07 05:57:00</td>\n",
       "      <td>2021-03-12 19:13:00</td>\n",
       "      <td>철수야! 뜸 들이지 말고 애국하는 마음으로 물러서라~~~</td>\n",
       "      <td>조선일보</td>\n",
       "      <td>NaN</td>\n",
       "      <td>NaN</td>\n",
       "      <td>NaN</td>\n",
       "      <td>NaN</td>\n",
       "      <td>NaN</td>\n",
       "      <td>[재보궐 D-31] 부산 김영춘 vs 박형준, 서울도 양자 대결? 철수야! 뜸 들이...</td>\n",
       "      <td>재보궐 D31 부산 김영춘 vs 박형준 서울도 양자 대결 철수야 뜸 들이지 말고 애...</td>\n",
       "    </tr>\n",
       "    <tr>\n",
       "      <th>1</th>\n",
       "      <td>[재보궐 D-31] 부산 김영춘 vs 박형준, 서울도 양자 대결?</td>\n",
       "      <td>2021-03-07 05:57:00</td>\n",
       "      <td>2021-03-09 13:49:00</td>\n",
       "      <td>박영선은 정동영이 얻은 36프로선에 머무를것. 4.7.이후 OOO정권은 몰락의 길 ...</td>\n",
       "      <td>조선일보</td>\n",
       "      <td>1.0</td>\n",
       "      <td>NaN</td>\n",
       "      <td>NaN</td>\n",
       "      <td>1.0</td>\n",
       "      <td>0.0</td>\n",
       "      <td>[재보궐 D-31] 부산 김영춘 vs 박형준, 서울도 양자 대결? 박영선은 정동영이...</td>\n",
       "      <td>재보궐 D31 부산 김영춘 vs 박형준 서울도 양자 대결 박영선은 정동영이 얻은 3...</td>\n",
       "    </tr>\n",
       "    <tr>\n",
       "      <th>2</th>\n",
       "      <td>[재보궐 D-31] 부산 김영춘 vs 박형준, 서울도 양자 대결?</td>\n",
       "      <td>2021-03-07 05:57:00</td>\n",
       "      <td>2021-03-07 14:42:00</td>\n",
       "      <td>빵선이가서울시장되면서울은공산국가수도제2의평양이될것이다</td>\n",
       "      <td>조선일보</td>\n",
       "      <td>1.0</td>\n",
       "      <td>NaN</td>\n",
       "      <td>NaN</td>\n",
       "      <td>1.0</td>\n",
       "      <td>0.0</td>\n",
       "      <td>[재보궐 D-31] 부산 김영춘 vs 박형준, 서울도 양자 대결? 빵선이가서울시장되...</td>\n",
       "      <td>재보궐 D31 부산 김영춘 vs 박형준 서울도 양자 대결 빵 산 이가 서울시장 되면...</td>\n",
       "    </tr>\n",
       "    <tr>\n",
       "      <th>3</th>\n",
       "      <td>[재보궐 D-31] 부산 김영춘 vs 박형준, 서울도 양자 대결?</td>\n",
       "      <td>2021-03-07 05:57:00</td>\n",
       "      <td>2021-03-07 14:38:00</td>\n",
       "      <td>서울시장후보더듬당박빵선이는절대로서울시장을할수없다이유는가족은미국.영국에 영주권자이므로...</td>\n",
       "      <td>조선일보</td>\n",
       "      <td>1.0</td>\n",
       "      <td>1.0</td>\n",
       "      <td>0.0</td>\n",
       "      <td>1.0</td>\n",
       "      <td>0.0</td>\n",
       "      <td>[재보궐 D-31] 부산 김영춘 vs 박형준, 서울도 양자 대결? 서울시장후보더듬당...</td>\n",
       "      <td>재보궐 D31 부산 김영춘 vs 박형준 서울도 양자 대결 서울시장 후보 더 든 대치...</td>\n",
       "    </tr>\n",
       "    <tr>\n",
       "      <th>4</th>\n",
       "      <td>[재보궐 D-31] 부산 김영춘 vs 박형준, 서울도 양자 대결?</td>\n",
       "      <td>2021-03-07 05:57:00</td>\n",
       "      <td>2021-03-07 14:02:00</td>\n",
       "      <td>부산은오거돈선거이고 오거돈치부선거아닌가 오거돈에 성추해으로 생긴선거가 가독도신공항은...</td>\n",
       "      <td>조선일보</td>\n",
       "      <td>2.0</td>\n",
       "      <td>1.0</td>\n",
       "      <td>0.0</td>\n",
       "      <td>NaN</td>\n",
       "      <td>NaN</td>\n",
       "      <td>[재보궐 D-31] 부산 김영춘 vs 박형준, 서울도 양자 대결? 부산은오거돈선거이...</td>\n",
       "      <td>재보궐 D31 부산 김영춘 vs 박형준 서울도 양자 대결 부산은 오거돈 선거이고 오...</td>\n",
       "    </tr>\n",
       "    <tr>\n",
       "      <th>...</th>\n",
       "      <td>...</td>\n",
       "      <td>...</td>\n",
       "      <td>...</td>\n",
       "      <td>...</td>\n",
       "      <td>...</td>\n",
       "      <td>...</td>\n",
       "      <td>...</td>\n",
       "      <td>...</td>\n",
       "      <td>...</td>\n",
       "      <td>...</td>\n",
       "      <td>...</td>\n",
       "      <td>...</td>\n",
       "    </tr>\n",
       "    <tr>\n",
       "      <th>144134</th>\n",
       "      <td>[논설위원의 단도직입]“한·일해저터널 경제성 없지만…동북아 경제권 차원서 장기 검토해야”</td>\n",
       "      <td>2021-04-06 21:56:00</td>\n",
       "      <td>2021-04-06 22:47:00</td>\n",
       "      <td>국민의힘 찍지 말라고 이 뉴스가 나온거임\\r\\n내냔에 국민의힘 찍을라 했드만 망했다...</td>\n",
       "      <td>경향신문</td>\n",
       "      <td>NaN</td>\n",
       "      <td>NaN</td>\n",
       "      <td>NaN</td>\n",
       "      <td>NaN</td>\n",
       "      <td>NaN</td>\n",
       "      <td>[논설위원의 단도직입]“한·일해저터널 경제성 없지만…동북아 경제권 차원서 장기 검토...</td>\n",
       "      <td>논설위원의 단도직입한 일해져 터널 경제성 없지만, 동북아 경제권 차원서 장기 검토해...</td>\n",
       "    </tr>\n",
       "    <tr>\n",
       "      <th>144135</th>\n",
       "      <td>[논설위원의 단도직입]“한·일해저터널 경제성 없지만…동북아 경제권 차원서 장기 검토해야”</td>\n",
       "      <td>2021-04-06 21:56:00</td>\n",
       "      <td>2021-04-06 22:41:00</td>\n",
       "      <td>굳이 일본과 해저터널 해야되는 이유가 없은이유\\r\\n-일본은고속도로비가 비싸다\\r\\...</td>\n",
       "      <td>경향신문</td>\n",
       "      <td>NaN</td>\n",
       "      <td>NaN</td>\n",
       "      <td>NaN</td>\n",
       "      <td>NaN</td>\n",
       "      <td>NaN</td>\n",
       "      <td>[논설위원의 단도직입]“한·일해저터널 경제성 없지만…동북아 경제권 차원서 장기 검토...</td>\n",
       "      <td>논설위원의 단도직입한 일해져 터널 경제성 없지만, 동북아 경제권 차원서 장기 검토해...</td>\n",
       "    </tr>\n",
       "    <tr>\n",
       "      <th>144136</th>\n",
       "      <td>[논설위원의 단도직입]“한·일해저터널 경제성 없지만…동북아 경제권 차원서 장기 검토해야”</td>\n",
       "      <td>2021-04-06 21:56:00</td>\n",
       "      <td>2021-04-06 22:38:00</td>\n",
       "      <td>도랏구나. 열도는 걍 갈라파고스로 남겨 둬라. 재난 난민 넘어 오면 귀찮다.</td>\n",
       "      <td>경향신문</td>\n",
       "      <td>NaN</td>\n",
       "      <td>NaN</td>\n",
       "      <td>NaN</td>\n",
       "      <td>NaN</td>\n",
       "      <td>NaN</td>\n",
       "      <td>[논설위원의 단도직입]“한·일해저터널 경제성 없지만…동북아 경제권 차원서 장기 검토...</td>\n",
       "      <td>논설위원의 단도 직입한 일해저 터널 경제성 없지만 동북아 경제권 차원서 장기 검토해...</td>\n",
       "    </tr>\n",
       "    <tr>\n",
       "      <th>144137</th>\n",
       "      <td>[논설위원의 단도직입]“한·일해저터널 경제성 없지만…동북아 경제권 차원서 장기 검토해야”</td>\n",
       "      <td>2021-04-06 21:56:00</td>\n",
       "      <td>2021-04-06 22:32:00</td>\n",
       "      <td>이걸 왜 하지? 우리한테 아무런 의미가 없는데</td>\n",
       "      <td>경향신문</td>\n",
       "      <td>NaN</td>\n",
       "      <td>NaN</td>\n",
       "      <td>NaN</td>\n",
       "      <td>NaN</td>\n",
       "      <td>NaN</td>\n",
       "      <td>[논설위원의 단도직입]“한·일해저터널 경제성 없지만…동북아 경제권 차원서 장기 검토...</td>\n",
       "      <td>논설위원의 단도 직입한 일해저 터널 경제성 없지만 동북아 경제권 차원서 장기 검토해...</td>\n",
       "    </tr>\n",
       "    <tr>\n",
       "      <th>144138</th>\n",
       "      <td>[논설위원의 단도직입]“한·일해저터널 경제성 없지만…동북아 경제권 차원서 장기 검토해야”</td>\n",
       "      <td>2021-04-06 21:56:00</td>\n",
       "      <td>2021-04-06 22:26:00</td>\n",
       "      <td>우리에겐 아무런 도움이 되지 않는 것을 일본에게는 엄청난 기회가 되는 것을 왜 굳이...</td>\n",
       "      <td>경향신문</td>\n",
       "      <td>NaN</td>\n",
       "      <td>NaN</td>\n",
       "      <td>NaN</td>\n",
       "      <td>NaN</td>\n",
       "      <td>NaN</td>\n",
       "      <td>[논설위원의 단도직입]“한·일해저터널 경제성 없지만…동북아 경제권 차원서 장기 검토...</td>\n",
       "      <td>논설위원의 단도직입한 일해져 터널 경제성 없지만, 동북아 경제권 차원서 장기 검토해...</td>\n",
       "    </tr>\n",
       "  </tbody>\n",
       "</table>\n",
       "<p>144139 rows × 12 columns</p>\n",
       "</div>"
      ],
      "text/plain": [
       "                                                       제목  \\\n",
       "0                    [재보궐 D-31] 부산 김영춘 vs 박형준, 서울도 양자 대결?   \n",
       "1                    [재보궐 D-31] 부산 김영춘 vs 박형준, 서울도 양자 대결?   \n",
       "2                    [재보궐 D-31] 부산 김영춘 vs 박형준, 서울도 양자 대결?   \n",
       "3                    [재보궐 D-31] 부산 김영춘 vs 박형준, 서울도 양자 대결?   \n",
       "4                    [재보궐 D-31] 부산 김영춘 vs 박형준, 서울도 양자 대결?   \n",
       "...                                                   ...   \n",
       "144134  [논설위원의 단도직입]“한·일해저터널 경제성 없지만…동북아 경제권 차원서 장기 검토해야”   \n",
       "144135  [논설위원의 단도직입]“한·일해저터널 경제성 없지만…동북아 경제권 차원서 장기 검토해야”   \n",
       "144136  [논설위원의 단도직입]“한·일해저터널 경제성 없지만…동북아 경제권 차원서 장기 검토해야”   \n",
       "144137  [논설위원의 단도직입]“한·일해저터널 경제성 없지만…동북아 경제권 차원서 장기 검토해야”   \n",
       "144138  [논설위원의 단도직입]“한·일해저터널 경제성 없지만…동북아 경제권 차원서 장기 검토해야”   \n",
       "\n",
       "                         날짜                  작성일  \\\n",
       "0       2021-03-07 05:57:00  2021-03-12 19:13:00   \n",
       "1       2021-03-07 05:57:00  2021-03-09 13:49:00   \n",
       "2       2021-03-07 05:57:00  2021-03-07 14:42:00   \n",
       "3       2021-03-07 05:57:00  2021-03-07 14:38:00   \n",
       "4       2021-03-07 05:57:00  2021-03-07 14:02:00   \n",
       "...                     ...                  ...   \n",
       "144134  2021-04-06 21:56:00  2021-04-06 22:47:00   \n",
       "144135  2021-04-06 21:56:00  2021-04-06 22:41:00   \n",
       "144136  2021-04-06 21:56:00  2021-04-06 22:38:00   \n",
       "144137  2021-04-06 21:56:00  2021-04-06 22:32:00   \n",
       "144138  2021-04-06 21:56:00  2021-04-06 22:26:00   \n",
       "\n",
       "                                                       댓글    출처  \\\n",
       "0                         철수야! 뜸 들이지 말고 애국하는 마음으로 물러서라~~~  조선일보   \n",
       "1       박영선은 정동영이 얻은 36프로선에 머무를것. 4.7.이후 OOO정권은 몰락의 길 ...  조선일보   \n",
       "2                           빵선이가서울시장되면서울은공산국가수도제2의평양이될것이다  조선일보   \n",
       "3       서울시장후보더듬당박빵선이는절대로서울시장을할수없다이유는가족은미국.영국에 영주권자이므로...  조선일보   \n",
       "4       부산은오거돈선거이고 오거돈치부선거아닌가 오거돈에 성추해으로 생긴선거가 가독도신공항은...  조선일보   \n",
       "...                                                   ...   ...   \n",
       "144134  국민의힘 찍지 말라고 이 뉴스가 나온거임\\r\\n내냔에 국민의힘 찍을라 했드만 망했다...  경향신문   \n",
       "144135  굳이 일본과 해저터널 해야되는 이유가 없은이유\\r\\n-일본은고속도로비가 비싸다\\r\\...  경향신문   \n",
       "144136         도랏구나. 열도는 걍 갈라파고스로 남겨 둬라. 재난 난민 넘어 오면 귀찮다.  경향신문   \n",
       "144137                          이걸 왜 하지? 우리한테 아무런 의미가 없는데  경향신문   \n",
       "144138  우리에겐 아무런 도움이 되지 않는 것을 일본에게는 엄청난 기회가 되는 것을 왜 굳이...  경향신문   \n",
       "\n",
       "        지역(서울:1, 부산:2)  정당(1:더불어민주당,2:국민의힘)  정당평가(부정;0, 긍정:1)  후보(기호 순)  \\\n",
       "0                  NaN                  NaN               NaN       NaN   \n",
       "1                  1.0                  NaN               NaN       1.0   \n",
       "2                  1.0                  NaN               NaN       1.0   \n",
       "3                  1.0                  1.0               0.0       1.0   \n",
       "4                  2.0                  1.0               0.0       NaN   \n",
       "...                ...                  ...               ...       ...   \n",
       "144134             NaN                  NaN               NaN       NaN   \n",
       "144135             NaN                  NaN               NaN       NaN   \n",
       "144136             NaN                  NaN               NaN       NaN   \n",
       "144137             NaN                  NaN               NaN       NaN   \n",
       "144138             NaN                  NaN               NaN       NaN   \n",
       "\n",
       "        후보평가(부정;0, 긍정:1)                                               제목댓글  \\\n",
       "0                    NaN  [재보궐 D-31] 부산 김영춘 vs 박형준, 서울도 양자 대결? 철수야! 뜸 들이...   \n",
       "1                    0.0  [재보궐 D-31] 부산 김영춘 vs 박형준, 서울도 양자 대결? 박영선은 정동영이...   \n",
       "2                    0.0  [재보궐 D-31] 부산 김영춘 vs 박형준, 서울도 양자 대결? 빵선이가서울시장되...   \n",
       "3                    0.0  [재보궐 D-31] 부산 김영춘 vs 박형준, 서울도 양자 대결? 서울시장후보더듬당...   \n",
       "4                    NaN  [재보궐 D-31] 부산 김영춘 vs 박형준, 서울도 양자 대결? 부산은오거돈선거이...   \n",
       "...                  ...                                                ...   \n",
       "144134               NaN  [논설위원의 단도직입]“한·일해저터널 경제성 없지만…동북아 경제권 차원서 장기 검토...   \n",
       "144135               NaN  [논설위원의 단도직입]“한·일해저터널 경제성 없지만…동북아 경제권 차원서 장기 검토...   \n",
       "144136               NaN  [논설위원의 단도직입]“한·일해저터널 경제성 없지만…동북아 경제권 차원서 장기 검토...   \n",
       "144137               NaN  [논설위원의 단도직입]“한·일해저터널 경제성 없지만…동북아 경제권 차원서 장기 검토...   \n",
       "144138               NaN  [논설위원의 단도직입]“한·일해저터널 경제성 없지만…동북아 경제권 차원서 장기 검토...   \n",
       "\n",
       "                                                 전처리 제목댓글  \n",
       "0       재보궐 D31 부산 김영춘 vs 박형준 서울도 양자 대결 철수야 뜸 들이지 말고 애...  \n",
       "1       재보궐 D31 부산 김영춘 vs 박형준 서울도 양자 대결 박영선은 정동영이 얻은 3...  \n",
       "2       재보궐 D31 부산 김영춘 vs 박형준 서울도 양자 대결 빵 산 이가 서울시장 되면...  \n",
       "3       재보궐 D31 부산 김영춘 vs 박형준 서울도 양자 대결 서울시장 후보 더 든 대치...  \n",
       "4       재보궐 D31 부산 김영춘 vs 박형준 서울도 양자 대결 부산은 오거돈 선거이고 오...  \n",
       "...                                                   ...  \n",
       "144134  논설위원의 단도직입한 일해져 터널 경제성 없지만, 동북아 경제권 차원서 장기 검토해...  \n",
       "144135  논설위원의 단도직입한 일해져 터널 경제성 없지만, 동북아 경제권 차원서 장기 검토해...  \n",
       "144136  논설위원의 단도 직입한 일해저 터널 경제성 없지만 동북아 경제권 차원서 장기 검토해...  \n",
       "144137  논설위원의 단도 직입한 일해저 터널 경제성 없지만 동북아 경제권 차원서 장기 검토해...  \n",
       "144138  논설위원의 단도직입한 일해져 터널 경제성 없지만, 동북아 경제권 차원서 장기 검토해...  \n",
       "\n",
       "[144139 rows x 12 columns]"
      ]
     },
     "execution_count": 2,
     "metadata": {},
     "output_type": "execute_result"
    }
   ],
   "source": [
    "df = pd.read_csv('data/재보궐선거댓글데이터_최종_전처리완료.csv')\n",
    "df"
   ]
  },
  {
   "cell_type": "code",
   "execution_count": 3,
   "metadata": {
    "ExecuteTime": {
     "end_time": "2021-05-11T15:41:49.118416Z",
     "start_time": "2021-05-11T15:41:49.113409Z"
    }
   },
   "outputs": [
    {
     "data": {
      "text/plain": [
       "(144139, 12)"
      ]
     },
     "execution_count": 3,
     "metadata": {},
     "output_type": "execute_result"
    }
   ],
   "source": [
    "# 데이터 구조\n",
    "df.shape"
   ]
  },
  {
   "cell_type": "code",
   "execution_count": 4,
   "metadata": {
    "ExecuteTime": {
     "end_time": "2021-05-11T15:41:49.152305Z",
     "start_time": "2021-05-11T15:41:49.121389Z"
    },
    "scrolled": true
   },
   "outputs": [
    {
     "data": {
      "text/html": [
       "<div>\n",
       "<style scoped>\n",
       "    .dataframe tbody tr th:only-of-type {\n",
       "        vertical-align: middle;\n",
       "    }\n",
       "\n",
       "    .dataframe tbody tr th {\n",
       "        vertical-align: top;\n",
       "    }\n",
       "\n",
       "    .dataframe thead th {\n",
       "        text-align: right;\n",
       "    }\n",
       "</style>\n",
       "<table border=\"1\" class=\"dataframe\">\n",
       "  <thead>\n",
       "    <tr style=\"text-align: right;\">\n",
       "      <th></th>\n",
       "      <th>date</th>\n",
       "      <th>press</th>\n",
       "      <th>area</th>\n",
       "      <th>party</th>\n",
       "      <th>party_eval</th>\n",
       "      <th>candidate</th>\n",
       "      <th>candidate_eval</th>\n",
       "      <th>title_comment</th>\n",
       "      <th>pre_title_comment</th>\n",
       "    </tr>\n",
       "  </thead>\n",
       "  <tbody>\n",
       "    <tr>\n",
       "      <th>0</th>\n",
       "      <td>2021-03-12 19:13:00</td>\n",
       "      <td>조선일보</td>\n",
       "      <td>NaN</td>\n",
       "      <td>NaN</td>\n",
       "      <td>NaN</td>\n",
       "      <td>NaN</td>\n",
       "      <td>NaN</td>\n",
       "      <td>[재보궐 D-31] 부산 김영춘 vs 박형준, 서울도 양자 대결? 철수야! 뜸 들이...</td>\n",
       "      <td>재보궐 D31 부산 김영춘 vs 박형준 서울도 양자 대결 철수야 뜸 들이지 말고 애...</td>\n",
       "    </tr>\n",
       "    <tr>\n",
       "      <th>1</th>\n",
       "      <td>2021-03-09 13:49:00</td>\n",
       "      <td>조선일보</td>\n",
       "      <td>1.0</td>\n",
       "      <td>NaN</td>\n",
       "      <td>NaN</td>\n",
       "      <td>1.0</td>\n",
       "      <td>0.0</td>\n",
       "      <td>[재보궐 D-31] 부산 김영춘 vs 박형준, 서울도 양자 대결? 박영선은 정동영이...</td>\n",
       "      <td>재보궐 D31 부산 김영춘 vs 박형준 서울도 양자 대결 박영선은 정동영이 얻은 3...</td>\n",
       "    </tr>\n",
       "    <tr>\n",
       "      <th>2</th>\n",
       "      <td>2021-03-07 14:42:00</td>\n",
       "      <td>조선일보</td>\n",
       "      <td>1.0</td>\n",
       "      <td>NaN</td>\n",
       "      <td>NaN</td>\n",
       "      <td>1.0</td>\n",
       "      <td>0.0</td>\n",
       "      <td>[재보궐 D-31] 부산 김영춘 vs 박형준, 서울도 양자 대결? 빵선이가서울시장되...</td>\n",
       "      <td>재보궐 D31 부산 김영춘 vs 박형준 서울도 양자 대결 빵 산 이가 서울시장 되면...</td>\n",
       "    </tr>\n",
       "    <tr>\n",
       "      <th>3</th>\n",
       "      <td>2021-03-07 14:38:00</td>\n",
       "      <td>조선일보</td>\n",
       "      <td>1.0</td>\n",
       "      <td>1.0</td>\n",
       "      <td>0.0</td>\n",
       "      <td>1.0</td>\n",
       "      <td>0.0</td>\n",
       "      <td>[재보궐 D-31] 부산 김영춘 vs 박형준, 서울도 양자 대결? 서울시장후보더듬당...</td>\n",
       "      <td>재보궐 D31 부산 김영춘 vs 박형준 서울도 양자 대결 서울시장 후보 더 든 대치...</td>\n",
       "    </tr>\n",
       "    <tr>\n",
       "      <th>4</th>\n",
       "      <td>2021-03-07 14:02:00</td>\n",
       "      <td>조선일보</td>\n",
       "      <td>2.0</td>\n",
       "      <td>1.0</td>\n",
       "      <td>0.0</td>\n",
       "      <td>NaN</td>\n",
       "      <td>NaN</td>\n",
       "      <td>[재보궐 D-31] 부산 김영춘 vs 박형준, 서울도 양자 대결? 부산은오거돈선거이...</td>\n",
       "      <td>재보궐 D31 부산 김영춘 vs 박형준 서울도 양자 대결 부산은 오거돈 선거이고 오...</td>\n",
       "    </tr>\n",
       "  </tbody>\n",
       "</table>\n",
       "</div>"
      ],
      "text/plain": [
       "                  date press  area  party  party_eval  candidate  \\\n",
       "0  2021-03-12 19:13:00  조선일보   NaN    NaN         NaN        NaN   \n",
       "1  2021-03-09 13:49:00  조선일보   1.0    NaN         NaN        1.0   \n",
       "2  2021-03-07 14:42:00  조선일보   1.0    NaN         NaN        1.0   \n",
       "3  2021-03-07 14:38:00  조선일보   1.0    1.0         0.0        1.0   \n",
       "4  2021-03-07 14:02:00  조선일보   2.0    1.0         0.0        NaN   \n",
       "\n",
       "   candidate_eval                                      title_comment  \\\n",
       "0             NaN  [재보궐 D-31] 부산 김영춘 vs 박형준, 서울도 양자 대결? 철수야! 뜸 들이...   \n",
       "1             0.0  [재보궐 D-31] 부산 김영춘 vs 박형준, 서울도 양자 대결? 박영선은 정동영이...   \n",
       "2             0.0  [재보궐 D-31] 부산 김영춘 vs 박형준, 서울도 양자 대결? 빵선이가서울시장되...   \n",
       "3             0.0  [재보궐 D-31] 부산 김영춘 vs 박형준, 서울도 양자 대결? 서울시장후보더듬당...   \n",
       "4             NaN  [재보궐 D-31] 부산 김영춘 vs 박형준, 서울도 양자 대결? 부산은오거돈선거이...   \n",
       "\n",
       "                                   pre_title_comment  \n",
       "0  재보궐 D31 부산 김영춘 vs 박형준 서울도 양자 대결 철수야 뜸 들이지 말고 애...  \n",
       "1  재보궐 D31 부산 김영춘 vs 박형준 서울도 양자 대결 박영선은 정동영이 얻은 3...  \n",
       "2  재보궐 D31 부산 김영춘 vs 박형준 서울도 양자 대결 빵 산 이가 서울시장 되면...  \n",
       "3  재보궐 D31 부산 김영춘 vs 박형준 서울도 양자 대결 서울시장 후보 더 든 대치...  \n",
       "4  재보궐 D31 부산 김영춘 vs 박형준 서울도 양자 대결 부산은 오거돈 선거이고 오...  "
      ]
     },
     "execution_count": 4,
     "metadata": {},
     "output_type": "execute_result"
    }
   ],
   "source": [
    "# 제목과 댓글은 '제목 댓글 컬럼' 존재로 삭제, 기사가 작성된 날짜는 삭제\n",
    "df = df.drop(columns=['제목', '날짜', '댓글'])\n",
    "\n",
    "# 컬럼 이름 영어로 변경\n",
    "cols = ['date', 'press', 'area', 'party', 'party_eval',\n",
    "        'candidate', 'candidate_eval', 'title_comment', 'pre_title_comment']\n",
    "df.columns = cols\n",
    "df.head()"
   ]
  },
  {
   "cell_type": "markdown",
   "metadata": {},
   "source": [
    "## 1. Feature-label \n",
    "- 정당평가, 후보자평가 둘 중 하나라도 nan이 아니면 값으로 받기\n",
    "- 텍스트에 대해 직접 긍정/부정 라벨링을 해야하나 시간 관계상, 정당평가나 후보자 평가 중 하나라도 있으면 이를 y값으로 두어 학습시키기"
   ]
  },
  {
   "cell_type": "code",
   "execution_count": 5,
   "metadata": {
    "ExecuteTime": {
     "end_time": "2021-05-11T15:41:49.274977Z",
     "start_time": "2021-05-11T15:41:49.155305Z"
    }
   },
   "outputs": [
    {
     "name": "stdout",
     "output_type": "stream",
     "text": [
      "1780 2330 263\n",
      "4373\n"
     ]
    }
   ],
   "source": [
    "# 둘 중 하나라도 값이 있으면 인덱스 추출\n",
    "\n",
    "# 값을 담을 리스트\n",
    "A = []\n",
    "B =[]\n",
    "A_B = []\n",
    "\n",
    "for p, c in zip( df['party_eval'].items(), df['candidate_eval'].items()):\n",
    "    # 정당평가 有, 후보평가 無\n",
    "    if (p[1] in [1.0,0.0]) & (c[1] not in [1.0,0.0]):\n",
    "#         print(p[0], p[1])\n",
    "        A.append(p[0])\n",
    "    \n",
    "    # 정당평가 無, 후보평가 有\n",
    "    elif (p[1] not in [1.0,0.0]) & ( c[1] in [1.0,0.0]):\n",
    "#         print(p[1], c[1])\n",
    "#         print(p[0], c[0])\n",
    "        B.append(c[0])\n",
    "    \n",
    "    # 정당평가 有, 후보평가 有\n",
    "    elif (p[1] in [1.0,0.0]) & (c[1] in [1.0,0.0]):\n",
    "#         print(p[1], c[1])\n",
    "        A_B.append(p[0])\n",
    "        \n",
    "print(len(A), len(B), len(A_B))\n",
    "print( len(A)+len(B)+len(A_B)) # 가용한 총 데이터수"
   ]
  },
  {
   "cell_type": "code",
   "execution_count": 6,
   "metadata": {
    "ExecuteTime": {
     "end_time": "2021-05-11T15:41:49.281958Z",
     "start_time": "2021-05-11T15:41:49.275975Z"
    },
    "scrolled": true
   },
   "outputs": [
    {
     "data": {
      "text/plain": [
       "4373"
      ]
     },
     "execution_count": 6,
     "metadata": {},
     "output_type": "execute_result"
    }
   ],
   "source": [
    "# 리스트를 하나로 묶기\n",
    "index = A+ B + A_B\n",
    "len(index)"
   ]
  },
  {
   "cell_type": "code",
   "execution_count": 7,
   "metadata": {
    "ExecuteTime": {
     "end_time": "2021-05-11T15:41:49.305896Z",
     "start_time": "2021-05-11T15:41:49.284955Z"
    }
   },
   "outputs": [
    {
     "name": "stdout",
     "output_type": "stream",
     "text": [
      "(4373, 9)\n"
     ]
    }
   ],
   "source": [
    "# 둘 중 하나라도 있는 값만을 데이터 프레임으로 형성, 혹시 모를 NaN값 삭제\n",
    "index2 = df.iloc[index][['party_eval','candidate_eval']].dropna(how='all').index\n",
    "df2 = df.iloc[index2]\n",
    "print(df2.shape)\n",
    "\n",
    "# 인덱스 재배열\n",
    "df2.reset_index(inplace=True, drop=True) "
   ]
  },
  {
   "cell_type": "code",
   "execution_count": 8,
   "metadata": {
    "ExecuteTime": {
     "end_time": "2021-05-11T15:41:49.329830Z",
     "start_time": "2021-05-11T15:41:49.308887Z"
    }
   },
   "outputs": [
    {
     "data": {
      "text/html": [
       "<div>\n",
       "<style scoped>\n",
       "    .dataframe tbody tr th:only-of-type {\n",
       "        vertical-align: middle;\n",
       "    }\n",
       "\n",
       "    .dataframe tbody tr th {\n",
       "        vertical-align: top;\n",
       "    }\n",
       "\n",
       "    .dataframe thead th {\n",
       "        text-align: right;\n",
       "    }\n",
       "</style>\n",
       "<table border=\"1\" class=\"dataframe\">\n",
       "  <thead>\n",
       "    <tr style=\"text-align: right;\">\n",
       "      <th></th>\n",
       "      <th>date</th>\n",
       "      <th>press</th>\n",
       "      <th>area</th>\n",
       "      <th>party</th>\n",
       "      <th>party_eval</th>\n",
       "      <th>candidate</th>\n",
       "      <th>candidate_eval</th>\n",
       "      <th>title_comment</th>\n",
       "      <th>pre_title_comment</th>\n",
       "    </tr>\n",
       "  </thead>\n",
       "  <tbody>\n",
       "    <tr>\n",
       "      <th>0</th>\n",
       "      <td>2021-03-07 14:02:00</td>\n",
       "      <td>조선일보</td>\n",
       "      <td>2.0</td>\n",
       "      <td>1.0</td>\n",
       "      <td>0.0</td>\n",
       "      <td>NaN</td>\n",
       "      <td>NaN</td>\n",
       "      <td>[재보궐 D-31] 부산 김영춘 vs 박형준, 서울도 양자 대결? 부산은오거돈선거이...</td>\n",
       "      <td>재보궐 D31 부산 김영춘 vs 박형준 서울도 양자 대결 부산은 오거돈 선거이고 오...</td>\n",
       "    </tr>\n",
       "    <tr>\n",
       "      <th>1</th>\n",
       "      <td>2021-03-07 13:15:00</td>\n",
       "      <td>조선일보</td>\n",
       "      <td>NaN</td>\n",
       "      <td>1.0</td>\n",
       "      <td>0.0</td>\n",
       "      <td>NaN</td>\n",
       "      <td>NaN</td>\n",
       "      <td>[재보궐 D-31] 부산 김영춘 vs 박형준, 서울도 양자 대결? 일단 일자리와 경...</td>\n",
       "      <td>재보궐 D31 부산 김영춘 vs 박형준 서울도 양자 대결 일단 일자리와 경제를 말 ...</td>\n",
       "    </tr>\n",
       "    <tr>\n",
       "      <th>2</th>\n",
       "      <td>2021-03-07 09:50:00</td>\n",
       "      <td>조선일보</td>\n",
       "      <td>NaN</td>\n",
       "      <td>1.0</td>\n",
       "      <td>0.0</td>\n",
       "      <td>NaN</td>\n",
       "      <td>NaN</td>\n",
       "      <td>[재보궐 D-31] 부산 김영춘 vs 박형준, 서울도 양자 대결? 수십조 세금을 평...</td>\n",
       "      <td>재보궐 D31 부산 김영춘 vs 박형준 서울도 양자 대결 수십조 세금을 평가 순위 ...</td>\n",
       "    </tr>\n",
       "    <tr>\n",
       "      <th>3</th>\n",
       "      <td>2021-03-07 08:23:00</td>\n",
       "      <td>조선일보</td>\n",
       "      <td>1.0</td>\n",
       "      <td>1.0</td>\n",
       "      <td>0.0</td>\n",
       "      <td>NaN</td>\n",
       "      <td>NaN</td>\n",
       "      <td>[재보궐 D-31] 부산 김영춘 vs 박형준, 서울도 양자 대결? 박원순의 성폭력 ...</td>\n",
       "      <td>재보궐 D31 부산 김영춘 vs 박형준 서울도 양자 대결 박원순의 성폭력 자살을 공...</td>\n",
       "    </tr>\n",
       "    <tr>\n",
       "      <th>4</th>\n",
       "      <td>2021-03-07 08:21:00</td>\n",
       "      <td>조선일보</td>\n",
       "      <td>NaN</td>\n",
       "      <td>1.0</td>\n",
       "      <td>1.0</td>\n",
       "      <td>NaN</td>\n",
       "      <td>NaN</td>\n",
       "      <td>[재보궐 D-31] 부산 김영춘 vs 박형준, 서울도 양자 대결? 이번 보궐선거는 ...</td>\n",
       "      <td>재보궐 D31 부산 김영춘 vs 박형준 서울도 양자 대결 이번 보궐선거는 임기가 1...</td>\n",
       "    </tr>\n",
       "    <tr>\n",
       "      <th>...</th>\n",
       "      <td>...</td>\n",
       "      <td>...</td>\n",
       "      <td>...</td>\n",
       "      <td>...</td>\n",
       "      <td>...</td>\n",
       "      <td>...</td>\n",
       "      <td>...</td>\n",
       "      <td>...</td>\n",
       "      <td>...</td>\n",
       "    </tr>\n",
       "    <tr>\n",
       "      <th>4368</th>\n",
       "      <td>2021-03-04 11:46:00</td>\n",
       "      <td>한겨레</td>\n",
       "      <td>NaN</td>\n",
       "      <td>2.0</td>\n",
       "      <td>0.0</td>\n",
       "      <td>2.0</td>\n",
       "      <td>0.0</td>\n",
       "      <td>‘나경원 대세론’ 꺾은 오세훈…“임기 못마친 죄 갚겠다” 울먹 쟤 쥐새끼 똘마니야\\...</td>\n",
       "      <td>사설 가해한 측이 으르렁대고 피해자는 숨죽이는 박원순 성추행 지금까지 이런 적 반 ...</td>\n",
       "    </tr>\n",
       "    <tr>\n",
       "      <th>4369</th>\n",
       "      <td>2021-03-04 11:00:00</td>\n",
       "      <td>한겨레</td>\n",
       "      <td>1.0</td>\n",
       "      <td>2.0</td>\n",
       "      <td>0.0</td>\n",
       "      <td>2.0</td>\n",
       "      <td>0.0</td>\n",
       "      <td>‘나경원 대세론’ 꺾은 오세훈…“임기 못마친 죄 갚겠다” 울먹 이런자가 시장 후보라...</td>\n",
       "      <td>사설 가해한 측이 으르렁대고 피해자는 숨죽이는 박원순 성추행 정말 나쁜 집단들이네요...</td>\n",
       "    </tr>\n",
       "    <tr>\n",
       "      <th>4370</th>\n",
       "      <td>2021-03-04 10:27:00</td>\n",
       "      <td>한겨레</td>\n",
       "      <td>1.0</td>\n",
       "      <td>2.0</td>\n",
       "      <td>0.0</td>\n",
       "      <td>2.0</td>\n",
       "      <td>0.0</td>\n",
       "      <td>‘나경원 대세론’ 꺾은 오세훈…“임기 못마친 죄 갚겠다” 울먹 그럼 저 치가 아이들...</td>\n",
       "      <td>사설 가해한 측이 으르렁대고 피해자는 숨죽이는 박원순 성추행 가 재미 눈을 뜨고 시...</td>\n",
       "    </tr>\n",
       "    <tr>\n",
       "      <th>4371</th>\n",
       "      <td>2021-03-04 10:23:00</td>\n",
       "      <td>한겨레</td>\n",
       "      <td>1.0</td>\n",
       "      <td>2.0</td>\n",
       "      <td>0.0</td>\n",
       "      <td>2.0</td>\n",
       "      <td>0.0</td>\n",
       "      <td>‘나경원 대세론’ 꺾은 오세훈…“임기 못마친 죄 갚겠다” 울먹 정권심판이라........</td>\n",
       "      <td>사설 가해한 측이 으르렁대고 피해자는 숨죽이는 박원순 성추행 흔히 어떤 행동의 결과...</td>\n",
       "    </tr>\n",
       "    <tr>\n",
       "      <th>4372</th>\n",
       "      <td>2021-04-05 21:24:00</td>\n",
       "      <td>한겨레</td>\n",
       "      <td>1.0</td>\n",
       "      <td>1.0</td>\n",
       "      <td>0.0</td>\n",
       "      <td>1.0</td>\n",
       "      <td>0.0</td>\n",
       "      <td>민주 “오세훈, 10년 전 식목 행사에 2500만원짜리 ‘의전용 계단’” 정말나쁜정...</td>\n",
       "      <td>이게 나라냐 천안함 추모식, 유승민 하태경 참석 못 한 다 북한에서 유승민, 하태경...</td>\n",
       "    </tr>\n",
       "  </tbody>\n",
       "</table>\n",
       "<p>4373 rows × 9 columns</p>\n",
       "</div>"
      ],
      "text/plain": [
       "                     date press  area  party  party_eval  candidate  \\\n",
       "0     2021-03-07 14:02:00  조선일보   2.0    1.0         0.0        NaN   \n",
       "1     2021-03-07 13:15:00  조선일보   NaN    1.0         0.0        NaN   \n",
       "2     2021-03-07 09:50:00  조선일보   NaN    1.0         0.0        NaN   \n",
       "3     2021-03-07 08:23:00  조선일보   1.0    1.0         0.0        NaN   \n",
       "4     2021-03-07 08:21:00  조선일보   NaN    1.0         1.0        NaN   \n",
       "...                   ...   ...   ...    ...         ...        ...   \n",
       "4368  2021-03-04 11:46:00   한겨레   NaN    2.0         0.0        2.0   \n",
       "4369  2021-03-04 11:00:00   한겨레   1.0    2.0         0.0        2.0   \n",
       "4370  2021-03-04 10:27:00   한겨레   1.0    2.0         0.0        2.0   \n",
       "4371  2021-03-04 10:23:00   한겨레   1.0    2.0         0.0        2.0   \n",
       "4372  2021-04-05 21:24:00   한겨레   1.0    1.0         0.0        1.0   \n",
       "\n",
       "      candidate_eval                                      title_comment  \\\n",
       "0                NaN  [재보궐 D-31] 부산 김영춘 vs 박형준, 서울도 양자 대결? 부산은오거돈선거이...   \n",
       "1                NaN  [재보궐 D-31] 부산 김영춘 vs 박형준, 서울도 양자 대결? 일단 일자리와 경...   \n",
       "2                NaN  [재보궐 D-31] 부산 김영춘 vs 박형준, 서울도 양자 대결? 수십조 세금을 평...   \n",
       "3                NaN  [재보궐 D-31] 부산 김영춘 vs 박형준, 서울도 양자 대결? 박원순의 성폭력 ...   \n",
       "4                NaN  [재보궐 D-31] 부산 김영춘 vs 박형준, 서울도 양자 대결? 이번 보궐선거는 ...   \n",
       "...              ...                                                ...   \n",
       "4368             0.0  ‘나경원 대세론’ 꺾은 오세훈…“임기 못마친 죄 갚겠다” 울먹 쟤 쥐새끼 똘마니야\\...   \n",
       "4369             0.0  ‘나경원 대세론’ 꺾은 오세훈…“임기 못마친 죄 갚겠다” 울먹 이런자가 시장 후보라...   \n",
       "4370             0.0  ‘나경원 대세론’ 꺾은 오세훈…“임기 못마친 죄 갚겠다” 울먹 그럼 저 치가 아이들...   \n",
       "4371             0.0  ‘나경원 대세론’ 꺾은 오세훈…“임기 못마친 죄 갚겠다” 울먹 정권심판이라........   \n",
       "4372             0.0  민주 “오세훈, 10년 전 식목 행사에 2500만원짜리 ‘의전용 계단’” 정말나쁜정...   \n",
       "\n",
       "                                      pre_title_comment  \n",
       "0     재보궐 D31 부산 김영춘 vs 박형준 서울도 양자 대결 부산은 오거돈 선거이고 오...  \n",
       "1     재보궐 D31 부산 김영춘 vs 박형준 서울도 양자 대결 일단 일자리와 경제를 말 ...  \n",
       "2     재보궐 D31 부산 김영춘 vs 박형준 서울도 양자 대결 수십조 세금을 평가 순위 ...  \n",
       "3     재보궐 D31 부산 김영춘 vs 박형준 서울도 양자 대결 박원순의 성폭력 자살을 공...  \n",
       "4     재보궐 D31 부산 김영춘 vs 박형준 서울도 양자 대결 이번 보궐선거는 임기가 1...  \n",
       "...                                                 ...  \n",
       "4368  사설 가해한 측이 으르렁대고 피해자는 숨죽이는 박원순 성추행 지금까지 이런 적 반 ...  \n",
       "4369  사설 가해한 측이 으르렁대고 피해자는 숨죽이는 박원순 성추행 정말 나쁜 집단들이네요...  \n",
       "4370  사설 가해한 측이 으르렁대고 피해자는 숨죽이는 박원순 성추행 가 재미 눈을 뜨고 시...  \n",
       "4371  사설 가해한 측이 으르렁대고 피해자는 숨죽이는 박원순 성추행 흔히 어떤 행동의 결과...  \n",
       "4372  이게 나라냐 천안함 추모식, 유승민 하태경 참석 못 한 다 북한에서 유승민, 하태경...  \n",
       "\n",
       "[4373 rows x 9 columns]"
      ]
     },
     "execution_count": 8,
     "metadata": {},
     "output_type": "execute_result"
    }
   ],
   "source": [
    "df2"
   ]
  },
  {
   "cell_type": "code",
   "execution_count": 9,
   "metadata": {
    "ExecuteTime": {
     "end_time": "2021-05-11T15:41:49.335816Z",
     "start_time": "2021-05-11T15:41:49.330829Z"
    }
   },
   "outputs": [],
   "source": [
    "# X-y값으로 나누기\n",
    "X = df2['title_comment'] # 전처리된 데이터가 X값!\n",
    "\n",
    "# 후보자 평가 nan값을 정당 평가로 채우기\n",
    "y = df2['candidate_eval'].fillna( df2['party_eval'] )"
   ]
  },
  {
   "cell_type": "code",
   "execution_count": 10,
   "metadata": {
    "ExecuteTime": {
     "end_time": "2021-05-11T15:41:49.347788Z",
     "start_time": "2021-05-11T15:41:49.337818Z"
    },
    "scrolled": false
   },
   "outputs": [
    {
     "data": {
      "text/plain": [
       "((4373,), (4373,))"
      ]
     },
     "execution_count": 10,
     "metadata": {},
     "output_type": "execute_result"
    }
   ],
   "source": [
    "# X-y값 구조 확인\n",
    "y.shape, X.shape"
   ]
  },
  {
   "cell_type": "code",
   "execution_count": 11,
   "metadata": {
    "ExecuteTime": {
     "end_time": "2021-05-11T15:41:49.359750Z",
     "start_time": "2021-05-11T15:41:49.349779Z"
    }
   },
   "outputs": [
    {
     "name": "stdout",
     "output_type": "stream",
     "text": [
      "0 0\n"
     ]
    }
   ],
   "source": [
    "# Null값 확인\n",
    "X.isna().sum()\n",
    "print(X.isna().sum(), y.isna().sum())"
   ]
  },
  {
   "cell_type": "markdown",
   "metadata": {},
   "source": [
    "## 2. 학습시킬 라벨의 긍정/부정 확인"
   ]
  },
  {
   "cell_type": "code",
   "execution_count": 12,
   "metadata": {
    "ExecuteTime": {
     "end_time": "2021-05-11T15:41:49.373713Z",
     "start_time": "2021-05-11T15:41:49.361749Z"
    }
   },
   "outputs": [
    {
     "data": {
      "text/plain": [
       "0.0    3471\n",
       "1.0     902\n",
       "Name: candidate_eval, dtype: int64"
      ]
     },
     "execution_count": 12,
     "metadata": {},
     "output_type": "execute_result"
    }
   ],
   "source": [
    "# y값의 종류 확인\n",
    "y.value_counts()"
   ]
  },
  {
   "cell_type": "markdown",
   "metadata": {},
   "source": [
    "## 3. Logistic 모델 사용\n",
    "- (1) 형태소 분석\n",
    "- (2) CounterVectorize\n",
    "    - 참고 자료: https://wiserloner.tistory.com/917\n",
    "- (3) TF-IDF\n",
    "- (4) 분류모델 학습\n",
    "- (5) 평가\n",
    "- (6) 모델저장\n",
    "- (7) 모델불러오기\n",
    "- (8) 추정 확률 알아보기"
   ]
  },
  {
   "cell_type": "code",
   "execution_count": 13,
   "metadata": {
    "ExecuteTime": {
     "end_time": "2021-05-11T15:41:49.382692Z",
     "start_time": "2021-05-11T15:41:49.375711Z"
    }
   },
   "outputs": [
    {
     "data": {
      "text/plain": [
       "(4373, 2)"
      ]
     },
     "execution_count": 13,
     "metadata": {},
     "output_type": "execute_result"
    }
   ],
   "source": [
    "# 위에서 분류했던 X,y 합치기\n",
    "df3 = pd.concat([X,y], axis=1)\n",
    "\n",
    "# 컬럼 이름 변경\n",
    "df3 = df3.rename( columns={'candidate_eval': 'y'} )\n",
    "\n",
    "df3.shape"
   ]
  },
  {
   "cell_type": "code",
   "execution_count": 14,
   "metadata": {
    "ExecuteTime": {
     "end_time": "2021-05-11T15:41:49.387676Z",
     "start_time": "2021-05-11T15:41:49.384685Z"
    }
   },
   "outputs": [],
   "source": [
    "# 감성분석에 필요할 데이터를 csv로 저장\n",
    "# df3.to_csv('data/setiment_analysis_data.csv')"
   ]
  },
  {
   "cell_type": "code",
   "execution_count": 15,
   "metadata": {
    "ExecuteTime": {
     "end_time": "2021-05-11T15:41:49.398646Z",
     "start_time": "2021-05-11T15:41:49.389675Z"
    }
   },
   "outputs": [],
   "source": [
    "# 정규식\n",
    "def text_cleaning(text) :\n",
    "    hangul = re.compile('[^ ㄱ-ㅣ가-힣]+')\n",
    "    result = hangul.sub('', text)\n",
    "    return result"
   ]
  },
  {
   "cell_type": "code",
   "execution_count": 16,
   "metadata": {
    "ExecuteTime": {
     "end_time": "2021-05-11T15:41:49.432556Z",
     "start_time": "2021-05-11T15:41:49.400641Z"
    }
   },
   "outputs": [],
   "source": [
    "# 한글 외 문자는 제거\n",
    "df3['title_comment'] = df3['title_comment'].apply( lambda x: text_cleaning(x) )"
   ]
  },
  {
   "cell_type": "code",
   "execution_count": 17,
   "metadata": {
    "ExecuteTime": {
     "end_time": "2021-05-11T15:41:49.444525Z",
     "start_time": "2021-05-11T15:41:49.433553Z"
    },
    "scrolled": true
   },
   "outputs": [
    {
     "data": {
      "text/html": [
       "<div>\n",
       "<style scoped>\n",
       "    .dataframe tbody tr th:only-of-type {\n",
       "        vertical-align: middle;\n",
       "    }\n",
       "\n",
       "    .dataframe tbody tr th {\n",
       "        vertical-align: top;\n",
       "    }\n",
       "\n",
       "    .dataframe thead th {\n",
       "        text-align: right;\n",
       "    }\n",
       "</style>\n",
       "<table border=\"1\" class=\"dataframe\">\n",
       "  <thead>\n",
       "    <tr style=\"text-align: right;\">\n",
       "      <th></th>\n",
       "      <th>pre_title_comment</th>\n",
       "      <th>y</th>\n",
       "    </tr>\n",
       "  </thead>\n",
       "  <tbody>\n",
       "    <tr>\n",
       "      <th>0</th>\n",
       "      <td>재보궐  부산 김영춘  박형준 서울도 양자 대결 부산은 오거돈 선거이고 오거돈 치부...</td>\n",
       "      <td>0.0</td>\n",
       "    </tr>\n",
       "    <tr>\n",
       "      <th>1</th>\n",
       "      <td>재보궐  부산 김영춘  박형준 서울도 양자 대결 일단 일자리와 경제를 말 안 드신 ...</td>\n",
       "      <td>0.0</td>\n",
       "    </tr>\n",
       "    <tr>\n",
       "      <th>2</th>\n",
       "      <td>재보궐  부산 김영춘  박형준 서울도 양자 대결 수십조 세금을 평가 순위 위인 가덕...</td>\n",
       "      <td>0.0</td>\n",
       "    </tr>\n",
       "    <tr>\n",
       "      <th>3</th>\n",
       "      <td>재보궐  부산 김영춘  박형준 서울도 양자 대결 박원순의 성폭력 자살을 공수처에 수...</td>\n",
       "      <td>0.0</td>\n",
       "    </tr>\n",
       "    <tr>\n",
       "      <th>4</th>\n",
       "      <td>재보궐  부산 김영춘  박형준 서울도 양자 대결 이번 보궐선거는 임기가 년 남짓이다...</td>\n",
       "      <td>1.0</td>\n",
       "    </tr>\n",
       "    <tr>\n",
       "      <th>...</th>\n",
       "      <td>...</td>\n",
       "      <td>...</td>\n",
       "    </tr>\n",
       "    <tr>\n",
       "      <th>4368</th>\n",
       "      <td>사설 가해한 측이 으르렁대고 피해자는 숨죽이는 박원순 성추행 지금까지 이런 적 반 ...</td>\n",
       "      <td>0.0</td>\n",
       "    </tr>\n",
       "    <tr>\n",
       "      <th>4369</th>\n",
       "      <td>사설 가해한 측이 으르렁대고 피해자는 숨죽이는 박원순 성추행 정말 나쁜 집단들이네요...</td>\n",
       "      <td>0.0</td>\n",
       "    </tr>\n",
       "    <tr>\n",
       "      <th>4370</th>\n",
       "      <td>사설 가해한 측이 으르렁대고 피해자는 숨죽이는 박원순 성추행 가 재미 눈을 뜨고 시...</td>\n",
       "      <td>0.0</td>\n",
       "    </tr>\n",
       "    <tr>\n",
       "      <th>4371</th>\n",
       "      <td>사설 가해한 측이 으르렁대고 피해자는 숨죽이는 박원순 성추행 흔히 어떤 행동의 결과...</td>\n",
       "      <td>0.0</td>\n",
       "    </tr>\n",
       "    <tr>\n",
       "      <th>4372</th>\n",
       "      <td>이게 나라냐 천안함 추모식 유승민 하태경 참석 못 한 다 북한에서 유승민 하태경 의...</td>\n",
       "      <td>0.0</td>\n",
       "    </tr>\n",
       "  </tbody>\n",
       "</table>\n",
       "<p>4373 rows × 2 columns</p>\n",
       "</div>"
      ],
      "text/plain": [
       "                                      pre_title_comment    y\n",
       "0     재보궐  부산 김영춘  박형준 서울도 양자 대결 부산은 오거돈 선거이고 오거돈 치부...  0.0\n",
       "1     재보궐  부산 김영춘  박형준 서울도 양자 대결 일단 일자리와 경제를 말 안 드신 ...  0.0\n",
       "2     재보궐  부산 김영춘  박형준 서울도 양자 대결 수십조 세금을 평가 순위 위인 가덕...  0.0\n",
       "3     재보궐  부산 김영춘  박형준 서울도 양자 대결 박원순의 성폭력 자살을 공수처에 수...  0.0\n",
       "4     재보궐  부산 김영춘  박형준 서울도 양자 대결 이번 보궐선거는 임기가 년 남짓이다...  1.0\n",
       "...                                                 ...  ...\n",
       "4368  사설 가해한 측이 으르렁대고 피해자는 숨죽이는 박원순 성추행 지금까지 이런 적 반 ...  0.0\n",
       "4369  사설 가해한 측이 으르렁대고 피해자는 숨죽이는 박원순 성추행 정말 나쁜 집단들이네요...  0.0\n",
       "4370  사설 가해한 측이 으르렁대고 피해자는 숨죽이는 박원순 성추행 가 재미 눈을 뜨고 시...  0.0\n",
       "4371  사설 가해한 측이 으르렁대고 피해자는 숨죽이는 박원순 성추행 흔히 어떤 행동의 결과...  0.0\n",
       "4372  이게 나라냐 천안함 추모식 유승민 하태경 참석 못 한 다 북한에서 유승민 하태경 의...  0.0\n",
       "\n",
       "[4373 rows x 2 columns]"
      ]
     },
     "execution_count": 17,
     "metadata": {},
     "output_type": "execute_result"
    }
   ],
   "source": [
    "df3"
   ]
  },
  {
   "cell_type": "markdown",
   "metadata": {},
   "source": [
    "### (1) 형태소 구분"
   ]
  },
  {
   "cell_type": "code",
   "execution_count": 18,
   "metadata": {
    "ExecuteTime": {
     "end_time": "2021-05-11T15:41:49.481425Z",
     "start_time": "2021-05-11T15:41:49.446518Z"
    }
   },
   "outputs": [],
   "source": [
    "# 형태소 분류 태그\n",
    "from konlpy.tag import Okt"
   ]
  },
  {
   "cell_type": "code",
   "execution_count": 19,
   "metadata": {
    "ExecuteTime": {
     "end_time": "2021-05-11T15:41:49.486415Z",
     "start_time": "2021-05-11T15:41:49.482423Z"
    }
   },
   "outputs": [],
   "source": [
    "def get_pos(x) :\n",
    "    tagger = Okt() # Okt로 형태소 분리하기\n",
    "    pos = tagger.pos(x) \n",
    "    results = [] # 형태소를 담을 리스트\n",
    "    for i in pos:\n",
    "        if i[1] != 'Josa': # 조사는 빼버리기\n",
    "            results.append(f'{i[0]}/{i[1]}') #'단어/품사'의 형태로 리스트에 추가\n",
    "        else:\n",
    "            pass\n",
    "    return results"
   ]
  },
  {
   "cell_type": "code",
   "execution_count": 20,
   "metadata": {
    "ExecuteTime": {
     "end_time": "2021-05-11T15:41:52.644313Z",
     "start_time": "2021-05-11T15:41:49.488406Z"
    },
    "scrolled": false
   },
   "outputs": [
    {
     "name": "stdout",
     "output_type": "stream",
     "text": [
      "['재보궐/Noun', '부산/Noun', '김영춘/Noun', '박형준/Noun', '서울/Noun', '양자/Noun', '대결/Noun', '부산/Noun', '오거돈/Noun', '선거/Noun', '오거돈/Noun', '치부/Noun', '선거/Noun', '아닌가/Adjective', '오거돈/Noun', '성추행/Noun', '생긴/Verb', '선거/Noun', '가/Verb', '독도/Noun', '신/Modifier', '공항/Noun', '오거돈/Noun', '재산/Noun', '불려주려고/Verb', '문재인/Noun', '민주당/Noun', '들/Suffix', '발악/Noun', '아닌가/Adjective', '다/Adverb', '부산/Noun', '사람/Noun', '하는/Verb', '말/Noun', '이번/Noun', '선거/Noun', '힘들여/Adjective', '오거돈/Noun', '위/Noun', '선/Noun', '아이/Noun', '다/Adverb']\n"
     ]
    }
   ],
   "source": [
    "# 제목_댓글의 첫번째 데이터만 가져와서 형태소 분리\n",
    "print(get_pos(df3['title_comment'][0]))"
   ]
  },
  {
   "cell_type": "markdown",
   "metadata": {},
   "source": [
    "### ※ (참고) 단어 빈도 세기"
   ]
  },
  {
   "cell_type": "code",
   "execution_count": 21,
   "metadata": {
    "ExecuteTime": {
     "end_time": "2021-05-11T15:42:11.264576Z",
     "start_time": "2021-05-11T15:41:52.645310Z"
    }
   },
   "outputs": [],
   "source": [
    "from collections import Counter\n",
    "\n",
    "# 글 내용을 형태소 분리한 결과를 가져온다.\n",
    "pos_list = df3['title_comment'].apply(lambda x : get_pos(x))\n",
    "\n",
    "pos_list2 = pos_list.tolist()\n",
    "# 2차원으로 구성되어 있는 문자열 리스트내의 모든 문자열을\n",
    "# 다 추출해 하나의 문자열 리스트로 생성한다.\n",
    "corpus = sum(pos_list2, [])"
   ]
  },
  {
   "cell_type": "code",
   "execution_count": 22,
   "metadata": {
    "ExecuteTime": {
     "end_time": "2021-05-11T15:42:11.288507Z",
     "start_time": "2021-05-11T15:42:11.267562Z"
    }
   },
   "outputs": [],
   "source": [
    "# Counter를 생성한다.\n",
    "counter = Counter(corpus)"
   ]
  },
  {
   "cell_type": "code",
   "execution_count": 23,
   "metadata": {
    "ExecuteTime": {
     "end_time": "2021-05-11T15:42:11.310447Z",
     "start_time": "2021-05-11T15:42:11.290504Z"
    }
   },
   "outputs": [
    {
     "data": {
      "text/plain": [
       "[('들/Suffix', 2677),\n",
       " ('것/Noun', 1602),\n",
       " ('오세훈/Noun', 1404),\n",
       " ('국민/Noun', 1388),\n",
       " ('다/Adverb', 1324),\n",
       " ('민주당/Noun', 1291),\n",
       " ('박영선/Noun', 1291),\n",
       " ('안철수/Noun', 1139),\n",
       " ('서울시장/Noun', 1132),\n",
       " ('후보/Noun', 1128),\n",
       " ('선거/Noun', 950),\n",
       " ('하는/Verb', 923),\n",
       " ('문재인/Noun', 878),\n",
       " ('이/Noun', 844),\n",
       " ('더불어/Verb', 809),\n",
       " ('보궐선거/Noun', 785),\n",
       " ('안/Noun', 746),\n",
       " ('부산/Noun', 735),\n",
       " ('할/Verb', 649),\n",
       " ('말/Noun', 589),\n",
       " ('대통령/Noun', 570),\n",
       " ('토론/Noun', 560),\n",
       " ('적/Suffix', 524),\n",
       " ('사람/Noun', 521),\n",
       " ('힘/Noun', 516),\n",
       " ('그/Noun', 508),\n",
       " ('정권/Noun', 499),\n",
       " ('야당/Noun', 498),\n",
       " ('당/Noun', 482),\n",
       " ('한/Verb', 465),\n",
       " ('거/Noun', 453),\n",
       " ('서울/Noun', 447),\n",
       " ('정치/Noun', 446),\n",
       " ('수/Noun', 445),\n",
       " ('놈/Noun', 431),\n",
       " ('못/Noun', 429),\n",
       " ('한다/Verb', 427),\n",
       " ('나라/Noun', 411),\n",
       " ('이/Determiner', 407),\n",
       " ('합니다/Verb', 393),\n",
       " ('뉴스/Noun', 393),\n",
       " ('년/Noun', 391),\n",
       " ('장/Suffix', 391),\n",
       " ('시민/Noun', 389),\n",
       " ('가덕도/Noun', 380),\n",
       " ('윤석열/Noun', 377),\n",
       " ('박형준/Noun', 373),\n",
       " ('때/Noun', 371),\n",
       " ('후보자/Noun', 365),\n",
       " ('단/Modifier', 360)]"
      ]
     },
     "execution_count": 23,
     "metadata": {},
     "output_type": "execute_result"
    }
   ],
   "source": [
    "# 상위 50개 를 가져온다.\n",
    "a1 = counter.most_common(50)\n",
    "a1"
   ]
  },
  {
   "cell_type": "markdown",
   "metadata": {},
   "source": [
    "### (2) 학습데이터 구분\n",
    "- CounterVectorize: Convert a collection of text documents to **a matrix of token counts**\n",
    "- 단어들의 **카운트(출현 빈도(frequency))**로 여러 문서들을 **벡터화**\n",
    "- 카운트 행렬, 단어 문서 행렬 (Term-Document Matrix, TDM))\n",
    "- 모두 소문자로 변환시키기 때문에 me 와 Me 는 모두 같은 특성이 된다."
   ]
  },
  {
   "cell_type": "code",
   "execution_count": 24,
   "metadata": {
    "ExecuteTime": {
     "end_time": "2021-05-11T15:42:29.146953Z",
     "start_time": "2021-05-11T15:42:11.312442Z"
    }
   },
   "outputs": [],
   "source": [
    "# 단어당 몇개씩 들어 있는지에 대한 벡터를 생성\n",
    "from sklearn.feature_extraction.text import CountVectorizer\n",
    "\n",
    "index_vectorizer = CountVectorizer(tokenizer= lambda x : get_pos(x))\n",
    "X = index_vectorizer.fit_transform(df3['title_comment'].tolist())"
   ]
  },
  {
   "cell_type": "code",
   "execution_count": 25,
   "metadata": {
    "ExecuteTime": {
     "end_time": "2021-05-11T15:42:29.175875Z",
     "start_time": "2021-05-11T15:42:29.147951Z"
    }
   },
   "outputs": [
    {
     "data": {
      "text/plain": [
       "{'재보궐/Noun': 13322,\n",
       " '부산/Noun': 7762,\n",
       " '김영춘/Noun': 1972,\n",
       " '박형준/Noun': 6856,\n",
       " '서울/Noun': 8958,\n",
       " '양자/Noun': 10837,\n",
       " '대결/Noun': 3721,\n",
       " '오거돈/Noun': 11516,\n",
       " '선거/Noun': 8984,\n",
       " '치부/Noun': 15607,\n",
       " '아닌가/Adjective': 10265,\n",
       " '성추행/Noun': 9134,\n",
       " '생긴/Verb': 8874,\n",
       " '가/Verb': 40,\n",
       " '독도/Noun': 4067,\n",
       " '신/Modifier': 9731,\n",
       " '공항/Noun': 1173,\n",
       " '재산/Noun': 13326,\n",
       " '불려주려고/Verb': 7960,\n",
       " '문재인/Noun': 6365,\n",
       " '민주당/Noun': 6596,\n",
       " '들/Suffix': 4622,\n",
       " '발악/Noun': 6993,\n",
       " '다/Adverb': 3363,\n",
       " '사람/Noun': 8485,\n",
       " '하는/Verb': 16599,\n",
       " '말/Noun': 5508,\n",
       " '이번/Noun': 12458,\n",
       " '힘들여/Adjective': 17731,\n",
       " '위/Noun': 12055,\n",
       " '선/Noun': 8983,\n",
       " '아이/Noun': 10361,\n",
       " '일단/Noun': 12677,\n",
       " '일자리/Noun': 12732,\n",
       " '경제/Noun': 908,\n",
       " '안/Noun': 10428,\n",
       " '드신/Verb': 4597,\n",
       " '여당/Noun': 11250,\n",
       " '빼고/Verb': 8283,\n",
       " '자기/Noun': 12997,\n",
       " '성범죄/Noun': 9104,\n",
       " '하는데/Verb': 16604,\n",
       " '비/Noun': 8090,\n",
       " '토/Noun': 15977,\n",
       " '양심/Noun': 10836,\n",
       " '정당/Noun': 13646,\n",
       " '님/Suffix': 3360,\n",
       " '수십조/Modifier': 9412,\n",
       " '세금/Noun': 9147,\n",
       " '평가/Noun': 16318,\n",
       " '순위/Noun': 9471,\n",
       " '위인/Noun': 12077,\n",
       " '가덕도/Noun': 105,\n",
       " '퍼붓겠다는/Verb': 16262,\n",
       " '더불어/Verb': 3913,\n",
       " '당/Noun': 3624,\n",
       " '당신/Noun': 3649,\n",
       " '돈/Noun': 4094,\n",
       " '이/Determiner': 12302,\n",
       " '라면/Noun': 5121,\n",
       " '이런/Adjective': 12394,\n",
       " '식/Noun': 9714,\n",
       " '쓰겠나/Verb': 10085,\n",
       " '겨울/Noun': 812,\n",
       " '시린/Adjective': 9626,\n",
       " '손/Noun': 9310,\n",
       " '호호/Noun': 17370,\n",
       " '불며/Verb': 7976,\n",
       " '한/Verb': 16796,\n",
       " '푼/Noun': 16427,\n",
       " '두/Noun': 4450,\n",
       " '벌어/Verb': 7256,\n",
       " '낸/Verb': 2889,\n",
       " '국가/Noun': 1394,\n",
       " '발전/Noun': 6998,\n",
       " '하여/Verb': 16723,\n",
       " '꼭/Noun': 2163,\n",
       " '필요한/Adjective': 16515,\n",
       " '곳/Noun': 1085,\n",
       " '쓰였으면/Verb': 10119,\n",
       " '좋겠다/Adjective': 14011,\n",
       " '박원순/Noun': 6833,\n",
       " '성폭력/Noun': 9135,\n",
       " '자살/Noun': 13055,\n",
       " '공/Modifier': 1089,\n",
       " '수/Modifier': 9358,\n",
       " '처/Noun': 15190,\n",
       " '수사/Noun': 9393,\n",
       " '의뢰/Noun': 12270,\n",
       " '더블/Noun': 3915,\n",
       " '더/Noun': 3876,\n",
       " '든다는/Verb': 4609,\n",
       " '후보/Noun': 17560,\n",
       " '즉각/Noun': 14383,\n",
       " '사퇴/Noun': 8589,\n",
       " '시켜라/Verb': 9671,\n",
       " '부끄러움/Noun': 7693,\n",
       " '상식/Noun': 8802,\n",
       " '예의/Noun': 11501,\n",
       " '없는/Adjective': 11130,\n",
       " '집단/Noun': 14738,\n",
       " '어찌/Noun': 10994,\n",
       " '맡기겠는가/Verb': 5707,\n",
       " '보궐선거/Noun': 7407,\n",
       " '임기/Noun': 12779,\n",
       " '년/Noun': 3031,\n",
       " '남짓/Noun': 2688,\n",
       " '내년/Noun': 2763,\n",
       " '월/Noun': 12041,\n",
       " '또다시/Adverb': 4994,\n",
       " '지방선거/Noun': 14510,\n",
       " '치르기/Verb': 15594,\n",
       " '때문/Noun': 4877,\n",
       " '보통/Noun': 7573,\n",
       " '시장/Noun': 9653,\n",
       " '업무/Noun': 11099,\n",
       " '파악/Noun': 16163,\n",
       " '개월/Noun': 576,\n",
       " '정도/Noun': 13654,\n",
       " '볼/Noun': 7623,\n",
       " '때/Noun': 4866,\n",
       " '당선/Noun': 3644,\n",
       " '되는/Verb': 4319,\n",
       " '하다/Verb': 16617,\n",
       " '바로/Noun': 6768,\n",
       " '준비/Noun': 14270,\n",
       " '해야/Verb': 17021,\n",
       " '한다/Verb': 16813,\n",
       " '만약/Noun': 5432,\n",
       " '야권/Noun': 10781,\n",
       " '될/Verb': 4434,\n",
       " '경우/Noun': 898,\n",
       " '상황/Noun': 8826,\n",
       " '좀/Noun': 13956,\n",
       " '혼란/Noun': 17380,\n",
       " '스러워진/Adjective': 9532,\n",
       " '야당/Noun': 10785,\n",
       " '이/Noun': 12303,\n",
       " '전혀/Noun': 13560,\n",
       " '정책/Noun': 13722,\n",
       " '모두/Noun': 5983,\n",
       " '뒤집을/Verb': 4538,\n",
       " '가능성/Noun': 79,\n",
       " '크고/Verb': 15760,\n",
       " '그럼/Adjective': 1628,\n",
       " '그런/Adjective': 1616,\n",
       " '허송/Noun': 17217,\n",
       " '세월/Noun': 9185,\n",
       " '하/Suffix': 16535,\n",
       " '수/Noun': 9359,\n",
       " '없다/Adjective': 11133,\n",
       " '함/Noun': 16892,\n",
       " '고스/Noun': 1023,\n",
       " '란/Noun': 5128,\n",
       " '히/Adverb': 17697,\n",
       " '시민/Noun': 9628,\n",
       " '돌아감은/Verb': 4138,\n",
       " '할/Verb': 16874,\n",
       " '필요/Noun': 16508,\n",
       " '그렇기에/Adjective': 1637,\n",
       " '정파/Noun': 13740,\n",
       " '떠나/Verb': 4882,\n",
       " '시정/Noun': 9659,\n",
       " '생각/Noun': 8856,\n",
       " '한다면/Verb': 16822,\n",
       " '여권/Noun': 11240,\n",
       " '되어/Verb': 4367,\n",
       " '갑작스레/Noun': 411,\n",
       " '중단/Noun': 14306,\n",
       " '된/Verb': 4420,\n",
       " '전임/Noun': 13540,\n",
       " '마무리/Noun': 5260,\n",
       " '게/Noun': 785,\n",
       " '바람직하다고/Adjective': 6760,\n",
       " '있다/Adjective': 12881,\n",
       " '정권/Noun': 13638,\n",
       " '견제/Noun': 837,\n",
       " '정/Noun': 13626,\n",
       " '필요하다면/Adjective': 16513,\n",
       " '본/Verb': 7599,\n",
       " '교체/Noun': 1310,\n",
       " '본다/Verb': 7601,\n",
       " '부사/Noun': 7761,\n",
       " '오거/Noun': 11515,\n",
       " '문/Noun': 6333,\n",
       " '한술/Noun': 16846,\n",
       " '떠서/Verb': 4916,\n",
       " '을/Noun': 12236,\n",
       " '더덕/Noun': 3881,\n",
       " '조/Noun': 13828,\n",
       " '이상/Noun': 12473,\n",
       " '퍼/Noun': 16256,\n",
       " '부어/Noun': 7777,\n",
       " '오고/Verb': 11519,\n",
       " '던/Noun': 3930,\n",
       " '만들려오/Verb': 5396,\n",
       " '고/Noun': 964,\n",
       " '것/Noun': 778,\n",
       " '쐐/Noun': 10071,\n",
       " '빠지게/Verb': 8251,\n",
       " '발광하고/Adjective': 6973,\n",
       " '쇼/Noun': 9353,\n",
       " '한단다/Verb': 16827,\n",
       " '이제/Noun': 12559,\n",
       " '남은/Verb': 2679,\n",
       " '일/Noun': 12666,\n",
       " '투표/Noun': 16048,\n",
       " '이기/Noun': 12325,\n",
       " '개표/Noun': 599,\n",
       " '지는/Verb': 14467,\n",
       " '부정/Noun': 7802,\n",
       " '방지/Noun': 7083,\n",
       " '하면/Verb': 16667,\n",
       " '무능함에/Adjective': 6211,\n",
       " '대한/Noun': 3860,\n",
       " '심판/Noun': 9910,\n",
       " '치러지는/Verb': 15584,\n",
       " '승리/Noun': 9576,\n",
       " '당연한/Adjective': 3655,\n",
       " '결과/Noun': 841,\n",
       " '모든/Noun': 5985,\n",
       " '선거전에/Verb': 8993,\n",
       " '인당/Verb': 12604,\n",
       " '억만/Noun': 11007,\n",
       " '대승/Noun': 3803,\n",
       " '가야/Noun': 191,\n",
       " '대한민국/Noun': 3861,\n",
       " '산다/Noun': 8612,\n",
       " '국민/Noun': 1410,\n",
       " '혈/Noun': 17304,\n",
       " '세로/Noun': 9155,\n",
       " '대도시/Noun': 3758,\n",
       " '자숙해/Noun': 13065,\n",
       " '최대/Noun': 15402,\n",
       " '변수/Noun': 7347,\n",
       " '윤석열/Noun': 12212,\n",
       " '거취/Noun': 668,\n",
       " '검찰/Noun': 765,\n",
       " '내부/Noun': 2847,\n",
       " '곧/Noun': 1067,\n",
       " '현/Noun': 17282,\n",
       " '윤/Noun': 12204,\n",
       " '총장/Noun': 15393,\n",
       " '정치화/Noun': 13738,\n",
       " '정부/Noun': 13673,\n",
       " '무리한/Adjective': 6236,\n",
       " '현행법/Noun': 17301,\n",
       " '위반/Noun': 12065,\n",
       " '밥/Noun': 7044,\n",
       " '먹듯/Noun': 5802,\n",
       " '독/Noun': 4062,\n",
       " '재편/Noun': 13348,\n",
       " '협/Noun': 17311,\n",
       " '지독한/Adjective': 14480,\n",
       " '편향/Noun': 16309,\n",
       " '적/Suffix': 13429,\n",
       " '논리/Noun': 3099,\n",
       " '매몰/Noun': 5738,\n",
       " '자업자득/Noun': 13069,\n",
       " '지리멸렬한/Adjective': 14500,\n",
       " '어부지리/Noun': 10948,\n",
       " '호재/Noun': 17364,\n",
       " '되었다/Verb': 4388,\n",
       " '지각/Noun': 14416,\n",
       " '자/Noun': 12982,\n",
       " '개혁/Noun': 603,\n",
       " '숙원/Noun': 9452,\n",
       " '본질/Noun': 7621,\n",
       " '관철/Noun': 1227,\n",
       " '불법/Noun': 7982,\n",
       " '편법/Noun': 16292,\n",
       " '비정상/Noun': 8163,\n",
       " '원자로/Noun': 12017,\n",
       " '폐쇄/Noun': 16344,\n",
       " '라임/Noun': 5126,\n",
       " '울산/Noun': 11948,\n",
       " '입/Noun': 12795,\n",
       " '조국/Noun': 13835,\n",
       " '가족/Noun': 230,\n",
       " '비리/Noun': 8112,\n",
       " '추미애/Noun': 15441,\n",
       " '법무부/Noun': 7296,\n",
       " '사유화/Noun': 8557,\n",
       " '농락/Noun': 3142,\n",
       " '헤아릴/Verb': 17266,\n",
       " '파쇼/Noun': 16161,\n",
       " '독재정/Noun': 4086,\n",
       " '권/Suffix': 1509,\n",
       " '불공정/Noun': 7934,\n",
       " '팽창/Noun': 16255,\n",
       " '기회균등/Noun': 1915,\n",
       " '파괴/Noun': 16137,\n",
       " '한다는/Modifier': 16815,\n",
       " '반면/Noun': 6880,\n",
       " '교사/Noun': 1300,\n",
       " '삼아/Verb': 8741,\n",
       " '좌우/Noun': 14073,\n",
       " '대립/Noun': 3775,\n",
       " '열심히/Adverb': 11385,\n",
       " '정치인/Noun': 13734,\n",
       " '경종/Noun': 915,\n",
       " '되어야/Verb': 4373,\n",
       " '기초/Noun': 1905,\n",
       " '의식주/Noun': 12281,\n",
       " '기본/Noun': 1855,\n",
       " '행복/Noun': 17165,\n",
       " '극단/Noun': 1699,\n",
       " '설/Noun': 9045,\n",
       " '자리/Noun': 13038,\n",
       " '아니다/Adjective': 10225,\n",
       " '그/Noun': 1556,\n",
       " '밥그릇/Noun': 7045,\n",
       " '공고/Noun': 1095,\n",
       " '뿐/Noun': 8418,\n",
       " '선의/Noun': 9024,\n",
       " '대의/Noun': 3819,\n",
       " '정치/Noun': 13727,\n",
       " '행정/Noun': 17178,\n",
       " '이념/Noun': 12355,\n",
       " '철/Noun': 15245,\n",
       " '지난/Noun': 14449,\n",
       " '장난감/Noun': 13248,\n",
       " '혼합/Noun': 17388,\n",
       " '생산/Noun': 8888,\n",
       " '아/Exclamation': 10170,\n",
       " '류/Noun': 5190,\n",
       " '없애야/Verb': 11160,\n",
       " '우리/Noun': 11876,\n",
       " '일류/Noun': 12684,\n",
       " '삼류/Noun': 8737,\n",
       " '이단/Noun': 12361,\n",
       " '무뢰배들/Noun': 6224,\n",
       " '엄중히/Adjective': 11085,\n",
       " '경고/Noun': 876,\n",
       " '인사/Noun': 12619,\n",
       " '자의/Noun': 13084,\n",
       " '눈치/Noun': 3255,\n",
       " '보지/Noun': 7569,\n",
       " '힘/Noun': 17703,\n",
       " '있는/Adjective': 12874,\n",
       " '자로/Noun': 13024,\n",
       " '원칙/Noun': 12024,\n",
       " '처벌/Noun': 15198,\n",
       " '해/Verb': 16949,\n",
       " '약자/Noun': 10809,\n",
       " '국/Noun': 1393,\n",
       " '보호/Noun': 7577,\n",
       " '의미/Noun': 12276,\n",
       " '헌법/Noun': 17238,\n",
       " '상의/Noun': 8806,\n",
       " '책무/Noun': 15161,\n",
       " '공정한/Adjective': 1157,\n",
       " '억울한/Adjective': 11015,\n",
       " '일이/Modifier': 12726,\n",
       " '없도록/Adjective': 11146,\n",
       " '지금/Noun': 14426,\n",
       " '진행/Noun': 14704,\n",
       " '중인/Noun': 14346,\n",
       " '수사권/Noun': 9394,\n",
       " '완전/Noun': 11725,\n",
       " '박탈/Noun': 6850,\n",
       " '부패/Noun': 7842,\n",
       " '완전히/Adjective': 11727,\n",
       " '판치게/Verb': 16201,\n",
       " '완/Noun': 11713,\n",
       " '판이/Noun': 16198,\n",
       " '중/Noun': 14292,\n",
       " '대/Modifier': 3709,\n",
       " '범죄/Noun': 7283,\n",
       " '사/Modifier': 8435,\n",
       " '청/Noun': 15274,\n",
       " '추진/Noun': 15458,\n",
       " '강도/Noun': 444,\n",
       " '높게/Adjective': 3152,\n",
       " '비판/Noun': 8182,\n",
       " '있/Adjective': 12832,\n",
       " '음/Noun': 12241,\n",
       " '윤석/Noun': 12210,\n",
       " '열/Noun': 11367,\n",
       " '검찰총장/Noun': 766,\n",
       " '공격/Noun': 1094,\n",
       " '가장/Noun': 206,\n",
       " '인물/Noun': 12612,\n",
       " '만들어가고/Verb': 5399,\n",
       " '있다는/Adjective': 12887,\n",
       " '부적절한/Adjective': 7799,\n",
       " '행위/Noun': 17176,\n",
       " '좌파/Noun': 14081,\n",
       " '따라올/Verb': 4821,\n",
       " '자가/Noun': 12984,\n",
       " '아마/Noun': 10299,\n",
       " '지구/Noun': 14423,\n",
       " '상/Suffix': 8764,\n",
       " '없지/Adjective': 11204,\n",
       " '않을까/Verb': 10590,\n",
       " '정세균/Noun': 13682,\n",
       " '이/Suffix': 12304,\n",
       " '다를까/Adjective': 3428,\n",
       " '하고/Verb': 16561,\n",
       " '실낱/Noun': 9806,\n",
       " '같은/Adjective': 515,\n",
       " '희망/Noun': 17687,\n",
       " '품었었는데/Verb': 16454,\n",
       " '역시/Noun': 11318,\n",
       " '빨간색/Noun': 8266,\n",
       " '가까운/Adjective': 54,\n",
       " '주황색/Noun': 14220,\n",
       " '도/Noun': 3990,\n",
       " '진/Noun': 14653,\n",
       " '개진/Noun': 584,\n",
       " '이쯤/Noun': 12567,\n",
       " '되면/Verb': 4351,\n",
       " '당위/Noun': 3660,\n",
       " '어떻게/Adjective': 10895,\n",
       " '인지/Noun': 12646,\n",
       " '참/Verb': 15057,\n",
       " '중요한데/Adjective': 14341,\n",
       " '애초/Noun': 10769,\n",
       " '대통령/Noun': 3845,\n",
       " '사단/Noun': 8466,\n",
       " '만든/Verb': 5379,\n",
       " '새누리당/Noun': 8834,\n",
       " '병신/Noun': 7384,\n",
       " '새기/Verb': 8830,\n",
       " '들/Verb': 4623,\n",
       " '박근혜/Noun': 6806,\n",
       " '탄핵/Noun': 15860,\n",
       " '소/Modifier': 9217,\n",
       " '추/Noun': 15427,\n",
       " '결/Noun': 839,\n",
       " '하면서/Verb': 16668,\n",
       " '부/Noun': 7680,\n",
       " '터/Noun': 15927,\n",
       " '진짜/Noun': 14695,\n",
       " '아직도/Adverb': 10377,\n",
       " '이해/Noun': 12576,\n",
       " '가는/Verb': 72,\n",
       " '새/Noun': 8828,\n",
       " '귀/Noun': 1527,\n",
       " '나면/Verb': 2422,\n",
       " '기회/Noun': 1914,\n",
       " '올/Verb': 11624,\n",
       " '거/Noun': 615,\n",
       " '건가/Noun': 681,\n",
       " '직무/Noun': 14638,\n",
       " '충실할수록/Adjective': 15533,\n",
       " '물통/Noun': 6449,\n",
       " '외/Noun': 11769,\n",
       " '관계자/Noun': 1204,\n",
       " '왜/Noun': 11763,\n",
       " '그리/Verb': 1662,\n",
       " '거품/Noun': 677,\n",
       " '무는지/Verb': 6197,\n",
       " '알/Noun': 10598,\n",
       " '수가/Noun': 9360,\n",
       " '없네/Adjective': 11127,\n",
       " '뭔가/Noun': 6476,\n",
       " '찔리는/Verb': 14956,\n",
       " '많은/Adjective': 5496,\n",
       " '모양/Noun': 6058,\n",
       " '부정선거/Noun': 7804,\n",
       " '알면서도/Verb': 10633,\n",
       " '조용한/Adjective': 13888,\n",
       " '동조자/Noun': 4229,\n",
       " '차라리/Noun': 14981,\n",
       " '후보자/Noun': 17561,\n",
       " '내/Noun': 2749,\n",
       " '지/Verb': 14414,\n",
       " '말아라/Verb': 5530,\n",
       " '불과하다/Adjective': 7937,\n",
       " '돌/Noun': 4100,\n",
       " '머리/Noun': 5776,\n",
       " '변호사/Noun': 7366,\n",
       " '출신/Noun': 15505,\n",
       " '초선/Noun': 15353,\n",
       " '의원/Noun': 12287,\n",
       " '억지/Noun': 11022,\n",
       " '결국/Adverb': 843,\n",
       " '사자/Noun': 8566,\n",
       " '일어나/Verb': 12707,\n",
       " '악당/Noun': 10407,\n",
       " '모조리/Noun': 6084,\n",
       " '물어/Noun': 6431,\n",
       " '뜯게/Verb': 5081,\n",
       " '꼴/Noun': 2167,\n",
       " '돼/Verb': 4246,\n",
       " '버렸다/Verb': 7183,\n",
       " '쌤통/Noun': 10021,\n",
       " '향/Noun': 17187,\n",
       " '나발/Noun': 2430,\n",
       " '부는/Verb': 7703,\n",
       " '얼치기/Noun': 11073,\n",
       " '거의/Noun': 654,\n",
       " '사건/Noun': 8440,\n",
       " '관련/Noun': 1207,\n",
       " '제/Noun': 13758,\n",
       " '뒤/Noun': 4517,\n",
       " '구린/Adjective': 1350,\n",
       " '놈/Noun': 3135,\n",
       " '아내/Noun': 10189,\n",
       " '되기/Verb': 4303,\n",
       " '세/Modifier': 9142,\n",
       " '상사/Noun': 8792,\n",
       " '하늘/Noun': 16613,\n",
       " '정해/Noun': 13742,\n",
       " '준/Noun': 14264,\n",
       " '대로/Noun': 3770,\n",
       " '머/Noun': 5772,\n",
       " '않아/Verb': 10557,\n",
       " '정의/Noun': 13695,\n",
       " '칼/Noun': 15685,\n",
       " '든/Verb': 4606,\n",
       " '기사/Noun': 1859,\n",
       " '나타날/Verb': 2569,\n",
       " '작/Modifier': 13109,\n",
       " '금/Noun': 1738,\n",
       " '무법천지/Noun': 6242,\n",
       " '영구/Noun': 11431,\n",
       " '집권/Noun': 14735,\n",
       " '획책/Noun': 17544,\n",
       " '각종/Noun': 273,\n",
       " '권력/Noun': 1511,\n",
       " '형/Suffix': 17323,\n",
       " '방탄/Noun': 7087,\n",
       " '시키는/Verb': 9690,\n",
       " '민주주의/Noun': 6597,\n",
       " '법치/Noun': 7308,\n",
       " '법질서/Noun': 7307,\n",
       " '헌/Modifier': 17233,\n",
       " '지키고/Verb': 14605,\n",
       " '구국/Noun': 1330,\n",
       " '나라/Noun': 2405,\n",
       " '지킬/Verb': 14619,\n",
       " '내는/Verb': 2777,\n",
       " '초심/Noun': 15355,\n",
       " '끝/Noun': 2291,\n",
       " '헌신/Noun': 17240,\n",
       " '반드시/Noun': 6875,\n",
       " '지켜내/Verb': 14583,\n",
       " '주기/Noun': 14118,\n",
       " '바라며/Verb': 6744,\n",
       " '전/Noun': 13477,\n",
       " '격/Noun': 813,\n",
       " '격려/Noun': 816,\n",
       " '응원/Noun': 12258,\n",
       " '염두/Noun': 11396,\n",
       " '두고/Verb': 4451,\n",
       " '용기/Noun': 11844,\n",
       " '백배/Noun': 7144,\n",
       " '힘내/Verb': 17705,\n",
       " '간절히/Adjective': 307,\n",
       " '바란다/Verb': 6756,\n",
       " '힘내세요/Verb': 17707,\n",
       " '나와서/Verb': 2527,\n",
       " '결정/Noun': 855,\n",
       " '통합/Noun': 16018,\n",
       " '지원/Noun': 14545,\n",
       " '그리고/Conjunction': 1663,\n",
       " '대선/Noun': 3798,\n",
       " '문의/Noun': 6361,\n",
       " '묵인/Noun': 6325,\n",
       " '줏/Noun': 14290,\n",
       " '단지/Noun': 3519,\n",
       " '모시는/Verb': 6050,\n",
       " '검수/Noun': 761,\n",
       " '박/Noun': 6803,\n",
       " '완판/Noun': 11730,\n",
       " '민주/Noun': 6594,\n",
       " '탈/Noun': 15862,\n",
       " '쓴/Verb': 10127,\n",
       " '부패한/Adjective': 7843,\n",
       " '갈은/Verb': 345,\n",
       " '어떤/Adjective': 10887,\n",
       " '구호/Noun': 1392,\n",
       " '강렬하다/Adjective': 449,\n",
       " '과/Noun': 1179,\n",
       " '연석/Noun': 11348,\n",
       " '열은/Verb': 11390,\n",
       " '판/Noun': 16181,\n",
       " '전체/Noun': 13549,\n",
       " '흔들/Verb': 17642,\n",
       " '감/Noun': 354,\n",
       " '집값/Noun': 14732,\n",
       " '폭/Noun': 16377,\n",
       " '등/Noun': 4782,\n",
       " '투기/Noun': 16034,\n",
       " '이슈/Noun': 12491,\n",
       " '부동산/Noun': 7712,\n",
       " '분노/Noun': 7862,\n",
       " '문제/Noun': 6366,\n",
       " '생겼다/Verb': 8866,\n",
       " '먹자/Verb': 5842,\n",
       " '끼이는/Verb': 2335,\n",
       " '데/Noun': 3975,\n",
       " '능력/Noun': 3332,\n",
       " '아부/Noun': 10321,\n",
       " '실력/Noun': 9807,\n",
       " '보은/Noun': 7540,\n",
       " '택했던/Noun': 15924,\n",
       " '말로/Noun': 5518,\n",
       " '씨/Noun': 10156,\n",
       " '악마/Noun': 10411,\n",
       " '해주는/Verb': 17053,\n",
       " '불사/Noun': 7985,\n",
       " '적/Noun': 13428,\n",
       " '망함에도/Adjective': 5627,\n",
       " '기업/Noun': 1876,\n",
       " '사냥/Noun': 8457,\n",
       " '해도/Verb': 16972,\n",
       " '공작/Noun': 1149,\n",
       " '살아났고/Verb': 8690,\n",
       " '쉴/Verb': 9520,\n",
       " '없이/Adverb': 11197,\n",
       " '터져/Verb': 15935,\n",
       " '나오는/Verb': 2490,\n",
       " '당/Suffix': 3625,\n",
       " '압승/Noun': 10696,\n",
       " '탈락/Noun': 15864,\n",
       " '개판/Noun': 596,\n",
       " '쳐도/Verb': 15329,\n",
       " '북조선/Noun': 7853,\n",
       " '핵무기/Noun': 17087,\n",
       " '철폐/Noun': 15264,\n",
       " '사기/Noun': 8451,\n",
       " '석유/Noun': 8977,\n",
       " '쌀/Noun': 10005,\n",
       " '원전/Noun': 12020,\n",
       " '고속/Noun': 1020,\n",
       " '철도/Noun': 15249,\n",
       " '고속도로/Noun': 1021,\n",
       " '마구/Noun': 5232,\n",
       " '퍼줘/Noun': 16270,\n",
       " '쥐/Noun': 14373,\n",
       " '죽은/Verb': 14251,\n",
       " '듯/Noun': 4780,\n",
       " '조용하고/Adjective': 13887,\n",
       " '월성원전/Noun': 12047,\n",
       " '파기/Noun': 16138,\n",
       " '유재수/Noun': 12169,\n",
       " '잘/Verb': 13147,\n",
       " '총/Modifier': 15378,\n",
       " '동원령/Noun': 4218,\n",
       " '사태/Noun': 8588,\n",
       " '개입/Noun': 579,\n",
       " '대규모/Noun': 3727,\n",
       " '땅/Noun': 4860,\n",
       " '부진/Noun': 7818,\n",
       " '정지/Noun': 13710,\n",
       " '상태/Noun': 8817,\n",
       " '대통/Noun': 3844,\n",
       " '반역/Noun': 6889,\n",
       " '이적/Noun': 12555,\n",
       " '패스/Noun': 16239,\n",
       " '청와대/Noun': 15293,\n",
       " '수석/Noun': 9399,\n",
       " '죄/Noun': 14085,\n",
       " '범/Noun': 7274,\n",
       " '내각/Noun': 2750,\n",
       " '장관/Noun': 13243,\n",
       " '조용/Adjective': 13886,\n",
       " '말단/Noun': 5512,\n",
       " '친/Noun': 15631,\n",
       " '노동당/Noun': 3041,\n",
       " '망할/Adjective': 5626,\n",
       " '법안/Noun': 7302,\n",
       " '무사/Noun': 6246,\n",
       " '통과/Noun': 16003,\n",
       " '최근/Noun': 15401,\n",
       " '박범계/Noun': 6816,\n",
       " '변창흠/Noun': 7351,\n",
       " '이성윤/Noun': 12488,\n",
       " '탈법/Noun': 15865,\n",
       " '막질이/Verb': 5344,\n",
       " '통용/Noun': 16008,\n",
       " '통일부/Noun': 16010,\n",
       " '코로나/Noun': 15726,\n",
       " '방역/Noun': 7071,\n",
       " '월권/Noun': 12042,\n",
       " '이용/Noun': 12537,\n",
       " '한/Determiner': 16794,\n",
       " '운동권/Noun': 11918,\n",
       " '법/Noun': 7289,\n",
       " '밟아도/Verb': 7036,\n",
       " '위아래/Noun': 12071,\n",
       " '마음/Noun': 5282,\n",
       " '통일/Noun': 16009,\n",
       " '조직/Noun': 13912,\n",
       " '해체/Noun': 17079,\n",
       " '중대/Noun': 14307,\n",
       " '범죄수사/Noun': 7284,\n",
       " '설립/Noun': 9052,\n",
       " '빨강이/Noun': 8268,\n",
       " '맘/Noun': 5567,\n",
       " '세상/Noun': 9161,\n",
       " '몰고/Verb': 6107,\n",
       " '간/Noun': 276,\n",
       " '치가/Noun': 15564,\n",
       " '떨린다/Verb': 4937,\n",
       " '믿는/Verb': 6613,\n",
       " '오로지/Adverb': 11540,\n",
       " '입니다/Adjective': 12801,\n",
       " '눈/Noun': 3245,\n",
       " '크게/Noun': 15759,\n",
       " '뜨고/Verb': 5075,\n",
       " '지켜봐야/Verb': 14595,\n",
       " '합니다/Verb': 16907,\n",
       " '제/Modifier': 13757,\n",
       " '정신/Noun': 13686,\n",
       " '가진/Verb': 243,\n",
       " '똥파리/Noun': 5029,\n",
       " '소굴/Noun': 9223,\n",
       " '도리/Noun': 4012,\n",
       " '없구나/Adjective': 11114,\n",
       " '잘한/Verb': 13174,\n",
       " '적폐/Noun': 13469,\n",
       " '몰아내야/Verb': 6141,\n",
       " '하지/Verb': 16758,\n",
       " '강둑/Noun': 445,\n",
       " '구멍/Noun': 1356,\n",
       " '난/Noun': 2589,\n",
       " '사설/Noun': 8530,\n",
       " '세계/Noun': 9145,\n",
       " '없을/Adjective': 11195,\n",
       " '이기려/Verb': 12329,\n",
       " '온갖/Noun': 11614,\n",
       " '짓/Noun': 14765,\n",
       " '부끄러운/Adjective': 7692,\n",
       " '여성/Noun': 11270,\n",
       " '날/Noun': 2611,\n",
       " '수치/Noun': 9438,\n",
       " '스럽고/Adjective': 9533,\n",
       " '추잡한/Adjective': 15452,\n",
       " '성폭행/Noun': 9136,\n",
       " '한국/Noun': 16805,\n",
       " '큰/Verb': 15776,\n",
       " '도시/Noun': 4031,\n",
       " '수도/Noun': 9372,\n",
       " '서/Modifier': 8910,\n",
       " '울/Modifier': 11935,\n",
       " '얼마/Noun': 11067,\n",
       " '남지/Noun': 2685,\n",
       " '않는/Verb': 10537,\n",
       " '잔/Noun': 13134,\n",
       " '기간/Noun': 1793,\n",
       " '위해/Noun': 12090,\n",
       " '보선/Noun': 7481,\n",
       " '수천억/Modifier': 9436,\n",
       " '원/Noun': 11994,\n",
       " '낭비하는/Adjective': 2722,\n",
       " '행사/Noun': 17172,\n",
       " '그로/Noun': 1656,\n",
       " '인한/Adjective': 12661,\n",
       " '부담/Noun': 7704,\n",
       " '가중/Noun': 233,\n",
       " '케/Noun': 15713,\n",
       " '반성/Noun': 6886,\n",
       " '근신/Noun': 1724,\n",
       " '하여야/Verb': 16728,\n",
       " '뻔/Noun': 8324,\n",
       " '뻔하게/Adjective': 8335,\n",
       " '설친/Adjective': 9066,\n",
       " '나가/Verb': 2344,\n",
       " '피해자/Noun': 16501,\n",
       " '비방/Noun': 8118,\n",
       " '주축/Noun': 14212,\n",
       " '치른다니/Verb': 15598,\n",
       " '환장한/Adjective': 17498,\n",
       " '자진/Noun': 13091,\n",
       " '철회/Noun': 15266,\n",
       " '맞다/Verb': 5660,\n",
       " '명분/Noun': 5953,\n",
       " '없고/Adjective': 11112,\n",
       " '절차/Noun': 13587,\n",
       " '분명히/Adjective': 7892,\n",
       " '저/Noun': 13360,\n",
       " '망국/Noun': 5583,\n",
       " '노/Noun': 3037,\n",
       " '안타깝다는/Adjective': 10492,\n",
       " '했어도/Verb': 17131,\n",
       " '입막음/Noun': 12805,\n",
       " '잘못/Noun': 13166,\n",
       " '들통/Noun': 4774,\n",
       " '미/Adjective': 6482,\n",
       " '우두머리/Noun': 11869,\n",
       " '다운/Noun': 3453,\n",
       " '개/Noun': 534,\n",
       " '소리/Noun': 9239,\n",
       " '앞/Noun': 10708,\n",
       " '여자/Noun': 11283,\n",
       " '아랫/Modifier': 10286,\n",
       " '개방/Noun': 562,\n",
       " '너/Noun': 2916,\n",
       " '상/Noun': 8763,\n",
       " '정말/Noun': 13660,\n",
       " '대책/Noun': 3835,\n",
       " '인간/Noun': 12589,\n",
       " '첫째/Noun': 15273,\n",
       " '둘째/Noun': 4504,\n",
       " '범한/Noun': 7288,\n",
       " '목숨/Noun': 6100,\n",
       " '끊은/Verb': 2262,\n",
       " '거나/Noun': 620,\n",
       " '이겨/Verb': 12312,\n",
       " '보겠다고/Verb': 7397,\n",
       " '사실/Noun': 8538,\n",
       " '않겠다/Verb': 10517,\n",
       " '당/Modifier': 3623,\n",
       " '헌/Noun': 17234,\n",
       " '약속/Noun': 10808,\n",
       " '버려진/Noun': 7181,\n",
       " '짝/Noun': 14814,\n",
       " '뒤집어/Verb': 4533,\n",
       " '혈세/Noun': 17306,\n",
       " '억/Noun': 11003,\n",
       " '낭비/Noun': 2719,\n",
       " '현실/Noun': 17292,\n",
       " '사재를/Verb': 8568,\n",
       " '털/Noun': 15953,\n",
       " '어서/Noun': 10949,\n",
       " '갚아야/Verb': 531,\n",
       " '않는가요/Verb': 10539,\n",
       " '더듬어/Verb': 3889,\n",
       " '먼지/Noun': 5856,\n",
       " '쓰레기/Noun': 10109,\n",
       " '현명하게/Adjective': 17286,\n",
       " '퇴/Noun': 16021,\n",
       " '출/Verb': 15486,\n",
       " '합시다/Verb': 16920,\n",
       " '더럽고/Adjective': 3904,\n",
       " '추악한/Adjective': 15446,\n",
       " '저/Determiner': 13359,\n",
       " '질/Noun': 14708,\n",
       " '사악한/Adjective': 8542,\n",
       " '지지/Noun': 14563,\n",
       " '무뇌아/Noun': 6194,\n",
       " '판치는/Verb': 16202,\n",
       " '벌/Noun': 7241,\n",
       " '주어/Noun': 14171,\n",
       " '몇/Noun': 5971,\n",
       " '표/Noun': 16399,\n",
       " '팔/Noun': 16205,\n",
       " '먹는/Verb': 5795,\n",
       " '더러운/Adjective': 3897,\n",
       " '짓은/Verb': 14776,\n",
       " '말기/Noun': 5510,\n",
       " '그래도/Adverb': 1583,\n",
       " '다행/Noun': 3472,\n",
       " '여론조사/Noun': 11260,\n",
       " '조금/Noun': 13836,\n",
       " '앞선다니/Verb': 10724,\n",
       " '개돼지/Noun': 549,\n",
       " '변화/Noun': 7368,\n",
       " '발/Noun': 6969,\n",
       " '여/Noun': 11232,\n",
       " '가져라/Verb': 221,\n",
       " '한마디/Noun': 16836,\n",
       " '정의도/Noun': 13697,\n",
       " '파렴치/Noun': 16147,\n",
       " '이익/Noun': 12547,\n",
       " '직접/Noun': 14649,\n",
       " '버리듯이/Verb': 7200,\n",
       " '규/Noun': 1546,\n",
       " '바꿔/Verb': 6701,\n",
       " '어기/Noun': 10856,\n",
       " '우습게/Verb': 11891,\n",
       " '아는/Verb': 10193,\n",
       " '무엇/Noun': 6283,\n",
       " '기대하나요/Adjective': 1822,\n",
       " '서울시장/Noun': 8963,\n",
       " '부산시/Noun': 7763,\n",
       " '장/Suffix': 13242,\n",
       " '쫓겨난/Verb': 14861,\n",
       " '또/Noun': 4992,\n",
       " '후/Noun': 17553,\n",
       " '무시/Noun': 6275,\n",
       " '행동/Noun': 17162,\n",
       " '가증/Noun': 234,\n",
       " '스럽다/Adjective': 9535,\n",
       " '찍어주는/Verb': 14929,\n",
       " '아닌가요/Adjective': 10266,\n",
       " '지켜서/Verb': 14596,\n",
       " '줄/Noun': 14274,\n",
       " '압시/Noun': 10700,\n",
       " '이을/Verb': 12544,\n",
       " '대치/Noun': 3842,\n",
       " '어/Suffix': 10853,\n",
       " '없음/Adjective': 11196,\n",
       " '골/Noun': 1069,\n",
       " '때리는/Verb': 4871,\n",
       " '수준/Noun': 9431,\n",
       " '낮아/Adjective': 2729,\n",
       " '권/Noun': 1508,\n",
       " '주고/Verb': 14112,\n",
       " '풀어주면/Verb': 16443,\n",
       " '해/Noun': 16948,\n",
       " '벌레/Noun': 7252,\n",
       " '거리/Noun': 643,\n",
       " '문/Modifier': 6332,\n",
       " '설주/Noun': 9060,\n",
       " '백성/Noun': 7147,\n",
       " '있으니/Adjective': 12932,\n",
       " '투명하고/Adjective': 16037,\n",
       " '밝은/Verb': 7009,\n",
       " '절대/Noun': 13573,\n",
       " '있을/Adjective': 12944,\n",
       " '저쪽/Noun': 13420,\n",
       " '다가/Noun': 3365,\n",
       " '던데/Noun': 3931,\n",
       " '받더라/Verb': 6920,\n",
       " '동네/Noun': 4184,\n",
       " '워/Noun': 11991,\n",
       " '맑은/Noun': 5566,\n",
       " '분/Noun': 7857,\n",
       " '칭송/Noun': 15671,\n",
       " '다니는/Verb': 3397,\n",
       " '여/Modifier': 11231,\n",
       " '성/Modifier': 9077,\n",
       " '시절/Noun': 9657,\n",
       " '네/Noun': 3021,\n",
       " '어딨냐/Verb': 10878,\n",
       " '며/Noun': 5912,\n",
       " '성의/Noun': 9117,\n",
       " '자유/Noun': 13080,\n",
       " '누리던/Verb': 3237,\n",
       " '대해/Noun': 3863,\n",
       " '무관심해/Adjective': 6179,\n",
       " '그것/Noun': 1561,\n",
       " '혹시/Noun': 17375,\n",
       " '그걸/Adverb': 1560,\n",
       " '해서/Verb': 17005,\n",
       " '배지/Noun': 7126,\n",
       " '달/Noun': 3531,\n",
       " '않았나/Verb': 10563,\n",
       " '의심/Noun': 12282,\n",
       " '된다/Verb': 4421,\n",
       " '다이라/Noun': 3456,\n",
       " '불러도/Verb': 7954,\n",
       " '자연스럽다는/Adjective': 13071,\n",
       " '느낌/Noun': 3290,\n",
       " '드는/Verb': 4555,\n",
       " '탓/Noun': 15884,\n",
       " '아닐/Adjective': 10271,\n",
       " '동탄/Noun': 4234,\n",
       " '시/Noun': 9591,\n",
       " '국회의원/Noun': 1445,\n",
       " '걸어/Verb': 744,\n",
       " '둔/Verb': 4494,\n",
       " '문구/Noun': 6341,\n",
       " '인권/Noun': 12600,\n",
       " '존중/Noun': 13944,\n",
       " '낮/Noun': 2726,\n",
       " '뜨거운/Adjective': 5072,\n",
       " '모르고/Verb': 6008,\n",
       " '추행/Noun': 15467,\n",
       " '죽고/Verb': 14227,\n",
       " '감옥/Noun': 387,\n",
       " '가고/Verb': 49,\n",
       " '도망/Noun': 4014,\n",
       " '하다가/Verb': 16618,\n",
       " '조사/Noun': 13852,\n",
       " '받고/Verb': 6907,\n",
       " '바보/Noun': 6781,\n",
       " '있어요/Adjective': 12908,\n",
       " '카페/Noun': 15683,\n",
       " '지지자/Noun': 14568,\n",
       " '시민단체/Noun': 9630,\n",
       " '뭐/Noun': 6469,\n",
       " '혀/Noun': 17275,\n",
       " '불/Noun': 7921,\n",
       " '당연히/Adjective': 3657,\n",
       " '당장/Noun': 3663,\n",
       " '그렇지/Adjective': 1647,\n",
       " '않다면/Verb': 10552,\n",
       " '역사/Noun': 11312,\n",
       " '죄인/Noun': 14099,\n",
       " '영원한/Adjective': 11454,\n",
       " '주/Noun': 14102,\n",
       " '홍걸/Noun': 17399,\n",
       " '지울/Verb': 14542,\n",
       " '철면피/Noun': 15251,\n",
       " '그런데도/Adjective': 1620,\n",
       " '지지도/Noun': 14565,\n",
       " '육박/Noun': 12203,\n",
       " '지도/Noun': 14477,\n",
       " '설명/Noun': 9055,\n",
       " '합/Noun': 16905,\n",
       " '이런데/Adjective': 12395,\n",
       " '뭘/Noun': 6477,\n",
       " '기대합니까/Adjective': 1827,\n",
       " '깨문/Verb': 2088,\n",
       " '이란/Noun': 12371,\n",
       " '존재/Noun': 13943,\n",
       " '한심할/Adjective': 16858,\n",
       " '뿐입니다/Adjective': 8426,\n",
       " '저질러놓고도/Verb': 13411,\n",
       " '당당한/Adjective': 3633,\n",
       " '막걸리/Noun': 5311,\n",
       " '고무신/Noun': 1005,\n",
       " '더니/Noun': 3880,\n",
       " '지/Modifier': 14413,\n",
       " ...}"
      ]
     },
     "execution_count": 25,
     "metadata": {},
     "output_type": "execute_result"
    }
   ],
   "source": [
    "# { 단어: 단어 인덱스 } 형태의 사전 확인\n",
    "index_vectorizer.vocabulary_"
   ]
  },
  {
   "cell_type": "code",
   "execution_count": 26,
   "metadata": {
    "ExecuteTime": {
     "end_time": "2021-05-11T15:42:29.189837Z",
     "start_time": "2021-05-11T15:42:29.176873Z"
    }
   },
   "outputs": [
    {
     "name": "stdout",
     "output_type": "stream",
     "text": [
      "['재보궐/Noun', '부산/Noun', '김영춘/Noun', '박형준/Noun', '서울/Noun', '양자/Noun', '대결/Noun', '부산/Noun', '오거돈/Noun', '선거/Noun', '오거돈/Noun', '치부/Noun', '선거/Noun', '아닌가/Adjective', '오거돈/Noun', '성추행/Noun', '생긴/Verb', '선거/Noun', '가/Verb', '독도/Noun', '신/Modifier', '공항/Noun', '오거돈/Noun', '재산/Noun', '불려주려고/Verb', '문재인/Noun', '민주당/Noun', '들/Suffix', '발악/Noun', '아닌가/Adjective', '다/Adverb', '부산/Noun', '사람/Noun', '하는/Verb', '말/Noun', '이번/Noun', '선거/Noun', '힘들여/Adjective', '오거돈/Noun', '위/Noun', '선/Noun', '아이/Noun', '다/Adverb']\n",
      "  (0, 13322)\t1\n",
      "  (0, 7762)\t3\n",
      "  (0, 1972)\t1\n",
      "  (0, 6856)\t1\n",
      "  (0, 8958)\t1\n",
      "  (0, 10837)\t1\n",
      "  (0, 3721)\t1\n",
      "  (0, 11516)\t5\n",
      "  (0, 8984)\t4\n",
      "  (0, 15607)\t1\n",
      "  (0, 10265)\t2\n",
      "  (0, 9134)\t1\n",
      "  (0, 8874)\t1\n",
      "  (0, 40)\t1\n",
      "  (0, 4067)\t1\n",
      "  (0, 9731)\t1\n",
      "  (0, 1173)\t1\n",
      "  (0, 13326)\t1\n",
      "  (0, 7960)\t1\n",
      "  (0, 6365)\t1\n",
      "  (0, 6596)\t1\n",
      "  (0, 4622)\t1\n",
      "  (0, 6993)\t1\n",
      "  (0, 3363)\t2\n",
      "  (0, 8485)\t1\n",
      "  (0, 16599)\t1\n",
      "  (0, 5508)\t1\n",
      "  (0, 12458)\t1\n",
      "  (0, 17731)\t1\n",
      "  (0, 12055)\t1\n",
      "  (0, 8983)\t1\n",
      "  (0, 10361)\t1\n"
     ]
    }
   ],
   "source": [
    "# 실제 형태소\n",
    "print(get_pos(df3['title_comment'][0]))\n",
    "\n",
    "# 결과\n",
    "print( X[0]) # ( 문장 순서, 단어 인덱스)    등장 횟수"
   ]
  },
  {
   "cell_type": "markdown",
   "metadata": {},
   "source": [
    "### (3) TF-IDF로 변환\n",
    "- Tf(Term-Frequency) : 특정 단어가 하나의 데이터 안에서 등장하는 횟수\n",
    "- Tf-Idf(Term-Freuquency times Inverse Documnet-Frquency) : 특정 단어가 여러 데이터에 자주 등장하는지를 알려주는 지표.\n",
    "\n",
    "- 사용 목적\n",
    "    - **Transform**\n",
    "        - 단어 빈도 매트릭스를 정규화된 tf 또는 tf-idf로 나타내기 위해\n",
    "    - **Sclae Down**\n",
    "        - 형태소에서 매우 빈번하게 나타나 경험적으로 덜 유익한 토큰의 영향을 줄이기 위해 사용한다. "
   ]
  },
  {
   "cell_type": "markdown",
   "metadata": {},
   "source": [
    "아예 등장하지 않는다면 0, 그 이외에는 실수값이 크다면 그 단어가 보다 가치있는 특징이라는 것이고, 작다면 그다지 가치가 없다고 판단 가능"
   ]
  },
  {
   "cell_type": "code",
   "execution_count": 27,
   "metadata": {
    "ExecuteTime": {
     "end_time": "2021-05-11T15:42:29.209784Z",
     "start_time": "2021-05-11T15:42:29.190834Z"
    }
   },
   "outputs": [
    {
     "name": "stdout",
     "output_type": "stream",
     "text": [
      "  (0, 17731)\t0.21523625260950388\n",
      "  (0, 16599)\t0.06945244627853997\n",
      "  (0, 15607)\t0.18090127185154087\n",
      "  (0, 13326)\t0.15474553662914986\n",
      "  (0, 13322)\t0.14434682614400945\n",
      "  (0, 12458)\t0.0995021829802408\n",
      "  (0, 12055)\t0.10733167048915729\n",
      "  (0, 11516)\t0.5776927142887456\n",
      "  (0, 10837)\t0.15699867589149819\n",
      "  (0, 10361)\t0.1314135250355836\n",
      "  (0, 10265)\t0.23975580387826032\n",
      "  (0, 9731)\t0.1065502980143396\n",
      "  (0, 9134)\t0.09545386665135831\n",
      "  (0, 8984)\t0.274428234558158\n",
      "  (0, 8983)\t0.13454149897133416\n",
      "  (0, 8958)\t0.08463748263847315\n",
      "  (0, 8874)\t0.1653322362766428\n",
      "  (0, 8485)\t0.08438475133088813\n",
      "  (0, 7960)\t0.21523625260950388\n",
      "  (0, 7762)\t0.23268001781115222\n",
      "  (0, 6993)\t0.16887647972929715\n",
      "  (0, 6856)\t0.08984866688498319\n",
      "  (0, 6596)\t0.060084252227764666\n",
      "  (0, 6365)\t0.07179584304861841\n",
      "  (0, 5508)\t0.08022791263263193\n",
      "  (0, 4622)\t0.05189249062632139\n",
      "  (0, 4067)\t0.18802642412732695\n",
      "  (0, 3721)\t0.1429705024542976\n",
      "  (0, 3363)\t0.12470621375949657\n",
      "  (0, 1972)\t0.11146917471864529\n",
      "  (0, 1173)\t0.1023183064857646\n",
      "  (0, 40)\t0.11001184538604648\n"
     ]
    }
   ],
   "source": [
    "# 위에서 만든 형태소 벡터를 학습 데이터 벡터로 생성\n",
    "from sklearn.feature_extraction.text import TfidfTransformer\n",
    "\n",
    "tfidf_vectorizer = TfidfTransformer()\n",
    "X = tfidf_vectorizer.fit_transform(X)\n",
    "print(X[0]) # (문장 번호, 단어 인덱스)    단어의 비중"
   ]
  },
  {
   "cell_type": "markdown",
   "metadata": {},
   "source": [
    "### ※ (주의) tfidf_vectorizer도 저장해야한다.\n",
    "- TfidTransformer를 새롭게 생성한 후 저장한 모델을 사용하면 안 된다.\n",
    "- \"학습 단계에서 생성해서 학습을 시킨 녀석을 그대로 사용해야 합니다. 그녀석도 파일로 저장해 두었다가 사용할 때 불러와서 써야 합니다\"\n"
   ]
  },
  {
   "cell_type": "code",
   "execution_count": 28,
   "metadata": {
    "ExecuteTime": {
     "end_time": "2021-05-11T15:42:29.220757Z",
     "start_time": "2021-05-11T15:42:29.211779Z"
    }
   },
   "outputs": [
    {
     "name": "stdout",
     "output_type": "stream",
     "text": [
      "저장완료\n"
     ]
    }
   ],
   "source": [
    "# TF-IDF 저장\n",
    "with open('model/tfidf_vectorizer_0512.dat','wb') as fp:\n",
    "    pickle.dump(tfidf_vectorizer, fp)\n",
    "print('저장완료')"
   ]
  },
  {
   "cell_type": "markdown",
   "metadata": {},
   "source": [
    "### (4) 학습"
   ]
  },
  {
   "cell_type": "code",
   "execution_count": 29,
   "metadata": {
    "ExecuteTime": {
     "end_time": "2021-05-11T15:42:29.233720Z",
     "start_time": "2021-05-11T15:42:29.222750Z"
    }
   },
   "outputs": [
    {
     "data": {
      "text/plain": [
       "((3061, 17740), (1312, 17740), (3061,), (1312,))"
      ]
     },
     "execution_count": 29,
     "metadata": {},
     "output_type": "execute_result"
    }
   ],
   "source": [
    "# 학습-테스트용으로 나누기\n",
    "from sklearn.model_selection import train_test_split\n",
    "\n",
    "# 결과값\n",
    "y = df3['y'] \n",
    "X_train, X_test, y_train, y_test = train_test_split( X, y,\n",
    "                                                    test_size=0.3, \n",
    "                                                    stratify=y )\n",
    "\n",
    "X_train.shape, X_test.shape, y_train.shape, y_test.shape"
   ]
  },
  {
   "cell_type": "code",
   "execution_count": 30,
   "metadata": {
    "ExecuteTime": {
     "end_time": "2021-05-11T15:42:29.268628Z",
     "start_time": "2021-05-11T15:42:29.234717Z"
    }
   },
   "outputs": [],
   "source": [
    "# 로지스틱회귀로 분류분석 진행하기\n",
    "from sklearn.linear_model import LogisticRegression\n",
    "\n",
    "# 교차검증: 결과데이터를 보고 각 클래스가 균등한 비율로 들어있게끔 나눈다.\n",
    "from sklearn.model_selection import StratifiedKFold \n",
    "\n",
    "# 평가 방법\n",
    "from sklearn.metrics import accuracy_score\n",
    "from sklearn.metrics import precision_score \n",
    "from sklearn.metrics import recall_score \n",
    "from sklearn.metrics import f1_score\n",
    "from sklearn.metrics import roc_auc_score"
   ]
  },
  {
   "cell_type": "code",
   "execution_count": 31,
   "metadata": {
    "ExecuteTime": {
     "end_time": "2021-05-11T15:42:29.275608Z",
     "start_time": "2021-05-11T15:42:29.269626Z"
    }
   },
   "outputs": [],
   "source": [
    "# 교차검증\n",
    "fold1 = StratifiedKFold( n_splits=10 )\n",
    "\n",
    "# 로지스틱 회귀 모델 생성\n",
    "lr = LogisticRegression()\n",
    "\n",
    "# 최적 파라미터 찾기\n",
    "params = {'penalty': ['l1', 'l2', 'elasticnet', 'none'],\n",
    "          'solver': ['newton-cg', 'lbfgs', 'liblinear', 'sag', 'saga'],\n",
    "          'C':[0.001, 0.01, 0.1, 1, 10, 100, 1000, 10000]}\n",
    "\n",
    "grid_model = GridSearchCV( lr, params, scoring='accuracy', cv=fold1 )"
   ]
  },
  {
   "cell_type": "code",
   "execution_count": 32,
   "metadata": {
    "ExecuteTime": {
     "end_time": "2021-05-11T15:49:07.293658Z",
     "start_time": "2021-05-11T15:42:29.276605Z"
    }
   },
   "outputs": [
    {
     "name": "stdout",
     "output_type": "stream",
     "text": [
      "최적의 하이퍼 파라미터: {'C': 10, 'penalty': 'l2', 'solver': 'liblinear'}\n",
      "최적의 모델 평균 성능: 0.8490707031998467\n"
     ]
    }
   ],
   "source": [
    "grid_model.fit( X_train,y_train )\n",
    "print(f'최적의 하이퍼 파라미터: {grid_model.best_params_}')\n",
    "print(f'최적의 모델 평균 성능: {grid_model.best_score_}')"
   ]
  },
  {
   "cell_type": "markdown",
   "metadata": {},
   "source": [
    "### (5) 평가"
   ]
  },
  {
   "cell_type": "code",
   "execution_count": 33,
   "metadata": {
    "ExecuteTime": {
     "end_time": "2021-05-11T15:49:07.299642Z",
     "start_time": "2021-05-11T15:49:07.295656Z"
    }
   },
   "outputs": [],
   "source": [
    "# 최고 성능 모델\n",
    "best_model = grid_model.best_estimator_"
   ]
  },
  {
   "cell_type": "markdown",
   "metadata": {},
   "source": [
    "#### [1] 학습 데이터의 교차검증"
   ]
  },
  {
   "cell_type": "code",
   "execution_count": 34,
   "metadata": {
    "ExecuteTime": {
     "end_time": "2021-05-11T15:49:08.722649Z",
     "start_time": "2021-05-11T15:49:07.300640Z"
    }
   },
   "outputs": [],
   "source": [
    "from sklearn.metrics import accuracy_score,f1_score, precision_score, recall_score, roc_auc_score \n",
    "\n",
    "# 훈련용 데이터의 교차검증\n",
    "accuracy = cross_val_score( best_model, X_train, y_train, scoring='accuracy', cv=fold1 )\n",
    "precision = cross_val_score( best_model, X_train, y_train, scoring='precision', cv=fold1 )\n",
    "recall_score = cross_val_score( best_model, X_train, y_train, scoring='recall', cv=fold1 )\n",
    "f1_score = cross_val_score( best_model, X_train, y_train, scoring='f1', cv=fold1 )\n",
    "roc_auc_score = cross_val_score( best_model, X_train, y_train, scoring='roc_auc', cv=fold1 )"
   ]
  },
  {
   "cell_type": "code",
   "execution_count": 35,
   "metadata": {
    "ExecuteTime": {
     "end_time": "2021-05-11T15:49:08.730627Z",
     "start_time": "2021-05-11T15:49:08.724643Z"
    }
   },
   "outputs": [
    {
     "name": "stdout",
     "output_type": "stream",
     "text": [
      "평균 정확도 0.8490707031998467\n",
      "평균 정밀도 0.7874505667686255\n",
      "평균 재현율 0.36922123015873015\n",
      "평균 f1 0.5006969797801357\n",
      "평균 roc-acu 0.7947381340224704\n"
     ]
    }
   ],
   "source": [
    "print('평균 정확도', accuracy.mean() )\n",
    "print('평균 정밀도', precision.mean() )\n",
    "print('평균 재현율', recall_score.mean() )\n",
    "print('평균 f1', f1_score.mean() )\n",
    "print('평균 roc-acu', roc_auc_score.mean() )"
   ]
  },
  {
   "cell_type": "code",
   "execution_count": 36,
   "metadata": {
    "ExecuteTime": {
     "end_time": "2021-05-11T15:49:08.889250Z",
     "start_time": "2021-05-11T15:49:08.732622Z"
    }
   },
   "outputs": [
    {
     "data": {
      "image/png": "[encoded data removed]",
      "text/plain": [
       "<Figure size 720x360 with 1 Axes>"
      ]
     },
     "metadata": {},
     "output_type": "display_data"
    }
   ],
   "source": [
    "plt.plot( accuracy , label='accuracy')\n",
    "# plt.plot( precision , label='precision')\n",
    "# plt.plot( recall_score , label='recall_score')\n",
    "# plt.plot( f1_score , label='f1_score')\n",
    "plt.ylim(0.7, 1.0)\n",
    "plt.plot( roc_auc_score , label='roc_auc_score')\n",
    "plt.legend()\n",
    "plt.title( '[Figure-1] 훈련 데이터의 교차검증 결과')\n",
    "plt.show()"
   ]
  },
  {
   "cell_type": "markdown",
   "metadata": {},
   "source": [
    "#### [2]  테스트 데이터 검증"
   ]
  },
  {
   "cell_type": "code",
   "execution_count": 37,
   "metadata": {
    "ExecuteTime": {
     "end_time": "2021-05-11T15:49:08.897228Z",
     "start_time": "2021-05-11T15:49:08.891245Z"
    }
   },
   "outputs": [
    {
     "data": {
      "text/plain": [
       "0.8521341463414634"
      ]
     },
     "execution_count": 37,
     "metadata": {},
     "output_type": "execute_result"
    }
   ],
   "source": [
    "# 테스트용 데이터를 통해 예측하기\n",
    "y_pred = best_model.predict(X_test)\n",
    "\n",
    "# 테스트 데이터 정확도\n",
    "result = accuracy_score( y_test, y_pred ) \n",
    "result # 정확도"
   ]
  },
  {
   "cell_type": "markdown",
   "metadata": {},
   "source": [
    "### (6) 모델 저장"
   ]
  },
  {
   "cell_type": "code",
   "execution_count": 38,
   "metadata": {
    "ExecuteTime": {
     "end_time": "2021-05-11T15:49:08.903212Z",
     "start_time": "2021-05-11T15:49:08.898225Z"
    },
    "scrolled": true
   },
   "outputs": [
    {
     "name": "stdout",
     "output_type": "stream",
     "text": [
      "저장완료\n"
     ]
    }
   ],
   "source": [
    "with open('model/sentiment_analysis_Model1.dat','wb') as fp:\n",
    "    pickle.dump(best_model, fp)\n",
    "print('저장완료')"
   ]
  },
  {
   "cell_type": "markdown",
   "metadata": {},
   "source": [
    "### (7) 모델 불러오기"
   ]
  },
  {
   "cell_type": "code",
   "execution_count": 39,
   "metadata": {
    "ExecuteTime": {
     "end_time": "2021-05-11T15:49:08.919170Z",
     "start_time": "2021-05-11T15:49:08.904210Z"
    }
   },
   "outputs": [
    {
     "name": "stdout",
     "output_type": "stream",
     "text": [
      "출력 완료\n"
     ]
    }
   ],
   "source": [
    "with open('model/sentiment_analysis_Model1.dat', 'rb') as fp:\n",
    "    new_model = pickle.load(fp)\n",
    "print('출력 완료')"
   ]
  },
  {
   "cell_type": "markdown",
   "metadata": {},
   "source": [
    "### (8) 추정 확률 알아보기"
   ]
  },
  {
   "cell_type": "code",
   "execution_count": 40,
   "metadata": {
    "ExecuteTime": {
     "end_time": "2021-05-11T15:49:08.925154Z",
     "start_time": "2021-05-11T15:49:08.920168Z"
    },
    "scrolled": false
   },
   "outputs": [
    {
     "data": {
      "text/plain": [
       "array([[0.85480701, 0.14519299],\n",
       "       [0.85167749, 0.14832251],\n",
       "       [0.76971372, 0.23028628],\n",
       "       ...,\n",
       "       [0.99071408, 0.00928592],\n",
       "       [0.98713292, 0.01286708],\n",
       "       [0.19970872, 0.80029128]])"
      ]
     },
     "execution_count": 40,
     "metadata": {},
     "output_type": "execute_result"
    }
   ],
   "source": [
    "# 클래스 순서에 따른 추정 확률 [ 0일 확률, 1일 확률 ]\n",
    "proba = new_model.predict_proba( X_test )\n",
    "proba"
   ]
  },
  {
   "cell_type": "code",
   "execution_count": 41,
   "metadata": {
    "ExecuteTime": {
     "end_time": "2021-05-11T15:49:08.938119Z",
     "start_time": "2021-05-11T15:49:08.926152Z"
    }
   },
   "outputs": [
    {
     "data": {
      "text/html": [
       "<div>\n",
       "<style scoped>\n",
       "    .dataframe tbody tr th:only-of-type {\n",
       "        vertical-align: middle;\n",
       "    }\n",
       "\n",
       "    .dataframe tbody tr th {\n",
       "        vertical-align: top;\n",
       "    }\n",
       "\n",
       "    .dataframe thead th {\n",
       "        text-align: right;\n",
       "    }\n",
       "</style>\n",
       "<table border=\"1\" class=\"dataframe\">\n",
       "  <thead>\n",
       "    <tr style=\"text-align: right;\">\n",
       "      <th></th>\n",
       "      <th>0</th>\n",
       "      <th>1</th>\n",
       "      <th>target</th>\n",
       "    </tr>\n",
       "  </thead>\n",
       "  <tbody>\n",
       "    <tr>\n",
       "      <th>0</th>\n",
       "      <td>0.854807</td>\n",
       "      <td>0.145193</td>\n",
       "      <td>0.0</td>\n",
       "    </tr>\n",
       "    <tr>\n",
       "      <th>1</th>\n",
       "      <td>0.851677</td>\n",
       "      <td>0.148323</td>\n",
       "      <td>0.0</td>\n",
       "    </tr>\n",
       "    <tr>\n",
       "      <th>2</th>\n",
       "      <td>0.769714</td>\n",
       "      <td>0.230286</td>\n",
       "      <td>0.0</td>\n",
       "    </tr>\n",
       "    <tr>\n",
       "      <th>3</th>\n",
       "      <td>0.754732</td>\n",
       "      <td>0.245268</td>\n",
       "      <td>0.0</td>\n",
       "    </tr>\n",
       "    <tr>\n",
       "      <th>4</th>\n",
       "      <td>0.935207</td>\n",
       "      <td>0.064793</td>\n",
       "      <td>0.0</td>\n",
       "    </tr>\n",
       "    <tr>\n",
       "      <th>...</th>\n",
       "      <td>...</td>\n",
       "      <td>...</td>\n",
       "      <td>...</td>\n",
       "    </tr>\n",
       "    <tr>\n",
       "      <th>1307</th>\n",
       "      <td>0.024739</td>\n",
       "      <td>0.975261</td>\n",
       "      <td>1.0</td>\n",
       "    </tr>\n",
       "    <tr>\n",
       "      <th>1308</th>\n",
       "      <td>0.864579</td>\n",
       "      <td>0.135421</td>\n",
       "      <td>0.0</td>\n",
       "    </tr>\n",
       "    <tr>\n",
       "      <th>1309</th>\n",
       "      <td>0.990714</td>\n",
       "      <td>0.009286</td>\n",
       "      <td>0.0</td>\n",
       "    </tr>\n",
       "    <tr>\n",
       "      <th>1310</th>\n",
       "      <td>0.987133</td>\n",
       "      <td>0.012867</td>\n",
       "      <td>0.0</td>\n",
       "    </tr>\n",
       "    <tr>\n",
       "      <th>1311</th>\n",
       "      <td>0.199709</td>\n",
       "      <td>0.800291</td>\n",
       "      <td>1.0</td>\n",
       "    </tr>\n",
       "  </tbody>\n",
       "</table>\n",
       "<p>1312 rows × 3 columns</p>\n",
       "</div>"
      ],
      "text/plain": [
       "             0         1  target\n",
       "0     0.854807  0.145193     0.0\n",
       "1     0.851677  0.148323     0.0\n",
       "2     0.769714  0.230286     0.0\n",
       "3     0.754732  0.245268     0.0\n",
       "4     0.935207  0.064793     0.0\n",
       "...        ...       ...     ...\n",
       "1307  0.024739  0.975261     1.0\n",
       "1308  0.864579  0.135421     0.0\n",
       "1309  0.990714  0.009286     0.0\n",
       "1310  0.987133  0.012867     0.0\n",
       "1311  0.199709  0.800291     1.0\n",
       "\n",
       "[1312 rows x 3 columns]"
      ]
     },
     "execution_count": 41,
     "metadata": {},
     "output_type": "execute_result"
    }
   ],
   "source": [
    "# 각 값에 대한 추정 확률과 실제 값을 데이터 프레임으로 형성\n",
    "proba_df = pd.DataFrame(proba)\n",
    "proba_df['target'] = new_model.predict(X_test)\n",
    "proba_df"
   ]
  },
  {
   "cell_type": "code",
   "execution_count": 42,
   "metadata": {
    "ExecuteTime": {
     "end_time": "2021-05-11T15:49:09.185180Z",
     "start_time": "2021-05-11T15:49:08.939116Z"
    },
    "scrolled": false
   },
   "outputs": [
    {
     "data": {
      "image/png": "[encoded data removed]",
      "text/plain": [
       "<Figure size 720x360 with 1 Axes>"
      ]
     },
     "metadata": {},
     "output_type": "display_data"
    }
   ],
   "source": [
    "plt.scatter( range(len(proba_df[0])), proba_df[0] , label='0(부정) 판단 확률',s=10)\n",
    "plt.scatter( range(len(proba_df[1])), proba_df[1] , label='1(긍정) 판단 확률',marker='D', s=10)\n",
    "plt.legend()\n",
    "plt.title( '[Figure-2] Test데이터의 결과값 판단에 대한 확률')\n",
    "plt.show()"
   ]
  },
  {
   "cell_type": "markdown",
   "metadata": {},
   "source": [
    "### ※ CounterVectorizer는 생성한 후 fit 시키지 않고 transform\n",
    "- **NOT** fit_transform "
   ]
  },
  {
   "cell_type": "markdown",
   "metadata": {},
   "source": [
    "### ※ Tf-Idf는 학습할 때 사용한 Tf-Idf를 사용해야 한다."
   ]
  },
  {
   "cell_type": "code",
   "execution_count": 43,
   "metadata": {
    "ExecuteTime": {
     "end_time": "2021-05-11T15:49:09.198142Z",
     "start_time": "2021-05-11T15:49:09.187173Z"
    }
   },
   "outputs": [
    {
     "name": "stdout",
     "output_type": "stream",
     "text": [
      "출력 완료\n"
     ]
    }
   ],
   "source": [
    "# **저장한 tf-idf 벡터라이저 사용**\n",
    "with open('model/tfidf_vectorizer_0511.dat', 'rb') as fp:\n",
    "    new_tfidf_vectorizer = pickle.load(fp)\n",
    "print('출력 완료')"
   ]
  },
  {
   "cell_type": "code",
   "execution_count": 48,
   "metadata": {
    "ExecuteTime": {
     "end_time": "2021-05-11T16:25:40.719290Z",
     "start_time": "2021-05-11T16:25:40.698345Z"
    }
   },
   "outputs": [
    {
     "data": {
      "text/plain": [
       "array([0., 0., 0., 0., 0., 1., 0., 0., 0., 0.])"
      ]
     },
     "execution_count": 48,
     "metadata": {},
     "output_type": "execute_result"
    }
   ],
   "source": [
    "# 2. 임의의 텍스트로 예측\n",
    "test = [\n",
    "    '박영선 아웃',\n",
    "    '오세훈은 뭐냐? 무상급식 기억 안 나냐?',\n",
    "    '더불어 만진당에서 나온 후보라..',\n",
    "    '국민의 짐',\n",
    "    '성추행당은 꺼져라',\n",
    "    '오세훈 후보 지지합니다',\n",
    "    '참나',\n",
    "    '노답',\n",
    "    '누굴 뽑으라는거야',\n",
    "    '둘다 별로야'\n",
    "]\n",
    "\n",
    "# CounterVectorrizer는 다시 fit시키는 것이 아니라 transform만 시키는 것\n",
    "X = index_vectorizer.transform(test)\n",
    "\n",
    "# tf-idf는 새로 생성하는 것이 아니라 학습시킨 td-idf를 저장하여 사용하는 것\n",
    "X = new_tfidf_vectorizer.transform(X)\n",
    "\n",
    "y_pred = new_model.predict(X)\n",
    "y_pred"
   ]
  },
  {
   "cell_type": "markdown",
   "metadata": {},
   "source": [
    "## 5. 후보자의 이름이나, 정당의 이름이 들어갈 경우 "
   ]
  },
  {
   "cell_type": "code",
   "execution_count": 49,
   "metadata": {
    "ExecuteTime": {
     "end_time": "2021-05-11T16:25:45.536994Z",
     "start_time": "2021-05-11T16:25:45.524031Z"
    }
   },
   "outputs": [
    {
     "data": {
      "text/plain": [
       "array([0., 1., 0., 0., 0., 0.])"
      ]
     },
     "execution_count": 49,
     "metadata": {},
     "output_type": "execute_result"
    }
   ],
   "source": [
    "test2 = [\n",
    "    '박영선',\n",
    "    '오세훈',\n",
    "    '김영춘',\n",
    "    '박형준',\n",
    "    '더불어 민주당',\n",
    "    '국민의 힘',\n",
    "]\n",
    "\n",
    "# CounterVectorizer & Tf-Idf\n",
    "X = index_vectorizer.transform(test2)\n",
    "X = new_tfidf_vectorizer.transform(X)\n",
    "\n",
    "# 긍정/부정 예측 결과\n",
    "new_model.predict(X)"
   ]
  },
  {
   "cell_type": "code",
   "execution_count": 50,
   "metadata": {
    "ExecuteTime": {
     "end_time": "2021-05-11T16:25:46.114036Z",
     "start_time": "2021-05-11T16:25:45.984320Z"
    },
    "scrolled": true
   },
   "outputs": [
    {
     "data": {
      "image/png": "[encoded data removed]",
      "text/plain": [
       "<Figure size 720x360 with 1 Axes>"
      ]
     },
     "metadata": {},
     "output_type": "display_data"
    }
   ],
   "source": [
    "# 추정 확률 알아보기\n",
    "proba_0 = new_model.predict_proba(X)[:,0]\n",
    "proba_1 = new_model.predict_proba(X)[:,1]\n",
    "\n",
    "plt.scatter( test2, proba_0 , label='Negative(0) Proba')\n",
    "plt.scatter( test2, proba_1 , label='Positive(1) Proba')\n",
    "\n",
    "for idx, val in zip(test2, proba_0):\n",
    "    plt.text(idx, val, f'{round(val,3)}' )    \n",
    "for idx, val in zip(test2, proba_1):\n",
    "    plt.text(idx, val, f'{round(val,3)}' )    \n",
    "plt.title('[Figure-3] 각 후보이름, 정당명에 대한 긍정/부정 추정확률')\n",
    "plt.legend()\n",
    "plt.show()"
   ]
  },
  {
   "cell_type": "markdown",
   "metadata": {},
   "source": [
    "- 위 모델은 **여당**과 **여당의 후보**가 글에 포함될 경우 **부정**으로 판단함을 알 수 있음\n",
    "    - 보수 언론의 데이터가 많아서 이러한 도출 되었거나\n",
    "    - 실제 여론을 반영한 결과라고 해석할 수 있다.\n",
    "- 기존 모델과 차이점은 박형준 후보 역시 부정적으로 평가한다는 것"
   ]
  },
  {
   "cell_type": "markdown",
   "metadata": {},
   "source": [
    "## 6. 후보자별 긍정률 예측"
   ]
  },
  {
   "cell_type": "code",
   "execution_count": 51,
   "metadata": {
    "ExecuteTime": {
     "end_time": "2021-05-11T16:26:00.404514Z",
     "start_time": "2021-05-11T16:26:00.399528Z"
    }
   },
   "outputs": [
    {
     "name": "stdout",
     "output_type": "stream",
     "text": [
      "출력 완료\n"
     ]
    }
   ],
   "source": [
    "# 감성분석 모델 불러오기\n",
    "with open('model/전처리 데이터 사용한 모델/sentiment_analysis_Model1.dat', 'rb') as fp:\n",
    "    new_model = pickle.load(fp)\n",
    "print('출력 완료')"
   ]
  },
  {
   "cell_type": "code",
   "execution_count": 52,
   "metadata": {
    "ExecuteTime": {
     "end_time": "2021-05-11T16:26:04.687422Z",
     "start_time": "2021-05-11T16:26:04.682364Z"
    }
   },
   "outputs": [
    {
     "name": "stdout",
     "output_type": "stream",
     "text": [
      "출력 완료\n"
     ]
    }
   ],
   "source": [
    "# Tf-Idf Vectorizer 불러오기\n",
    "with open('model/전처리 데이터 사용한 모델/tfidf_vectorizer_0511.dat', 'rb') as fp:\n",
    "    new_tfidf_vectorizer = pickle.load(fp)\n",
    "print('출력 완료')"
   ]
  },
  {
   "cell_type": "markdown",
   "metadata": {},
   "source": [
    "### 모델2로 예측한 후보자 데이터"
   ]
  },
  {
   "cell_type": "code",
   "execution_count": 53,
   "metadata": {
    "ExecuteTime": {
     "end_time": "2021-05-11T16:26:20.200220Z",
     "start_time": "2021-05-11T16:26:19.577451Z"
    },
    "collapsed": true
   },
   "outputs": [
    {
     "data": {
      "text/html": [
       "<div>\n",
       "<style scoped>\n",
       "    .dataframe tbody tr th:only-of-type {\n",
       "        vertical-align: middle;\n",
       "    }\n",
       "\n",
       "    .dataframe tbody tr th {\n",
       "        vertical-align: top;\n",
       "    }\n",
       "\n",
       "    .dataframe thead th {\n",
       "        text-align: right;\n",
       "    }\n",
       "</style>\n",
       "<table border=\"1\" class=\"dataframe\">\n",
       "  <thead>\n",
       "    <tr style=\"text-align: right;\">\n",
       "      <th></th>\n",
       "      <th>area</th>\n",
       "      <th>candidate</th>\n",
       "      <th>candidate_eval</th>\n",
       "      <th>party</th>\n",
       "      <th>party_eval</th>\n",
       "      <th>title_comment</th>\n",
       "      <th>area_candidate</th>\n",
       "    </tr>\n",
       "  </thead>\n",
       "  <tbody>\n",
       "    <tr>\n",
       "      <th>0</th>\n",
       "      <td>NaN</td>\n",
       "      <td>NaN</td>\n",
       "      <td>NaN</td>\n",
       "      <td>NaN</td>\n",
       "      <td>NaN</td>\n",
       "      <td>재보궐  부산 김영춘  박형준 서울도 양자 대결 철수야 뜸 들이지 말고 애국하는 마...</td>\n",
       "      <td>오세훈</td>\n",
       "    </tr>\n",
       "    <tr>\n",
       "      <th>1</th>\n",
       "      <td>1.0</td>\n",
       "      <td>1.0</td>\n",
       "      <td>0.0</td>\n",
       "      <td>NaN</td>\n",
       "      <td>NaN</td>\n",
       "      <td>재보궐  부산 김영춘  박형준 서울도 양자 대결 박영선은 정동영이 얻은  프로 선에...</td>\n",
       "      <td>박영선</td>\n",
       "    </tr>\n",
       "    <tr>\n",
       "      <th>2</th>\n",
       "      <td>1.0</td>\n",
       "      <td>1.0</td>\n",
       "      <td>0.0</td>\n",
       "      <td>NaN</td>\n",
       "      <td>NaN</td>\n",
       "      <td>재보궐  부산 김영춘  박형준 서울도 양자 대결 빵 산 이가 서울시장 되면 서울은 ...</td>\n",
       "      <td>박영선</td>\n",
       "    </tr>\n",
       "    <tr>\n",
       "      <th>3</th>\n",
       "      <td>1.0</td>\n",
       "      <td>1.0</td>\n",
       "      <td>0.0</td>\n",
       "      <td>1.0</td>\n",
       "      <td>0.0</td>\n",
       "      <td>재보궐  부산 김영춘  박형준 서울도 양자 대결 서울시장 후보 더 든 대치어 없음 ...</td>\n",
       "      <td>박영선</td>\n",
       "    </tr>\n",
       "    <tr>\n",
       "      <th>4</th>\n",
       "      <td>2.0</td>\n",
       "      <td>NaN</td>\n",
       "      <td>NaN</td>\n",
       "      <td>1.0</td>\n",
       "      <td>0.0</td>\n",
       "      <td>재보궐  부산 김영춘  박형준 서울도 양자 대결 부산은 오거돈 선거이고 오거돈 치부...</td>\n",
       "      <td>박영선</td>\n",
       "    </tr>\n",
       "    <tr>\n",
       "      <th>...</th>\n",
       "      <td>...</td>\n",
       "      <td>...</td>\n",
       "      <td>...</td>\n",
       "      <td>...</td>\n",
       "      <td>...</td>\n",
       "      <td>...</td>\n",
       "      <td>...</td>\n",
       "    </tr>\n",
       "    <tr>\n",
       "      <th>144134</th>\n",
       "      <td>NaN</td>\n",
       "      <td>NaN</td>\n",
       "      <td>NaN</td>\n",
       "      <td>NaN</td>\n",
       "      <td>NaN</td>\n",
       "      <td>논설위원의 단도직입한 일해져 터널 경제성 없지만 동북아 경제권 차원서 장기 검토해야...</td>\n",
       "      <td>오세훈</td>\n",
       "    </tr>\n",
       "    <tr>\n",
       "      <th>144135</th>\n",
       "      <td>NaN</td>\n",
       "      <td>NaN</td>\n",
       "      <td>NaN</td>\n",
       "      <td>NaN</td>\n",
       "      <td>NaN</td>\n",
       "      <td>논설위원의 단도직입한 일해져 터널 경제성 없지만 동북아 경제권 차원서 장기 검토해야...</td>\n",
       "      <td>오세훈</td>\n",
       "    </tr>\n",
       "    <tr>\n",
       "      <th>144136</th>\n",
       "      <td>NaN</td>\n",
       "      <td>NaN</td>\n",
       "      <td>NaN</td>\n",
       "      <td>NaN</td>\n",
       "      <td>NaN</td>\n",
       "      <td>논설위원의 단도 직입한 일해저 터널 경제성 없지만 동북아 경제권 차원서 장기 검토해...</td>\n",
       "      <td>오세훈</td>\n",
       "    </tr>\n",
       "    <tr>\n",
       "      <th>144137</th>\n",
       "      <td>NaN</td>\n",
       "      <td>NaN</td>\n",
       "      <td>NaN</td>\n",
       "      <td>NaN</td>\n",
       "      <td>NaN</td>\n",
       "      <td>논설위원의 단도 직입한 일해저 터널 경제성 없지만 동북아 경제권 차원서 장기 검토해...</td>\n",
       "      <td>오세훈</td>\n",
       "    </tr>\n",
       "    <tr>\n",
       "      <th>144138</th>\n",
       "      <td>NaN</td>\n",
       "      <td>NaN</td>\n",
       "      <td>NaN</td>\n",
       "      <td>NaN</td>\n",
       "      <td>NaN</td>\n",
       "      <td>논설위원의 단도직입한 일해져 터널 경제성 없지만 동북아 경제권 차원서 장기 검토해야...</td>\n",
       "      <td>오세훈</td>\n",
       "    </tr>\n",
       "  </tbody>\n",
       "</table>\n",
       "<p>144139 rows × 7 columns</p>\n",
       "</div>"
      ],
      "text/plain": [
       "        area  candidate  candidate_eval  party  party_eval  \\\n",
       "0        NaN        NaN             NaN    NaN         NaN   \n",
       "1        1.0        1.0             0.0    NaN         NaN   \n",
       "2        1.0        1.0             0.0    NaN         NaN   \n",
       "3        1.0        1.0             0.0    1.0         0.0   \n",
       "4        2.0        NaN             NaN    1.0         0.0   \n",
       "...      ...        ...             ...    ...         ...   \n",
       "144134   NaN        NaN             NaN    NaN         NaN   \n",
       "144135   NaN        NaN             NaN    NaN         NaN   \n",
       "144136   NaN        NaN             NaN    NaN         NaN   \n",
       "144137   NaN        NaN             NaN    NaN         NaN   \n",
       "144138   NaN        NaN             NaN    NaN         NaN   \n",
       "\n",
       "                                            title_comment area_candidate  \n",
       "0       재보궐  부산 김영춘  박형준 서울도 양자 대결 철수야 뜸 들이지 말고 애국하는 마...            오세훈  \n",
       "1       재보궐  부산 김영춘  박형준 서울도 양자 대결 박영선은 정동영이 얻은  프로 선에...            박영선  \n",
       "2       재보궐  부산 김영춘  박형준 서울도 양자 대결 빵 산 이가 서울시장 되면 서울은 ...            박영선  \n",
       "3       재보궐  부산 김영춘  박형준 서울도 양자 대결 서울시장 후보 더 든 대치어 없음 ...            박영선  \n",
       "4       재보궐  부산 김영춘  박형준 서울도 양자 대결 부산은 오거돈 선거이고 오거돈 치부...            박영선  \n",
       "...                                                   ...            ...  \n",
       "144134  논설위원의 단도직입한 일해져 터널 경제성 없지만 동북아 경제권 차원서 장기 검토해야...            오세훈  \n",
       "144135  논설위원의 단도직입한 일해져 터널 경제성 없지만 동북아 경제권 차원서 장기 검토해야...            오세훈  \n",
       "144136  논설위원의 단도 직입한 일해저 터널 경제성 없지만 동북아 경제권 차원서 장기 검토해...            오세훈  \n",
       "144137  논설위원의 단도 직입한 일해저 터널 경제성 없지만 동북아 경제권 차원서 장기 검토해...            오세훈  \n",
       "144138  논설위원의 단도직입한 일해져 터널 경제성 없지만 동북아 경제권 차원서 장기 검토해야...            오세훈  \n",
       "\n",
       "[144139 rows x 7 columns]"
      ]
     },
     "execution_count": 53,
     "metadata": {},
     "output_type": "execute_result"
    }
   ],
   "source": [
    "df_byModel2 = pd.read_csv('./data/prediction_byModel2/data_byModel2_0512_0054.csv', index_col=0)\n",
    "df_byModel2"
   ]
  },
  {
   "cell_type": "code",
   "execution_count": 58,
   "metadata": {
    "ExecuteTime": {
     "end_time": "2021-05-11T16:27:11.885045Z",
     "start_time": "2021-05-11T16:27:11.853307Z"
    }
   },
   "outputs": [
    {
     "data": {
      "text/plain": [
       "7"
      ]
     },
     "execution_count": 58,
     "metadata": {},
     "output_type": "execute_result"
    }
   ],
   "source": [
    "df['pre_title_comment'].isnull().sum()"
   ]
  },
  {
   "cell_type": "code",
   "execution_count": 60,
   "metadata": {
    "ExecuteTime": {
     "end_time": "2021-05-11T16:28:08.468900Z",
     "start_time": "2021-05-11T16:28:08.449188Z"
    }
   },
   "outputs": [],
   "source": [
    "total_X = df_byModel2['title_comment']\n",
    "total_X = total_X.dropna()"
   ]
  },
  {
   "cell_type": "code",
   "execution_count": 61,
   "metadata": {
    "ExecuteTime": {
     "end_time": "2021-05-11T16:37:15.381003Z",
     "start_time": "2021-05-11T16:28:10.716289Z"
    }
   },
   "outputs": [
    {
     "data": {
      "text/plain": [
       "array([0., 0., 0., ..., 0., 0., 1.])"
      ]
     },
     "execution_count": 61,
     "metadata": {},
     "output_type": "execute_result"
    }
   ],
   "source": [
    "# CounterVectorrizer는 다시 fit시키는 것이 아니라 transform만 시키는 것\n",
    "X = index_vectorizer.transform(total_X.to_list())\n",
    "\n",
    "# tf-idf는 새로 생성하는 것이 아니라 학습시킨 td-idf를 저장하여 사용하는 것\n",
    "X = new_tfidf_vectorizer.transform(X)\n",
    "\n",
    "y_pred = new_model.predict(X)\n",
    "y_pred"
   ]
  },
  {
   "cell_type": "code",
   "execution_count": 62,
   "metadata": {
    "ExecuteTime": {
     "end_time": "2021-05-11T16:37:16.044488Z",
     "start_time": "2021-05-11T16:37:16.040499Z"
    },
    "scrolled": true
   },
   "outputs": [
    {
     "data": {
      "text/plain": [
       "array([0., 0., 0., ..., 0., 0., 1.])"
      ]
     },
     "execution_count": 62,
     "metadata": {},
     "output_type": "execute_result"
    }
   ],
   "source": [
    "y_pred"
   ]
  },
  {
   "cell_type": "markdown",
   "metadata": {},
   "source": [
    "### 후보별 예측 긍정/부정률 확인하기"
   ]
  },
  {
   "cell_type": "code",
   "execution_count": 64,
   "metadata": {
    "ExecuteTime": {
     "end_time": "2021-05-11T16:37:53.480215Z",
     "start_time": "2021-05-11T16:37:53.436328Z"
    }
   },
   "outputs": [],
   "source": [
    "pre_idx = df_byModel2[ df_byModel2['title_comment'].notnull() ].index\n",
    "target_df = df_byModel2[['title_comment','area_candidate']].iloc[pre_idx]\n",
    "target_df['pred_sentiment'] = y_pred"
   ]
  },
  {
   "cell_type": "code",
   "execution_count": 65,
   "metadata": {
    "ExecuteTime": {
     "end_time": "2021-05-11T16:37:55.051290Z",
     "start_time": "2021-05-11T16:37:55.028352Z"
    }
   },
   "outputs": [
    {
     "data": {
      "text/plain": [
       "area_candidate\n",
       "박영선    0.042487\n",
       "오세훈    0.031592\n",
       "김영춘    0.040816\n",
       "박형준    0.046575\n",
       "Name: pred_sentiment, dtype: float64"
      ]
     },
     "execution_count": 65,
     "metadata": {},
     "output_type": "execute_result"
    }
   ],
   "source": [
    "a = target_df.groupby('area_candidate').mean().loc[['박영선','오세훈','김영춘','박형준']]\n",
    "a['pred_sentiment']"
   ]
  },
  {
   "cell_type": "code",
   "execution_count": 66,
   "metadata": {
    "ExecuteTime": {
     "end_time": "2021-05-11T16:37:55.831809Z",
     "start_time": "2021-05-11T16:37:55.734406Z"
    },
    "scrolled": false
   },
   "outputs": [
    {
     "data": {
      "image/png": "[encoded data removed]",
      "text/plain": [
       "<Figure size 720x360 with 1 Axes>"
      ]
     },
     "metadata": {},
     "output_type": "display_data"
    }
   ],
   "source": [
    "a['pred_sentiment'].plot(kind='bar', color=['b','r','b','r'], alpha=0.7)\n",
    "plt.title('[Figure] 후보별 예측 평균 긍정률')\n",
    "plt.show()"
   ]
  },
  {
   "cell_type": "markdown",
   "metadata": {},
   "source": [
    "## 7. 부정단어 추출\n",
    "- 6번 결과가 이상해서 안 함"
   ]
  },
  {
   "cell_type": "code",
   "execution_count": null,
   "metadata": {
    "ExecuteTime": {
     "end_time": "2021-05-11T15:49:09.569149Z",
     "start_time": "2021-05-11T15:41:45.821Z"
    }
   },
   "outputs": [],
   "source": [
    "# (단어인덱스, 회귀 계수) 형태로 만들기\n",
    "tmp = list(enumerate(new_model.coef_[0]))\n",
    "# display(tmp)"
   ]
  },
  {
   "cell_type": "code",
   "execution_count": null,
   "metadata": {
    "ExecuteTime": {
     "end_time": "2021-05-11T15:49:09.570146Z",
     "start_time": "2021-05-11T15:41:45.823Z"
    }
   },
   "outputs": [],
   "source": [
    "# (회귀계수, 인덱스) 형태인 튜플 생성\n",
    "tmp2 = ( (value, index) for index, value in tmp)\n",
    "tmp2"
   ]
  },
  {
   "cell_type": "code",
   "execution_count": null,
   "metadata": {
    "ExecuteTime": {
     "end_time": "2021-05-11T15:49:09.571144Z",
     "start_time": "2021-05-11T15:41:45.824Z"
    }
   },
   "outputs": [],
   "source": [
    "# 오름차순 정렬: 회귀계수가 가장 높은 것부터 출력\n",
    "coef_pos_index = sorted(tmp2, reverse=True) \n",
    "# coef_pos_index # 결과적으로 중요도 나타냄"
   ]
  },
  {
   "cell_type": "markdown",
   "metadata": {},
   "source": [
    "## 긍정/부정 단어 확인\n",
    "- 단어 사전 변형하기\n",
    "    - { 단어: 단어 인덱스}에서 { 단어 인덱스: 단어 } 형태로 변형\n",
    "- 긍정 단어 20개, 부정 단어 20개 파악"
   ]
  },
  {
   "cell_type": "code",
   "execution_count": null,
   "metadata": {
    "ExecuteTime": {
     "end_time": "2021-05-11T15:49:09.572141Z",
     "start_time": "2021-05-11T15:41:45.827Z"
    }
   },
   "outputs": [],
   "source": [
    "index_vectorizer.vocabulary_ # {단어: 인덱스, ...} 딕셔너리\n",
    "index_vectorizer.vocabulary_.items() #  [ (단어: 인덱스), ..] 형태\n",
    "\n",
    "# 단어 사전\n",
    "word_dict={}\n",
    "\n",
    "for pos, index in index_vectorizer.vocabulary_.items():\n",
    "    # print(pos)\n",
    "    word_dict[index] = pos\n",
    "    \n",
    "word_dict"
   ]
  },
  {
   "cell_type": "code",
   "execution_count": null,
   "metadata": {
    "ExecuteTime": {
     "end_time": "2021-05-11T15:49:09.573143Z",
     "start_time": "2021-05-11T15:41:45.829Z"
    }
   },
   "outputs": [],
   "source": [
    "coef_pos_text = []\n",
    "\n",
    "for value, index in coef_pos_index:\n",
    "    # 각 인덱스에 해당하는 실제 단어 확인\n",
    "    # print(word_dict[index])\n",
    "    # print(value) # 회귀계수\n",
    "    coef_pos_text.append( ( value, word_dict[index]) )\n",
    "    \n",
    "coef_pos_text"
   ]
  },
  {
   "cell_type": "code",
   "execution_count": null,
   "metadata": {
    "ExecuteTime": {
     "end_time": "2021-05-11T15:49:09.575135Z",
     "start_time": "2021-05-11T15:41:45.830Z"
    }
   },
   "outputs": [],
   "source": [
    "# 회귀 계수가 높은 순으로 형용사들을 리스트에 담는다.\n",
    "adj_list_by_coef = []\n",
    "for i in coef_pos_text:\n",
    "    if i[1].split('/')[1] == 'Adjective':\n",
    "        adj_list_by_coef.append((float(i[0]),i[1].split('/')[0]))"
   ]
  },
  {
   "cell_type": "code",
   "execution_count": null,
   "metadata": {
    "ExecuteTime": {
     "end_time": "2021-05-11T15:49:09.576132Z",
     "start_time": "2021-05-11T15:41:45.832Z"
    }
   },
   "outputs": [],
   "source": [
    "# 긍정 판단에 영향을 주는 형용사 top 50\n",
    "np.array(adj_list_by_coef[:50])[:,1]\n",
    "\n",
    "plt.bar( np.array(adj_list_by_coef[:50])[:,1],\n",
    "         np.array(adj_list_by_coef[:50])[:,0].astype(float))\n",
    "plt.xticks(rotation=90)\n",
    "plt.show()"
   ]
  },
  {
   "cell_type": "code",
   "execution_count": null,
   "metadata": {
    "ExecuteTime": {
     "end_time": "2021-05-11T15:49:09.577128Z",
     "start_time": "2021-05-11T15:41:45.834Z"
    }
   },
   "outputs": [],
   "source": [
    "# 부정 판단에 영향을 주는 형용사 top 50\n",
    "np.array(adj_list_by_coef[-50:])[:,1]\n",
    "\n",
    "plt.bar( np.array(adj_list_by_coef[-50:])[:,1],\n",
    "         np.array(adj_list_by_coef[-50:])[:,0].astype(float))\n",
    "plt.xticks(rotation=90)\n",
    "plt.show()"
   ]
  },
  {
   "cell_type": "code",
   "execution_count": null,
   "metadata": {
    "ExecuteTime": {
     "end_time": "2021-05-11T15:49:09.578126Z",
     "start_time": "2021-05-11T15:41:45.836Z"
    }
   },
   "outputs": [],
   "source": [
    "adj_list_by_coef\n",
    "\n",
    "import pickle\n",
    "\n",
    "# 리스트를 저장\n",
    "with open('data/0409/adj_list_by_model1_0409.pickle', 'wb') as f:\n",
    "    pickle.dump(adj_list_by_coef, f, pickle.HIGHEST_PROTOCOL)"
   ]
  },
  {
   "cell_type": "code",
   "execution_count": null,
   "metadata": {},
   "outputs": [],
   "source": []
  },
  {
   "cell_type": "code",
   "execution_count": null,
   "metadata": {},
   "outputs": [],
   "source": []
  }
 ],
 "metadata": {
  "hide_input": false,
  "kernelspec": {
   "display_name": "Python 3",
   "language": "python",
   "name": "python3"
  },
  "language_info": {
   "codemirror_mode": {
    "name": "ipython",
    "version": 3
   },
   "file_extension": ".py",
   "mimetype": "text/x-python",
   "name": "python",
   "nbconvert_exporter": "python",
   "pygments_lexer": "ipython3",
   "version": "3.7.6"
  },
  "toc": {
   "base_numbering": 1,
   "nav_menu": {},
   "number_sections": false,
   "sideBar": true,
   "skip_h1_title": false,
   "title_cell": "Table of Contents",
   "title_sidebar": "Contents",
   "toc_cell": false,
   "toc_position": {
    "height": "calc(100% - 180px)",
    "left": "10px",
    "top": "150px",
    "width": "165px"
   },
   "toc_section_display": true,
   "toc_window_display": true
  },
  "varInspector": {
   "cols": {
    "lenName": 16,
    "lenType": 16,
    "lenVar": 40
   },
   "kernels_config": {
    "python": {
     "delete_cmd_postfix": "",
     "delete_cmd_prefix": "del ",
     "library": "var_list.py",
     "varRefreshCmd": "print(var_dic_list())"
    },
    "r": {
     "delete_cmd_postfix": ") ",
     "delete_cmd_prefix": "rm(",
     "library": "var_list.r",
     "varRefreshCmd": "cat(var_dic_list()) "
    }
   },
   "types_to_exclude": [
    "module",
    "function",
    "builtin_function_or_method",
    "instance",
    "_Feature"
   ],
   "window_display": false
  }
 },
 "nbformat": 4,
 "nbformat_minor": 4
}
