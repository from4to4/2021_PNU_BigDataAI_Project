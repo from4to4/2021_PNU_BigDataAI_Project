{
 "cells": [
  {
   "cell_type": "code",
   "execution_count": 3,
   "metadata": {},
   "outputs": [
    {
     "data": {
      "text/html": "<div>\n<style scoped>\n    .dataframe tbody tr th:only-of-type {\n        vertical-align: middle;\n    }\n\n    .dataframe tbody tr th {\n        vertical-align: top;\n    }\n\n    .dataframe thead th {\n        text-align: right;\n    }\n</style>\n<table border=\"1\" class=\"dataframe\">\n  <thead>\n    <tr style=\"text-align: right;\">\n      <th></th>\n      <th>제목</th>\n      <th>날짜</th>\n      <th>작성일</th>\n      <th>댓글</th>\n      <th>출처</th>\n      <th>지역(서울:1, 부산:2)</th>\n      <th>정당(1:더불어민주당,2:국민의힘)</th>\n      <th>정당평가(부정;0, 긍정:1)</th>\n      <th>후보(기호 순)</th>\n      <th>후보평가(부정;0, 긍정:1)</th>\n      <th>제목댓글</th>\n    </tr>\n  </thead>\n  <tbody>\n    <tr>\n      <th>0</th>\n      <td>[재보궐 D-31] 부산 김영춘 vs 박형준, 서울도 양자 대결?</td>\n      <td>2021-03-07 05:57:00</td>\n      <td>2021-03-12 19:13:00</td>\n      <td>철수야! 뜸 들이지 말고 애국하는 마음으로 물러서라~~~</td>\n      <td>조선일보</td>\n      <td>NaN</td>\n      <td>NaN</td>\n      <td>NaN</td>\n      <td>NaN</td>\n      <td>NaN</td>\n      <td>[재보궐 D-31] 부산 김영춘 vs 박형준, 서울도 양자 대결? 철수야! 뜸 들이...</td>\n    </tr>\n    <tr>\n      <th>1</th>\n      <td>[재보궐 D-31] 부산 김영춘 vs 박형준, 서울도 양자 대결?</td>\n      <td>2021-03-07 05:57:00</td>\n      <td>2021-03-09 13:49:00</td>\n      <td>박영선은 정동영이 얻은 36프로선에 머무를것. 4.7.이후 OOO정권은 몰락의 길 ...</td>\n      <td>조선일보</td>\n      <td>1.0</td>\n      <td>NaN</td>\n      <td>NaN</td>\n      <td>1.0</td>\n      <td>0.0</td>\n      <td>[재보궐 D-31] 부산 김영춘 vs 박형준, 서울도 양자 대결? 박영선은 정동영이...</td>\n    </tr>\n    <tr>\n      <th>2</th>\n      <td>[재보궐 D-31] 부산 김영춘 vs 박형준, 서울도 양자 대결?</td>\n      <td>2021-03-07 05:57:00</td>\n      <td>2021-03-07 14:42:00</td>\n      <td>빵선이가서울시장되면서울은공산국가수도제2의평양이될것이다</td>\n      <td>조선일보</td>\n      <td>1.0</td>\n      <td>NaN</td>\n      <td>NaN</td>\n      <td>1.0</td>\n      <td>0.0</td>\n      <td>[재보궐 D-31] 부산 김영춘 vs 박형준, 서울도 양자 대결? 빵선이가서울시장되...</td>\n    </tr>\n    <tr>\n      <th>3</th>\n      <td>[재보궐 D-31] 부산 김영춘 vs 박형준, 서울도 양자 대결?</td>\n      <td>2021-03-07 05:57:00</td>\n      <td>2021-03-07 14:38:00</td>\n      <td>서울시장후보더듬당박빵선이는절대로서울시장을할수없다이유는가족은미국.영국에 영주권자이므로...</td>\n      <td>조선일보</td>\n      <td>1.0</td>\n      <td>1.0</td>\n      <td>0.0</td>\n      <td>1.0</td>\n      <td>0.0</td>\n      <td>[재보궐 D-31] 부산 김영춘 vs 박형준, 서울도 양자 대결? 서울시장후보더듬당...</td>\n    </tr>\n    <tr>\n      <th>4</th>\n      <td>[재보궐 D-31] 부산 김영춘 vs 박형준, 서울도 양자 대결?</td>\n      <td>2021-03-07 05:57:00</td>\n      <td>2021-03-07 14:02:00</td>\n      <td>부산은오거돈선거이고 오거돈치부선거아닌가 오거돈에 성추해으로 생긴선거가 가독도신공항은...</td>\n      <td>조선일보</td>\n      <td>2.0</td>\n      <td>1.0</td>\n      <td>0.0</td>\n      <td>NaN</td>\n      <td>NaN</td>\n      <td>[재보궐 D-31] 부산 김영춘 vs 박형준, 서울도 양자 대결? 부산은오거돈선거이...</td>\n    </tr>\n    <tr>\n      <th>...</th>\n      <td>...</td>\n      <td>...</td>\n      <td>...</td>\n      <td>...</td>\n      <td>...</td>\n      <td>...</td>\n      <td>...</td>\n      <td>...</td>\n      <td>...</td>\n      <td>...</td>\n      <td>...</td>\n    </tr>\n    <tr>\n      <th>144134</th>\n      <td>[논설위원의 단도직입]“한·일해저터널 경제성 없지만…동북아 경제권 차원서 장기 검토해야”</td>\n      <td>2021-04-06 21:56:00</td>\n      <td>2021-04-06 22:47:00</td>\n      <td>국민의힘 찍지 말라고 이 뉴스가 나온거임\\n내냔에 국민의힘 찍을라 했드만 망했다 친...</td>\n      <td>경향신문</td>\n      <td>NaN</td>\n      <td>NaN</td>\n      <td>NaN</td>\n      <td>NaN</td>\n      <td>NaN</td>\n      <td>[논설위원의 단도직입]“한·일해저터널 경제성 없지만…동북아 경제권 차원서 장기 검토...</td>\n    </tr>\n    <tr>\n      <th>144135</th>\n      <td>[논설위원의 단도직입]“한·일해저터널 경제성 없지만…동북아 경제권 차원서 장기 검토해야”</td>\n      <td>2021-04-06 21:56:00</td>\n      <td>2021-04-06 22:41:00</td>\n      <td>굳이 일본과 해저터널 해야되는 이유가 없은이유\\n-일본은고속도로비가 비싸다\\n차라니...</td>\n      <td>경향신문</td>\n      <td>NaN</td>\n      <td>NaN</td>\n      <td>NaN</td>\n      <td>NaN</td>\n      <td>NaN</td>\n      <td>[논설위원의 단도직입]“한·일해저터널 경제성 없지만…동북아 경제권 차원서 장기 검토...</td>\n    </tr>\n    <tr>\n      <th>144136</th>\n      <td>[논설위원의 단도직입]“한·일해저터널 경제성 없지만…동북아 경제권 차원서 장기 검토해야”</td>\n      <td>2021-04-06 21:56:00</td>\n      <td>2021-04-06 22:38:00</td>\n      <td>도랏구나. 열도는 걍 갈라파고스로 남겨 둬라. 재난 난민 넘어 오면 귀찮다.</td>\n      <td>경향신문</td>\n      <td>NaN</td>\n      <td>NaN</td>\n      <td>NaN</td>\n      <td>NaN</td>\n      <td>NaN</td>\n      <td>[논설위원의 단도직입]“한·일해저터널 경제성 없지만…동북아 경제권 차원서 장기 검토...</td>\n    </tr>\n    <tr>\n      <th>144137</th>\n      <td>[논설위원의 단도직입]“한·일해저터널 경제성 없지만…동북아 경제권 차원서 장기 검토해야”</td>\n      <td>2021-04-06 21:56:00</td>\n      <td>2021-04-06 22:32:00</td>\n      <td>이걸 왜 하지? 우리한테 아무런 의미가 없는데</td>\n      <td>경향신문</td>\n      <td>NaN</td>\n      <td>NaN</td>\n      <td>NaN</td>\n      <td>NaN</td>\n      <td>NaN</td>\n      <td>[논설위원의 단도직입]“한·일해저터널 경제성 없지만…동북아 경제권 차원서 장기 검토...</td>\n    </tr>\n    <tr>\n      <th>144138</th>\n      <td>[논설위원의 단도직입]“한·일해저터널 경제성 없지만…동북아 경제권 차원서 장기 검토해야”</td>\n      <td>2021-04-06 21:56:00</td>\n      <td>2021-04-06 22:26:00</td>\n      <td>우리에겐 아무런 도움이 되지 않는 것을 일본에게는 엄청난 기회가 되는 것을 왜 굳이...</td>\n      <td>경향신문</td>\n      <td>NaN</td>\n      <td>NaN</td>\n      <td>NaN</td>\n      <td>NaN</td>\n      <td>NaN</td>\n      <td>[논설위원의 단도직입]“한·일해저터널 경제성 없지만…동북아 경제권 차원서 장기 검토...</td>\n    </tr>\n  </tbody>\n</table>\n<p>144139 rows × 11 columns</p>\n</div>",
      "text/plain": "                                                       제목  \\\n0                    [재보궐 D-31] 부산 김영춘 vs 박형준, 서울도 양자 대결?   \n1                    [재보궐 D-31] 부산 김영춘 vs 박형준, 서울도 양자 대결?   \n2                    [재보궐 D-31] 부산 김영춘 vs 박형준, 서울도 양자 대결?   \n3                    [재보궐 D-31] 부산 김영춘 vs 박형준, 서울도 양자 대결?   \n4                    [재보궐 D-31] 부산 김영춘 vs 박형준, 서울도 양자 대결?   \n...                                                   ...   \n144134  [논설위원의 단도직입]“한·일해저터널 경제성 없지만…동북아 경제권 차원서 장기 검토해야”   \n144135  [논설위원의 단도직입]“한·일해저터널 경제성 없지만…동북아 경제권 차원서 장기 검토해야”   \n144136  [논설위원의 단도직입]“한·일해저터널 경제성 없지만…동북아 경제권 차원서 장기 검토해야”   \n144137  [논설위원의 단도직입]“한·일해저터널 경제성 없지만…동북아 경제권 차원서 장기 검토해야”   \n144138  [논설위원의 단도직입]“한·일해저터널 경제성 없지만…동북아 경제권 차원서 장기 검토해야”   \n\n                         날짜                  작성일  \\\n0       2021-03-07 05:57:00  2021-03-12 19:13:00   \n1       2021-03-07 05:57:00  2021-03-09 13:49:00   \n2       2021-03-07 05:57:00  2021-03-07 14:42:00   \n3       2021-03-07 05:57:00  2021-03-07 14:38:00   \n4       2021-03-07 05:57:00  2021-03-07 14:02:00   \n...                     ...                  ...   \n144134  2021-04-06 21:56:00  2021-04-06 22:47:00   \n144135  2021-04-06 21:56:00  2021-04-06 22:41:00   \n144136  2021-04-06 21:56:00  2021-04-06 22:38:00   \n144137  2021-04-06 21:56:00  2021-04-06 22:32:00   \n144138  2021-04-06 21:56:00  2021-04-06 22:26:00   \n\n                                                       댓글    출처  \\\n0                         철수야! 뜸 들이지 말고 애국하는 마음으로 물러서라~~~  조선일보   \n1       박영선은 정동영이 얻은 36프로선에 머무를것. 4.7.이후 OOO정권은 몰락의 길 ...  조선일보   \n2                           빵선이가서울시장되면서울은공산국가수도제2의평양이될것이다  조선일보   \n3       서울시장후보더듬당박빵선이는절대로서울시장을할수없다이유는가족은미국.영국에 영주권자이므로...  조선일보   \n4       부산은오거돈선거이고 오거돈치부선거아닌가 오거돈에 성추해으로 생긴선거가 가독도신공항은...  조선일보   \n...                                                   ...   ...   \n144134  국민의힘 찍지 말라고 이 뉴스가 나온거임\\n내냔에 국민의힘 찍을라 했드만 망했다 친...  경향신문   \n144135  굳이 일본과 해저터널 해야되는 이유가 없은이유\\n-일본은고속도로비가 비싸다\\n차라니...  경향신문   \n144136         도랏구나. 열도는 걍 갈라파고스로 남겨 둬라. 재난 난민 넘어 오면 귀찮다.  경향신문   \n144137                          이걸 왜 하지? 우리한테 아무런 의미가 없는데  경향신문   \n144138  우리에겐 아무런 도움이 되지 않는 것을 일본에게는 엄청난 기회가 되는 것을 왜 굳이...  경향신문   \n\n        지역(서울:1, 부산:2)  정당(1:더불어민주당,2:국민의힘)  정당평가(부정;0, 긍정:1)  후보(기호 순)  \\\n0                  NaN                  NaN               NaN       NaN   \n1                  1.0                  NaN               NaN       1.0   \n2                  1.0                  NaN               NaN       1.0   \n3                  1.0                  1.0               0.0       1.0   \n4                  2.0                  1.0               0.0       NaN   \n...                ...                  ...               ...       ...   \n144134             NaN                  NaN               NaN       NaN   \n144135             NaN                  NaN               NaN       NaN   \n144136             NaN                  NaN               NaN       NaN   \n144137             NaN                  NaN               NaN       NaN   \n144138             NaN                  NaN               NaN       NaN   \n\n        후보평가(부정;0, 긍정:1)                                               제목댓글  \n0                    NaN  [재보궐 D-31] 부산 김영춘 vs 박형준, 서울도 양자 대결? 철수야! 뜸 들이...  \n1                    0.0  [재보궐 D-31] 부산 김영춘 vs 박형준, 서울도 양자 대결? 박영선은 정동영이...  \n2                    0.0  [재보궐 D-31] 부산 김영춘 vs 박형준, 서울도 양자 대결? 빵선이가서울시장되...  \n3                    0.0  [재보궐 D-31] 부산 김영춘 vs 박형준, 서울도 양자 대결? 서울시장후보더듬당...  \n4                    NaN  [재보궐 D-31] 부산 김영춘 vs 박형준, 서울도 양자 대결? 부산은오거돈선거이...  \n...                  ...                                                ...  \n144134               NaN  [논설위원의 단도직입]“한·일해저터널 경제성 없지만…동북아 경제권 차원서 장기 검토...  \n144135               NaN  [논설위원의 단도직입]“한·일해저터널 경제성 없지만…동북아 경제권 차원서 장기 검토...  \n144136               NaN  [논설위원의 단도직입]“한·일해저터널 경제성 없지만…동북아 경제권 차원서 장기 검토...  \n144137               NaN  [논설위원의 단도직입]“한·일해저터널 경제성 없지만…동북아 경제권 차원서 장기 검토...  \n144138               NaN  [논설위원의 단도직입]“한·일해저터널 경제성 없지만…동북아 경제권 차원서 장기 검토...  \n\n[144139 rows x 11 columns]"
     },
     "execution_count": 3,
     "metadata": {},
     "output_type": "execute_result"
    }
   ],
   "source": [
    "import pandas as pd\r\n",
    "df = pd.read_csv('재보궐선거댓글데이터_최종_유튜브수정_0429.csv')\r\n",
    "df"
   ]
  },
  {
   "cell_type": "code",
   "execution_count": 21,
   "metadata": {},
   "outputs": [
    {
     "data": {
      "text/plain": "(144139, 11)"
     },
     "execution_count": 21,
     "metadata": {},
     "output_type": "execute_result"
    }
   ],
   "source": [
    "df.shape # 144139개"
   ]
  },
  {
   "cell_type": "code",
   "execution_count": 22,
   "metadata": {},
   "outputs": [],
   "source": [
    "es = range(0, 36035)\r\n",
    "sy = range(36035 ,72070)\r\n",
    "si = range(72070 ,108105)\r\n",
    "yb = range(108105, 144139)"
   ]
  },
  {
   "cell_type": "code",
   "execution_count": 23,
   "metadata": {},
   "outputs": [],
   "source": [
    "df.loc[es].to_csv('eunseo_36035.csv', encoding='utf-8-sig', index=False)\r\n",
    "df.loc[sy].to_csv('sukyung_72070.csv',encoding='utf-8-sig',index=False)\r\n",
    "df.loc[si].to_csv('suin_108105.csv', encoding='utf-8-sig',index=False)\r\n",
    "df.loc[yb].to_csv('youbin_144139.csv',encoding='utf-8-sig',index=False)"
   ]
  },
  {
   "cell_type": "code",
   "execution_count": 15,
   "metadata": {},
   "outputs": [
    {
     "data": {
      "text/plain": "144139"
     },
     "execution_count": 15,
     "metadata": {},
     "output_type": "execute_result"
    }
   ],
   "source": [
    "es = pd.read_csv('eunseo_36035.csv').shape[0]\r\n",
    "sy = pd.read_csv('sukyung_72070.csv').shape[0]\r\n",
    "si =pd.read_csv('suin_108105.csv').shape[0]\r\n",
    "yb = pd.read_csv('youbin_144140.csv').shape[0]\r\n",
    "es+sy+si+yb # 총 분리된 데이터 개수 144139"
   ]
  },
  {
   "cell_type": "code",
   "execution_count": 19,
   "metadata": {},
   "outputs": [
    {
     "data": {
      "text/html": "<div>\n<style scoped>\n    .dataframe tbody tr th:only-of-type {\n        vertical-align: middle;\n    }\n\n    .dataframe tbody tr th {\n        vertical-align: top;\n    }\n\n    .dataframe thead th {\n        text-align: right;\n    }\n</style>\n<table border=\"1\" class=\"dataframe\">\n  <thead>\n    <tr style=\"text-align: right;\">\n      <th></th>\n      <th>제목</th>\n      <th>날짜</th>\n      <th>작성일</th>\n      <th>댓글</th>\n      <th>출처</th>\n      <th>지역(서울:1, 부산:2)</th>\n      <th>정당(1:더불어민주당,2:국민의힘)</th>\n      <th>정당평가(부정;0, 긍정:1)</th>\n      <th>후보(기호 순)</th>\n      <th>후보평가(부정;0, 긍정:1)</th>\n      <th>제목댓글</th>\n    </tr>\n  </thead>\n  <tbody>\n    <tr>\n      <th>0</th>\n      <td>D-7 마지막 여론조사…박영선 32% vs 오세훈 55.8% / SBS / 주영진의...</td>\n      <td>2021-03-31</td>\n      <td>2021-04-01 00:00:00</td>\n      <td>32%..?  이러니까   정치인들이  뻔뻔하지.</td>\n      <td>유튜브</td>\n      <td>NaN</td>\n      <td>NaN</td>\n      <td>NaN</td>\n      <td>NaN</td>\n      <td>NaN</td>\n      <td>D-7 마지막 여론조사…박영선 32% vs 오세훈 55.8% / SBS / 주영진의...</td>\n    </tr>\n    <tr>\n      <th>1</th>\n      <td>D-7 마지막 여론조사…박영선 32% vs 오세훈 55.8% / SBS / 주영진의...</td>\n      <td>2021-03-31</td>\n      <td>2021-04-02 00:00:00</td>\n      <td>어우 여기 댓글보니 속이 편안하다오세훈 화이팅!!</td>\n      <td>유튜브</td>\n      <td>NaN</td>\n      <td>NaN</td>\n      <td>NaN</td>\n      <td>NaN</td>\n      <td>NaN</td>\n      <td>D-7 마지막 여론조사…박영선 32% vs 오세훈 55.8% / SBS / 주영진의...</td>\n    </tr>\n    <tr>\n      <th>2</th>\n      <td>D-7 마지막 여론조사…박영선 32% vs 오세훈 55.8% / SBS / 주영진의...</td>\n      <td>2021-03-31</td>\n      <td>2021-04-01 00:00:00</td>\n      <td>서울시  한 번 털어봐야지  그 동안  얼마나 해먹었는지  봐야지   요번에는  교...</td>\n      <td>유튜브</td>\n      <td>NaN</td>\n      <td>NaN</td>\n      <td>NaN</td>\n      <td>NaN</td>\n      <td>NaN</td>\n      <td>D-7 마지막 여론조사…박영선 32% vs 오세훈 55.8% / SBS / 주영진의...</td>\n    </tr>\n    <tr>\n      <th>3</th>\n      <td>D-7 마지막 여론조사…박영선 32% vs 오세훈 55.8% / SBS / 주영진의...</td>\n      <td>2021-03-31</td>\n      <td>2021-04-02 00:00:00</td>\n      <td>능력있는 오세훈 fighting!!</td>\n      <td>유튜브</td>\n      <td>NaN</td>\n      <td>NaN</td>\n      <td>NaN</td>\n      <td>NaN</td>\n      <td>NaN</td>\n      <td>D-7 마지막 여론조사…박영선 32% vs 오세훈 55.8% / SBS / 주영진의...</td>\n    </tr>\n    <tr>\n      <th>4</th>\n      <td>D-7 마지막 여론조사…박영선 32% vs 오세훈 55.8% / SBS / 주영진의...</td>\n      <td>2021-03-31</td>\n      <td>2021-04-02 00:00:00</td>\n      <td>8:20오른쪽 ㅂㄷㅂㄷ  개웃기노 ㅋㅋㅋ</td>\n      <td>유튜브</td>\n      <td>NaN</td>\n      <td>NaN</td>\n      <td>NaN</td>\n      <td>NaN</td>\n      <td>NaN</td>\n      <td>D-7 마지막 여론조사…박영선 32% vs 오세훈 55.8% / SBS / 주영진의...</td>\n    </tr>\n    <tr>\n      <th>...</th>\n      <td>...</td>\n      <td>...</td>\n      <td>...</td>\n      <td>...</td>\n      <td>...</td>\n      <td>...</td>\n      <td>...</td>\n      <td>...</td>\n      <td>...</td>\n      <td>...</td>\n      <td>...</td>\n    </tr>\n    <tr>\n      <th>36029</th>\n      <td>[논설위원의 단도직입]“한·일해저터널 경제성 없지만…동북아 경제권 차원서 장기 검토해야”</td>\n      <td>2021-04-06 21:56:00</td>\n      <td>2021-04-06 22:47:00</td>\n      <td>국민의힘 찍지 말라고 이 뉴스가 나온거임\\n내냔에 국민의힘 찍을라 했드만 망했다 친...</td>\n      <td>경향신문</td>\n      <td>NaN</td>\n      <td>NaN</td>\n      <td>NaN</td>\n      <td>NaN</td>\n      <td>NaN</td>\n      <td>[논설위원의 단도직입]“한·일해저터널 경제성 없지만…동북아 경제권 차원서 장기 검토...</td>\n    </tr>\n    <tr>\n      <th>36030</th>\n      <td>[논설위원의 단도직입]“한·일해저터널 경제성 없지만…동북아 경제권 차원서 장기 검토해야”</td>\n      <td>2021-04-06 21:56:00</td>\n      <td>2021-04-06 22:41:00</td>\n      <td>굳이 일본과 해저터널 해야되는 이유가 없은이유\\n-일본은고속도로비가 비싸다\\n차라니...</td>\n      <td>경향신문</td>\n      <td>NaN</td>\n      <td>NaN</td>\n      <td>NaN</td>\n      <td>NaN</td>\n      <td>NaN</td>\n      <td>[논설위원의 단도직입]“한·일해저터널 경제성 없지만…동북아 경제권 차원서 장기 검토...</td>\n    </tr>\n    <tr>\n      <th>36031</th>\n      <td>[논설위원의 단도직입]“한·일해저터널 경제성 없지만…동북아 경제권 차원서 장기 검토해야”</td>\n      <td>2021-04-06 21:56:00</td>\n      <td>2021-04-06 22:38:00</td>\n      <td>도랏구나. 열도는 걍 갈라파고스로 남겨 둬라. 재난 난민 넘어 오면 귀찮다.</td>\n      <td>경향신문</td>\n      <td>NaN</td>\n      <td>NaN</td>\n      <td>NaN</td>\n      <td>NaN</td>\n      <td>NaN</td>\n      <td>[논설위원의 단도직입]“한·일해저터널 경제성 없지만…동북아 경제권 차원서 장기 검토...</td>\n    </tr>\n    <tr>\n      <th>36032</th>\n      <td>[논설위원의 단도직입]“한·일해저터널 경제성 없지만…동북아 경제권 차원서 장기 검토해야”</td>\n      <td>2021-04-06 21:56:00</td>\n      <td>2021-04-06 22:32:00</td>\n      <td>이걸 왜 하지? 우리한테 아무런 의미가 없는데</td>\n      <td>경향신문</td>\n      <td>NaN</td>\n      <td>NaN</td>\n      <td>NaN</td>\n      <td>NaN</td>\n      <td>NaN</td>\n      <td>[논설위원의 단도직입]“한·일해저터널 경제성 없지만…동북아 경제권 차원서 장기 검토...</td>\n    </tr>\n    <tr>\n      <th>36033</th>\n      <td>[논설위원의 단도직입]“한·일해저터널 경제성 없지만…동북아 경제권 차원서 장기 검토해야”</td>\n      <td>2021-04-06 21:56:00</td>\n      <td>2021-04-06 22:26:00</td>\n      <td>우리에겐 아무런 도움이 되지 않는 것을 일본에게는 엄청난 기회가 되는 것을 왜 굳이...</td>\n      <td>경향신문</td>\n      <td>NaN</td>\n      <td>NaN</td>\n      <td>NaN</td>\n      <td>NaN</td>\n      <td>NaN</td>\n      <td>[논설위원의 단도직입]“한·일해저터널 경제성 없지만…동북아 경제권 차원서 장기 검토...</td>\n    </tr>\n  </tbody>\n</table>\n<p>36034 rows × 11 columns</p>\n</div>",
      "text/plain": "                                                      제목                   날짜  \\\n0      D-7 마지막 여론조사…박영선 32% vs 오세훈 55.8% / SBS / 주영진의...           2021-03-31   \n1      D-7 마지막 여론조사…박영선 32% vs 오세훈 55.8% / SBS / 주영진의...           2021-03-31   \n2      D-7 마지막 여론조사…박영선 32% vs 오세훈 55.8% / SBS / 주영진의...           2021-03-31   \n3      D-7 마지막 여론조사…박영선 32% vs 오세훈 55.8% / SBS / 주영진의...           2021-03-31   \n4      D-7 마지막 여론조사…박영선 32% vs 오세훈 55.8% / SBS / 주영진의...           2021-03-31   \n...                                                  ...                  ...   \n36029  [논설위원의 단도직입]“한·일해저터널 경제성 없지만…동북아 경제권 차원서 장기 검토해야”  2021-04-06 21:56:00   \n36030  [논설위원의 단도직입]“한·일해저터널 경제성 없지만…동북아 경제권 차원서 장기 검토해야”  2021-04-06 21:56:00   \n36031  [논설위원의 단도직입]“한·일해저터널 경제성 없지만…동북아 경제권 차원서 장기 검토해야”  2021-04-06 21:56:00   \n36032  [논설위원의 단도직입]“한·일해저터널 경제성 없지만…동북아 경제권 차원서 장기 검토해야”  2021-04-06 21:56:00   \n36033  [논설위원의 단도직입]“한·일해저터널 경제성 없지만…동북아 경제권 차원서 장기 검토해야”  2021-04-06 21:56:00   \n\n                       작성일                                                 댓글  \\\n0      2021-04-01 00:00:00                        32%..?  이러니까   정치인들이  뻔뻔하지.   \n1      2021-04-02 00:00:00                        어우 여기 댓글보니 속이 편안하다오세훈 화이팅!!   \n2      2021-04-01 00:00:00  서울시  한 번 털어봐야지  그 동안  얼마나 해먹었는지  봐야지   요번에는  교...   \n3      2021-04-02 00:00:00                                능력있는 오세훈 fighting!!   \n4      2021-04-02 00:00:00                             8:20오른쪽 ㅂㄷㅂㄷ  개웃기노 ㅋㅋㅋ   \n...                    ...                                                ...   \n36029  2021-04-06 22:47:00  국민의힘 찍지 말라고 이 뉴스가 나온거임\\n내냔에 국민의힘 찍을라 했드만 망했다 친...   \n36030  2021-04-06 22:41:00  굳이 일본과 해저터널 해야되는 이유가 없은이유\\n-일본은고속도로비가 비싸다\\n차라니...   \n36031  2021-04-06 22:38:00         도랏구나. 열도는 걍 갈라파고스로 남겨 둬라. 재난 난민 넘어 오면 귀찮다.   \n36032  2021-04-06 22:32:00                          이걸 왜 하지? 우리한테 아무런 의미가 없는데   \n36033  2021-04-06 22:26:00  우리에겐 아무런 도움이 되지 않는 것을 일본에게는 엄청난 기회가 되는 것을 왜 굳이...   \n\n         출처  지역(서울:1, 부산:2)  정당(1:더불어민주당,2:국민의힘)  정당평가(부정;0, 긍정:1)  후보(기호 순)  \\\n0       유튜브             NaN                  NaN               NaN       NaN   \n1       유튜브             NaN                  NaN               NaN       NaN   \n2       유튜브             NaN                  NaN               NaN       NaN   \n3       유튜브             NaN                  NaN               NaN       NaN   \n4       유튜브             NaN                  NaN               NaN       NaN   \n...     ...             ...                  ...               ...       ...   \n36029  경향신문             NaN                  NaN               NaN       NaN   \n36030  경향신문             NaN                  NaN               NaN       NaN   \n36031  경향신문             NaN                  NaN               NaN       NaN   \n36032  경향신문             NaN                  NaN               NaN       NaN   \n36033  경향신문             NaN                  NaN               NaN       NaN   \n\n       후보평가(부정;0, 긍정:1)                                               제목댓글  \n0                   NaN  D-7 마지막 여론조사…박영선 32% vs 오세훈 55.8% / SBS / 주영진의...  \n1                   NaN  D-7 마지막 여론조사…박영선 32% vs 오세훈 55.8% / SBS / 주영진의...  \n2                   NaN  D-7 마지막 여론조사…박영선 32% vs 오세훈 55.8% / SBS / 주영진의...  \n3                   NaN  D-7 마지막 여론조사…박영선 32% vs 오세훈 55.8% / SBS / 주영진의...  \n4                   NaN  D-7 마지막 여론조사…박영선 32% vs 오세훈 55.8% / SBS / 주영진의...  \n...                 ...                                                ...  \n36029               NaN  [논설위원의 단도직입]“한·일해저터널 경제성 없지만…동북아 경제권 차원서 장기 검토...  \n36030               NaN  [논설위원의 단도직입]“한·일해저터널 경제성 없지만…동북아 경제권 차원서 장기 검토...  \n36031               NaN  [논설위원의 단도직입]“한·일해저터널 경제성 없지만…동북아 경제권 차원서 장기 검토...  \n36032               NaN  [논설위원의 단도직입]“한·일해저터널 경제성 없지만…동북아 경제권 차원서 장기 검토...  \n36033               NaN  [논설위원의 단도직입]“한·일해저터널 경제성 없지만…동북아 경제권 차원서 장기 검토...  \n\n[36034 rows x 11 columns]"
     },
     "execution_count": 19,
     "metadata": {},
     "output_type": "execute_result"
    }
   ],
   "source": [
    "es = pd.read_csv('eunseo_36035.csv')\r\n",
    "sy = pd.read_csv('sukyung_72070.csv')\r\n",
    "si =pd.read_csv('suin_108105.csv')\r\n",
    "yb = pd.read_csv('youbin_144140.csv')\r\n",
    "yb"
   ]
  },
  {
   "cell_type": "code",
   "execution_count": null,
   "metadata": {},
   "outputs": [],
   "source": []
  },
  {
   "cell_type": "code",
   "execution_count": null,
   "metadata": {},
   "outputs": [],
   "source": []
  },
  {
   "cell_type": "code",
   "execution_count": null,
   "metadata": {},
   "outputs": [],
   "source": []
  },
  {
   "cell_type": "code",
   "execution_count": null,
   "metadata": {},
   "outputs": [],
   "source": []
  }
 ],
 "metadata": {
  "interpreter": {
   "hash": "6bd18ff4b8d78789dc0c4fe3ce3d1752f57bd4a78312d15f34612069d81af063"
  },
  "kernelspec": {
   "display_name": "Python 3.7.6 64-bit ('base': conda)",
   "name": "python3"
  },
  "language_info": {
   "name": "python",
   "version": ""
  },
  "orig_nbformat": 2
 },
 "nbformat": 4,
 "nbformat_minor": 2
}