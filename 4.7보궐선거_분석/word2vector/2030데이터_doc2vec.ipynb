{
 "cells": [
  {
   "cell_type": "markdown",
   "metadata": {},
   "source": [
    "# Doc2Vec을 이용한 문서 유사도 측정\r\n",
    "- word2vec의 개념을 단어가 아니라 문구나 문장, 문서 전체로 확장 가능.\r\n",
    "- 기존 단어들에 근거해서 단어를 예측함으로써 단어 벡터들을 학습한다는 착안(word2vec) -> 문장, 문단, 문서 벡터의 학습으로 확장 가능"
   ]
  }
 ],
 "metadata": {
  "interpreter": {
   "hash": "6bd18ff4b8d78789dc0c4fe3ce3d1752f57bd4a78312d15f34612069d81af063"
  },
  "kernelspec": {
   "display_name": "Python 3.7.6 64-bit (conda)",
   "name": "python3"
  },
  "language_info": {
   "name": "python",
   "version": ""
  },
  "orig_nbformat": 2
 },
 "nbformat": 4,
 "nbformat_minor": 2
}