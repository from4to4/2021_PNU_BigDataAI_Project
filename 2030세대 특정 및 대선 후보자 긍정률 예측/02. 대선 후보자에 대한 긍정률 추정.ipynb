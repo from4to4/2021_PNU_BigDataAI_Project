{
 "cells": [
  {
   "cell_type": "markdown",
   "metadata": {},
   "source": [
    "# 대선 후보자별 긍정률 추정"
   ]
  },
  {
   "cell_type": "markdown",
   "metadata": {},
   "source": [
    "## 대선 유망 후보자 데이터"
   ]
  },
  {
   "cell_type": "code",
   "execution_count": 1,
   "metadata": {
    "ExecuteTime": {
     "end_time": "2021-05-21T06:15:37.311933Z",
     "start_time": "2021-05-21T06:15:37.058103Z"
    }
   },
   "outputs": [],
   "source": [
    "import pandas as pd\n",
    "import numpy as np"
   ]
  },
  {
   "cell_type": "code",
   "execution_count": 2,
   "metadata": {
    "ExecuteTime": {
     "end_time": "2021-05-21T06:15:50.813530Z",
     "start_time": "2021-05-21T06:15:50.076399Z"
    },
    "collapsed": true
   },
   "outputs": [
    {
     "data": {
      "text/html": [
       "<div>\n",
       "<style scoped>\n",
       "    .dataframe tbody tr th:only-of-type {\n",
       "        vertical-align: middle;\n",
       "    }\n",
       "\n",
       "    .dataframe tbody tr th {\n",
       "        vertical-align: top;\n",
       "    }\n",
       "\n",
       "    .dataframe thead th {\n",
       "        text-align: right;\n",
       "    }\n",
       "</style>\n",
       "<table border=\"1\" class=\"dataframe\">\n",
       "  <thead>\n",
       "    <tr style=\"text-align: right;\">\n",
       "      <th></th>\n",
       "      <th>Title</th>\n",
       "      <th>Date</th>\n",
       "      <th>ID</th>\n",
       "      <th>Comment_date</th>\n",
       "      <th>Comment</th>\n",
       "      <th>Candidate</th>\n",
       "      <th>Source</th>\n",
       "    </tr>\n",
       "  </thead>\n",
       "  <tbody>\n",
       "    <tr>\n",
       "      <th>0</th>\n",
       "      <td>김부겸 “마지막 공직이라 생각”… 대선 출마설 부인</td>\n",
       "      <td>2021-05-07 10:55:00</td>\n",
       "      <td>정병렬</td>\n",
       "      <td>2021-05-07 14:46:43</td>\n",
       "      <td>&lt;대선 출마설&gt; 어떤 외눈박이의 헛소리 이겠지.</td>\n",
       "      <td>김부겸</td>\n",
       "      <td>조선일보</td>\n",
       "    </tr>\n",
       "    <tr>\n",
       "      <th>1</th>\n",
       "      <td>김부겸 “마지막 공직이라 생각”… 대선 출마설 부인</td>\n",
       "      <td>2021-05-07 10:55:00</td>\n",
       "      <td>이규태</td>\n",
       "      <td>2021-05-07 11:11:00</td>\n",
       "      <td>악취가 진동하는 엉망진창인 자신의 모습은 안보이나? 후보사퇴 하고 있는듯 없는듯이 ...</td>\n",
       "      <td>김부겸</td>\n",
       "      <td>조선일보</td>\n",
       "    </tr>\n",
       "    <tr>\n",
       "      <th>2</th>\n",
       "      <td>김부겸 “검수완박은 일부 의원 의견... 문자폭탄, 민주적 방식 아냐“</td>\n",
       "      <td>2021-05-07 00:51:00</td>\n",
       "      <td>윤정삼</td>\n",
       "      <td>2021-05-07 07:55:49</td>\n",
       "      <td>김부겸 32번의 차량 압류 . . . 이렇게 법을 위반한 사람이 대한민국 총리가 된...</td>\n",
       "      <td>김부겸</td>\n",
       "      <td>조선일보</td>\n",
       "    </tr>\n",
       "    <tr>\n",
       "      <th>3</th>\n",
       "      <td>김부겸 “검수완박은 일부 의원 의견... 문자폭탄, 민주적 방식 아냐“</td>\n",
       "      <td>2021-05-07 00:51:00</td>\n",
       "      <td>황성식</td>\n",
       "      <td>2021-05-07 05:10:51</td>\n",
       "      <td>부겸이 니는 부결이 정답이다</td>\n",
       "      <td>김부겸</td>\n",
       "      <td>조선일보</td>\n",
       "    </tr>\n",
       "    <tr>\n",
       "      <th>4</th>\n",
       "      <td>김부겸 “검수완박은 일부 의원 의견... 문자폭탄, 민주적 방식 아냐“</td>\n",
       "      <td>2021-05-07 00:51:00</td>\n",
       "      <td>윤성철</td>\n",
       "      <td>2021-05-07 04:54:47</td>\n",
       "      <td>김부겸의 평소 고상한 품위 있는 언행 하던 사람이 상식이 파괴된 비도덕적이고 비윤리...</td>\n",
       "      <td>김부겸</td>\n",
       "      <td>조선일보</td>\n",
       "    </tr>\n",
       "    <tr>\n",
       "      <th>...</th>\n",
       "      <td>...</td>\n",
       "      <td>...</td>\n",
       "      <td>...</td>\n",
       "      <td>...</td>\n",
       "      <td>...</td>\n",
       "      <td>...</td>\n",
       "      <td>...</td>\n",
       "    </tr>\n",
       "    <tr>\n",
       "      <th>158529</th>\n",
       "      <td>[여랑야랑]윤석열 ★의 순간? 벌의 순간? / 황교안, 의문의 1패? | 뉴스A</td>\n",
       "      <td>2021-03-05</td>\n",
       "      <td>임인기</td>\n",
       "      <td>2021-03-16</td>\n",
       "      <td>황교안이 나라를이많큼말아먹구 파탄냈으면 평생니가할일은다한거다 제발 더이상나라망치지말...</td>\n",
       "      <td>황교안</td>\n",
       "      <td>YouTube</td>\n",
       "    </tr>\n",
       "    <tr>\n",
       "      <th>158530</th>\n",
       "      <td>[여랑야랑]윤석열 ★의 순간? 벌의 순간? / 황교안, 의문의 1패? | 뉴스A</td>\n",
       "      <td>2021-03-05</td>\n",
       "      <td>안태준</td>\n",
       "      <td>2021-03-16</td>\n",
       "      <td>윤석열 .힘내시고.화이팅입니다.</td>\n",
       "      <td>황교안</td>\n",
       "      <td>YouTube</td>\n",
       "    </tr>\n",
       "    <tr>\n",
       "      <th>158531</th>\n",
       "      <td>[여랑야랑]윤석열 ★의 순간? 벌의 순간? / 황교안, 의문의 1패? | 뉴스A</td>\n",
       "      <td>2021-03-05</td>\n",
       "      <td>이희만</td>\n",
       "      <td>2021-03-16</td>\n",
       "      <td>황교안 대표 가 보수다</td>\n",
       "      <td>황교안</td>\n",
       "      <td>YouTube</td>\n",
       "    </tr>\n",
       "    <tr>\n",
       "      <th>158532</th>\n",
       "      <td>[여랑야랑]윤석열 ★의 순간? 벌의 순간? / 황교안, 의문의 1패? | 뉴스A</td>\n",
       "      <td>2021-03-05</td>\n",
       "      <td>박영칠</td>\n",
       "      <td>2021-03-16</td>\n",
       "      <td>황교안정직하고깨끋한애국자 불평하지말라 똑똑한것홍준표의원 검찰들이않다 주님준비된대통령...</td>\n",
       "      <td>황교안</td>\n",
       "      <td>YouTube</td>\n",
       "    </tr>\n",
       "    <tr>\n",
       "      <th>158533</th>\n",
       "      <td>[여랑야랑]윤석열 ★의 순간? 벌의 순간? / 황교안, 의문의 1패? | 뉴스A</td>\n",
       "      <td>2021-03-05</td>\n",
       "      <td>이미래로</td>\n",
       "      <td>2021-03-16</td>\n",
       "      <td>황교안등 모두 나라위해 힘을 모으는게 맞지요.같은진영 헐뜯지 맙시다.</td>\n",
       "      <td>황교안</td>\n",
       "      <td>YouTube</td>\n",
       "    </tr>\n",
       "  </tbody>\n",
       "</table>\n",
       "<p>158534 rows × 7 columns</p>\n",
       "</div>"
      ],
      "text/plain": [
       "                                               Title                 Date  \\\n",
       "0                       김부겸 “마지막 공직이라 생각”… 대선 출마설 부인  2021-05-07 10:55:00   \n",
       "1                       김부겸 “마지막 공직이라 생각”… 대선 출마설 부인  2021-05-07 10:55:00   \n",
       "2            김부겸 “검수완박은 일부 의원 의견... 문자폭탄, 민주적 방식 아냐“  2021-05-07 00:51:00   \n",
       "3            김부겸 “검수완박은 일부 의원 의견... 문자폭탄, 민주적 방식 아냐“  2021-05-07 00:51:00   \n",
       "4            김부겸 “검수완박은 일부 의원 의견... 문자폭탄, 민주적 방식 아냐“  2021-05-07 00:51:00   \n",
       "...                                              ...                  ...   \n",
       "158529  [여랑야랑]윤석열 ★의 순간? 벌의 순간? / 황교안, 의문의 1패? | 뉴스A           2021-03-05   \n",
       "158530  [여랑야랑]윤석열 ★의 순간? 벌의 순간? / 황교안, 의문의 1패? | 뉴스A           2021-03-05   \n",
       "158531  [여랑야랑]윤석열 ★의 순간? 벌의 순간? / 황교안, 의문의 1패? | 뉴스A           2021-03-05   \n",
       "158532  [여랑야랑]윤석열 ★의 순간? 벌의 순간? / 황교안, 의문의 1패? | 뉴스A           2021-03-05   \n",
       "158533  [여랑야랑]윤석열 ★의 순간? 벌의 순간? / 황교안, 의문의 1패? | 뉴스A           2021-03-05   \n",
       "\n",
       "          ID         Comment_date  \\\n",
       "0        정병렬  2021-05-07 14:46:43   \n",
       "1        이규태  2021-05-07 11:11:00   \n",
       "2        윤정삼  2021-05-07 07:55:49   \n",
       "3        황성식  2021-05-07 05:10:51   \n",
       "4        윤성철  2021-05-07 04:54:47   \n",
       "...      ...                  ...   \n",
       "158529   임인기           2021-03-16   \n",
       "158530   안태준           2021-03-16   \n",
       "158531   이희만           2021-03-16   \n",
       "158532   박영칠           2021-03-16   \n",
       "158533  이미래로           2021-03-16   \n",
       "\n",
       "                                                  Comment Candidate   Source  \n",
       "0                              <대선 출마설> 어떤 외눈박이의 헛소리 이겠지.       김부겸     조선일보  \n",
       "1       악취가 진동하는 엉망진창인 자신의 모습은 안보이나? 후보사퇴 하고 있는듯 없는듯이 ...       김부겸     조선일보  \n",
       "2       김부겸 32번의 차량 압류 . . . 이렇게 법을 위반한 사람이 대한민국 총리가 된...       김부겸     조선일보  \n",
       "3                                         부겸이 니는 부결이 정답이다       김부겸     조선일보  \n",
       "4       김부겸의 평소 고상한 품위 있는 언행 하던 사람이 상식이 파괴된 비도덕적이고 비윤리...       김부겸     조선일보  \n",
       "...                                                   ...       ...      ...  \n",
       "158529  황교안이 나라를이많큼말아먹구 파탄냈으면 평생니가할일은다한거다 제발 더이상나라망치지말...       황교안  YouTube  \n",
       "158530                                  윤석열 .힘내시고.화이팅입니다.       황교안  YouTube  \n",
       "158531                                       황교안 대표 가 보수다       황교안  YouTube  \n",
       "158532  황교안정직하고깨끋한애국자 불평하지말라 똑똑한것홍준표의원 검찰들이않다 주님준비된대통령...       황교안  YouTube  \n",
       "158533             황교안등 모두 나라위해 힘을 모으는게 맞지요.같은진영 헐뜯지 맙시다.       황교안  YouTube  \n",
       "\n",
       "[158534 rows x 7 columns]"
      ]
     },
     "execution_count": 2,
     "metadata": {},
     "output_type": "execute_result"
    }
   ],
   "source": [
    "df = pd.read_csv('data/data_candidates.csv')\n",
    "df"
   ]
  },
  {
   "cell_type": "markdown",
   "metadata": {},
   "source": [
    "### 기사제목_댓글내용 가져오기"
   ]
  },
  {
   "cell_type": "code",
   "execution_count": null,
   "metadata": {},
   "outputs": [],
   "source": [
    "df."
   ]
  },
  {
   "cell_type": "code",
   "execution_count": null,
   "metadata": {},
   "outputs": [],
   "source": []
  },
  {
   "cell_type": "code",
   "execution_count": null,
   "metadata": {},
   "outputs": [],
   "source": []
  },
  {
   "cell_type": "code",
   "execution_count": null,
   "metadata": {},
   "outputs": [],
   "source": []
  },
  {
   "cell_type": "code",
   "execution_count": null,
   "metadata": {},
   "outputs": [],
   "source": []
  },
  {
   "cell_type": "code",
   "execution_count": null,
   "metadata": {},
   "outputs": [],
   "source": []
  },
  {
   "cell_type": "markdown",
   "metadata": {},
   "source": [
    "## 전처리\n",
    "- 한글 정규화"
   ]
  },
  {
   "cell_type": "markdown",
   "metadata": {},
   "source": [
    "## 기존 모델의 CounterVectorizer 불러오기"
   ]
  },
  {
   "cell_type": "markdown",
   "metadata": {},
   "source": [
    "## 기존 모델과 Tf-Idf Vecotrizer 불러오기"
   ]
  },
  {
   "cell_type": "code",
   "execution_count": null,
   "metadata": {},
   "outputs": [],
   "source": [
    "## 후보자별 "
   ]
  },
  {
   "cell_type": "code",
   "execution_count": null,
   "metadata": {},
   "outputs": [],
   "source": []
  },
  {
   "cell_type": "code",
   "execution_count": null,
   "metadata": {},
   "outputs": [],
   "source": []
  },
  {
   "cell_type": "code",
   "execution_count": null,
   "metadata": {},
   "outputs": [],
   "source": []
  }
 ],
 "metadata": {
  "hide_input": false,
  "kernelspec": {
   "display_name": "Python 3",
   "language": "python",
   "name": "python3"
  },
  "language_info": {
   "codemirror_mode": {
    "name": "ipython",
    "version": 3
   },
   "file_extension": ".py",
   "mimetype": "text/x-python",
   "name": "python",
   "nbconvert_exporter": "python",
   "pygments_lexer": "ipython3",
   "version": "3.7.6"
  },
  "toc": {
   "base_numbering": 1,
   "nav_menu": {},
   "number_sections": false,
   "sideBar": true,
   "skip_h1_title": false,
   "title_cell": "Table of Contents",
   "title_sidebar": "Contents",
   "toc_cell": false,
   "toc_position": {
    "height": "calc(100% - 180px)",
    "left": "10px",
    "top": "150px",
    "width": "169.766px"
   },
   "toc_section_display": true,
   "toc_window_display": true
  },
  "varInspector": {
   "cols": {
    "lenName": 16,
    "lenType": 16,
    "lenVar": 40
   },
   "kernels_config": {
    "python": {
     "delete_cmd_postfix": "",
     "delete_cmd_prefix": "del ",
     "library": "var_list.py",
     "varRefreshCmd": "print(var_dic_list())"
    },
    "r": {
     "delete_cmd_postfix": ") ",
     "delete_cmd_prefix": "rm(",
     "library": "var_list.r",
     "varRefreshCmd": "cat(var_dic_list()) "
    }
   },
   "types_to_exclude": [
    "module",
    "function",
    "builtin_function_or_method",
    "instance",
    "_Feature"
   ],
   "window_display": false
  }
 },
 "nbformat": 4,
 "nbformat_minor": 4
}
