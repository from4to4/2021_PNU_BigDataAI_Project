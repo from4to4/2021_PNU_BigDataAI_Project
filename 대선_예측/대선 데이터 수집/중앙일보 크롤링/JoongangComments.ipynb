{
 "cells": [
  {
   "cell_type": "code",
   "execution_count": 1,
   "metadata": {
    "ExecuteTime": {
     "end_time": "2021-05-17T07:05:16.988339Z",
     "start_time": "2021-05-17T07:05:16.984351Z"
    }
   },
   "outputs": [],
   "source": [
    "# 더보기 계속 클릭하기\n",
    "def clickMore(driver):\n",
    "    while True:\n",
    "        try:\n",
    "            more_button = driver.find_element_by_css_selector('#comment > div.ft > a')\n",
    "            more_button.click()\n",
    "            time.sleep(1)\n",
    "        except:\n",
    "            break"
   ]
  },
  {
   "cell_type": "code",
   "execution_count": 2,
   "metadata": {
    "ExecuteTime": {
     "end_time": "2021-05-17T07:05:17.310499Z",
     "start_time": "2021-05-17T07:05:17.297533Z"
    },
    "code_folding": []
   },
   "outputs": [],
   "source": [
    "# 한 기사의 댓글 추출\n",
    "def getComment(driver,keyword):\n",
    "    \n",
    "    import os\n",
    "    import pandas as pd\n",
    "    \n",
    "    # 데이터를 담을 딕셔너리\n",
    "    comment_dict = {\n",
    "        '제목' : [],\n",
    "        '날짜' : [],\n",
    "        '작성일' : [],\n",
    "        '작성자':[],\n",
    "        '댓글' : []\n",
    "    }\n",
    "    \n",
    "    # 기사 제목 태그\n",
    "    a0 = driver.find_elements_by_css_selector('#article_title')\n",
    "    # print(a0)\n",
    "    \n",
    "    if not a0:\n",
    "        print('댓글없음')\n",
    "        return False\n",
    "    \n",
    "    else:\n",
    "        # 기사 제목 태그\n",
    "        data1 = a0[0].text\n",
    "        # print(data1)\n",
    "        \n",
    "        # 날짜\n",
    "        data2 = driver.find_elements_by_css_selector('div.article_head > div > div.byline')[0].text\n",
    "        # print(data2)\n",
    "    \n",
    "        # 댓글 갯수 확인\n",
    "        a0 = driver.find_element_by_css_selector('#comment > div.hd > strong > span').text\n",
    "        # print(a0)   \n",
    "\n",
    "        # 댓글 수가 0이면\n",
    "        if a0 == '0':\n",
    "            print('댓글 없음')\n",
    "            return False\n",
    "        else:\n",
    "            # 댓글이 담긴 ul 태그 들고오기 \n",
    "            a1 = driver.find_elements_by_css_selector('#comment > div.bd > div.comment_list > ul > li')\n",
    "            # print(a1)\n",
    "\n",
    "            for a2 in a1:\n",
    "\n",
    "                a22 = a2.find_elements_by_css_selector('div')\n",
    "\n",
    "                # 제목 & 날짜 저장\n",
    "                comment_dict['제목'].append(data1) \n",
    "                comment_dict['날짜'].append(data2) \n",
    "\n",
    "                # 댓글 작성일\n",
    "                if a2.find_elements_by_css_selector('div > div.cmt_area > dl > dt > span'):\n",
    "                    a3 = a2.find_elements_by_css_selector('div > div.cmt_area > dl > dt > span')[0].text\n",
    "                    comment_dict['작성일'].append(a3)\n",
    "                else:\n",
    "                    pass\n",
    "\n",
    "                # 댓글 작성자가 있으면 가져오기\n",
    "                writer = a2.find_elements_by_css_selector('div > div.cmt_area > dl > dt > strong')\n",
    "                if writer:\n",
    "                    writer = writer[0].text\n",
    "                    comment_dict['작성자'].append(writer)\n",
    "                else:\n",
    "                    comment_dict['작성자'] = np.nan\n",
    "                print(writer)\n",
    "\n",
    "                # 댓글 \n",
    "                a4 = a2.find_elements_by_css_selector('div > div.cmt_area > dl > dd > p')[0].text\n",
    "                comment_dict['댓글'].append(a4)\n",
    "                # print(a4)\n",
    "\n",
    "                # 댓글에 댓글이 있는 경우\n",
    "                if len(a22) > 5 :\n",
    "\n",
    "                    # 댓글의 댓글이 담긴 div\n",
    "                    a5 = a2.find_elements_by_css_selector('div.reply_area > ul > li')\n",
    "                    # print(len(a5))\n",
    "\n",
    "                    for a6 in a5:\n",
    "\n",
    "                        # 제목 & 날짜\n",
    "                        comment_dict['제목'].append(data1) \n",
    "                        comment_dict['날짜'].append(data2) \n",
    "\n",
    "                        # 댓글작성일\n",
    "                        a7 = a6.find_elements_by_css_selector('div > dl > dt > span')[0].text\n",
    "                        # print(a7)\n",
    "                        comment_dict['작성일'].append(a7)\n",
    "\n",
    "                        re_writer = a6.find_elements_by_css_selector(\n",
    "                                    'div > dl > dt > strong')[0].text\n",
    "                        comment_dict['작성자'].append(re_writer)\n",
    "\n",
    "                        # 댓글\n",
    "                        a8 = a6.find_elements_by_css_selector('div > dl > dd > p')[0].text\n",
    "                        # print(a8)\n",
    "                        comment_dict['댓글'].append(a8)\n",
    "\n",
    "            df1 = pd.DataFrame(comment_dict)\n",
    "            df1['날짜'] = [date.split('입력')[-1].split('수정')[0].split('|')[0].strip() \\\n",
    "                           for date in df1['날짜']]\n",
    "            df1['날짜'] = pd.to_datetime(df1['날짜'])\n",
    "            df1['작성일'] = pd.to_datetime(df1['작성일'])\n",
    "\n",
    "            display(df1)\n",
    "\n",
    "            FILENAME = f'joongang_comment_{keyword}.csv'\n",
    "            if os.path.exists(FILENAME) == False:\n",
    "                # 파일이 없을 경우\n",
    "                df1.to_csv(FILENAME, encoding='utf-8-sig', index=False)\n",
    "            else:\n",
    "                # mode='a' : 기존 것 뒤에다 붙여줌\n",
    "                df1.to_csv(FILENAME, encoding='utf-8-sig', index=False, header=False, mode='a')\n",
    "\n",
    "            return True"
   ]
  },
  {
   "cell_type": "code",
   "execution_count": 3,
   "metadata": {
    "ExecuteTime": {
     "end_time": "2021-05-17T07:05:17.667211Z",
     "start_time": "2021-05-17T07:05:17.660196Z"
    }
   },
   "outputs": [],
   "source": [
    "# 뉴스 댓글 가져오는 함수\n",
    "def getJoongangComment(link_df, keyword, idx=45):\n",
    "    \n",
    "    import pandas as pd\n",
    "    from selenium import webdriver as wd\n",
    "    from IPython.display import clear_output\n",
    "    \n",
    "    num_link = link_df.shape[0]\n",
    "    # print(link_df.loc[0])\n",
    "\n",
    "    # 웹 드라이버\n",
    "    driver = wd.Chrome('./chromedriver.exe')\n",
    "    idx = 0\n",
    "\n",
    "    while True :\n",
    "\n",
    "        driver.implicitly_wait(20)\n",
    "\n",
    "        clear_output(wait=True)\n",
    "\n",
    "        driver.get(link_df.loc[idx].values[0])\n",
    "        clickMore(driver)\n",
    "\n",
    "        print(f'{idx}번째 기사 댓글 수집 중')\n",
    "\n",
    "        chk = getComment(driver, keyword)\n",
    "        # print(f'chk : {chk}')\n",
    "        \n",
    "        # 기사에 댓글 데이터 정상 수집\n",
    "        if chk:\n",
    "            print(f'{idx}번째 기사 댓글 정상 수집 완료')\n",
    "        # 기사에 댓글 데이터가 없으면 다음 페이지로 \n",
    "        else:\n",
    "            print(f'{idx}번째 기사 댓글 없음, 다음 기사로~')\n",
    "\n",
    "        idx = idx + 1\n",
    "\n",
    "        if idx == num_link :\n",
    "            break\n",
    "\n",
    "    print('수집완료')"
   ]
  },
  {
   "cell_type": "code",
   "execution_count": 4,
   "metadata": {
    "ExecuteTime": {
     "end_time": "2021-05-17T07:05:41.979845Z",
     "start_time": "2021-05-17T07:05:41.975856Z"
    }
   },
   "outputs": [],
   "source": [
    "test = False\n",
    "if test:\n",
    "    import pandas as pd\n",
    "    from selenium import webdriver as wd\n",
    "    from IPython.display import clear_output\n",
    "\n",
    "    df = pd.read_csv('../중앙일보_link.csv')\n",
    "\n",
    "    driver = wd.Chrome('./chromedriver.exe')\n",
    "    idx = 0\n",
    "\n",
    "\n",
    "\n",
    "    driver.implicitly_wait(20)\n",
    "\n",
    "    clear_output(wait=True)\n",
    "\n",
    "    driver.get(df.loc[idx].values[0])\n",
    "    clickMore(driver)\n",
    "    getComment(driver)"
   ]
  },
  {
   "cell_type": "code",
   "execution_count": null,
   "metadata": {
    "ExecuteTime": {
     "start_time": "2021-05-17T07:05:48.252Z"
    }
   },
   "outputs": [
    {
     "name": "stdout",
     "output_type": "stream",
     "text": [
      "36번째 기사 댓글 수집 중\n",
      "오****\n"
     ]
    },
    {
     "data": {
      "text/html": [
       "<div>\n",
       "<style scoped>\n",
       "    .dataframe tbody tr th:only-of-type {\n",
       "        vertical-align: middle;\n",
       "    }\n",
       "\n",
       "    .dataframe tbody tr th {\n",
       "        vertical-align: top;\n",
       "    }\n",
       "\n",
       "    .dataframe thead th {\n",
       "        text-align: right;\n",
       "    }\n",
       "</style>\n",
       "<table border=\"1\" class=\"dataframe\">\n",
       "  <thead>\n",
       "    <tr style=\"text-align: right;\">\n",
       "      <th></th>\n",
       "      <th>제목</th>\n",
       "      <th>날짜</th>\n",
       "      <th>작성일</th>\n",
       "      <th>작성자</th>\n",
       "      <th>댓글</th>\n",
       "    </tr>\n",
       "  </thead>\n",
       "  <tbody>\n",
       "    <tr>\n",
       "      <th>0</th>\n",
       "      <td>2030이 주력인 암호화폐…민주당, 대선 시한폭탄 우려</td>\n",
       "      <td>2021-04-26 00:02:00</td>\n",
       "      <td>2021-04-26 02:36:27</td>\n",
       "      <td>오****</td>\n",
       "      <td>관리자에 의해 삭제된 댓글입니다.</td>\n",
       "    </tr>\n",
       "  </tbody>\n",
       "</table>\n",
       "</div>"
      ],
      "text/plain": [
       "                               제목                  날짜                 작성일  \\\n",
       "0  2030이 주력인 암호화폐…민주당, 대선 시한폭탄 우려 2021-04-26 00:02:00 2021-04-26 02:36:27   \n",
       "\n",
       "     작성자                  댓글  \n",
       "0  오****  관리자에 의해 삭제된 댓글입니다.  "
      ]
     },
     "metadata": {},
     "output_type": "display_data"
    },
    {
     "name": "stdout",
     "output_type": "stream",
     "text": [
      "36번째 기사 댓글 정상 수집 완료\n"
     ]
    }
   ],
   "source": [
    "import pandas as pd\n",
    "names = ['정세균','유승민', '이낙연', '홍준표', '안철수', '윤석열', '이재명']\n",
    "for name in names:\n",
    "    keyword = name\n",
    "    link_df = pd.read_csv(f'중앙일보_대선 {keyword}_link.csv')\n",
    "    getJoongangComment(link_df, keyword)"
   ]
  },
  {
   "cell_type": "markdown",
   "metadata": {},
   "source": [
    "## 윤석열\n",
    "45번째 기사에서 댓글 2개 겹침\n",
    "    - 양****\n",
    "    - Jhee****"
   ]
  }
 ],
 "metadata": {
  "hide_input": false,
  "kernelspec": {
   "display_name": "Python 3",
   "language": "python",
   "name": "python3"
  },
  "language_info": {
   "codemirror_mode": {
    "name": "ipython",
    "version": 3
   },
   "file_extension": ".py",
   "mimetype": "text/x-python",
   "name": "python",
   "nbconvert_exporter": "python",
   "pygments_lexer": "ipython3",
   "version": "3.7.6"
  },
  "toc": {
   "base_numbering": 1,
   "nav_menu": {},
   "number_sections": true,
   "sideBar": true,
   "skip_h1_title": false,
   "title_cell": "Table of Contents",
   "title_sidebar": "Contents",
   "toc_cell": false,
   "toc_position": {},
   "toc_section_display": true,
   "toc_window_display": false
  },
  "varInspector": {
   "cols": {
    "lenName": 16,
    "lenType": 16,
    "lenVar": 40
   },
   "kernels_config": {
    "python": {
     "delete_cmd_postfix": "",
     "delete_cmd_prefix": "del ",
     "library": "var_list.py",
     "varRefreshCmd": "print(var_dic_list())"
    },
    "r": {
     "delete_cmd_postfix": ") ",
     "delete_cmd_prefix": "rm(",
     "library": "var_list.r",
     "varRefreshCmd": "cat(var_dic_list()) "
    }
   },
   "types_to_exclude": [
    "module",
    "function",
    "builtin_function_or_method",
    "instance",
    "_Feature"
   ],
   "window_display": false
  }
 },
 "nbformat": 4,
 "nbformat_minor": 4
}
