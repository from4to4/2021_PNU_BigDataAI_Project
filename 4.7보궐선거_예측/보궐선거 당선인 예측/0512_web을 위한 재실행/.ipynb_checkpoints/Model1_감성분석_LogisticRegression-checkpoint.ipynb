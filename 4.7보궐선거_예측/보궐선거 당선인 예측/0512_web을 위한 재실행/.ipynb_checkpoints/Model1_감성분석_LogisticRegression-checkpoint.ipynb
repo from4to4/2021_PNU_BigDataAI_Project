{
 "cells": [
  {
   "cell_type": "markdown",
   "metadata": {},
   "source": [
    "# 모델1\n",
    "- Feature\n",
    "    - **기사제목+댓글 텍스트**\n",
    "- Label\n",
    "    - **긍정/부정**\n",
    "\n",
    "\n",
    "- 학습 방법\n",
    "    - 시간 관계상, 학습을 위해 직접 긍정/부정 라벨링이 어렵기 때문에 **후보평가**와 **정당 평가** 중 하나도 있는 값을 y로 설정하여 학습시키기\n",
    "    - Logistic 이용"
   ]
  },
  {
   "cell_type": "code",
   "execution_count": 1,
   "metadata": {
    "ExecuteTime": {
     "end_time": "2021-05-12T05:25:32.557393Z",
     "start_time": "2021-05-12T05:25:31.558027Z"
    }
   },
   "outputs": [],
   "source": [
    "import pandas as pd\n",
    "import numpy as np\n",
    "import matplotlib.pyplot as plt \n",
    "import seaborn as sns \n",
    "import re\n",
    "from sklearn.model_selection import GridSearchCV\n",
    "from sklearn.metrics import accuracy_score, confusion_matrix\n",
    "import warnings\n",
    "\n",
    "# 모델 저장\n",
    "import pickle\n",
    "\n",
    "# KFold\n",
    "from sklearn.model_selection import KFold # 순서대로 하거나 or 랜덤하게 클래스를 나눈다.\n",
    "from sklearn.model_selection import StratifiedKFold # 결과데이터를 보고 각 클래스가 균등한 비율로 들어있게끔 나눈다.\n",
    "\n",
    "# 교차검증 함수\n",
    "from sklearn.model_selection import cross_val_score\n",
    "from sklearn.model_selection import cross_validate\n",
    "\n",
    "warnings.filterwarnings('ignore')\n",
    "plt.style.use('seaborn-whitegrid')\n",
    "plt.rcParams['font.family'] = 'Malgun Gothic'\n",
    "# plt.rcParams['font.family'] = 'AppleGothic'\n",
    "plt.rcParams['font.size'] = 10\n",
    "plt.rcParams['figure.figsize'] = 10,5\n",
    "plt.rcParams['axes.unicode_minus'] = False"
   ]
  },
  {
   "cell_type": "markdown",
   "metadata": {},
   "source": [
    "## 0. 데이터 불러오기"
   ]
  },
  {
   "cell_type": "code",
   "execution_count": 2,
   "metadata": {
    "ExecuteTime": {
     "end_time": "2021-05-12T05:25:33.909035Z",
     "start_time": "2021-05-12T05:25:32.558384Z"
    }
   },
   "outputs": [
    {
     "data": {
      "text/html": [
       "<div>\n",
       "<style scoped>\n",
       "    .dataframe tbody tr th:only-of-type {\n",
       "        vertical-align: middle;\n",
       "    }\n",
       "\n",
       "    .dataframe tbody tr th {\n",
       "        vertical-align: top;\n",
       "    }\n",
       "\n",
       "    .dataframe thead th {\n",
       "        text-align: right;\n",
       "    }\n",
       "</style>\n",
       "<table border=\"1\" class=\"dataframe\">\n",
       "  <thead>\n",
       "    <tr style=\"text-align: right;\">\n",
       "      <th></th>\n",
       "      <th>제목</th>\n",
       "      <th>날짜</th>\n",
       "      <th>작성일</th>\n",
       "      <th>댓글</th>\n",
       "      <th>출처</th>\n",
       "      <th>지역(서울:1, 부산:2)</th>\n",
       "      <th>정당(1:더불어민주당,2:국민의힘)</th>\n",
       "      <th>정당평가(부정;0, 긍정:1)</th>\n",
       "      <th>후보(기호 순)</th>\n",
       "      <th>후보평가(부정;0, 긍정:1)</th>\n",
       "      <th>제목댓글</th>\n",
       "    </tr>\n",
       "  </thead>\n",
       "  <tbody>\n",
       "    <tr>\n",
       "      <th>0</th>\n",
       "      <td>[재보궐 D-31] 부산 김영춘 vs 박형준, 서울도 양자 대결?</td>\n",
       "      <td>2021-03-07 05:57:00</td>\n",
       "      <td>2021-03-12 19:13:00</td>\n",
       "      <td>철수야! 뜸 들이지 말고 애국하는 마음으로 물러서라~~~</td>\n",
       "      <td>조선일보</td>\n",
       "      <td>NaN</td>\n",
       "      <td>NaN</td>\n",
       "      <td>NaN</td>\n",
       "      <td>NaN</td>\n",
       "      <td>NaN</td>\n",
       "      <td>[재보궐 D-31] 부산 김영춘 vs 박형준, 서울도 양자 대결? 철수야! 뜸 들이...</td>\n",
       "    </tr>\n",
       "    <tr>\n",
       "      <th>1</th>\n",
       "      <td>[재보궐 D-31] 부산 김영춘 vs 박형준, 서울도 양자 대결?</td>\n",
       "      <td>2021-03-07 05:57:00</td>\n",
       "      <td>2021-03-09 13:49:00</td>\n",
       "      <td>박영선은 정동영이 얻은 36프로선에 머무를것. 4.7.이후 OOO정권은 몰락의 길 ...</td>\n",
       "      <td>조선일보</td>\n",
       "      <td>1.0</td>\n",
       "      <td>NaN</td>\n",
       "      <td>NaN</td>\n",
       "      <td>1.0</td>\n",
       "      <td>0.0</td>\n",
       "      <td>[재보궐 D-31] 부산 김영춘 vs 박형준, 서울도 양자 대결? 박영선은 정동영이...</td>\n",
       "    </tr>\n",
       "    <tr>\n",
       "      <th>2</th>\n",
       "      <td>[재보궐 D-31] 부산 김영춘 vs 박형준, 서울도 양자 대결?</td>\n",
       "      <td>2021-03-07 05:57:00</td>\n",
       "      <td>2021-03-07 14:42:00</td>\n",
       "      <td>빵선이가서울시장되면서울은공산국가수도제2의평양이될것이다</td>\n",
       "      <td>조선일보</td>\n",
       "      <td>1.0</td>\n",
       "      <td>NaN</td>\n",
       "      <td>NaN</td>\n",
       "      <td>1.0</td>\n",
       "      <td>0.0</td>\n",
       "      <td>[재보궐 D-31] 부산 김영춘 vs 박형준, 서울도 양자 대결? 빵선이가서울시장되...</td>\n",
       "    </tr>\n",
       "    <tr>\n",
       "      <th>3</th>\n",
       "      <td>[재보궐 D-31] 부산 김영춘 vs 박형준, 서울도 양자 대결?</td>\n",
       "      <td>2021-03-07 05:57:00</td>\n",
       "      <td>2021-03-07 14:38:00</td>\n",
       "      <td>서울시장후보더듬당박빵선이는절대로서울시장을할수없다이유는가족은미국.영국에 영주권자이므로...</td>\n",
       "      <td>조선일보</td>\n",
       "      <td>1.0</td>\n",
       "      <td>1.0</td>\n",
       "      <td>0.0</td>\n",
       "      <td>1.0</td>\n",
       "      <td>0.0</td>\n",
       "      <td>[재보궐 D-31] 부산 김영춘 vs 박형준, 서울도 양자 대결? 서울시장후보더듬당...</td>\n",
       "    </tr>\n",
       "    <tr>\n",
       "      <th>4</th>\n",
       "      <td>[재보궐 D-31] 부산 김영춘 vs 박형준, 서울도 양자 대결?</td>\n",
       "      <td>2021-03-07 05:57:00</td>\n",
       "      <td>2021-03-07 14:02:00</td>\n",
       "      <td>부산은오거돈선거이고 오거돈치부선거아닌가 오거돈에 성추해으로 생긴선거가 가독도신공항은...</td>\n",
       "      <td>조선일보</td>\n",
       "      <td>2.0</td>\n",
       "      <td>1.0</td>\n",
       "      <td>0.0</td>\n",
       "      <td>NaN</td>\n",
       "      <td>NaN</td>\n",
       "      <td>[재보궐 D-31] 부산 김영춘 vs 박형준, 서울도 양자 대결? 부산은오거돈선거이...</td>\n",
       "    </tr>\n",
       "    <tr>\n",
       "      <th>...</th>\n",
       "      <td>...</td>\n",
       "      <td>...</td>\n",
       "      <td>...</td>\n",
       "      <td>...</td>\n",
       "      <td>...</td>\n",
       "      <td>...</td>\n",
       "      <td>...</td>\n",
       "      <td>...</td>\n",
       "      <td>...</td>\n",
       "      <td>...</td>\n",
       "      <td>...</td>\n",
       "    </tr>\n",
       "    <tr>\n",
       "      <th>144134</th>\n",
       "      <td>[논설위원의 단도직입]“한·일해저터널 경제성 없지만…동북아 경제권 차원서 장기 검토해야”</td>\n",
       "      <td>2021-04-06 21:56:00</td>\n",
       "      <td>2021-04-06 22:47:00</td>\n",
       "      <td>국민의힘 찍지 말라고 이 뉴스가 나온거임\\r\\n내냔에 국민의힘 찍을라 했드만 망했다...</td>\n",
       "      <td>경향신문</td>\n",
       "      <td>NaN</td>\n",
       "      <td>NaN</td>\n",
       "      <td>NaN</td>\n",
       "      <td>NaN</td>\n",
       "      <td>NaN</td>\n",
       "      <td>[논설위원의 단도직입]“한·일해저터널 경제성 없지만…동북아 경제권 차원서 장기 검토...</td>\n",
       "    </tr>\n",
       "    <tr>\n",
       "      <th>144135</th>\n",
       "      <td>[논설위원의 단도직입]“한·일해저터널 경제성 없지만…동북아 경제권 차원서 장기 검토해야”</td>\n",
       "      <td>2021-04-06 21:56:00</td>\n",
       "      <td>2021-04-06 22:41:00</td>\n",
       "      <td>굳이 일본과 해저터널 해야되는 이유가 없은이유\\r\\n-일본은고속도로비가 비싸다\\r\\...</td>\n",
       "      <td>경향신문</td>\n",
       "      <td>NaN</td>\n",
       "      <td>NaN</td>\n",
       "      <td>NaN</td>\n",
       "      <td>NaN</td>\n",
       "      <td>NaN</td>\n",
       "      <td>[논설위원의 단도직입]“한·일해저터널 경제성 없지만…동북아 경제권 차원서 장기 검토...</td>\n",
       "    </tr>\n",
       "    <tr>\n",
       "      <th>144136</th>\n",
       "      <td>[논설위원의 단도직입]“한·일해저터널 경제성 없지만…동북아 경제권 차원서 장기 검토해야”</td>\n",
       "      <td>2021-04-06 21:56:00</td>\n",
       "      <td>2021-04-06 22:38:00</td>\n",
       "      <td>도랏구나. 열도는 걍 갈라파고스로 남겨 둬라. 재난 난민 넘어 오면 귀찮다.</td>\n",
       "      <td>경향신문</td>\n",
       "      <td>NaN</td>\n",
       "      <td>NaN</td>\n",
       "      <td>NaN</td>\n",
       "      <td>NaN</td>\n",
       "      <td>NaN</td>\n",
       "      <td>[논설위원의 단도직입]“한·일해저터널 경제성 없지만…동북아 경제권 차원서 장기 검토...</td>\n",
       "    </tr>\n",
       "    <tr>\n",
       "      <th>144137</th>\n",
       "      <td>[논설위원의 단도직입]“한·일해저터널 경제성 없지만…동북아 경제권 차원서 장기 검토해야”</td>\n",
       "      <td>2021-04-06 21:56:00</td>\n",
       "      <td>2021-04-06 22:32:00</td>\n",
       "      <td>이걸 왜 하지? 우리한테 아무런 의미가 없는데</td>\n",
       "      <td>경향신문</td>\n",
       "      <td>NaN</td>\n",
       "      <td>NaN</td>\n",
       "      <td>NaN</td>\n",
       "      <td>NaN</td>\n",
       "      <td>NaN</td>\n",
       "      <td>[논설위원의 단도직입]“한·일해저터널 경제성 없지만…동북아 경제권 차원서 장기 검토...</td>\n",
       "    </tr>\n",
       "    <tr>\n",
       "      <th>144138</th>\n",
       "      <td>[논설위원의 단도직입]“한·일해저터널 경제성 없지만…동북아 경제권 차원서 장기 검토해야”</td>\n",
       "      <td>2021-04-06 21:56:00</td>\n",
       "      <td>2021-04-06 22:26:00</td>\n",
       "      <td>우리에겐 아무런 도움이 되지 않는 것을 일본에게는 엄청난 기회가 되는 것을 왜 굳이...</td>\n",
       "      <td>경향신문</td>\n",
       "      <td>NaN</td>\n",
       "      <td>NaN</td>\n",
       "      <td>NaN</td>\n",
       "      <td>NaN</td>\n",
       "      <td>NaN</td>\n",
       "      <td>[논설위원의 단도직입]“한·일해저터널 경제성 없지만…동북아 경제권 차원서 장기 검토...</td>\n",
       "    </tr>\n",
       "  </tbody>\n",
       "</table>\n",
       "<p>144139 rows × 11 columns</p>\n",
       "</div>"
      ],
      "text/plain": [
       "                                                       제목  \\\n",
       "0                    [재보궐 D-31] 부산 김영춘 vs 박형준, 서울도 양자 대결?   \n",
       "1                    [재보궐 D-31] 부산 김영춘 vs 박형준, 서울도 양자 대결?   \n",
       "2                    [재보궐 D-31] 부산 김영춘 vs 박형준, 서울도 양자 대결?   \n",
       "3                    [재보궐 D-31] 부산 김영춘 vs 박형준, 서울도 양자 대결?   \n",
       "4                    [재보궐 D-31] 부산 김영춘 vs 박형준, 서울도 양자 대결?   \n",
       "...                                                   ...   \n",
       "144134  [논설위원의 단도직입]“한·일해저터널 경제성 없지만…동북아 경제권 차원서 장기 검토해야”   \n",
       "144135  [논설위원의 단도직입]“한·일해저터널 경제성 없지만…동북아 경제권 차원서 장기 검토해야”   \n",
       "144136  [논설위원의 단도직입]“한·일해저터널 경제성 없지만…동북아 경제권 차원서 장기 검토해야”   \n",
       "144137  [논설위원의 단도직입]“한·일해저터널 경제성 없지만…동북아 경제권 차원서 장기 검토해야”   \n",
       "144138  [논설위원의 단도직입]“한·일해저터널 경제성 없지만…동북아 경제권 차원서 장기 검토해야”   \n",
       "\n",
       "                         날짜                  작성일  \\\n",
       "0       2021-03-07 05:57:00  2021-03-12 19:13:00   \n",
       "1       2021-03-07 05:57:00  2021-03-09 13:49:00   \n",
       "2       2021-03-07 05:57:00  2021-03-07 14:42:00   \n",
       "3       2021-03-07 05:57:00  2021-03-07 14:38:00   \n",
       "4       2021-03-07 05:57:00  2021-03-07 14:02:00   \n",
       "...                     ...                  ...   \n",
       "144134  2021-04-06 21:56:00  2021-04-06 22:47:00   \n",
       "144135  2021-04-06 21:56:00  2021-04-06 22:41:00   \n",
       "144136  2021-04-06 21:56:00  2021-04-06 22:38:00   \n",
       "144137  2021-04-06 21:56:00  2021-04-06 22:32:00   \n",
       "144138  2021-04-06 21:56:00  2021-04-06 22:26:00   \n",
       "\n",
       "                                                       댓글    출처  \\\n",
       "0                         철수야! 뜸 들이지 말고 애국하는 마음으로 물러서라~~~  조선일보   \n",
       "1       박영선은 정동영이 얻은 36프로선에 머무를것. 4.7.이후 OOO정권은 몰락의 길 ...  조선일보   \n",
       "2                           빵선이가서울시장되면서울은공산국가수도제2의평양이될것이다  조선일보   \n",
       "3       서울시장후보더듬당박빵선이는절대로서울시장을할수없다이유는가족은미국.영국에 영주권자이므로...  조선일보   \n",
       "4       부산은오거돈선거이고 오거돈치부선거아닌가 오거돈에 성추해으로 생긴선거가 가독도신공항은...  조선일보   \n",
       "...                                                   ...   ...   \n",
       "144134  국민의힘 찍지 말라고 이 뉴스가 나온거임\\r\\n내냔에 국민의힘 찍을라 했드만 망했다...  경향신문   \n",
       "144135  굳이 일본과 해저터널 해야되는 이유가 없은이유\\r\\n-일본은고속도로비가 비싸다\\r\\...  경향신문   \n",
       "144136         도랏구나. 열도는 걍 갈라파고스로 남겨 둬라. 재난 난민 넘어 오면 귀찮다.  경향신문   \n",
       "144137                          이걸 왜 하지? 우리한테 아무런 의미가 없는데  경향신문   \n",
       "144138  우리에겐 아무런 도움이 되지 않는 것을 일본에게는 엄청난 기회가 되는 것을 왜 굳이...  경향신문   \n",
       "\n",
       "        지역(서울:1, 부산:2)  정당(1:더불어민주당,2:국민의힘)  정당평가(부정;0, 긍정:1)  후보(기호 순)  \\\n",
       "0                  NaN                  NaN               NaN       NaN   \n",
       "1                  1.0                  NaN               NaN       1.0   \n",
       "2                  1.0                  NaN               NaN       1.0   \n",
       "3                  1.0                  1.0               0.0       1.0   \n",
       "4                  2.0                  1.0               0.0       NaN   \n",
       "...                ...                  ...               ...       ...   \n",
       "144134             NaN                  NaN               NaN       NaN   \n",
       "144135             NaN                  NaN               NaN       NaN   \n",
       "144136             NaN                  NaN               NaN       NaN   \n",
       "144137             NaN                  NaN               NaN       NaN   \n",
       "144138             NaN                  NaN               NaN       NaN   \n",
       "\n",
       "        후보평가(부정;0, 긍정:1)                                               제목댓글  \n",
       "0                    NaN  [재보궐 D-31] 부산 김영춘 vs 박형준, 서울도 양자 대결? 철수야! 뜸 들이...  \n",
       "1                    0.0  [재보궐 D-31] 부산 김영춘 vs 박형준, 서울도 양자 대결? 박영선은 정동영이...  \n",
       "2                    0.0  [재보궐 D-31] 부산 김영춘 vs 박형준, 서울도 양자 대결? 빵선이가서울시장되...  \n",
       "3                    0.0  [재보궐 D-31] 부산 김영춘 vs 박형준, 서울도 양자 대결? 서울시장후보더듬당...  \n",
       "4                    NaN  [재보궐 D-31] 부산 김영춘 vs 박형준, 서울도 양자 대결? 부산은오거돈선거이...  \n",
       "...                  ...                                                ...  \n",
       "144134               NaN  [논설위원의 단도직입]“한·일해저터널 경제성 없지만…동북아 경제권 차원서 장기 검토...  \n",
       "144135               NaN  [논설위원의 단도직입]“한·일해저터널 경제성 없지만…동북아 경제권 차원서 장기 검토...  \n",
       "144136               NaN  [논설위원의 단도직입]“한·일해저터널 경제성 없지만…동북아 경제권 차원서 장기 검토...  \n",
       "144137               NaN  [논설위원의 단도직입]“한·일해저터널 경제성 없지만…동북아 경제권 차원서 장기 검토...  \n",
       "144138               NaN  [논설위원의 단도직입]“한·일해저터널 경제성 없지만…동북아 경제권 차원서 장기 검토...  \n",
       "\n",
       "[144139 rows x 11 columns]"
      ]
     },
     "execution_count": 2,
     "metadata": {},
     "output_type": "execute_result"
    }
   ],
   "source": [
    "df = pd.read_csv('./data/재보궐선거댓글데이터_최종_유튜브수정_0429.csv')\n",
    "df"
   ]
  },
  {
   "cell_type": "code",
   "execution_count": 3,
   "metadata": {
    "ExecuteTime": {
     "end_time": "2021-05-12T05:25:33.913994Z",
     "start_time": "2021-05-12T05:25:33.910003Z"
    }
   },
   "outputs": [
    {
     "data": {
      "text/plain": [
       "(144139, 11)"
      ]
     },
     "execution_count": 3,
     "metadata": {},
     "output_type": "execute_result"
    }
   ],
   "source": [
    "# 데이터 구조\n",
    "df.shape"
   ]
  },
  {
   "cell_type": "code",
   "execution_count": 4,
   "metadata": {
    "ExecuteTime": {
     "end_time": "2021-05-12T05:25:33.943912Z",
     "start_time": "2021-05-12T05:25:33.914991Z"
    },
    "scrolled": true
   },
   "outputs": [
    {
     "data": {
      "text/html": [
       "<div>\n",
       "<style scoped>\n",
       "    .dataframe tbody tr th:only-of-type {\n",
       "        vertical-align: middle;\n",
       "    }\n",
       "\n",
       "    .dataframe tbody tr th {\n",
       "        vertical-align: top;\n",
       "    }\n",
       "\n",
       "    .dataframe thead th {\n",
       "        text-align: right;\n",
       "    }\n",
       "</style>\n",
       "<table border=\"1\" class=\"dataframe\">\n",
       "  <thead>\n",
       "    <tr style=\"text-align: right;\">\n",
       "      <th></th>\n",
       "      <th>작성일</th>\n",
       "      <th>출처</th>\n",
       "      <th>지역(서울:1, 부산:2)</th>\n",
       "      <th>정당(1:더불어민주당,2:국민의힘)</th>\n",
       "      <th>정당평가(부정;0, 긍정:1)</th>\n",
       "      <th>후보(기호 순)</th>\n",
       "      <th>후보평가(부정;0, 긍정:1)</th>\n",
       "      <th>제목댓글</th>\n",
       "    </tr>\n",
       "  </thead>\n",
       "  <tbody>\n",
       "    <tr>\n",
       "      <th>0</th>\n",
       "      <td>2021-03-12 19:13:00</td>\n",
       "      <td>조선일보</td>\n",
       "      <td>NaN</td>\n",
       "      <td>NaN</td>\n",
       "      <td>NaN</td>\n",
       "      <td>NaN</td>\n",
       "      <td>NaN</td>\n",
       "      <td>[재보궐 D-31] 부산 김영춘 vs 박형준, 서울도 양자 대결? 철수야! 뜸 들이...</td>\n",
       "    </tr>\n",
       "    <tr>\n",
       "      <th>1</th>\n",
       "      <td>2021-03-09 13:49:00</td>\n",
       "      <td>조선일보</td>\n",
       "      <td>1.0</td>\n",
       "      <td>NaN</td>\n",
       "      <td>NaN</td>\n",
       "      <td>1.0</td>\n",
       "      <td>0.0</td>\n",
       "      <td>[재보궐 D-31] 부산 김영춘 vs 박형준, 서울도 양자 대결? 박영선은 정동영이...</td>\n",
       "    </tr>\n",
       "  </tbody>\n",
       "</table>\n",
       "</div>"
      ],
      "text/plain": [
       "                   작성일    출처  지역(서울:1, 부산:2)  정당(1:더불어민주당,2:국민의힘)  \\\n",
       "0  2021-03-12 19:13:00  조선일보             NaN                  NaN   \n",
       "1  2021-03-09 13:49:00  조선일보             1.0                  NaN   \n",
       "\n",
       "   정당평가(부정;0, 긍정:1)  후보(기호 순)  후보평가(부정;0, 긍정:1)  \\\n",
       "0               NaN       NaN               NaN   \n",
       "1               NaN       1.0               0.0   \n",
       "\n",
       "                                                제목댓글  \n",
       "0  [재보궐 D-31] 부산 김영춘 vs 박형준, 서울도 양자 대결? 철수야! 뜸 들이...  \n",
       "1  [재보궐 D-31] 부산 김영춘 vs 박형준, 서울도 양자 대결? 박영선은 정동영이...  "
      ]
     },
     "execution_count": 4,
     "metadata": {},
     "output_type": "execute_result"
    }
   ],
   "source": [
    "# 제목과 댓글은 '제목 댓글 컬럼' 존재로 삭제\n",
    "# 기사가 작성된 날짜는 삭제\n",
    "df = df.drop( columns=['제목','날짜','댓글'])\n",
    "df.head(2)"
   ]
  },
  {
   "cell_type": "code",
   "execution_count": 5,
   "metadata": {
    "ExecuteTime": {
     "end_time": "2021-05-12T05:25:33.960869Z",
     "start_time": "2021-05-12T05:25:33.944910Z"
    }
   },
   "outputs": [
    {
     "data": {
      "text/html": [
       "<div>\n",
       "<style scoped>\n",
       "    .dataframe tbody tr th:only-of-type {\n",
       "        vertical-align: middle;\n",
       "    }\n",
       "\n",
       "    .dataframe tbody tr th {\n",
       "        vertical-align: top;\n",
       "    }\n",
       "\n",
       "    .dataframe thead th {\n",
       "        text-align: right;\n",
       "    }\n",
       "</style>\n",
       "<table border=\"1\" class=\"dataframe\">\n",
       "  <thead>\n",
       "    <tr style=\"text-align: right;\">\n",
       "      <th></th>\n",
       "      <th>date</th>\n",
       "      <th>press</th>\n",
       "      <th>area</th>\n",
       "      <th>party</th>\n",
       "      <th>party_eval</th>\n",
       "      <th>candidate</th>\n",
       "      <th>candidate_eval</th>\n",
       "      <th>title_comment</th>\n",
       "    </tr>\n",
       "  </thead>\n",
       "  <tbody>\n",
       "    <tr>\n",
       "      <th>0</th>\n",
       "      <td>2021-03-12 19:13:00</td>\n",
       "      <td>조선일보</td>\n",
       "      <td>NaN</td>\n",
       "      <td>NaN</td>\n",
       "      <td>NaN</td>\n",
       "      <td>NaN</td>\n",
       "      <td>NaN</td>\n",
       "      <td>[재보궐 D-31] 부산 김영춘 vs 박형준, 서울도 양자 대결? 철수야! 뜸 들이...</td>\n",
       "    </tr>\n",
       "    <tr>\n",
       "      <th>1</th>\n",
       "      <td>2021-03-09 13:49:00</td>\n",
       "      <td>조선일보</td>\n",
       "      <td>1.0</td>\n",
       "      <td>NaN</td>\n",
       "      <td>NaN</td>\n",
       "      <td>1.0</td>\n",
       "      <td>0.0</td>\n",
       "      <td>[재보궐 D-31] 부산 김영춘 vs 박형준, 서울도 양자 대결? 박영선은 정동영이...</td>\n",
       "    </tr>\n",
       "    <tr>\n",
       "      <th>2</th>\n",
       "      <td>2021-03-07 14:42:00</td>\n",
       "      <td>조선일보</td>\n",
       "      <td>1.0</td>\n",
       "      <td>NaN</td>\n",
       "      <td>NaN</td>\n",
       "      <td>1.0</td>\n",
       "      <td>0.0</td>\n",
       "      <td>[재보궐 D-31] 부산 김영춘 vs 박형준, 서울도 양자 대결? 빵선이가서울시장되...</td>\n",
       "    </tr>\n",
       "    <tr>\n",
       "      <th>3</th>\n",
       "      <td>2021-03-07 14:38:00</td>\n",
       "      <td>조선일보</td>\n",
       "      <td>1.0</td>\n",
       "      <td>1.0</td>\n",
       "      <td>0.0</td>\n",
       "      <td>1.0</td>\n",
       "      <td>0.0</td>\n",
       "      <td>[재보궐 D-31] 부산 김영춘 vs 박형준, 서울도 양자 대결? 서울시장후보더듬당...</td>\n",
       "    </tr>\n",
       "    <tr>\n",
       "      <th>4</th>\n",
       "      <td>2021-03-07 14:02:00</td>\n",
       "      <td>조선일보</td>\n",
       "      <td>2.0</td>\n",
       "      <td>1.0</td>\n",
       "      <td>0.0</td>\n",
       "      <td>NaN</td>\n",
       "      <td>NaN</td>\n",
       "      <td>[재보궐 D-31] 부산 김영춘 vs 박형준, 서울도 양자 대결? 부산은오거돈선거이...</td>\n",
       "    </tr>\n",
       "  </tbody>\n",
       "</table>\n",
       "</div>"
      ],
      "text/plain": [
       "                  date press  area  party  party_eval  candidate  \\\n",
       "0  2021-03-12 19:13:00  조선일보   NaN    NaN         NaN        NaN   \n",
       "1  2021-03-09 13:49:00  조선일보   1.0    NaN         NaN        1.0   \n",
       "2  2021-03-07 14:42:00  조선일보   1.0    NaN         NaN        1.0   \n",
       "3  2021-03-07 14:38:00  조선일보   1.0    1.0         0.0        1.0   \n",
       "4  2021-03-07 14:02:00  조선일보   2.0    1.0         0.0        NaN   \n",
       "\n",
       "   candidate_eval                                      title_comment  \n",
       "0             NaN  [재보궐 D-31] 부산 김영춘 vs 박형준, 서울도 양자 대결? 철수야! 뜸 들이...  \n",
       "1             0.0  [재보궐 D-31] 부산 김영춘 vs 박형준, 서울도 양자 대결? 박영선은 정동영이...  \n",
       "2             0.0  [재보궐 D-31] 부산 김영춘 vs 박형준, 서울도 양자 대결? 빵선이가서울시장되...  \n",
       "3             0.0  [재보궐 D-31] 부산 김영춘 vs 박형준, 서울도 양자 대결? 서울시장후보더듬당...  \n",
       "4             NaN  [재보궐 D-31] 부산 김영춘 vs 박형준, 서울도 양자 대결? 부산은오거돈선거이...  "
      ]
     },
     "execution_count": 5,
     "metadata": {},
     "output_type": "execute_result"
    }
   ],
   "source": [
    "# 컬럼 이름 영어로 변경\n",
    "cols = ['date','press','area', 'party','party_eval', \n",
    "        'candidate','candidate_eval','title_comment']\n",
    "df.columns = cols\n",
    "df.head()"
   ]
  },
  {
   "cell_type": "markdown",
   "metadata": {},
   "source": [
    "## 1. Feature-label \n",
    "- 정당평가, 후보자평가 둘 중 하나라도 nan이 아니면 값으로 받기\n",
    "- 텍스트에 대해 직접 긍정/부정 라벨링을 해야하나 시간 관계상, 정당평가나 후보자 평가 중 하나라도 있으면 이를 y값으로 두어 학습시키기"
   ]
  },
  {
   "cell_type": "code",
   "execution_count": 6,
   "metadata": {
    "ExecuteTime": {
     "end_time": "2021-05-12T05:25:34.070574Z",
     "start_time": "2021-05-12T05:25:33.961865Z"
    }
   },
   "outputs": [
    {
     "name": "stdout",
     "output_type": "stream",
     "text": [
      "1780 2330 263\n",
      "4373\n"
     ]
    }
   ],
   "source": [
    "# 둘 중 하나라도 값이 있으면 인덱스 추출\n",
    "\n",
    "# 값을 담을 리스트\n",
    "A = []\n",
    "B =[]\n",
    "A_B = []\n",
    "\n",
    "for p, c in zip( df['party_eval'].items(), df['candidate_eval'].items()):\n",
    "    # 정당평가 有, 후보평가 無\n",
    "    if (p[1] in [1.0,0.0]) & (c[1] not in [1.0,0.0]):\n",
    "#         print(p[0], p[1])\n",
    "        A.append(p[0])\n",
    "    \n",
    "    # 정당평가 無, 후보평가 有\n",
    "    elif (p[1] not in [1.0,0.0]) & ( c[1] in [1.0,0.0]):\n",
    "#         print(p[1], c[1])\n",
    "#         print(p[0], c[0])\n",
    "        B.append(c[0])\n",
    "    \n",
    "    # 정당평가 有, 후보평가 有\n",
    "    elif (p[1] in [1.0,0.0]) & (c[1] in [1.0,0.0]):\n",
    "#         print(p[1], c[1])\n",
    "        A_B.append(p[0])\n",
    "        \n",
    "print(len(A), len(B), len(A_B))\n",
    "print( len(A)+len(B)+len(A_B)) # 가용한 총 데이터수"
   ]
  },
  {
   "cell_type": "code",
   "execution_count": 7,
   "metadata": {
    "ExecuteTime": {
     "end_time": "2021-05-12T05:25:34.076558Z",
     "start_time": "2021-05-12T05:25:34.072569Z"
    },
    "scrolled": true
   },
   "outputs": [
    {
     "data": {
      "text/plain": [
       "4373"
      ]
     },
     "execution_count": 7,
     "metadata": {},
     "output_type": "execute_result"
    }
   ],
   "source": [
    "# 리스트를 하나로 묶기\n",
    "index = A+ B + A_B\n",
    "len(index)"
   ]
  },
  {
   "cell_type": "code",
   "execution_count": 8,
   "metadata": {
    "ExecuteTime": {
     "end_time": "2021-05-12T05:25:34.100505Z",
     "start_time": "2021-05-12T05:25:34.077556Z"
    }
   },
   "outputs": [
    {
     "name": "stdout",
     "output_type": "stream",
     "text": [
      "(4373, 8)\n"
     ]
    }
   ],
   "source": [
    "# 둘 중 하나라도 있는 값만을 데이터 프레임으로 형성, 혹시 모를 NaN값 삭제\n",
    "index2 = df.iloc[index][['party_eval','candidate_eval']].dropna(how='all').index\n",
    "df2 = df.iloc[index2]\n",
    "print(df2.shape)\n",
    "\n",
    "# 인덱스 재배열\n",
    "df2.reset_index(inplace=True) "
   ]
  },
  {
   "cell_type": "code",
   "execution_count": 9,
   "metadata": {
    "ExecuteTime": {
     "end_time": "2021-05-12T05:25:34.118446Z",
     "start_time": "2021-05-12T05:25:34.101492Z"
    }
   },
   "outputs": [
    {
     "data": {
      "text/html": [
       "<div>\n",
       "<style scoped>\n",
       "    .dataframe tbody tr th:only-of-type {\n",
       "        vertical-align: middle;\n",
       "    }\n",
       "\n",
       "    .dataframe tbody tr th {\n",
       "        vertical-align: top;\n",
       "    }\n",
       "\n",
       "    .dataframe thead th {\n",
       "        text-align: right;\n",
       "    }\n",
       "</style>\n",
       "<table border=\"1\" class=\"dataframe\">\n",
       "  <thead>\n",
       "    <tr style=\"text-align: right;\">\n",
       "      <th></th>\n",
       "      <th>index</th>\n",
       "      <th>date</th>\n",
       "      <th>press</th>\n",
       "      <th>area</th>\n",
       "      <th>party</th>\n",
       "      <th>party_eval</th>\n",
       "      <th>candidate</th>\n",
       "      <th>candidate_eval</th>\n",
       "      <th>title_comment</th>\n",
       "    </tr>\n",
       "  </thead>\n",
       "  <tbody>\n",
       "    <tr>\n",
       "      <th>0</th>\n",
       "      <td>4</td>\n",
       "      <td>2021-03-07 14:02:00</td>\n",
       "      <td>조선일보</td>\n",
       "      <td>2.0</td>\n",
       "      <td>1.0</td>\n",
       "      <td>0.0</td>\n",
       "      <td>NaN</td>\n",
       "      <td>NaN</td>\n",
       "      <td>[재보궐 D-31] 부산 김영춘 vs 박형준, 서울도 양자 대결? 부산은오거돈선거이...</td>\n",
       "    </tr>\n",
       "    <tr>\n",
       "      <th>1</th>\n",
       "      <td>5</td>\n",
       "      <td>2021-03-07 13:15:00</td>\n",
       "      <td>조선일보</td>\n",
       "      <td>NaN</td>\n",
       "      <td>1.0</td>\n",
       "      <td>0.0</td>\n",
       "      <td>NaN</td>\n",
       "      <td>NaN</td>\n",
       "      <td>[재보궐 D-31] 부산 김영춘 vs 박형준, 서울도 양자 대결? 일단 일자리와 경...</td>\n",
       "    </tr>\n",
       "    <tr>\n",
       "      <th>2</th>\n",
       "      <td>11</td>\n",
       "      <td>2021-03-07 09:50:00</td>\n",
       "      <td>조선일보</td>\n",
       "      <td>NaN</td>\n",
       "      <td>1.0</td>\n",
       "      <td>0.0</td>\n",
       "      <td>NaN</td>\n",
       "      <td>NaN</td>\n",
       "      <td>[재보궐 D-31] 부산 김영춘 vs 박형준, 서울도 양자 대결? 수십조 세금을 평...</td>\n",
       "    </tr>\n",
       "    <tr>\n",
       "      <th>3</th>\n",
       "      <td>19</td>\n",
       "      <td>2021-03-07 08:23:00</td>\n",
       "      <td>조선일보</td>\n",
       "      <td>1.0</td>\n",
       "      <td>1.0</td>\n",
       "      <td>0.0</td>\n",
       "      <td>NaN</td>\n",
       "      <td>NaN</td>\n",
       "      <td>[재보궐 D-31] 부산 김영춘 vs 박형준, 서울도 양자 대결? 박원순의 성폭력 ...</td>\n",
       "    </tr>\n",
       "    <tr>\n",
       "      <th>4</th>\n",
       "      <td>21</td>\n",
       "      <td>2021-03-07 08:21:00</td>\n",
       "      <td>조선일보</td>\n",
       "      <td>NaN</td>\n",
       "      <td>1.0</td>\n",
       "      <td>1.0</td>\n",
       "      <td>NaN</td>\n",
       "      <td>NaN</td>\n",
       "      <td>[재보궐 D-31] 부산 김영춘 vs 박형준, 서울도 양자 대결? 이번 보궐선거는 ...</td>\n",
       "    </tr>\n",
       "    <tr>\n",
       "      <th>...</th>\n",
       "      <td>...</td>\n",
       "      <td>...</td>\n",
       "      <td>...</td>\n",
       "      <td>...</td>\n",
       "      <td>...</td>\n",
       "      <td>...</td>\n",
       "      <td>...</td>\n",
       "      <td>...</td>\n",
       "      <td>...</td>\n",
       "    </tr>\n",
       "    <tr>\n",
       "      <th>4368</th>\n",
       "      <td>92110</td>\n",
       "      <td>2021-03-04 11:46:00</td>\n",
       "      <td>한겨레</td>\n",
       "      <td>NaN</td>\n",
       "      <td>2.0</td>\n",
       "      <td>0.0</td>\n",
       "      <td>2.0</td>\n",
       "      <td>0.0</td>\n",
       "      <td>‘나경원 대세론’ 꺾은 오세훈…“임기 못마친 죄 갚겠다” 울먹 쟤 쥐새끼 똘마니야\\...</td>\n",
       "    </tr>\n",
       "    <tr>\n",
       "      <th>4369</th>\n",
       "      <td>92122</td>\n",
       "      <td>2021-03-04 11:00:00</td>\n",
       "      <td>한겨레</td>\n",
       "      <td>1.0</td>\n",
       "      <td>2.0</td>\n",
       "      <td>0.0</td>\n",
       "      <td>2.0</td>\n",
       "      <td>0.0</td>\n",
       "      <td>‘나경원 대세론’ 꺾은 오세훈…“임기 못마친 죄 갚겠다” 울먹 이런자가 시장 후보라...</td>\n",
       "    </tr>\n",
       "    <tr>\n",
       "      <th>4370</th>\n",
       "      <td>92137</td>\n",
       "      <td>2021-03-04 10:27:00</td>\n",
       "      <td>한겨레</td>\n",
       "      <td>1.0</td>\n",
       "      <td>2.0</td>\n",
       "      <td>0.0</td>\n",
       "      <td>2.0</td>\n",
       "      <td>0.0</td>\n",
       "      <td>‘나경원 대세론’ 꺾은 오세훈…“임기 못마친 죄 갚겠다” 울먹 그럼 저 치가 아이들...</td>\n",
       "    </tr>\n",
       "    <tr>\n",
       "      <th>4371</th>\n",
       "      <td>92138</td>\n",
       "      <td>2021-03-04 10:23:00</td>\n",
       "      <td>한겨레</td>\n",
       "      <td>1.0</td>\n",
       "      <td>2.0</td>\n",
       "      <td>0.0</td>\n",
       "      <td>2.0</td>\n",
       "      <td>0.0</td>\n",
       "      <td>‘나경원 대세론’ 꺾은 오세훈…“임기 못마친 죄 갚겠다” 울먹 정권심판이라........</td>\n",
       "    </tr>\n",
       "    <tr>\n",
       "      <th>4372</th>\n",
       "      <td>92655</td>\n",
       "      <td>2021-04-05 21:24:00</td>\n",
       "      <td>한겨레</td>\n",
       "      <td>1.0</td>\n",
       "      <td>1.0</td>\n",
       "      <td>0.0</td>\n",
       "      <td>1.0</td>\n",
       "      <td>0.0</td>\n",
       "      <td>민주 “오세훈, 10년 전 식목 행사에 2500만원짜리 ‘의전용 계단’” 정말나쁜정...</td>\n",
       "    </tr>\n",
       "  </tbody>\n",
       "</table>\n",
       "<p>4373 rows × 9 columns</p>\n",
       "</div>"
      ],
      "text/plain": [
       "      index                 date press  area  party  party_eval  candidate  \\\n",
       "0         4  2021-03-07 14:02:00  조선일보   2.0    1.0         0.0        NaN   \n",
       "1         5  2021-03-07 13:15:00  조선일보   NaN    1.0         0.0        NaN   \n",
       "2        11  2021-03-07 09:50:00  조선일보   NaN    1.0         0.0        NaN   \n",
       "3        19  2021-03-07 08:23:00  조선일보   1.0    1.0         0.0        NaN   \n",
       "4        21  2021-03-07 08:21:00  조선일보   NaN    1.0         1.0        NaN   \n",
       "...     ...                  ...   ...   ...    ...         ...        ...   \n",
       "4368  92110  2021-03-04 11:46:00   한겨레   NaN    2.0         0.0        2.0   \n",
       "4369  92122  2021-03-04 11:00:00   한겨레   1.0    2.0         0.0        2.0   \n",
       "4370  92137  2021-03-04 10:27:00   한겨레   1.0    2.0         0.0        2.0   \n",
       "4371  92138  2021-03-04 10:23:00   한겨레   1.0    2.0         0.0        2.0   \n",
       "4372  92655  2021-04-05 21:24:00   한겨레   1.0    1.0         0.0        1.0   \n",
       "\n",
       "      candidate_eval                                      title_comment  \n",
       "0                NaN  [재보궐 D-31] 부산 김영춘 vs 박형준, 서울도 양자 대결? 부산은오거돈선거이...  \n",
       "1                NaN  [재보궐 D-31] 부산 김영춘 vs 박형준, 서울도 양자 대결? 일단 일자리와 경...  \n",
       "2                NaN  [재보궐 D-31] 부산 김영춘 vs 박형준, 서울도 양자 대결? 수십조 세금을 평...  \n",
       "3                NaN  [재보궐 D-31] 부산 김영춘 vs 박형준, 서울도 양자 대결? 박원순의 성폭력 ...  \n",
       "4                NaN  [재보궐 D-31] 부산 김영춘 vs 박형준, 서울도 양자 대결? 이번 보궐선거는 ...  \n",
       "...              ...                                                ...  \n",
       "4368             0.0  ‘나경원 대세론’ 꺾은 오세훈…“임기 못마친 죄 갚겠다” 울먹 쟤 쥐새끼 똘마니야\\...  \n",
       "4369             0.0  ‘나경원 대세론’ 꺾은 오세훈…“임기 못마친 죄 갚겠다” 울먹 이런자가 시장 후보라...  \n",
       "4370             0.0  ‘나경원 대세론’ 꺾은 오세훈…“임기 못마친 죄 갚겠다” 울먹 그럼 저 치가 아이들...  \n",
       "4371             0.0  ‘나경원 대세론’ 꺾은 오세훈…“임기 못마친 죄 갚겠다” 울먹 정권심판이라........  \n",
       "4372             0.0  민주 “오세훈, 10년 전 식목 행사에 2500만원짜리 ‘의전용 계단’” 정말나쁜정...  \n",
       "\n",
       "[4373 rows x 9 columns]"
      ]
     },
     "execution_count": 9,
     "metadata": {},
     "output_type": "execute_result"
    }
   ],
   "source": [
    "df2"
   ]
  },
  {
   "cell_type": "code",
   "execution_count": 10,
   "metadata": {
    "ExecuteTime": {
     "end_time": "2021-05-12T05:25:34.127422Z",
     "start_time": "2021-05-12T05:25:34.119444Z"
    }
   },
   "outputs": [],
   "source": [
    "# X-y값으로 나누기\n",
    "X = df2['title_comment']\n",
    "\n",
    "# 후보자 평가 nan값을 정당 평가로 채우기\n",
    "y = df2['candidate_eval'].fillna( df2['party_eval'] )"
   ]
  },
  {
   "cell_type": "code",
   "execution_count": 11,
   "metadata": {
    "ExecuteTime": {
     "end_time": "2021-05-12T05:25:34.139391Z",
     "start_time": "2021-05-12T05:25:34.128419Z"
    },
    "scrolled": false
   },
   "outputs": [
    {
     "data": {
      "text/plain": [
       "((4373,), (4373,))"
      ]
     },
     "execution_count": 11,
     "metadata": {},
     "output_type": "execute_result"
    }
   ],
   "source": [
    "# X-y값 구조 확인\n",
    "y.shape, X.shape"
   ]
  },
  {
   "cell_type": "code",
   "execution_count": 12,
   "metadata": {
    "ExecuteTime": {
     "end_time": "2021-05-12T05:25:34.146372Z",
     "start_time": "2021-05-12T05:25:34.140388Z"
    }
   },
   "outputs": [
    {
     "name": "stdout",
     "output_type": "stream",
     "text": [
      "0 0\n"
     ]
    }
   ],
   "source": [
    "# Null값 확인\n",
    "X.isna().sum()\n",
    "print(X.isna().sum(), y.isna().sum())"
   ]
  },
  {
   "cell_type": "markdown",
   "metadata": {},
   "source": [
    "## 2. 학습시킬 라벨의 긍정/부정 확인"
   ]
  },
  {
   "cell_type": "code",
   "execution_count": 13,
   "metadata": {
    "ExecuteTime": {
     "end_time": "2021-05-12T05:25:34.159337Z",
     "start_time": "2021-05-12T05:25:34.147369Z"
    }
   },
   "outputs": [
    {
     "data": {
      "text/plain": [
       "0.0    3471\n",
       "1.0     902\n",
       "Name: candidate_eval, dtype: int64"
      ]
     },
     "execution_count": 13,
     "metadata": {},
     "output_type": "execute_result"
    }
   ],
   "source": [
    "# y값의 종류 확인\n",
    "y.value_counts()"
   ]
  },
  {
   "cell_type": "markdown",
   "metadata": {},
   "source": [
    "## 3. Logistic 모델 사용\n",
    "- (1) 형태소 분석\n",
    "- (2) CounterVectorize\n",
    "    - 참고 자료: https://wiserloner.tistory.com/917\n",
    "- (3) TF-IDF\n",
    "- (4) 분류모델 학습\n",
    "- (5) 평가\n",
    "- (6) 모델저장\n",
    "- (7) 모델불러오기\n",
    "- (8) 추정 확률 알아보기"
   ]
  },
  {
   "cell_type": "code",
   "execution_count": 14,
   "metadata": {
    "ExecuteTime": {
     "end_time": "2021-05-12T05:25:34.166318Z",
     "start_time": "2021-05-12T05:25:34.160335Z"
    }
   },
   "outputs": [
    {
     "data": {
      "text/plain": [
       "(4373, 2)"
      ]
     },
     "execution_count": 14,
     "metadata": {},
     "output_type": "execute_result"
    }
   ],
   "source": [
    "# 위에서 분류했던 X,y 합치기\n",
    "df3 = pd.concat([X,y], axis=1)\n",
    "\n",
    "# 컬럼 이름 변경\n",
    "df3 = df3.rename( columns={'candidate_eval': 'y'} )\n",
    "\n",
    "df3.shape"
   ]
  },
  {
   "cell_type": "code",
   "execution_count": 15,
   "metadata": {
    "ExecuteTime": {
     "end_time": "2021-05-12T05:25:34.177289Z",
     "start_time": "2021-05-12T05:25:34.167315Z"
    }
   },
   "outputs": [],
   "source": [
    "# 감성분석에 필요할 데이터를 csv로 저장\n",
    "# df3.to_csv('data/setiment_analysis_data.csv')"
   ]
  },
  {
   "cell_type": "code",
   "execution_count": 16,
   "metadata": {
    "ExecuteTime": {
     "end_time": "2021-05-12T05:25:34.188260Z",
     "start_time": "2021-05-12T05:25:34.178287Z"
    }
   },
   "outputs": [],
   "source": [
    "# 정규식\n",
    "def text_cleaning(text) :\n",
    "    hangul = re.compile('[^ ㄱ-ㅣ가-힣]+')\n",
    "    result = hangul.sub('', text)\n",
    "    return result"
   ]
  },
  {
   "cell_type": "code",
   "execution_count": 17,
   "metadata": {
    "ExecuteTime": {
     "end_time": "2021-05-12T05:25:34.221178Z",
     "start_time": "2021-05-12T05:25:34.189257Z"
    }
   },
   "outputs": [],
   "source": [
    "# 한글 외 문자는 제거\n",
    "df3['title_comment'] = df3['title_comment'].apply( lambda x: text_cleaning(x) )"
   ]
  },
  {
   "cell_type": "code",
   "execution_count": 18,
   "metadata": {
    "ExecuteTime": {
     "end_time": "2021-05-12T05:25:34.232142Z",
     "start_time": "2021-05-12T05:25:34.222170Z"
    }
   },
   "outputs": [
    {
     "data": {
      "text/html": [
       "<div>\n",
       "<style scoped>\n",
       "    .dataframe tbody tr th:only-of-type {\n",
       "        vertical-align: middle;\n",
       "    }\n",
       "\n",
       "    .dataframe tbody tr th {\n",
       "        vertical-align: top;\n",
       "    }\n",
       "\n",
       "    .dataframe thead th {\n",
       "        text-align: right;\n",
       "    }\n",
       "</style>\n",
       "<table border=\"1\" class=\"dataframe\">\n",
       "  <thead>\n",
       "    <tr style=\"text-align: right;\">\n",
       "      <th></th>\n",
       "      <th>title_comment</th>\n",
       "      <th>y</th>\n",
       "    </tr>\n",
       "  </thead>\n",
       "  <tbody>\n",
       "    <tr>\n",
       "      <th>0</th>\n",
       "      <td>재보궐  부산 김영춘  박형준 서울도 양자 대결 부산은오거돈선거이고 오거돈치부선거아...</td>\n",
       "      <td>0.0</td>\n",
       "    </tr>\n",
       "    <tr>\n",
       "      <th>1</th>\n",
       "      <td>재보궐  부산 김영춘  박형준 서울도 양자 대결 일단 일자리와 경제를 말아드신 여당...</td>\n",
       "      <td>0.0</td>\n",
       "    </tr>\n",
       "    <tr>\n",
       "      <th>2</th>\n",
       "      <td>재보궐  부산 김영춘  박형준 서울도 양자 대결 수십조 세금을 평가순위 위인 가덕도...</td>\n",
       "      <td>0.0</td>\n",
       "    </tr>\n",
       "    <tr>\n",
       "      <th>3</th>\n",
       "      <td>재보궐  부산 김영춘  박형준 서울도 양자 대결 박원순의 성폭력 자살을 공수처에 수...</td>\n",
       "      <td>0.0</td>\n",
       "    </tr>\n",
       "    <tr>\n",
       "      <th>4</th>\n",
       "      <td>재보궐  부산 김영춘  박형준 서울도 양자 대결 이번 보궐선거는 임기가 년남짓이다 ...</td>\n",
       "      <td>1.0</td>\n",
       "    </tr>\n",
       "    <tr>\n",
       "      <th>...</th>\n",
       "      <td>...</td>\n",
       "      <td>...</td>\n",
       "    </tr>\n",
       "    <tr>\n",
       "      <th>4368</th>\n",
       "      <td>나경원 대세론 꺾은 오세훈임기 못마친 죄 갚겠다 울먹 쟤 쥐새끼 똘마니야벌써 잊는거...</td>\n",
       "      <td>0.0</td>\n",
       "    </tr>\n",
       "    <tr>\n",
       "      <th>4369</th>\n",
       "      <td>나경원 대세론 꺾은 오세훈임기 못마친 죄 갚겠다 울먹 이런자가 시장 후보라니 국민의...</td>\n",
       "      <td>0.0</td>\n",
       "    </tr>\n",
       "    <tr>\n",
       "      <th>4370</th>\n",
       "      <td>나경원 대세론 꺾은 오세훈임기 못마친 죄 갚겠다 울먹 그럼 저 치가 아이들 점심을 ...</td>\n",
       "      <td>0.0</td>\n",
       "    </tr>\n",
       "    <tr>\n",
       "      <th>4371</th>\n",
       "      <td>나경원 대세론 꺾은 오세훈임기 못마친 죄 갚겠다 울먹 정권심판이라이명박 박근혜정권때...</td>\n",
       "      <td>0.0</td>\n",
       "    </tr>\n",
       "    <tr>\n",
       "      <th>4372</th>\n",
       "      <td>민주 오세훈 년 전 식목 행사에 만원짜리 의전용 계단 정말나쁜정당이다박영선도능력없다...</td>\n",
       "      <td>0.0</td>\n",
       "    </tr>\n",
       "  </tbody>\n",
       "</table>\n",
       "<p>4373 rows × 2 columns</p>\n",
       "</div>"
      ],
      "text/plain": [
       "                                          title_comment    y\n",
       "0     재보궐  부산 김영춘  박형준 서울도 양자 대결 부산은오거돈선거이고 오거돈치부선거아...  0.0\n",
       "1     재보궐  부산 김영춘  박형준 서울도 양자 대결 일단 일자리와 경제를 말아드신 여당...  0.0\n",
       "2     재보궐  부산 김영춘  박형준 서울도 양자 대결 수십조 세금을 평가순위 위인 가덕도...  0.0\n",
       "3     재보궐  부산 김영춘  박형준 서울도 양자 대결 박원순의 성폭력 자살을 공수처에 수...  0.0\n",
       "4     재보궐  부산 김영춘  박형준 서울도 양자 대결 이번 보궐선거는 임기가 년남짓이다 ...  1.0\n",
       "...                                                 ...  ...\n",
       "4368  나경원 대세론 꺾은 오세훈임기 못마친 죄 갚겠다 울먹 쟤 쥐새끼 똘마니야벌써 잊는거...  0.0\n",
       "4369  나경원 대세론 꺾은 오세훈임기 못마친 죄 갚겠다 울먹 이런자가 시장 후보라니 국민의...  0.0\n",
       "4370  나경원 대세론 꺾은 오세훈임기 못마친 죄 갚겠다 울먹 그럼 저 치가 아이들 점심을 ...  0.0\n",
       "4371  나경원 대세론 꺾은 오세훈임기 못마친 죄 갚겠다 울먹 정권심판이라이명박 박근혜정권때...  0.0\n",
       "4372  민주 오세훈 년 전 식목 행사에 만원짜리 의전용 계단 정말나쁜정당이다박영선도능력없다...  0.0\n",
       "\n",
       "[4373 rows x 2 columns]"
      ]
     },
     "execution_count": 18,
     "metadata": {},
     "output_type": "execute_result"
    }
   ],
   "source": [
    "df3"
   ]
  },
  {
   "cell_type": "markdown",
   "metadata": {},
   "source": [
    "### (1) 형태소 구분"
   ]
  },
  {
   "cell_type": "code",
   "execution_count": 19,
   "metadata": {
    "ExecuteTime": {
     "end_time": "2021-05-12T05:25:34.271043Z",
     "start_time": "2021-05-12T05:25:34.233140Z"
    }
   },
   "outputs": [],
   "source": [
    "# 형태소 분류 태그\n",
    "from konlpy.tag import Okt"
   ]
  },
  {
   "cell_type": "code",
   "execution_count": 20,
   "metadata": {
    "ExecuteTime": {
     "end_time": "2021-05-12T05:25:34.275033Z",
     "start_time": "2021-05-12T05:25:34.272036Z"
    }
   },
   "outputs": [],
   "source": [
    "def get_pos(x) :\n",
    "    tagger = Okt() # Okt로 형태소 분리하기\n",
    "    pos = tagger.pos(x) \n",
    "    results = [] # 형태소를 담을 리스트\n",
    "    for i in pos:\n",
    "        if i[1] != 'Josa': # 조사는 빼버리기\n",
    "            results.append(f'{i[0]}/{i[1]}') #'단어/품사'의 형태로 리스트에 추가\n",
    "        else:\n",
    "            pass\n",
    "    return results"
   ]
  },
  {
   "cell_type": "code",
   "execution_count": 21,
   "metadata": {
    "ExecuteTime": {
     "end_time": "2021-05-12T05:25:37.621432Z",
     "start_time": "2021-05-12T05:25:34.277023Z"
    },
    "scrolled": false
   },
   "outputs": [
    {
     "name": "stdout",
     "output_type": "stream",
     "text": [
      "['재보궐/Noun', '부산/Noun', '김영춘/Noun', '박형준/Noun', '서울/Noun', '양자/Noun', '대결/Noun', '부산/Noun', '오거돈/Noun', '선거/Noun', '오거돈/Noun', '치부/Noun', '선거/Noun', '아닌가/Adjective', '오거돈/Noun', '성/Noun', '추해으로/Adjective', '생긴/Verb', '선거/Noun', '가독/Noun', '신/Modifier', '공항/Noun', '오거돈/Noun', '재산/Noun', '불려줄려고/Verb', '문재인/Noun', '민주당/Noun', '들/Suffix', '발악/Noun', '아닌가다/Adjective', '부산/Noun', '사람/Noun', '하는말/Verb', '이번/Noun', '선거/Noun', '쎄/Adjective', '빠지게/Verb', '오거돈/Noun', '위/Noun', '선가아이가다/Verb']\n"
     ]
    }
   ],
   "source": [
    "# 제목_댓글의 첫번째 데이터만 가져와서 형태소 분리\n",
    "print(get_pos(df3['title_comment'][0]))"
   ]
  },
  {
   "cell_type": "markdown",
   "metadata": {},
   "source": [
    "### ※ (참고) 단어 빈도 세기"
   ]
  },
  {
   "cell_type": "code",
   "execution_count": 22,
   "metadata": {
    "ExecuteTime": {
     "end_time": "2021-05-12T05:26:09.286955Z",
     "start_time": "2021-05-12T05:25:37.625421Z"
    }
   },
   "outputs": [],
   "source": [
    "from collections import Counter\n",
    "\n",
    "# 글 내용을 형태소 분리한 결과를 가져온다.\n",
    "pos_list = df3['title_comment'].apply(lambda x : get_pos(x))\n",
    "\n",
    "pos_list2 = pos_list.tolist()\n",
    "# 2차원으로 구성되어 있는 문자열 리스트내의 모든 문자열을\n",
    "# 다 추출해 하나의 문자열 리스트로 생성한다.\n",
    "corpus = sum(pos_list2, [])"
   ]
  },
  {
   "cell_type": "code",
   "execution_count": 23,
   "metadata": {
    "ExecuteTime": {
     "end_time": "2021-05-12T05:26:09.310924Z",
     "start_time": "2021-05-12T05:26:09.289962Z"
    }
   },
   "outputs": [],
   "source": [
    "# Counter를 생성한다.\n",
    "counter = Counter(corpus)"
   ]
  },
  {
   "cell_type": "code",
   "execution_count": 24,
   "metadata": {
    "ExecuteTime": {
     "end_time": "2021-05-12T05:26:09.323857Z",
     "start_time": "2021-05-12T05:26:09.311918Z"
    }
   },
   "outputs": [
    {
     "data": {
      "text/plain": [
       "[('오세훈/Noun', 2510),\n",
       " ('들/Suffix', 2504),\n",
       " ('박영선/Noun', 2277),\n",
       " ('민주당/Noun', 1471),\n",
       " ('서울시장/Noun', 1350),\n",
       " ('국민/Noun', 1348),\n",
       " ('후보/Noun', 1299),\n",
       " ('것/Noun', 1002),\n",
       " ('선거/Noun', 971),\n",
       " ('땅/Noun', 932),\n",
       " ('보궐선거/Noun', 889),\n",
       " ('토론/Noun', 777),\n",
       " ('안철수/Noun', 752),\n",
       " ('하는/Verb', 742),\n",
       " ('내곡동/Noun', 712),\n",
       " ('더불어/Verb', 689),\n",
       " ('문재인/Noun', 627),\n",
       " ('부산/Noun', 621),\n",
       " ('이/Determiner', 586),\n",
       " ('당/Suffix', 578),\n",
       " ('정권/Noun', 553),\n",
       " ('서울/Noun', 547),\n",
       " ('말/Noun', 546),\n",
       " ('사람/Noun', 533),\n",
       " ('박형준/Noun', 522),\n",
       " ('뉴스/Noun', 511),\n",
       " ('적/Suffix', 502),\n",
       " ('힘/Noun', 495),\n",
       " ('할/Verb', 466),\n",
       " ('시장/Noun', 463),\n",
       " ('브리핑/Noun', 434),\n",
       " ('시민/Noun', 432),\n",
       " ('주영진/Noun', 431),\n",
       " ('때/Noun', 430),\n",
       " ('장/Suffix', 409),\n",
       " ('못/VerbPrefix', 408),\n",
       " ('야당/Noun', 405),\n",
       " ('이/Noun', 378),\n",
       " ('다/Adverb', 375),\n",
       " ('거짓말/Noun', 373),\n",
       " ('윤석열/Noun', 371),\n",
       " ('후보자/Noun', 367),\n",
       " ('한/Determiner', 359),\n",
       " ('부산시/Noun', 355),\n",
       " ('토론회/Noun', 352),\n",
       " ('놈/Noun', 348),\n",
       " ('가덕도/Noun', 341),\n",
       " ('한다/Verb', 337),\n",
       " ('그/Noun', 332),\n",
       " ('첫/Noun', 329)]"
      ]
     },
     "execution_count": 24,
     "metadata": {},
     "output_type": "execute_result"
    }
   ],
   "source": [
    "# 상위 50개 를 가져온다.\n",
    "a1 = counter.most_common(50)\n",
    "a1"
   ]
  },
  {
   "cell_type": "markdown",
   "metadata": {},
   "source": [
    "### (2) 학습데이터 구분\n",
    "- CounterVectorize: Convert a collection of text documents to **a matrix of token counts**\n",
    "- 단어들의 **카운트(출현 빈도(frequency))**로 여러 문서들을 **벡터화**\n",
    "- 카운트 행렬, 단어 문서 행렬 (Term-Document Matrix, TDM))\n",
    "- 모두 소문자로 변환시키기 때문에 me 와 Me 는 모두 같은 특성이 된다."
   ]
  },
  {
   "cell_type": "code",
   "execution_count": 25,
   "metadata": {
    "ExecuteTime": {
     "end_time": "2021-05-12T05:26:33.562951Z",
     "start_time": "2021-05-12T05:26:09.324854Z"
    }
   },
   "outputs": [],
   "source": [
    "# 단어당 몇개씩 들어 있는지에 대한 벡터를 생성\n",
    "from sklearn.feature_extraction.text import CountVectorizer\n",
    "\n",
    "index_vectorizer = CountVectorizer(tokenizer= lambda x : get_pos(x))\n",
    "X = index_vectorizer.fit_transform(df3['title_comment'].tolist())"
   ]
  },
  {
   "cell_type": "code",
   "execution_count": 26,
   "metadata": {
    "ExecuteTime": {
     "end_time": "2021-05-12T05:26:33.566904Z",
     "start_time": "2021-05-12T05:26:33.563911Z"
    }
   },
   "outputs": [],
   "source": [
    "# { 단어: 단어 인덱스 } 형태의 사전 확인\n",
    "# index_vectorizer.vocabulary_"
   ]
  },
  {
   "cell_type": "code",
   "execution_count": 27,
   "metadata": {
    "ExecuteTime": {
     "end_time": "2021-05-12T05:26:33.593493Z",
     "start_time": "2021-05-12T05:26:33.568897Z"
    }
   },
   "outputs": [
    {
     "name": "stdout",
     "output_type": "stream",
     "text": [
      "['재보궐/Noun', '부산/Noun', '김영춘/Noun', '박형준/Noun', '서울/Noun', '양자/Noun', '대결/Noun', '부산/Noun', '오거돈/Noun', '선거/Noun', '오거돈/Noun', '치부/Noun', '선거/Noun', '아닌가/Adjective', '오거돈/Noun', '성/Noun', '추해으로/Adjective', '생긴/Verb', '선거/Noun', '가독/Noun', '신/Modifier', '공항/Noun', '오거돈/Noun', '재산/Noun', '불려줄려고/Verb', '문재인/Noun', '민주당/Noun', '들/Suffix', '발악/Noun', '아닌가다/Adjective', '부산/Noun', '사람/Noun', '하는말/Verb', '이번/Noun', '선거/Noun', '쎄/Adjective', '빠지게/Verb', '오거돈/Noun', '위/Noun', '선가아이가다/Verb']\n",
      "  (0, 15249)\t1\n",
      "  (0, 8891)\t3\n",
      "  (0, 2215)\t1\n",
      "  (0, 7867)\t1\n",
      "  (0, 10189)\t1\n",
      "  (0, 12328)\t1\n",
      "  (0, 4234)\t1\n",
      "  (0, 13091)\t5\n",
      "  (0, 10223)\t4\n",
      "  (0, 17783)\t1\n",
      "  (0, 11577)\t1\n",
      "  (0, 10333)\t1\n",
      "  (0, 17626)\t1\n",
      "  (0, 10111)\t1\n",
      "  (0, 176)\t1\n",
      "  (0, 11005)\t1\n",
      "  (0, 1371)\t1\n",
      "  (0, 15252)\t1\n",
      "  (0, 9084)\t1\n",
      "  (0, 7303)\t1\n",
      "  (0, 7561)\t1\n",
      "  (0, 5310)\t1\n",
      "  (0, 8022)\t1\n",
      "  (0, 11578)\t1\n",
      "  (0, 9711)\t1\n",
      "  (0, 18874)\t1\n",
      "  (0, 14171)\t1\n",
      "  (0, 11337)\t1\n",
      "  (0, 9380)\t1\n",
      "  (0, 13723)\t1\n",
      "  (0, 10222)\t1\n"
     ]
    }
   ],
   "source": [
    "# 실제 형태소\n",
    "print(get_pos(df3['title_comment'][0]))\n",
    "\n",
    "# 결과\n",
    "print( X[0]) # ( 문장 순서, 단어 인덱스)    등장 횟수"
   ]
  },
  {
   "cell_type": "markdown",
   "metadata": {},
   "source": [
    "### (3) TF-IDF로 변환\n",
    "- Tf(Term-Frequency) : 특정 단어가 하나의 데이터 안에서 등장하는 횟수\n",
    "- Tf-Idf(Term-Freuquency times Inverse Documnet-Frquency) : 특정 단어가 여러 데이터에 자주 등장하는지를 알려주는 지표.\n",
    "\n",
    "- 사용 목적\n",
    "    - **Transform**\n",
    "        - 단어 빈도 매트릭스를 정규화된 tf 또는 tf-idf로 나타내기 위해\n",
    "    - **Sclae Down**\n",
    "        - 형태소에서 매우 빈번하게 나타나 경험적으로 덜 유익한 토큰의 영향을 줄이기 위해 사용한다. "
   ]
  },
  {
   "cell_type": "markdown",
   "metadata": {},
   "source": [
    "아예 등장하지 않는다면 0, 그 이외에는 실수값이 크다면 그 단어가 보다 가치있는 특징이라는 것이고, 작다면 그다지 가치가 없다고 판단 가능"
   ]
  },
  {
   "cell_type": "code",
   "execution_count": 28,
   "metadata": {
    "ExecuteTime": {
     "end_time": "2021-05-12T05:26:33.608461Z",
     "start_time": "2021-05-12T05:26:33.594490Z"
    }
   },
   "outputs": [
    {
     "name": "stdout",
     "output_type": "stream",
     "text": [
      "  (0, 18874)\t0.20225611778219826\n",
      "  (0, 17783)\t0.17668721752676989\n",
      "  (0, 17626)\t0.20225611778219826\n",
      "  (0, 15252)\t0.1337277867749289\n",
      "  (0, 15249)\t0.13701122411154956\n",
      "  (0, 14171)\t0.09394070094833018\n",
      "  (0, 13723)\t0.10115918967936799\n",
      "  (0, 13091)\t0.5397781022947776\n",
      "  (0, 12328)\t0.13922945569868952\n",
      "  (0, 11578)\t0.20225611778219826\n",
      "  (0, 11577)\t0.11418358455522618\n",
      "  (0, 11337)\t0.18612393784494766\n",
      "  (0, 11005)\t0.1045712119618201\n",
      "  (0, 10333)\t0.1605550375895193\n",
      "  (0, 10223)\t0.2540831054694538\n",
      "  (0, 10222)\t0.20225611778219826\n",
      "  (0, 10189)\t0.07543964931231611\n",
      "  (0, 10111)\t0.16479835595411788\n",
      "  (0, 9711)\t0.07699181209079847\n",
      "  (0, 9380)\t0.20225611778219826\n",
      "  (0, 9084)\t0.20225611778219826\n",
      "  (0, 8891)\t0.23227146323686368\n",
      "  (0, 8022)\t0.14753064271366112\n",
      "  (0, 7867)\t0.07900231170639177\n",
      "  (0, 7561)\t0.05463027236803248\n",
      "  (0, 7303)\t0.07693837046916746\n",
      "  (0, 5310)\t0.04906727583040895\n",
      "  (0, 4234)\t0.12598445428017715\n",
      "  (0, 2215)\t0.11167860828147955\n",
      "  (0, 1371)\t0.10177169387060915\n",
      "  (0, 176)\t0.19281939746402046\n"
     ]
    }
   ],
   "source": [
    "# 위에서 만든 형태소 벡터를 학습 데이터 벡터로 생성\n",
    "from sklearn.feature_extraction.text import TfidfTransformer\n",
    "\n",
    "tfidf_vectorizer = TfidfTransformer()\n",
    "X = tfidf_vectorizer.fit_transform(X)\n",
    "print(X[0]) # (문장 번호, 단어 인덱스)    단어의 비중"
   ]
  },
  {
   "cell_type": "markdown",
   "metadata": {},
   "source": [
    "### ※ (주의) tfidf_vectorizer도 저장해야한다.\n",
    "- TfidTransformer를 새롭게 생성한 후 저장한 모델을 사용하면 안 된다.\n",
    "- \"학습 단계에서 생성해서 학습을 시킨 녀석을 그대로 사용해야 합니다. 그녀석도 파일로 저장해 두었다가 사용할 때 불러와서 써야 합니다\"\n"
   ]
  },
  {
   "cell_type": "code",
   "execution_count": 29,
   "metadata": {
    "ExecuteTime": {
     "end_time": "2021-05-12T05:26:33.616431Z",
     "start_time": "2021-05-12T05:26:33.609451Z"
    }
   },
   "outputs": [
    {
     "name": "stdout",
     "output_type": "stream",
     "text": [
      "저장완료\n"
     ]
    }
   ],
   "source": [
    "# TF-IDF 저장\n",
    "with open('model/tfidf_vectorizer_0512.dat','wb') as fp:\n",
    "    pickle.dump(tfidf_vectorizer, fp)\n",
    "print('저장완료')"
   ]
  },
  {
   "cell_type": "markdown",
   "metadata": {},
   "source": [
    "### (4) 학습"
   ]
  },
  {
   "cell_type": "code",
   "execution_count": 30,
   "metadata": {
    "ExecuteTime": {
     "end_time": "2021-05-12T05:26:33.628399Z",
     "start_time": "2021-05-12T05:26:33.618426Z"
    }
   },
   "outputs": [
    {
     "data": {
      "text/plain": [
       "((3061, 20238), (1312, 20238), (3061,), (1312,))"
      ]
     },
     "execution_count": 30,
     "metadata": {},
     "output_type": "execute_result"
    }
   ],
   "source": [
    "# 학습-테스트용으로 나누기\n",
    "from sklearn.model_selection import train_test_split\n",
    "\n",
    "# 결과값\n",
    "y = df3['y'] \n",
    "X_train, X_test, y_train, y_test = train_test_split( X, y,\n",
    "                                                    test_size=0.3, \n",
    "                                                    stratify=y )\n",
    "\n",
    "X_train.shape, X_test.shape, y_train.shape, y_test.shape"
   ]
  },
  {
   "cell_type": "code",
   "execution_count": 31,
   "metadata": {
    "ExecuteTime": {
     "end_time": "2021-05-12T05:26:33.665300Z",
     "start_time": "2021-05-12T05:26:33.630394Z"
    }
   },
   "outputs": [],
   "source": [
    "# 로지스틱회귀로 분류분석 진행하기\n",
    "from sklearn.linear_model import LogisticRegression\n",
    "\n",
    "# 교차검증: 결과데이터를 보고 각 클래스가 균등한 비율로 들어있게끔 나눈다.\n",
    "from sklearn.model_selection import StratifiedKFold \n",
    "\n",
    "# 평가 방법\n",
    "from sklearn.metrics import accuracy_score\n",
    "from sklearn.metrics import precision_score \n",
    "from sklearn.metrics import recall_score \n",
    "from sklearn.metrics import f1_score\n",
    "from sklearn.metrics import roc_auc_score"
   ]
  },
  {
   "cell_type": "code",
   "execution_count": 32,
   "metadata": {
    "ExecuteTime": {
     "end_time": "2021-05-12T05:26:33.671286Z",
     "start_time": "2021-05-12T05:26:33.666299Z"
    }
   },
   "outputs": [],
   "source": [
    "# 교차검증\n",
    "fold1 = StratifiedKFold( n_splits=10 )\n",
    "\n",
    "# 로지스틱 회귀 모델 생성\n",
    "lr = LogisticRegression()\n",
    "\n",
    "# 최적 파라미터 찾기\n",
    "params = {'penalty': ['l1', 'l2', 'elasticnet', 'none'],\n",
    "          'solver': ['newton-cg', 'lbfgs', 'liblinear', 'sag', 'saga'],\n",
    "          'C':[0.001, 0.01, 0.1, 1, 10, 100, 1000, 10000]}\n",
    "\n",
    "grid_model = GridSearchCV( lr, params, scoring='accuracy', cv=fold1 )"
   ]
  },
  {
   "cell_type": "code",
   "execution_count": 33,
   "metadata": {
    "ExecuteTime": {
     "end_time": "2021-05-12T05:32:29.044137Z",
     "start_time": "2021-05-12T05:26:33.672283Z"
    }
   },
   "outputs": [
    {
     "name": "stdout",
     "output_type": "stream",
     "text": [
      "최적의 하이퍼 파라미터: {'C': 1000, 'penalty': 'none', 'solver': 'sag'}\n",
      "최적의 모델 평균 성능: 0.9124459773051458\n"
     ]
    }
   ],
   "source": [
    "grid_model.fit( X_train,y_train )\n",
    "print(f'최적의 하이퍼 파라미터: {grid_model.best_params_}')\n",
    "print(f'최적의 모델 평균 성능: {grid_model.best_score_}')"
   ]
  },
  {
   "cell_type": "markdown",
   "metadata": {},
   "source": [
    "### (5) 평가"
   ]
  },
  {
   "cell_type": "code",
   "execution_count": 34,
   "metadata": {
    "ExecuteTime": {
     "end_time": "2021-05-12T05:32:29.049093Z",
     "start_time": "2021-05-12T05:32:29.046101Z"
    }
   },
   "outputs": [],
   "source": [
    "# 최고 성능 모델\n",
    "best_model = grid_model.best_estimator_"
   ]
  },
  {
   "cell_type": "markdown",
   "metadata": {},
   "source": [
    "#### [1] 학습 데이터의 교차검증"
   ]
  },
  {
   "cell_type": "code",
   "execution_count": 35,
   "metadata": {
    "ExecuteTime": {
     "end_time": "2021-05-12T05:32:35.501844Z",
     "start_time": "2021-05-12T05:32:29.050091Z"
    }
   },
   "outputs": [],
   "source": [
    "from sklearn.metrics import accuracy_score,f1_score, precision_score, recall_score, roc_auc_score \n",
    "\n",
    "# 훈련용 데이터의 교차검증\n",
    "accuracy = cross_val_score( best_model, X_train, y_train, scoring='accuracy', cv=fold1 )\n",
    "precision = cross_val_score( best_model, X_train, y_train, scoring='precision', cv=fold1 )\n",
    "recall_score = cross_val_score( best_model, X_train, y_train, scoring='recall', cv=fold1 )\n",
    "f1_score = cross_val_score( best_model, X_train, y_train, scoring='f1', cv=fold1 )\n",
    "roc_auc_score = cross_val_score( best_model, X_train, y_train, scoring='roc_auc', cv=fold1 )"
   ]
  },
  {
   "cell_type": "code",
   "execution_count": 36,
   "metadata": {
    "ExecuteTime": {
     "end_time": "2021-05-12T05:32:35.508178Z",
     "start_time": "2021-05-12T05:32:35.502836Z"
    }
   },
   "outputs": [
    {
     "name": "stdout",
     "output_type": "stream",
     "text": [
      "평균 정확도 0.9108119903770412\n",
      "평균 정밀도 0.8603500791667151\n",
      "평균 재현율 0.6719494047619048\n",
      "평균 f1 0.7555839655331358\n",
      "평균 roc-acu 0.9249012019073749\n"
     ]
    }
   ],
   "source": [
    "print('평균 정확도', accuracy.mean() )\n",
    "print('평균 정밀도', precision.mean() )\n",
    "print('평균 재현율', recall_score.mean() )\n",
    "print('평균 f1', f1_score.mean() )\n",
    "print('평균 roc-acu', roc_auc_score.mean() )"
   ]
  },
  {
   "cell_type": "code",
   "execution_count": 37,
   "metadata": {
    "ExecuteTime": {
     "end_time": "2021-05-12T05:32:35.635867Z",
     "start_time": "2021-05-12T05:32:35.509170Z"
    }
   },
   "outputs": [
    {
     "data": {
      "image/png": "[encoded data removed]",
      "text/plain": [
       "<Figure size 720x360 with 1 Axes>"
      ]
     },
     "metadata": {},
     "output_type": "display_data"
    }
   ],
   "source": [
    "plt.plot( accuracy , label='accuracy')\n",
    "# plt.plot( precision , label='precision')\n",
    "# plt.plot( recall_score , label='recall_score')\n",
    "# plt.plot( f1_score , label='f1_score')\n",
    "plt.ylim(0.7, 1.0)\n",
    "plt.plot( roc_auc_score , label='roc_auc_score')\n",
    "plt.legend()\n",
    "plt.title( '[Figure-1] 훈련 데이터의 교차검증 결과')\n",
    "plt.show()"
   ]
  },
  {
   "cell_type": "markdown",
   "metadata": {},
   "source": [
    "#### [2]  테스트 데이터 검증"
   ]
  },
  {
   "cell_type": "code",
   "execution_count": 38,
   "metadata": {
    "ExecuteTime": {
     "end_time": "2021-05-12T05:32:35.643809Z",
     "start_time": "2021-05-12T05:32:35.636829Z"
    }
   },
   "outputs": [
    {
     "data": {
      "text/plain": [
       "0.9054878048780488"
      ]
     },
     "execution_count": 38,
     "metadata": {},
     "output_type": "execute_result"
    }
   ],
   "source": [
    "# 테스트용 데이터를 통해 예측하기\n",
    "y_pred = best_model.predict(X_test)\n",
    "\n",
    "# 테스트 데이터 정확도\n",
    "result = accuracy_score( y_test, y_pred ) \n",
    "result # 정확도"
   ]
  },
  {
   "cell_type": "markdown",
   "metadata": {},
   "source": [
    "### (6) 모델 저장"
   ]
  },
  {
   "cell_type": "code",
   "execution_count": 39,
   "metadata": {
    "ExecuteTime": {
     "end_time": "2021-05-12T05:32:35.650790Z",
     "start_time": "2021-05-12T05:32:35.644807Z"
    },
    "scrolled": true
   },
   "outputs": [
    {
     "name": "stdout",
     "output_type": "stream",
     "text": [
      "저장완료\n"
     ]
    }
   ],
   "source": [
    "with open('model/sentiment_analysis_Model1.dat','wb') as fp:\n",
    "    pickle.dump(best_model, fp)\n",
    "print('저장완료')"
   ]
  },
  {
   "cell_type": "markdown",
   "metadata": {},
   "source": [
    "### (7) 모델 불러오기"
   ]
  },
  {
   "cell_type": "code",
   "execution_count": 40,
   "metadata": {
    "ExecuteTime": {
     "end_time": "2021-05-12T05:32:35.662758Z",
     "start_time": "2021-05-12T05:32:35.651788Z"
    }
   },
   "outputs": [
    {
     "name": "stdout",
     "output_type": "stream",
     "text": [
      "출력 완료\n"
     ]
    }
   ],
   "source": [
    "with open('model/sentiment_analysis_Model1.dat', 'rb') as fp:\n",
    "    new_model = pickle.load(fp)\n",
    "print('출력 완료')"
   ]
  },
  {
   "cell_type": "markdown",
   "metadata": {},
   "source": [
    "### (8) 추정 확률 알아보기"
   ]
  },
  {
   "cell_type": "code",
   "execution_count": 41,
   "metadata": {
    "ExecuteTime": {
     "end_time": "2021-05-12T05:32:35.668742Z",
     "start_time": "2021-05-12T05:32:35.663755Z"
    },
    "scrolled": false
   },
   "outputs": [
    {
     "data": {
      "text/plain": [
       "array([[9.99898816e-01, 1.01183588e-04],\n",
       "       [9.99327288e-01, 6.72711905e-04],\n",
       "       [9.99959248e-01, 4.07521067e-05],\n",
       "       ...,\n",
       "       [9.99942882e-01, 5.71175868e-05],\n",
       "       [9.98541929e-01, 1.45807141e-03],\n",
       "       [9.67086591e-01, 3.29134089e-02]])"
      ]
     },
     "execution_count": 41,
     "metadata": {},
     "output_type": "execute_result"
    }
   ],
   "source": [
    "# 클래스 순서에 따른 추정 확률 [ 0일 확률, 1일 확률 ]\n",
    "proba = new_model.predict_proba( X_test )\n",
    "proba"
   ]
  },
  {
   "cell_type": "code",
   "execution_count": 42,
   "metadata": {
    "ExecuteTime": {
     "end_time": "2021-05-12T05:32:35.680710Z",
     "start_time": "2021-05-12T05:32:35.669739Z"
    }
   },
   "outputs": [
    {
     "data": {
      "text/html": [
       "<div>\n",
       "<style scoped>\n",
       "    .dataframe tbody tr th:only-of-type {\n",
       "        vertical-align: middle;\n",
       "    }\n",
       "\n",
       "    .dataframe tbody tr th {\n",
       "        vertical-align: top;\n",
       "    }\n",
       "\n",
       "    .dataframe thead th {\n",
       "        text-align: right;\n",
       "    }\n",
       "</style>\n",
       "<table border=\"1\" class=\"dataframe\">\n",
       "  <thead>\n",
       "    <tr style=\"text-align: right;\">\n",
       "      <th></th>\n",
       "      <th>0</th>\n",
       "      <th>1</th>\n",
       "      <th>target</th>\n",
       "    </tr>\n",
       "  </thead>\n",
       "  <tbody>\n",
       "    <tr>\n",
       "      <th>0</th>\n",
       "      <td>0.999899</td>\n",
       "      <td>0.000101</td>\n",
       "      <td>0.0</td>\n",
       "    </tr>\n",
       "    <tr>\n",
       "      <th>1</th>\n",
       "      <td>0.999327</td>\n",
       "      <td>0.000673</td>\n",
       "      <td>0.0</td>\n",
       "    </tr>\n",
       "    <tr>\n",
       "      <th>2</th>\n",
       "      <td>0.999959</td>\n",
       "      <td>0.000041</td>\n",
       "      <td>0.0</td>\n",
       "    </tr>\n",
       "    <tr>\n",
       "      <th>3</th>\n",
       "      <td>0.999357</td>\n",
       "      <td>0.000643</td>\n",
       "      <td>0.0</td>\n",
       "    </tr>\n",
       "    <tr>\n",
       "      <th>4</th>\n",
       "      <td>0.993380</td>\n",
       "      <td>0.006620</td>\n",
       "      <td>0.0</td>\n",
       "    </tr>\n",
       "    <tr>\n",
       "      <th>...</th>\n",
       "      <td>...</td>\n",
       "      <td>...</td>\n",
       "      <td>...</td>\n",
       "    </tr>\n",
       "    <tr>\n",
       "      <th>1307</th>\n",
       "      <td>0.999681</td>\n",
       "      <td>0.000319</td>\n",
       "      <td>0.0</td>\n",
       "    </tr>\n",
       "    <tr>\n",
       "      <th>1308</th>\n",
       "      <td>0.965599</td>\n",
       "      <td>0.034401</td>\n",
       "      <td>0.0</td>\n",
       "    </tr>\n",
       "    <tr>\n",
       "      <th>1309</th>\n",
       "      <td>0.999943</td>\n",
       "      <td>0.000057</td>\n",
       "      <td>0.0</td>\n",
       "    </tr>\n",
       "    <tr>\n",
       "      <th>1310</th>\n",
       "      <td>0.998542</td>\n",
       "      <td>0.001458</td>\n",
       "      <td>0.0</td>\n",
       "    </tr>\n",
       "    <tr>\n",
       "      <th>1311</th>\n",
       "      <td>0.967087</td>\n",
       "      <td>0.032913</td>\n",
       "      <td>0.0</td>\n",
       "    </tr>\n",
       "  </tbody>\n",
       "</table>\n",
       "<p>1312 rows × 3 columns</p>\n",
       "</div>"
      ],
      "text/plain": [
       "             0         1  target\n",
       "0     0.999899  0.000101     0.0\n",
       "1     0.999327  0.000673     0.0\n",
       "2     0.999959  0.000041     0.0\n",
       "3     0.999357  0.000643     0.0\n",
       "4     0.993380  0.006620     0.0\n",
       "...        ...       ...     ...\n",
       "1307  0.999681  0.000319     0.0\n",
       "1308  0.965599  0.034401     0.0\n",
       "1309  0.999943  0.000057     0.0\n",
       "1310  0.998542  0.001458     0.0\n",
       "1311  0.967087  0.032913     0.0\n",
       "\n",
       "[1312 rows x 3 columns]"
      ]
     },
     "execution_count": 42,
     "metadata": {},
     "output_type": "execute_result"
    }
   ],
   "source": [
    "# 각 값에 대한 추정 확률과 실제 값을 데이터 프레임으로 형성\n",
    "proba_df = pd.DataFrame(proba)\n",
    "proba_df['target'] = new_model.predict(X_test)\n",
    "proba_df"
   ]
  },
  {
   "cell_type": "code",
   "execution_count": 43,
   "metadata": {
    "ExecuteTime": {
     "end_time": "2021-05-12T05:32:35.863227Z",
     "start_time": "2021-05-12T05:32:35.681708Z"
    },
    "scrolled": false
   },
   "outputs": [
    {
     "data": {
      "image/png": "[encoded data removed]",
      "text/plain": [
       "<Figure size 720x360 with 1 Axes>"
      ]
     },
     "metadata": {},
     "output_type": "display_data"
    }
   ],
   "source": [
    "plt.scatter( range(len(proba_df[0])), proba_df[0] , label='0(부정) 판단 확률',s=10)\n",
    "plt.scatter( range(len(proba_df[1])), proba_df[1] , label='1(긍정) 판단 확률',marker='D', s=10)\n",
    "plt.legend()\n",
    "plt.title( '[Figure-2] Test데이터의 결과값 판단에 대한 확률')\n",
    "plt.show()"
   ]
  },
  {
   "cell_type": "markdown",
   "metadata": {},
   "source": [
    "### ※ CounterVectorizer는 생성한 후 fit 시키지 않고 transform\n",
    "- **NOT** fit_transform "
   ]
  },
  {
   "cell_type": "markdown",
   "metadata": {},
   "source": [
    "### ※ Tf-Idf는 학습할 때 사용한 Tf-Idf를 사용해야 한다."
   ]
  },
  {
   "cell_type": "code",
   "execution_count": 44,
   "metadata": {
    "ExecuteTime": {
     "end_time": "2021-05-12T05:32:35.875190Z",
     "start_time": "2021-05-12T05:32:35.864221Z"
    }
   },
   "outputs": [
    {
     "name": "stdout",
     "output_type": "stream",
     "text": [
      "출력 완료\n"
     ]
    }
   ],
   "source": [
    "# **저장한 tf-idf 벡터라이저 사용**\n",
    "with open('model/tfidf_vectorizer_0512.dat', 'rb') as fp:\n",
    "    new_tfidf_vectorizer = pickle.load(fp)\n",
    "print('출력 완료')"
   ]
  },
  {
   "cell_type": "code",
   "execution_count": 45,
   "metadata": {
    "ExecuteTime": {
     "end_time": "2021-05-12T05:32:35.893142Z",
     "start_time": "2021-05-12T05:32:35.876194Z"
    }
   },
   "outputs": [
    {
     "data": {
      "text/plain": [
       "array([0., 1., 0., 0., 0., 1., 0., 0., 0., 0.])"
      ]
     },
     "execution_count": 45,
     "metadata": {},
     "output_type": "execute_result"
    }
   ],
   "source": [
    "# 2. 임의의 텍스트로 예측\n",
    "test = [\n",
    "    '박영선 아웃',\n",
    "    '오세훈은 뭐냐? 무상급식 기억 안 나냐?',\n",
    "    '더불어 만진당에서 나온 후보라..',\n",
    "    '국민의 짐',\n",
    "    '성추행당은 꺼져라',\n",
    "    '오세훈 후보 지지합니다',\n",
    "    '참나',\n",
    "    '노답',\n",
    "    '누굴 뽑으라는거야',\n",
    "    '둘다 별로야'\n",
    "]\n",
    "\n",
    "# CounterVectorrizer는 다시 fit시키는 것이 아니라 transform만 시키는 것\n",
    "X = index_vectorizer.transform(test)\n",
    "\n",
    "# tf-idf는 새로 생성하는 것이 아니라 학습시킨 td-idf를 저장하여 사용하는 것\n",
    "X = new_tfidf_vectorizer.transform(X)\n",
    "\n",
    "y_pred = new_model.predict(X)\n",
    "y_pred"
   ]
  },
  {
   "cell_type": "markdown",
   "metadata": {},
   "source": [
    "## 5. 후보자의 이름이나, 정당의 이름이 들어갈 경우 ?"
   ]
  },
  {
   "cell_type": "code",
   "execution_count": 46,
   "metadata": {
    "ExecuteTime": {
     "end_time": "2021-05-12T05:32:35.905110Z",
     "start_time": "2021-05-12T05:32:35.894141Z"
    }
   },
   "outputs": [
    {
     "data": {
      "text/plain": [
       "array([0., 1., 1., 0., 0., 0.])"
      ]
     },
     "execution_count": 46,
     "metadata": {},
     "output_type": "execute_result"
    }
   ],
   "source": [
    "test2 = [\n",
    "    '박영선',\n",
    "    '오세훈',\n",
    "    '김영춘',\n",
    "    '박형준',\n",
    "    '더불어 민주당',\n",
    "    '국민의 힘',\n",
    "]\n",
    "\n",
    "# CounterVectorizer & Tf-Idf\n",
    "X = index_vectorizer.transform(test2)\n",
    "X = new_tfidf_vectorizer.transform(X)\n",
    "\n",
    "# 긍정/부정 예측 결과\n",
    "new_model.predict(X)"
   ]
  },
  {
   "cell_type": "code",
   "execution_count": 47,
   "metadata": {
    "ExecuteTime": {
     "end_time": "2021-05-12T05:32:36.093606Z",
     "start_time": "2021-05-12T05:32:35.906107Z"
    },
    "scrolled": true
   },
   "outputs": [
    {
     "data": {
      "image/png": "[encoded data removed]",
      "text/plain": [
       "<Figure size 720x360 with 1 Axes>"
      ]
     },
     "metadata": {},
     "output_type": "display_data"
    }
   ],
   "source": [
    "# 추정 확률 알아보기\n",
    "proba_0 = new_model.predict_proba(X)[:,0]\n",
    "proba_1 = new_model.predict_proba(X)[:,1]\n",
    "\n",
    "plt.scatter( test2, proba_0 , label='Negative(0) Proba')\n",
    "plt.scatter( test2, proba_1 , label='Positive(1) Proba')\n",
    "\n",
    "for idx, val in zip(test2, proba_0):\n",
    "    plt.text(idx, val, f'{round(val,3)}' )    \n",
    "for idx, val in zip(test2, proba_1):\n",
    "    plt.text(idx, val, f'{round(val,3)}' )    \n",
    "plt.title('[Figure-3] 각 후보이름, 정당명에 대한 긍정/부정 추정확률')\n",
    "plt.legend()\n",
    "plt.show()"
   ]
  },
  {
   "cell_type": "markdown",
   "metadata": {},
   "source": [
    "- 위 모델은 **여당**과 **여당의 후보**가 글에 포함될 경우 **부정**으로 판단함을 알 수 있음\n",
    "    - 보수 언론의 데이터가 많아서 이러한 도출 되었거나\n",
    "    - 실제 여론을 반영한 결과라고 해석할 수 있다.\n",
    "- 기존 모델과 차이점은 박형준 후보 역시 부정적으로 평가한다는 것"
   ]
  },
  {
   "cell_type": "markdown",
   "metadata": {},
   "source": [
    "## 6. 새로운 모델 형성\n",
    "- 후보이름, 당명에 따라 긍정/부정이 명확히 구분되는 특징을 보임\n",
    "- 후보이름(4), 당명(2) 6개의 텍스트를 제외한 후 새로운 감성분석 모델 형성"
   ]
  },
  {
   "cell_type": "code",
   "execution_count": 59,
   "metadata": {
    "ExecuteTime": {
     "end_time": "2021-05-12T06:30:46.481344Z",
     "start_time": "2021-05-12T06:30:46.456408Z"
    },
    "collapsed": true
   },
   "outputs": [
    {
     "data": {
      "text/html": [
       "<div>\n",
       "<style scoped>\n",
       "    .dataframe tbody tr th:only-of-type {\n",
       "        vertical-align: middle;\n",
       "    }\n",
       "\n",
       "    .dataframe tbody tr th {\n",
       "        vertical-align: top;\n",
       "    }\n",
       "\n",
       "    .dataframe thead th {\n",
       "        text-align: right;\n",
       "    }\n",
       "</style>\n",
       "<table border=\"1\" class=\"dataframe\">\n",
       "  <thead>\n",
       "    <tr style=\"text-align: right;\">\n",
       "      <th></th>\n",
       "      <th>title_comment</th>\n",
       "      <th>y</th>\n",
       "    </tr>\n",
       "  </thead>\n",
       "  <tbody>\n",
       "    <tr>\n",
       "      <th>0</th>\n",
       "      <td>재보궐  부산 후보  후보 서울도 양자 대결 부산은오거돈선거이고 오거돈치부선거아닌가...</td>\n",
       "      <td>0.0</td>\n",
       "    </tr>\n",
       "    <tr>\n",
       "      <th>1</th>\n",
       "      <td>재보궐  부산 후보  후보 서울도 양자 대결 일단 일자리와 경제를 말아드신 여당 빼...</td>\n",
       "      <td>0.0</td>\n",
       "    </tr>\n",
       "    <tr>\n",
       "      <th>2</th>\n",
       "      <td>재보궐  부산 후보  후보 서울도 양자 대결 수십조 세금을 평가순위 위인 가덕도에 ...</td>\n",
       "      <td>0.0</td>\n",
       "    </tr>\n",
       "    <tr>\n",
       "      <th>3</th>\n",
       "      <td>재보궐  부산 후보  후보 서울도 양자 대결 박원순의 성폭력 자살을 공수처에 수사의...</td>\n",
       "      <td>0.0</td>\n",
       "    </tr>\n",
       "    <tr>\n",
       "      <th>4</th>\n",
       "      <td>재보궐  부산 후보  후보 서울도 양자 대결 이번 보궐선거는 임기가 년남짓이다 내년...</td>\n",
       "      <td>1.0</td>\n",
       "    </tr>\n",
       "    <tr>\n",
       "      <th>...</th>\n",
       "      <td>...</td>\n",
       "      <td>...</td>\n",
       "    </tr>\n",
       "    <tr>\n",
       "      <th>4368</th>\n",
       "      <td>나경원 대세론 꺾은 후보임기 못마친 죄 갚겠다 울먹 쟤 쥐새끼 똘마니야벌써 잊는거냐...</td>\n",
       "      <td>0.0</td>\n",
       "    </tr>\n",
       "    <tr>\n",
       "      <th>4369</th>\n",
       "      <td>나경원 대세론 꺾은 후보임기 못마친 죄 갚겠다 울먹 이런자가 시장 후보라니 국민의짐...</td>\n",
       "      <td>0.0</td>\n",
       "    </tr>\n",
       "    <tr>\n",
       "      <th>4370</th>\n",
       "      <td>나경원 대세론 꺾은 후보임기 못마친 죄 갚겠다 울먹 그럼 저 치가 아이들 점심을 어...</td>\n",
       "      <td>0.0</td>\n",
       "    </tr>\n",
       "    <tr>\n",
       "      <th>4371</th>\n",
       "      <td>나경원 대세론 꺾은 후보임기 못마친 죄 갚겠다 울먹 정권심판이라이명박 박근혜정권때는...</td>\n",
       "      <td>0.0</td>\n",
       "    </tr>\n",
       "    <tr>\n",
       "      <th>4372</th>\n",
       "      <td>민주 후보 년 전 식목 행사에 만원짜리 의전용 계단 정말나쁜정당이다후보도능력없다박원...</td>\n",
       "      <td>0.0</td>\n",
       "    </tr>\n",
       "  </tbody>\n",
       "</table>\n",
       "<p>4373 rows × 2 columns</p>\n",
       "</div>"
      ],
      "text/plain": [
       "                                          title_comment    y\n",
       "0     재보궐  부산 후보  후보 서울도 양자 대결 부산은오거돈선거이고 오거돈치부선거아닌가...  0.0\n",
       "1     재보궐  부산 후보  후보 서울도 양자 대결 일단 일자리와 경제를 말아드신 여당 빼...  0.0\n",
       "2     재보궐  부산 후보  후보 서울도 양자 대결 수십조 세금을 평가순위 위인 가덕도에 ...  0.0\n",
       "3     재보궐  부산 후보  후보 서울도 양자 대결 박원순의 성폭력 자살을 공수처에 수사의...  0.0\n",
       "4     재보궐  부산 후보  후보 서울도 양자 대결 이번 보궐선거는 임기가 년남짓이다 내년...  1.0\n",
       "...                                                 ...  ...\n",
       "4368  나경원 대세론 꺾은 후보임기 못마친 죄 갚겠다 울먹 쟤 쥐새끼 똘마니야벌써 잊는거냐...  0.0\n",
       "4369  나경원 대세론 꺾은 후보임기 못마친 죄 갚겠다 울먹 이런자가 시장 후보라니 국민의짐...  0.0\n",
       "4370  나경원 대세론 꺾은 후보임기 못마친 죄 갚겠다 울먹 그럼 저 치가 아이들 점심을 어...  0.0\n",
       "4371  나경원 대세론 꺾은 후보임기 못마친 죄 갚겠다 울먹 정권심판이라이명박 박근혜정권때는...  0.0\n",
       "4372  민주 후보 년 전 식목 행사에 만원짜리 의전용 계단 정말나쁜정당이다후보도능력없다박원...  0.0\n",
       "\n",
       "[4373 rows x 2 columns]"
      ]
     },
     "execution_count": 59,
     "metadata": {},
     "output_type": "execute_result"
    }
   ],
   "source": [
    "# copy\n",
    "df4 = df3.copy()\n",
    "\n",
    "# 후보이름, 당명을 대체\n",
    "df4['title_comment'] = df4['title_comment'].str.replace('박영선|오세훈|김영춘|박형준|영선|세훈|형준|영춘|5세훈', '후보')\n",
    "df4['title_comment'] = df4['title_comment'].str.replace('더불어민주당|국민의힘|더불어 민주당|국민의 힘|국힘|더불어|민주당', '정당')\n",
    "df4"
   ]
  },
  {
   "cell_type": "code",
   "execution_count": 60,
   "metadata": {
    "ExecuteTime": {
     "end_time": "2021-05-12T06:31:13.240383Z",
     "start_time": "2021-05-12T06:30:50.782556Z"
    }
   },
   "outputs": [],
   "source": [
    "# 단어당 몇개씩 들어 있는지에 대한 벡터를 생성\n",
    "from sklearn.feature_extraction.text import CountVectorizer\n",
    "\n",
    "index_vectorizer2 = CountVectorizer(tokenizer= lambda x : get_pos(x))\n",
    "X = index_vectorizer2.fit_transform(df4['title_comment'].tolist())"
   ]
  },
  {
   "cell_type": "code",
   "execution_count": 61,
   "metadata": {
    "ExecuteTime": {
     "end_time": "2021-05-12T06:31:13.710639Z",
     "start_time": "2021-05-12T06:31:13.695680Z"
    }
   },
   "outputs": [],
   "source": [
    "# tf-idf로 변환\n",
    "tfidf_vectorizer2 = TfidfTransformer()\n",
    "X = tfidf_vectorizer2.fit_transform(X)"
   ]
  },
  {
   "cell_type": "code",
   "execution_count": 62,
   "metadata": {
    "ExecuteTime": {
     "end_time": "2021-05-12T06:31:14.177994Z",
     "start_time": "2021-05-12T06:31:14.172011Z"
    }
   },
   "outputs": [
    {
     "name": "stdout",
     "output_type": "stream",
     "text": [
      "저장완료\n"
     ]
    }
   ],
   "source": [
    "# TF-IDF 저장\n",
    "with open('model/tfidf_vectorizer2_0512.dat','wb') as fp:\n",
    "    pickle.dump(tfidf_vectorizer2, fp)\n",
    "print('저장완료')"
   ]
  },
  {
   "cell_type": "code",
   "execution_count": 63,
   "metadata": {
    "ExecuteTime": {
     "end_time": "2021-05-12T06:32:09.019705Z",
     "start_time": "2021-05-12T06:32:09.009730Z"
    }
   },
   "outputs": [
    {
     "data": {
      "text/plain": [
       "((3061, 20205), (1312, 20205), (3061,), (1312,))"
      ]
     },
     "execution_count": 63,
     "metadata": {},
     "output_type": "execute_result"
    }
   ],
   "source": [
    "# 학습-테스트용으로 나누기\n",
    "from sklearn.model_selection import train_test_split\n",
    "\n",
    "# 결과값\n",
    "y = df4['y'] \n",
    "X_train, X_test, y_train, y_test = train_test_split( X, y,\n",
    "                                                    test_size=0.3, \n",
    "                                                    stratify=y )\n",
    "\n",
    "X_train.shape, X_test.shape, y_train.shape, y_test.shape"
   ]
  },
  {
   "cell_type": "code",
   "execution_count": 64,
   "metadata": {
    "ExecuteTime": {
     "end_time": "2021-05-12T06:32:10.619483Z",
     "start_time": "2021-05-12T06:32:10.615474Z"
    }
   },
   "outputs": [],
   "source": [
    "# 로지스틱회귀로 분류분석 진행하기\n",
    "from sklearn.linear_model import LogisticRegression\n",
    "\n",
    "# 교차검증: 결과데이터를 보고 각 클래스가 균등한 비율로 들어있게끔 나눈다.\n",
    "from sklearn.model_selection import StratifiedKFold \n",
    "\n",
    "# 평가 방법\n",
    "from sklearn.metrics import accuracy_score\n",
    "from sklearn.metrics import precision_score \n",
    "from sklearn.metrics import recall_score \n",
    "from sklearn.metrics import f1_score\n",
    "from sklearn.metrics import roc_auc_score"
   ]
  },
  {
   "cell_type": "code",
   "execution_count": 65,
   "metadata": {
    "ExecuteTime": {
     "end_time": "2021-05-12T06:32:13.799203Z",
     "start_time": "2021-05-12T06:32:13.794184Z"
    }
   },
   "outputs": [],
   "source": [
    "# 교차검증\n",
    "fold1 = StratifiedKFold( n_splits=10 )\n",
    "\n",
    "# 로지스틱 회귀 모델 생성\n",
    "lr = LogisticRegression()\n",
    "\n",
    "# 최적 파라미터 찾기\n",
    "params = {'penalty': ['l1', 'l2', 'elasticnet', 'none'],\n",
    "          'solver': ['newton-cg', 'lbfgs', 'liblinear', 'sag', 'saga'],\n",
    "          'C':[0.001, 0.01, 0.1, 1, 10, 100, 1000, 10000]}\n",
    "\n",
    "grid_model2 = GridSearchCV( lr, params, scoring='accuracy', cv=fold1 )"
   ]
  },
  {
   "cell_type": "code",
   "execution_count": 66,
   "metadata": {
    "ExecuteTime": {
     "end_time": "2021-05-12T06:38:13.468715Z",
     "start_time": "2021-05-12T06:32:14.493635Z"
    }
   },
   "outputs": [
    {
     "name": "stdout",
     "output_type": "stream",
     "text": [
      "최적의 하이퍼 파라미터: {'C': 10000, 'penalty': 'l2', 'solver': 'lbfgs'}\n",
      "최적의 모델 평균 성능: 0.9046070979966363\n"
     ]
    }
   ],
   "source": [
    "grid_model2.fit( X_train,y_train )\n",
    "print(f'최적의 하이퍼 파라미터: {grid_model2.best_params_}')\n",
    "print(f'최적의 모델 평균 성능: {grid_model2.best_score_}')"
   ]
  },
  {
   "cell_type": "code",
   "execution_count": 67,
   "metadata": {
    "ExecuteTime": {
     "end_time": "2021-05-12T06:38:13.897146Z",
     "start_time": "2021-05-12T06:38:13.891178Z"
    }
   },
   "outputs": [
    {
     "data": {
      "text/plain": [
       "0.9009146341463414"
      ]
     },
     "execution_count": 67,
     "metadata": {},
     "output_type": "execute_result"
    }
   ],
   "source": [
    "# 테스트 데이터로 예측결과 파악하기\n",
    "y_pred = grid_model2.best_estimator_.predict(X_test)\n",
    "accuracy_score(y_test, y_pred)"
   ]
  },
  {
   "cell_type": "code",
   "execution_count": 68,
   "metadata": {
    "ExecuteTime": {
     "end_time": "2021-05-12T06:38:14.307050Z",
     "start_time": "2021-05-12T06:38:14.292090Z"
    }
   },
   "outputs": [
    {
     "data": {
      "text/plain": [
       "array([1., 0., 0., 0., 0., 0., 0.])"
      ]
     },
     "execution_count": 68,
     "metadata": {},
     "output_type": "execute_result"
    }
   ],
   "source": [
    "test2 = [\n",
    "    '오세훈 후보 화이팅',\n",
    "    '국짐당은 물러나라',\n",
    "    '더불어성추행당',\n",
    "    '참 뽑을 사람 없다.',\n",
    "    '그 나물에 그 밥',\n",
    "    '양심이 있냐',\n",
    "    '정신차려라'\n",
    "]\n",
    "\n",
    "# CounterVectorizer & Tf-Idf\n",
    "X = index_vectorizer2.transform(test2)\n",
    "X = tfidf_vectorizer2.transform(X)\n",
    "\n",
    "# 긍정/부정 예측 결과\n",
    "grid_model2.best_estimator_.predict(X)"
   ]
  },
  {
   "cell_type": "code",
   "execution_count": 69,
   "metadata": {
    "ExecuteTime": {
     "end_time": "2021-05-12T06:38:14.719946Z",
     "start_time": "2021-05-12T06:38:14.714959Z"
    }
   },
   "outputs": [
    {
     "data": {
      "text/plain": [
       "array([[8.88178420e-16, 1.00000000e+00],\n",
       "       [9.99994587e-01, 5.41314759e-06],\n",
       "       [1.00000000e+00, 1.93201241e-12],\n",
       "       [9.99999842e-01, 1.57552012e-07],\n",
       "       [9.07241611e-01, 9.27583888e-02],\n",
       "       [9.99999936e-01, 6.36984921e-08],\n",
       "       [9.99984878e-01, 1.51216773e-05]])"
      ]
     },
     "execution_count": 69,
     "metadata": {},
     "output_type": "execute_result"
    }
   ],
   "source": [
    "grid_model2.best_estimator_.predict_proba(X)"
   ]
  },
  {
   "cell_type": "code",
   "execution_count": 70,
   "metadata": {
    "ExecuteTime": {
     "end_time": "2021-05-12T06:38:23.314301Z",
     "start_time": "2021-05-12T06:38:23.308317Z"
    }
   },
   "outputs": [
    {
     "name": "stdout",
     "output_type": "stream",
     "text": [
      "저장완료\n"
     ]
    }
   ],
   "source": [
    "# 모델 저장\n",
    "best_model = grid_model2.best_estimator_\n",
    "with open('model/sentiment_analysis_Model2.dat','wb') as fp:\n",
    "    pickle.dump(best_model, fp)\n",
    "print('저장완료')"
   ]
  },
  {
   "cell_type": "code",
   "execution_count": 71,
   "metadata": {
    "ExecuteTime": {
     "end_time": "2021-05-12T06:38:33.647747Z",
     "start_time": "2021-05-12T06:38:23.746205Z"
    }
   },
   "outputs": [],
   "source": [
    "# 훈련용 데이터의 교차검증\n",
    "accuracy = cross_val_score( best_model, X_train, y_train, scoring='accuracy', cv=fold1 )\n",
    "precision = cross_val_score( best_model, X_train, y_train, scoring='precision', cv=fold1 )\n",
    "recall_score = cross_val_score( best_model, X_train, y_train, scoring='recall', cv=fold1 )\n",
    "f1_score = cross_val_score( best_model, X_train, y_train, scoring='f1', cv=fold1 )\n",
    "roc_auc_score = cross_val_score( best_model, X_train, y_train, scoring='roc_auc', cv=fold1 )"
   ]
  },
  {
   "cell_type": "code",
   "execution_count": 72,
   "metadata": {
    "ExecuteTime": {
     "end_time": "2021-05-12T06:38:34.183569Z",
     "start_time": "2021-05-12T06:38:34.064915Z"
    }
   },
   "outputs": [
    {
     "data": {
      "image/png": "[encoded data removed]",
      "text/plain": [
       "<Figure size 720x360 with 1 Axes>"
      ]
     },
     "metadata": {},
     "output_type": "display_data"
    }
   ],
   "source": [
    "plt.plot( accuracy , label='accuracy')\n",
    "# plt.plot( precision , label='precision')\n",
    "# plt.plot( recall_score , label='recall_score')\n",
    "# plt.plot( f1_score , label='f1_score')\n",
    "plt.ylim(0.7,1.0)\n",
    "plt.plot( roc_auc_score , label='roc_auc_score')\n",
    "plt.legend()\n",
    "plt.title( '[Figure-4] 훈련 데이터의 교차검증 결과')\n",
    "plt.show()"
   ]
  },
  {
   "cell_type": "code",
   "execution_count": 73,
   "metadata": {
    "ExecuteTime": {
     "end_time": "2021-05-12T06:38:34.555005Z",
     "start_time": "2021-05-12T06:38:34.550984Z"
    }
   },
   "outputs": [
    {
     "data": {
      "text/plain": [
       "(1312, 2)"
      ]
     },
     "execution_count": 73,
     "metadata": {},
     "output_type": "execute_result"
    }
   ],
   "source": [
    "best_model.predict_proba(X_test).shape"
   ]
  },
  {
   "cell_type": "code",
   "execution_count": 74,
   "metadata": {
    "ExecuteTime": {
     "end_time": "2021-05-12T06:38:35.136975Z",
     "start_time": "2021-05-12T06:38:34.933518Z"
    },
    "collapsed": true
   },
   "outputs": [
    {
     "data": {
      "image/png": "[encoded data removed]",
      "text/plain": [
       "<Figure size 720x360 with 1 Axes>"
      ]
     },
     "metadata": {},
     "output_type": "display_data"
    }
   ],
   "source": [
    "proba_0 = best_model.predict_proba(X_test)[:,0]\n",
    "proba_1 = best_model.predict_proba(X_test)[:,1]\n",
    "\n",
    "plt.scatter( range(len(proba_0)), proba_0, label='Negative Proba', s=10 )\n",
    "plt.scatter( range(len(proba_0)), proba_1, label='Positive Proba', s=10, marker='D' )\n",
    "plt.title('[Figure-5] Test 데이터에 대한 감성분석 추정 확률')\n",
    "plt.legend()\n",
    "plt.show()"
   ]
  },
  {
   "cell_type": "markdown",
   "metadata": {
    "heading_collapsed": true
   },
   "source": [
    "## 7. 모델2를 거친 데이터를 이용해 감성분석"
   ]
  },
  {
   "cell_type": "code",
   "execution_count": 49,
   "metadata": {
    "ExecuteTime": {
     "end_time": "2021-05-12T05:33:40.165852Z",
     "start_time": "2021-05-12T05:33:39.561710Z"
    },
    "hidden": true
   },
   "outputs": [
    {
     "data": {
      "text/html": [
       "<div>\n",
       "<style scoped>\n",
       "    .dataframe tbody tr th:only-of-type {\n",
       "        vertical-align: middle;\n",
       "    }\n",
       "\n",
       "    .dataframe tbody tr th {\n",
       "        vertical-align: top;\n",
       "    }\n",
       "\n",
       "    .dataframe thead th {\n",
       "        text-align: right;\n",
       "    }\n",
       "</style>\n",
       "<table border=\"1\" class=\"dataframe\">\n",
       "  <thead>\n",
       "    <tr style=\"text-align: right;\">\n",
       "      <th></th>\n",
       "      <th>area</th>\n",
       "      <th>candidate</th>\n",
       "      <th>candidate_eval</th>\n",
       "      <th>party</th>\n",
       "      <th>party_eval</th>\n",
       "      <th>title_comment</th>\n",
       "      <th>area_candidate</th>\n",
       "    </tr>\n",
       "  </thead>\n",
       "  <tbody>\n",
       "    <tr>\n",
       "      <th>0</th>\n",
       "      <td>NaN</td>\n",
       "      <td>NaN</td>\n",
       "      <td>NaN</td>\n",
       "      <td>NaN</td>\n",
       "      <td>NaN</td>\n",
       "      <td>재보궐  부산 김영춘  박형준 서울도 양자 대결 철수야 뜸 들이지 말고 애국하는 마...</td>\n",
       "      <td>오세훈</td>\n",
       "    </tr>\n",
       "    <tr>\n",
       "      <th>1</th>\n",
       "      <td>1.0</td>\n",
       "      <td>1.0</td>\n",
       "      <td>0.0</td>\n",
       "      <td>NaN</td>\n",
       "      <td>NaN</td>\n",
       "      <td>재보궐  부산 김영춘  박형준 서울도 양자 대결 박영선은 정동영이 얻은 프로선에 머...</td>\n",
       "      <td>박영선</td>\n",
       "    </tr>\n",
       "    <tr>\n",
       "      <th>2</th>\n",
       "      <td>1.0</td>\n",
       "      <td>1.0</td>\n",
       "      <td>0.0</td>\n",
       "      <td>NaN</td>\n",
       "      <td>NaN</td>\n",
       "      <td>재보궐  부산 김영춘  박형준 서울도 양자 대결 빵선이가서울시장되면서울은공산국가수도...</td>\n",
       "      <td>박영선</td>\n",
       "    </tr>\n",
       "    <tr>\n",
       "      <th>3</th>\n",
       "      <td>1.0</td>\n",
       "      <td>1.0</td>\n",
       "      <td>0.0</td>\n",
       "      <td>1.0</td>\n",
       "      <td>0.0</td>\n",
       "      <td>재보궐  부산 김영춘  박형준 서울도 양자 대결 서울시장후보더듬당박빵선이는절대로서울...</td>\n",
       "      <td>박영선</td>\n",
       "    </tr>\n",
       "    <tr>\n",
       "      <th>4</th>\n",
       "      <td>2.0</td>\n",
       "      <td>NaN</td>\n",
       "      <td>NaN</td>\n",
       "      <td>1.0</td>\n",
       "      <td>0.0</td>\n",
       "      <td>재보궐  부산 김영춘  박형준 서울도 양자 대결 부산은오거돈선거이고 오거돈치부선거아...</td>\n",
       "      <td>오세훈</td>\n",
       "    </tr>\n",
       "    <tr>\n",
       "      <th>...</th>\n",
       "      <td>...</td>\n",
       "      <td>...</td>\n",
       "      <td>...</td>\n",
       "      <td>...</td>\n",
       "      <td>...</td>\n",
       "      <td>...</td>\n",
       "      <td>...</td>\n",
       "    </tr>\n",
       "    <tr>\n",
       "      <th>144134</th>\n",
       "      <td>NaN</td>\n",
       "      <td>NaN</td>\n",
       "      <td>NaN</td>\n",
       "      <td>NaN</td>\n",
       "      <td>NaN</td>\n",
       "      <td>논설위원의 단도직입한일해저터널 경제성 없지만동북아 경제권 차원서 장기 검토해야 국민...</td>\n",
       "      <td>기타</td>\n",
       "    </tr>\n",
       "    <tr>\n",
       "      <th>144135</th>\n",
       "      <td>NaN</td>\n",
       "      <td>NaN</td>\n",
       "      <td>NaN</td>\n",
       "      <td>NaN</td>\n",
       "      <td>NaN</td>\n",
       "      <td>논설위원의 단도직입한일해저터널 경제성 없지만동북아 경제권 차원서 장기 검토해야 굳이...</td>\n",
       "      <td>박영선</td>\n",
       "    </tr>\n",
       "    <tr>\n",
       "      <th>144136</th>\n",
       "      <td>NaN</td>\n",
       "      <td>NaN</td>\n",
       "      <td>NaN</td>\n",
       "      <td>NaN</td>\n",
       "      <td>NaN</td>\n",
       "      <td>논설위원의 단도직입한일해저터널 경제성 없지만동북아 경제권 차원서 장기 검토해야 도랏...</td>\n",
       "      <td>오세훈</td>\n",
       "    </tr>\n",
       "    <tr>\n",
       "      <th>144137</th>\n",
       "      <td>NaN</td>\n",
       "      <td>NaN</td>\n",
       "      <td>NaN</td>\n",
       "      <td>NaN</td>\n",
       "      <td>NaN</td>\n",
       "      <td>논설위원의 단도직입한일해저터널 경제성 없지만동북아 경제권 차원서 장기 검토해야 이걸...</td>\n",
       "      <td>기타</td>\n",
       "    </tr>\n",
       "    <tr>\n",
       "      <th>144138</th>\n",
       "      <td>NaN</td>\n",
       "      <td>NaN</td>\n",
       "      <td>NaN</td>\n",
       "      <td>NaN</td>\n",
       "      <td>NaN</td>\n",
       "      <td>논설위원의 단도직입한일해저터널 경제성 없지만동북아 경제권 차원서 장기 검토해야 우리...</td>\n",
       "      <td>기타</td>\n",
       "    </tr>\n",
       "  </tbody>\n",
       "</table>\n",
       "<p>144139 rows × 7 columns</p>\n",
       "</div>"
      ],
      "text/plain": [
       "        area  candidate  candidate_eval  party  party_eval  \\\n",
       "0        NaN        NaN             NaN    NaN         NaN   \n",
       "1        1.0        1.0             0.0    NaN         NaN   \n",
       "2        1.0        1.0             0.0    NaN         NaN   \n",
       "3        1.0        1.0             0.0    1.0         0.0   \n",
       "4        2.0        NaN             NaN    1.0         0.0   \n",
       "...      ...        ...             ...    ...         ...   \n",
       "144134   NaN        NaN             NaN    NaN         NaN   \n",
       "144135   NaN        NaN             NaN    NaN         NaN   \n",
       "144136   NaN        NaN             NaN    NaN         NaN   \n",
       "144137   NaN        NaN             NaN    NaN         NaN   \n",
       "144138   NaN        NaN             NaN    NaN         NaN   \n",
       "\n",
       "                                            title_comment area_candidate  \n",
       "0       재보궐  부산 김영춘  박형준 서울도 양자 대결 철수야 뜸 들이지 말고 애국하는 마...            오세훈  \n",
       "1       재보궐  부산 김영춘  박형준 서울도 양자 대결 박영선은 정동영이 얻은 프로선에 머...            박영선  \n",
       "2       재보궐  부산 김영춘  박형준 서울도 양자 대결 빵선이가서울시장되면서울은공산국가수도...            박영선  \n",
       "3       재보궐  부산 김영춘  박형준 서울도 양자 대결 서울시장후보더듬당박빵선이는절대로서울...            박영선  \n",
       "4       재보궐  부산 김영춘  박형준 서울도 양자 대결 부산은오거돈선거이고 오거돈치부선거아...            오세훈  \n",
       "...                                                   ...            ...  \n",
       "144134  논설위원의 단도직입한일해저터널 경제성 없지만동북아 경제권 차원서 장기 검토해야 국민...             기타  \n",
       "144135  논설위원의 단도직입한일해저터널 경제성 없지만동북아 경제권 차원서 장기 검토해야 굳이...            박영선  \n",
       "144136  논설위원의 단도직입한일해저터널 경제성 없지만동북아 경제권 차원서 장기 검토해야 도랏...            오세훈  \n",
       "144137  논설위원의 단도직입한일해저터널 경제성 없지만동북아 경제권 차원서 장기 검토해야 이걸...             기타  \n",
       "144138  논설위원의 단도직입한일해저터널 경제성 없지만동북아 경제권 차원서 장기 검토해야 우리...             기타  \n",
       "\n",
       "[144139 rows x 7 columns]"
      ]
     },
     "execution_count": 49,
     "metadata": {},
     "output_type": "execute_result"
    }
   ],
   "source": [
    "df = pd.read_csv( 'data/prediction_byModel2/재보궐선거댓글데이터_최종_by_model2.csv', index_col=0 )\n",
    "df"
   ]
  },
  {
   "cell_type": "code",
   "execution_count": 50,
   "metadata": {
    "ExecuteTime": {
     "end_time": "2021-05-12T05:33:53.371710Z",
     "start_time": "2021-05-12T05:33:53.365726Z"
    },
    "collapsed": true,
    "hidden": true
   },
   "outputs": [
    {
     "data": {
      "text/plain": [
       "0         재보궐  부산 김영춘  박형준 서울도 양자 대결 철수야 뜸 들이지 말고 애국하는 마...\n",
       "1         재보궐  부산 김영춘  박형준 서울도 양자 대결 박영선은 정동영이 얻은 프로선에 머...\n",
       "2         재보궐  부산 김영춘  박형준 서울도 양자 대결 빵선이가서울시장되면서울은공산국가수도...\n",
       "3         재보궐  부산 김영춘  박형준 서울도 양자 대결 서울시장후보더듬당박빵선이는절대로서울...\n",
       "4         재보궐  부산 김영춘  박형준 서울도 양자 대결 부산은오거돈선거이고 오거돈치부선거아...\n",
       "                                ...                        \n",
       "144134    논설위원의 단도직입한일해저터널 경제성 없지만동북아 경제권 차원서 장기 검토해야 국민...\n",
       "144135    논설위원의 단도직입한일해저터널 경제성 없지만동북아 경제권 차원서 장기 검토해야 굳이...\n",
       "144136    논설위원의 단도직입한일해저터널 경제성 없지만동북아 경제권 차원서 장기 검토해야 도랏...\n",
       "144137    논설위원의 단도직입한일해저터널 경제성 없지만동북아 경제권 차원서 장기 검토해야 이걸...\n",
       "144138    논설위원의 단도직입한일해저터널 경제성 없지만동북아 경제권 차원서 장기 검토해야 우리...\n",
       "Name: title_comment, Length: 144139, dtype: object"
      ]
     },
     "execution_count": 50,
     "metadata": {},
     "output_type": "execute_result"
    }
   ],
   "source": [
    "df['title_comment']"
   ]
  },
  {
   "cell_type": "markdown",
   "metadata": {
    "heading_collapsed": true
   },
   "source": [
    "## 1. 후보자명/당명을 제거하지 않고 학습한 모델"
   ]
  },
  {
   "cell_type": "code",
   "execution_count": 51,
   "metadata": {
    "ExecuteTime": {
     "end_time": "2021-05-12T05:34:30.966763Z",
     "start_time": "2021-05-12T05:34:30.962213Z"
    },
    "hidden": true
   },
   "outputs": [
    {
     "name": "stdout",
     "output_type": "stream",
     "text": [
      "출력 완료\n"
     ]
    }
   ],
   "source": [
    "# 감성분석 모델 불러오기\n",
    "with open('model/sentiment_analysis_Model1.dat', 'rb') as fp:\n",
    "    new_model = pickle.load(fp)\n",
    "print('출력 완료')"
   ]
  },
  {
   "cell_type": "code",
   "execution_count": 52,
   "metadata": {
    "ExecuteTime": {
     "end_time": "2021-05-12T05:34:38.803000Z",
     "start_time": "2021-05-12T05:34:38.798013Z"
    },
    "hidden": true
   },
   "outputs": [
    {
     "name": "stdout",
     "output_type": "stream",
     "text": [
      "출력 완료\n"
     ]
    }
   ],
   "source": [
    "# Tf-Idf Vectorizer 불러오기\n",
    "with open('model/tfidf_vectorizer_0512.dat', 'rb') as fp:\n",
    "    new_tfidf_vectorizer = pickle.load(fp)\n",
    "print('출력 완료')"
   ]
  },
  {
   "cell_type": "markdown",
   "metadata": {
    "hidden": true
   },
   "source": [
    "### 예측하기"
   ]
  },
  {
   "cell_type": "code",
   "execution_count": 53,
   "metadata": {
    "ExecuteTime": {
     "end_time": "2021-05-12T05:34:42.602563Z",
     "start_time": "2021-05-12T05:34:42.598321Z"
    },
    "hidden": true
   },
   "outputs": [],
   "source": [
    "total_X = df['title_comment']"
   ]
  },
  {
   "cell_type": "code",
   "execution_count": 54,
   "metadata": {
    "ExecuteTime": {
     "end_time": "2021-05-12T05:45:58.237593Z",
     "start_time": "2021-05-12T05:34:43.129762Z"
    },
    "hidden": true
   },
   "outputs": [
    {
     "data": {
      "text/plain": [
       "array([0., 0., 0., ..., 0., 0., 0.])"
      ]
     },
     "execution_count": 54,
     "metadata": {},
     "output_type": "execute_result"
    }
   ],
   "source": [
    "# CounterVectorrizer는 다시 fit시키는 것이 아니라 transform만 시키는 것\n",
    "X = index_vectorizer.transform(total_X.to_list())\n",
    "\n",
    "# tf-idf는 새로 생성하는 것이 아니라 학습시킨 td-idf를 저장하여 사용하는 것\n",
    "X = new_tfidf_vectorizer.transform(X)\n",
    "\n",
    "y_pred = new_model.predict(X)\n",
    "y_pred"
   ]
  },
  {
   "cell_type": "code",
   "execution_count": 55,
   "metadata": {
    "ExecuteTime": {
     "end_time": "2021-05-12T06:30:30.126194Z",
     "start_time": "2021-05-12T06:30:30.121238Z"
    },
    "hidden": true,
    "scrolled": true
   },
   "outputs": [
    {
     "data": {
      "text/plain": [
       "array([0., 0., 0., ..., 0., 0., 0.])"
      ]
     },
     "execution_count": 55,
     "metadata": {},
     "output_type": "execute_result"
    }
   ],
   "source": [
    "y_pred"
   ]
  },
  {
   "cell_type": "markdown",
   "metadata": {
    "hidden": true
   },
   "source": [
    "### 후보별 예측 긍정/부정률 확인하기"
   ]
  },
  {
   "cell_type": "code",
   "execution_count": 56,
   "metadata": {
    "ExecuteTime": {
     "end_time": "2021-05-12T06:30:31.837933Z",
     "start_time": "2021-05-12T06:30:31.825940Z"
    },
    "hidden": true
   },
   "outputs": [],
   "source": [
    "target_df = df[['title_comment','area_candidate']]\n",
    "target_df['pred_sentiment'] = y_pred"
   ]
  },
  {
   "cell_type": "code",
   "execution_count": 57,
   "metadata": {
    "ExecuteTime": {
     "end_time": "2021-05-12T06:30:32.423363Z",
     "start_time": "2021-05-12T06:30:32.404413Z"
    },
    "hidden": true
   },
   "outputs": [
    {
     "data": {
      "text/plain": [
       "area_candidate\n",
       "박영선    0.086088\n",
       "오세훈    0.108489\n",
       "김영춘    0.103448\n",
       "박형준    0.073971\n",
       "Name: pred_sentiment, dtype: float64"
      ]
     },
     "execution_count": 57,
     "metadata": {},
     "output_type": "execute_result"
    }
   ],
   "source": [
    "a = target_df.groupby('area_candidate').mean().loc[['박영선','오세훈','김영춘','박형준']]\n",
    "a['pred_sentiment']"
   ]
  },
  {
   "cell_type": "code",
   "execution_count": 58,
   "metadata": {
    "ExecuteTime": {
     "end_time": "2021-05-12T06:30:33.051862Z",
     "start_time": "2021-05-12T06:30:32.947111Z"
    },
    "hidden": true,
    "scrolled": false
   },
   "outputs": [
    {
     "data": {
      "image/png": "[encoded data removed]",
      "text/plain": [
       "<Figure size 720x360 with 1 Axes>"
      ]
     },
     "metadata": {},
     "output_type": "display_data"
    }
   ],
   "source": [
    "a['pred_sentiment'].plot(kind='bar', color=['b','r','b','r'], alpha=0.7)\n",
    "plt.title('[Figure] 후보별 예측 평균 긍정률')\n",
    "plt.show()"
   ]
  },
  {
   "cell_type": "markdown",
   "metadata": {},
   "source": [
    "## 2. 후보자명/당명을 제거하고 학습한 모델"
   ]
  },
  {
   "cell_type": "code",
   "execution_count": 80,
   "metadata": {
    "ExecuteTime": {
     "end_time": "2021-05-12T06:55:26.847279Z",
     "start_time": "2021-05-12T06:55:26.842306Z"
    }
   },
   "outputs": [
    {
     "name": "stdout",
     "output_type": "stream",
     "text": [
      "출력 완료\n"
     ]
    }
   ],
   "source": [
    "# 감성분석 모델 불러오기\n",
    "with open('model/sentiment_analysis_Model2.dat', 'rb') as fp:\n",
    "    new_model = pickle.load(fp)\n",
    "print('출력 완료')"
   ]
  },
  {
   "cell_type": "code",
   "execution_count": 81,
   "metadata": {
    "ExecuteTime": {
     "end_time": "2021-05-12T06:55:27.914723Z",
     "start_time": "2021-05-12T06:55:27.909738Z"
    }
   },
   "outputs": [
    {
     "name": "stdout",
     "output_type": "stream",
     "text": [
      "출력 완료\n"
     ]
    }
   ],
   "source": [
    "# Tf-Idf Vectorizer 불러오기\n",
    "with open('model/tfidf_vectorizer2_0512.dat', 'rb') as fp:\n",
    "    new_tfidf_vectorizer = pickle.load(fp)\n",
    "print('출력 완료')"
   ]
  },
  {
   "cell_type": "markdown",
   "metadata": {},
   "source": [
    "### 예측하기"
   ]
  },
  {
   "cell_type": "code",
   "execution_count": 82,
   "metadata": {
    "ExecuteTime": {
     "end_time": "2021-05-12T06:55:29.657633Z",
     "start_time": "2021-05-12T06:55:29.653661Z"
    }
   },
   "outputs": [],
   "source": [
    "total_X2 = df['title_comment']"
   ]
  },
  {
   "cell_type": "code",
   "execution_count": 83,
   "metadata": {
    "ExecuteTime": {
     "end_time": "2021-05-12T07:07:31.613181Z",
     "start_time": "2021-05-12T06:55:31.786614Z"
    }
   },
   "outputs": [
    {
     "data": {
      "text/plain": [
       "array([0., 0., 0., ..., 0., 0., 0.])"
      ]
     },
     "execution_count": 83,
     "metadata": {},
     "output_type": "execute_result"
    }
   ],
   "source": [
    "# CounterVectorrizer는 다시 fit시키는 것이 아니라 transform만 시키는 것\n",
    "X2 = index_vectorizer2.transform(total_X2.to_list())\n",
    "\n",
    "# tf-idf는 새로 생성하는 것이 아니라 학습시킨 td-idf를 저장하여 사용하는 것\n",
    "X2 = new_tfidf_vectorizer.transform(X2)\n",
    "\n",
    "y_pred2 = new_model.predict(X2)\n",
    "y_pred2"
   ]
  },
  {
   "cell_type": "code",
   "execution_count": 84,
   "metadata": {
    "ExecuteTime": {
     "end_time": "2021-05-12T07:07:32.140770Z",
     "start_time": "2021-05-12T07:07:32.131797Z"
    }
   },
   "outputs": [],
   "source": [
    "target_df2 = df[['title_comment','area_candidate']]\n",
    "target_df2['pred_sentiment'] = y_pred2"
   ]
  },
  {
   "cell_type": "code",
   "execution_count": 85,
   "metadata": {
    "ExecuteTime": {
     "end_time": "2021-05-12T07:07:32.734130Z",
     "start_time": "2021-05-12T07:07:32.711193Z"
    }
   },
   "outputs": [
    {
     "data": {
      "text/plain": [
       "area_candidate\n",
       "박영선    0.048396\n",
       "오세훈    0.071913\n",
       "김영춘    0.034483\n",
       "박형준    0.034374\n",
       "Name: pred_sentiment, dtype: float64"
      ]
     },
     "execution_count": 85,
     "metadata": {},
     "output_type": "execute_result"
    }
   ],
   "source": [
    "a = target_df2.groupby('area_candidate').mean().loc[['박영선','오세훈','김영춘','박형준']]\n",
    "a['pred_sentiment']"
   ]
  },
  {
   "cell_type": "code",
   "execution_count": 86,
   "metadata": {
    "ExecuteTime": {
     "end_time": "2021-05-12T07:07:33.490179Z",
     "start_time": "2021-05-12T07:07:33.358532Z"
    }
   },
   "outputs": [
    {
     "data": {
      "image/png": "[encoded data removed]",
      "text/plain": [
       "<Figure size 720x360 with 1 Axes>"
      ]
     },
     "metadata": {},
     "output_type": "display_data"
    }
   ],
   "source": [
    "a['pred_sentiment'].plot(kind='bar', color=['b','r','b','r'], alpha=0.7)\n",
    "plt.title('[Figure] 후보별 예측 평균 긍정률')\n",
    "plt.show()"
   ]
  },
  {
   "cell_type": "markdown",
   "metadata": {},
   "source": [
    "## 8. 부정단어 추출"
   ]
  },
  {
   "cell_type": "code",
   "execution_count": 87,
   "metadata": {
    "ExecuteTime": {
     "end_time": "2021-05-12T07:08:25.411061Z",
     "start_time": "2021-05-12T07:08:25.405076Z"
    }
   },
   "outputs": [],
   "source": [
    "# (단어인덱스, 회귀 계수) 형태로 만들기\n",
    "tmp = list(enumerate(new_model.coef_[0]))\n",
    "# display(tmp)"
   ]
  },
  {
   "cell_type": "code",
   "execution_count": 88,
   "metadata": {
    "ExecuteTime": {
     "end_time": "2021-05-12T07:08:26.069744Z",
     "start_time": "2021-05-12T07:08:26.064758Z"
    }
   },
   "outputs": [
    {
     "data": {
      "text/plain": [
       "<generator object <genexpr> at 0x0000023E635D79C8>"
      ]
     },
     "execution_count": 88,
     "metadata": {},
     "output_type": "execute_result"
    }
   ],
   "source": [
    "# (회귀계수, 인덱스) 형태인 튜플 생성\n",
    "tmp2 = ( (value, index) for index, value in tmp)\n",
    "tmp2"
   ]
  },
  {
   "cell_type": "code",
   "execution_count": 89,
   "metadata": {
    "ExecuteTime": {
     "end_time": "2021-05-12T07:08:26.694194Z",
     "start_time": "2021-05-12T07:08:26.677240Z"
    }
   },
   "outputs": [],
   "source": [
    "# 오름차순 정렬: 회귀계수가 가장 높은 것부터 출력\n",
    "coef_pos_index = sorted(tmp2, reverse=True) \n",
    "# coef_pos_index # 결과적으로 중요도 나타냄"
   ]
  },
  {
   "cell_type": "markdown",
   "metadata": {},
   "source": [
    "## 긍정/부정 단어 확인\n",
    "- 단어 사전 변형하기\n",
    "    - { 단어: 단어 인덱스}에서 { 단어 인덱스: 단어 } 형태로 변형\n",
    "- 긍정 단어 20개, 부정 단어 20개 파악"
   ]
  },
  {
   "cell_type": "code",
   "execution_count": 90,
   "metadata": {
    "ExecuteTime": {
     "end_time": "2021-05-12T07:08:28.859416Z",
     "start_time": "2021-05-12T07:08:28.829492Z"
    },
    "collapsed": true
   },
   "outputs": [
    {
     "data": {
      "text/plain": [
       "{15249: '재보궐/Noun',\n",
       " 8891: '부산/Noun',\n",
       " 2215: '김영춘/Noun',\n",
       " 7867: '박형준/Noun',\n",
       " 10189: '서울/Noun',\n",
       " 12328: '양자/Noun',\n",
       " 4234: '대결/Noun',\n",
       " 13091: '오거돈/Noun',\n",
       " 10223: '선거/Noun',\n",
       " 17783: '치부/Noun',\n",
       " 11577: '아닌가/Adjective',\n",
       " 10333: '성/Noun',\n",
       " 17626: '추해으로/Adjective',\n",
       " 10111: '생긴/Verb',\n",
       " 176: '가독/Noun',\n",
       " 11005: '신/Modifier',\n",
       " 1371: '공항/Noun',\n",
       " 15252: '재산/Noun',\n",
       " 9084: '불려줄려고/Verb',\n",
       " 7303: '문재인/Noun',\n",
       " 7561: '민주당/Noun',\n",
       " 5310: '들/Suffix',\n",
       " 8022: '발악/Noun',\n",
       " 11578: '아닌가다/Adjective',\n",
       " 9711: '사람/Noun',\n",
       " 18874: '하는말/Verb',\n",
       " 14171: '이번/Noun',\n",
       " 11337: '쎄/Adjective',\n",
       " 9380: '빠지게/Verb',\n",
       " 13723: '위/Noun',\n",
       " 10222: '선가아이가다/Verb',\n",
       " 14429: '일단/Noun',\n",
       " 14503: '일자리/Noun',\n",
       " 1097: '경제/Noun',\n",
       " 6334: '말/Noun',\n",
       " 5275: '드신/Verb',\n",
       " 12837: '여당/Noun',\n",
       " 9413: '빼고/Verb',\n",
       " 16434: '지/Verb',\n",
       " 5311: '들/Verb',\n",
       " 10350: '성범죄/Noun',\n",
       " 18867: '하는데/Verb',\n",
       " 10221: '선/Noun',\n",
       " 255: '가비/Noun',\n",
       " 18163: '토안/Noun',\n",
       " 18825: '하는/Verb',\n",
       " 9210: '비/Noun',\n",
       " 12325: '양심/Noun',\n",
       " 15597: '정당/Noun',\n",
       " 3869: '님/Suffix',\n",
       " 10664: '수십조/Modifier',\n",
       " 10393: '세금/Noun',\n",
       " 18503: '평가/Noun',\n",
       " 10718: '순위/Noun',\n",
       " 13739: '위인/Noun',\n",
       " 173: '가덕도/Noun',\n",
       " 18436: '퍼붓겠다는/Verb',\n",
       " 4444: '더불어/Verb',\n",
       " 4139: '당/Noun',\n",
       " 4138: '당/Modifier',\n",
       " 11019: '신돈/Noun',\n",
       " 5878: '라면/Noun',\n",
       " 14099: '이런/Modifier',\n",
       " 10994: '식/Noun',\n",
       " 11376: '쓰겠나/Verb',\n",
       " 995: '겨울/Noun',\n",
       " 10894: '시린/Adjective',\n",
       " 10556: '손/Noun',\n",
       " 19877: '호호/Noun',\n",
       " 9097: '불며/Verb',\n",
       " 19096: '한/Determiner',\n",
       " 18602: '푼/Noun',\n",
       " 5098: '두/Determiner',\n",
       " 8312: '벌어/Verb',\n",
       " 3291: '낸/Verb',\n",
       " 1592: '국가/Noun',\n",
       " 8029: '발전/Noun',\n",
       " 19017: '하여/Verb',\n",
       " 2447: '꼭/Noun',\n",
       " 18698: '필요한/Adjective',\n",
       " 1287: '곳/Noun',\n",
       " 11410: '쓰여졌으면/Verb',\n",
       " 15926: '좋겠다/Adjective',\n",
       " 7833: '박원순/Noun',\n",
       " 10378: '성폭력/Noun',\n",
       " 14934: '자살/Noun',\n",
       " 1289: '공/Modifier',\n",
       " 10610: '수/Modifier',\n",
       " 17347: '처/Noun',\n",
       " 10650: '수사의뢰/Noun',\n",
       " 4440: '더불/Verb',\n",
       " 4400: '더듬/Verb',\n",
       " 20060: '후보/Noun',\n",
       " 16405: '즉각/Noun',\n",
       " 9815: '사퇴/Noun',\n",
       " 10937: '시켜라/Verb',\n",
       " 8813: '부끄러움/Noun',\n",
       " 10028: '상식/Noun',\n",
       " 13071: '예의/Noun',\n",
       " 12655: '없는/Adjective',\n",
       " 16804: '집단/Noun',\n",
       " 12499: '어찌/Noun',\n",
       " 6571: '맡기겠는가/Verb',\n",
       " 8480: '보궐선거/Noun',\n",
       " 14553: '임기/Noun',\n",
       " 3471: '년남짓/Noun',\n",
       " 3147: '내/Determiner',\n",
       " 3482: '년월/Noun',\n",
       " 5743: '또다시/Adverb',\n",
       " 16542: '지방선거/Noun',\n",
       " 17769: '치르기/Verb',\n",
       " 5604: '때문/Noun',\n",
       " 8670: '보통/Noun',\n",
       " 10918: '시장/Noun',\n",
       " 12616: '업무/Noun',\n",
       " 18332: '파악/Noun',\n",
       " 719: '개월/Noun',\n",
       " 15604: '정도/Noun',\n",
       " 8730: '볼때/Noun',\n",
       " 4161: '당선/Noun',\n",
       " 4910: '되는/Verb',\n",
       " 6279: '만하/Noun',\n",
       " 7757: '바로/Noun',\n",
       " 3166: '내년/Noun',\n",
       " 16218: '준비/Noun',\n",
       " 19464: '해야/Verb',\n",
       " 19130: '한다/Verb',\n",
       " 6246: '만약/Noun',\n",
       " 12246: '야권/Noun',\n",
       " 5054: '될/Verb',\n",
       " 1086: '경우/Noun',\n",
       " 10050: '상황/Noun',\n",
       " 15884: '좀더/Noun',\n",
       " 19885: '혼란/Noun',\n",
       " 10793: '스러워진다/Adjective',\n",
       " 12251: '야당/Noun',\n",
       " 14280: '이전/Noun',\n",
       " 12814: '여/Modifier',\n",
       " 4164: '당시/Noun',\n",
       " 15163: '장/Suffix',\n",
       " 15684: '정책/Noun',\n",
       " 6887: '모두/Noun',\n",
       " 5207: '뒤집을/Verb',\n",
       " 150: '가능성/Noun',\n",
       " 17953: '크고/Verb',\n",
       " 1834: '그럼/Adjective',\n",
       " 1811: '그런/Adjective',\n",
       " 3470: '년/Noun',\n",
       " 19709: '허송/Noun',\n",
       " 10433: '세월/Noun',\n",
       " 18717: '하/Suffix',\n",
       " 5077: '될수밖에/Verb',\n",
       " 12676: '없다/Adjective',\n",
       " 19301: '함/Noun',\n",
       " 1218: '고스/Noun',\n",
       " 5891: '란/Noun',\n",
       " 20187: '히/Adverb',\n",
       " 10895: '시민/Noun',\n",
       " 4721: '돌아감은/Verb',\n",
       " 19208: '할/Verb',\n",
       " 18687: '필요/Noun',\n",
       " 1845: '그렇기에/Adjective',\n",
       " 15700: '정파/Noun',\n",
       " 5614: '떠나/Verb',\n",
       " 10925: '시정/Noun',\n",
       " 10089: '생각/Noun',\n",
       " 19144: '한다면/Verb',\n",
       " 8451: '보/Noun',\n",
       " 1697: '권/Suffix',\n",
       " 12824: '여권/Noun',\n",
       " 4967: '되어/Verb',\n",
       " 503: '갑작스레/Noun',\n",
       " 16274: '중단/Noun',\n",
       " 5027: '된/Verb',\n",
       " 15438: '전/Modifier',\n",
       " 14566: '임시/Noun',\n",
       " 6048: '마무리/Noun',\n",
       " 18862: '하는게/Verb',\n",
       " 7750: '바람직하다고/Adjective',\n",
       " 19276: '할수있다/Verb',\n",
       " 15589: '정권/Noun',\n",
       " 1019: '견제/Noun',\n",
       " 15579: '정/Noun',\n",
       " 18695: '필요하다면/Adjective',\n",
       " 8693: '본/Modifier',\n",
       " 1505: '교체/Noun',\n",
       " 8699: '본다/Verb',\n",
       " 8798: '부/Noun',\n",
       " 9741: '사보/Noun',\n",
       " 1712: '궐/Noun',\n",
       " 10148: '서거/Noun',\n",
       " 13087: '오거/Noun',\n",
       " 10376: '성추행/Noun',\n",
       " 7273: '문/Modifier',\n",
       " 19172: '한술/Noun',\n",
       " 4388: '더/Noun',\n",
       " 5643: '떠서/Verb',\n",
       " 13090: '오거던을/Verb',\n",
       " 3872: '다/Adverb',\n",
       " 4471: '덕/Noun',\n",
       " 15777: '조/Modifier',\n",
       " 14185: '이상/Noun',\n",
       " 18429: '퍼/Noun',\n",
       " 8902: '부어/Noun',\n",
       " 13094: '오고던/Verb',\n",
       " 6201: '만들려로고/Verb',\n",
       " 937: '것/Noun',\n",
       " 11355: '쐐빠지/Noun',\n",
       " 8000: '발광하고/Adjective',\n",
       " 11356: '쑈/Noun',\n",
       " 19149: '한단/Noun',\n",
       " 14285: '이제/Noun',\n",
       " 3055: '남은/Verb',\n",
       " 14413: '일/Noun',\n",
       " 18228: '투표/Noun',\n",
       " 12204: '애/Noun',\n",
       " 13999: '이기/Noun',\n",
       " 741: '개표/Noun',\n",
       " 16493: '지는/Verb',\n",
       " 8922: '부정/Noun',\n",
       " 8117: '방지/Noun',\n",
       " 18955: '하면/Verb',\n",
       " 7142: '무능/Noun',\n",
       " 4361: '대한/Noun',\n",
       " 11174: '심판/Noun',\n",
       " 17759: '치루어지는/Verb',\n",
       " 10851: '승리/Noun',\n",
       " 4170: '당연한/Adjective',\n",
       " 1022: '결과/Noun',\n",
       " 5061: '될것이다/Verb',\n",
       " 6890: '모든/Noun',\n",
       " 4669: '돈/Noun',\n",
       " 10234: '선거전에/Verb',\n",
       " 14360: '인당/Verb',\n",
       " 12515: '억만/Noun',\n",
       " 4307: '대승/Noun',\n",
       " 280: '가야대/Noun',\n",
       " 7537: '민국이/Noun',\n",
       " 9834: '산다/Noun',\n",
       " 1607: '국민/Noun',\n",
       " 19805: '혈/Noun',\n",
       " 10400: '세로/Noun',\n",
       " 17751: '치러지는/Verb',\n",
       " 4270: '대도시/Noun',\n",
       " 13889: '은자/Noun',\n",
       " 10708: '숙해/Noun',\n",
       " 17549: '최대/Noun',\n",
       " 8402: '변수/Noun',\n",
       " 13863: '윤석열/Noun',\n",
       " 821: '거취/Noun',\n",
       " 921: '검찰/Noun',\n",
       " 3244: '내부/Noun',\n",
       " 1266: '곧/Noun',\n",
       " 19785: '현/Noun',\n",
       " 13869: '윤총장/Noun',\n",
       " 15690: '정치/Noun',\n",
       " 19941: '화한것은/Adjective',\n",
       " 15621: '정부/Noun',\n",
       " 7175: '무리한/Adjective',\n",
       " 19803: '현행법/Noun',\n",
       " 13728: '위반/Noun',\n",
       " 8082: '밥/Noun',\n",
       " 6683: '먹듯/Noun',\n",
       " 4660: '독재/Noun',\n",
       " 18489: '편협/Noun',\n",
       " 16509: '지독한/Adjective',\n",
       " 18488: '편향/Noun',\n",
       " 15391: '적/Suffix',\n",
       " 3542: '논리/Noun',\n",
       " 6605: '매몰/Noun',\n",
       " 14956: '자업자득/Noun',\n",
       " 5034: '된것이다/Verb',\n",
       " 16529: '지리멸렬한/Adjective',\n",
       " 12442: '어부지리/Noun',\n",
       " 19870: '호재/Noun',\n",
       " 4994: '되었다/Verb',\n",
       " 16433: '지/Modifier',\n",
       " 360: '각/Modifier',\n",
       " 19195: '한자/Noun',\n",
       " 743: '개혁/Noun',\n",
       " 13114: '오래된/Adjective',\n",
       " 10699: '숙원/Noun',\n",
       " 8721: '본질/Noun',\n",
       " 1425: '관철/Noun',\n",
       " 10953: '시키고/Verb',\n",
       " 19784: '현/Modifier',\n",
       " 9105: '불법/Noun',\n",
       " 18469: '편법/Noun',\n",
       " 9293: '비정상/Noun',\n",
       " 13675: '원자로/Noun',\n",
       " 18525: '폐쇄/Noun',\n",
       " 5888: '라임/Noun',\n",
       " 13567: '울/Modifier',\n",
       " 9838: '산시/Noun',\n",
       " 722: '개입/Noun',\n",
       " 15784: '조국/Noun',\n",
       " 321: '가족/Noun',\n",
       " 9234: '비리/Noun',\n",
       " 17590: '추미애/Noun',\n",
       " 8352: '법무부/Noun',\n",
       " 9781: '사유화/Noun',\n",
       " 3596: '농락/Noun',\n",
       " 19766: '헤아릴수/Verb',\n",
       " 18330: '파쇼/Noun',\n",
       " 4662: '독재정/Noun',\n",
       " 10648: '수사/Noun',\n",
       " 9057: '불공정/Noun',\n",
       " 18427: '팽창/Noun',\n",
       " 2159: '기회균등/Noun',\n",
       " 18311: '파괴/Noun',\n",
       " 19135: '한다는/Modifier',\n",
       " 7891: '반면/Noun',\n",
       " 1497: '교사/Noun',\n",
       " 9966: '삼아/Verb',\n",
       " 15993: '좌우/Noun',\n",
       " 4282: '대립/Noun',\n",
       " 12951: '열/Modifier',\n",
       " 15695: '정치인/Noun',\n",
       " 1104: '경종/Noun',\n",
       " 4971: '되어야/Verb',\n",
       " 2148: '기초/Noun',\n",
       " 13937: '의식주/Noun',\n",
       " 2086: '기본/Noun',\n",
       " 19650: '행복/Noun',\n",
       " 1906: '극단/Noun',\n",
       " 10302: '설자리/Noun',\n",
       " 11528: '아니다/Adjective',\n",
       " 1741: '그/Noun',\n",
       " 8084: '밥그릇/Noun',\n",
       " 1299: '공공히/Adjective',\n",
       " 9619: '뿐/Noun',\n",
       " 10265: '선의/Noun',\n",
       " 4319: '대의/Noun',\n",
       " 19665: '행정/Noun',\n",
       " 14051: '이념/Noun',\n",
       " 17400: '철/Noun',\n",
       " 16477: '지난/Noun',\n",
       " 15173: '장난감/Noun',\n",
       " 19883: '혼/Noun',\n",
       " 19192: '한을/Verb',\n",
       " 10125: '생산/Noun',\n",
       " 5975: '류/Noun',\n",
       " 10288: '설/Noun',\n",
       " 14907: '자리/Suffix',\n",
       " 12707: '없애야/Verb',\n",
       " 13497: '우리/Noun',\n",
       " 14435: '일류/Noun',\n",
       " 4362: '대한민국/Noun',\n",
       " 9961: '삼류/Noun',\n",
       " 14057: '이단/Noun',\n",
       " 7170: '무리/Noun',\n",
       " 8127: '배/Noun',\n",
       " 12603: '엄중히/Adjective',\n",
       " 1067: '경고/Noun',\n",
       " 14370: '인사/Noun',\n",
       " 14973: '자의/Noun',\n",
       " 3710: '눈치/Noun',\n",
       " 8665: '보지/Noun',\n",
       " 20191: '힘/Noun',\n",
       " 14680: '있는/Adjective',\n",
       " 14896: '자로/Noun',\n",
       " 13684: '원칙/Noun',\n",
       " 17355: '처벌/Noun',\n",
       " 19364: '해/Verb',\n",
       " 12298: '약자/Noun',\n",
       " 1591: '국/Noun',\n",
       " 8672: '보호/Noun',\n",
       " 13929: '의미/Noun',\n",
       " 13966: '이/Determiner',\n",
       " 19733: '헌법/Noun',\n",
       " 10033: '상의/Noun',\n",
       " 17312: '책무/Noun',\n",
       " 1353: '공정한/Adjective',\n",
       " 12523: '억울한/Adjective',\n",
       " 14495: '일이/Modifier',\n",
       " 12695: '없도록/Adjective',\n",
       " 18858: '하는것이며/Verb',\n",
       " 16450: '지금/Noun',\n",
       " 16753: '진행중/Noun',\n",
       " 10649: '수사권/Noun',\n",
       " 13314: '완전/Noun',\n",
       " 7859: '박탈/Noun',\n",
       " 8971: '부패/Noun',\n",
       " 13894: '을/Noun',\n",
       " 13316: '완전히/Adjective',\n",
       " 18369: '판치게/Verb',\n",
       " 13321: '완판/Noun',\n",
       " 14075: '이라면서/Verb',\n",
       " 16275: '중대/Noun',\n",
       " 8341: '범죄수사/Noun',\n",
       " 17429: '청/Noun',\n",
       " 17612: '추진/Noun',\n",
       " 545: '강도/Noun',\n",
       " 3604: '높게/Adjective',\n",
       " 9313: '비판/Noun',\n",
       " 14635: '있/Adjective',\n",
       " 13900: '음/Noun',\n",
       " 922: '검찰총장/Noun',\n",
       " 1294: '공격/Noun',\n",
       " 13968: '이/Noun',\n",
       " 300: '가장/Noun',\n",
       " 14366: '인물/Noun',\n",
       " 6205: '만들어가고/Verb',\n",
       " 14713: '있다는/Adjective',\n",
       " 8919: '부적절한/Adjective',\n",
       " 19661: '행위/Noun',\n",
       " 15999: '좌파/Noun',\n",
       " 5535: '따라올/Verb',\n",
       " 14851: '자가/Noun',\n",
       " 11628: '아마/Noun',\n",
       " 16446: '지구/Noun',\n",
       " 9993: '상/Suffix',\n",
       " 12770: '없지/Adjective',\n",
       " 12020: '않을까/Verb',\n",
       " 15630: '정세균/Noun',\n",
       " 13969: '이/Suffix',\n",
       " 15882: '좀/Noun',\n",
       " 3942: '다를까/Adjective',\n",
       " 18753: '하고/Verb',\n",
       " 11067: '실날/Noun',\n",
       " 640: '같은/Adjective',\n",
       " 20175: '희망/Noun',\n",
       " 319: '가졌었는데/Verb',\n",
       " 12908: '역시/Noun',\n",
       " 9395: '빨강/Noun',\n",
       " 10079: '색/Noun',\n",
       " 121: '가까운/Adjective',\n",
       " 16142: '주황색/Noun',\n",
       " 4553: '도/Noun',\n",
       " 16702: '진개/Noun',\n",
       " 16701: '진/Noun',\n",
       " 17012: '쯤/Noun',\n",
       " 4948: '되면/Verb',\n",
       " 1644: '국힘/Noun',\n",
       " 4140: '당/Suffix',\n",
       " 12385: '어떻게/Adjective',\n",
       " 14393: '인지/Noun',\n",
       " 17217: '참/Verb',\n",
       " 16344: '중요한데/Adjective',\n",
       " 12236: '애초/Noun',\n",
       " 647: '같은게/Adjective',\n",
       " 4348: '대통령/Noun',\n",
       " 9684: '사단/Noun',\n",
       " 6178: '만든게/Verb',\n",
       " 10058: '새누리당/Noun',\n",
       " 8441: '볍신/Noun',\n",
       " 10051: '새/Modifier',\n",
       " 1717: '귀/Noun',\n",
       " 7792: '박근혜/Noun',\n",
       " 18045: '탄핵/Noun',\n",
       " 10469: '소/Modifier',\n",
       " 17571: '추/Noun',\n",
       " 13918: '의결/Noun',\n",
       " 18957: '하면서/Verb',\n",
       " 8969: '부터/Noun',\n",
       " 16743: '진짜/Noun',\n",
       " 11700: '아직도/Adverb',\n",
       " 14323: '이해/Noun',\n",
       " 11755: '안가는게/Verb',\n",
       " 2708: '나면/Verb',\n",
       " 14869: '자기/Noun',\n",
       " 2158: '기회/Noun',\n",
       " 13213: '올거라/Verb',\n",
       " 835: '건가/Noun',\n",
       " 16685: '직무/Noun',\n",
       " 17698: '충실할수록/Adjective',\n",
       " 18183: '통외/Noun',\n",
       " 1403: '관계자/Noun',\n",
       " 13360: '왜/Noun',\n",
       " 1864: '그리/Verb',\n",
       " 14575: '입/Noun',\n",
       " 830: '거품/Noun',\n",
       " 7141: '무는지/Verb',\n",
       " 12091: '알수가/Verb',\n",
       " 12650: '없네/Adjective',\n",
       " 7438: '뭔가/Noun',\n",
       " 17118: '찔리는게/Verb',\n",
       " 6317: '많은/Adjective',\n",
       " 6970: '모양/Noun',\n",
       " 8925: '부정선거/Noun',\n",
       " 12085: '알면서도/Verb',\n",
       " 15827: '조용한/Adjective',\n",
       " 4808: '동조자/Noun',\n",
       " 17140: '차라리/Noun',\n",
       " 20061: '후보자/Noun',\n",
       " 3279: '내지/Noun',\n",
       " 6368: '말아라/Verb',\n",
       " 10604: '쇼/Noun',\n",
       " 9060: '불과하다/Adjective',\n",
       " 4683: '돌/Noun',\n",
       " 6649: '머리/Noun',\n",
       " 8425: '변호사/Noun',\n",
       " 17669: '출신/Noun',\n",
       " 17506: '초선/Noun',\n",
       " 13948: '의원/Noun',\n",
       " 12527: '억지/Noun',\n",
       " 6174: '만든/Verb',\n",
       " 9643: '사/Modifier',\n",
       " 1024: '결국/Adverb',\n",
       " 9791: '사자/Noun',\n",
       " 14469: '일어나/Verb',\n",
       " 11728: '악당/Noun',\n",
       " 6998: '모조리/Noun',\n",
       " 7347: '물러/Verb',\n",
       " 5838: '뜯게/Verb',\n",
       " 2452: '꼴/Noun',\n",
       " 4819: '돼/Verb',\n",
       " 8220: '버렸다/Verb',\n",
       " 11287: '쌤통/Noun',\n",
       " 19676: '향/Noun',\n",
       " 2714: '나발/Noun',\n",
       " 8828: '부는/Verb',\n",
       " 12590: '얼치기/Noun',\n",
       " 805: '거의/Noun',\n",
       " 9647: '사건/Noun',\n",
       " 1407: '관련/Noun',\n",
       " 14849: '자/Noun',\n",
       " 15720: '제/Noun',\n",
       " 5179: '뒤/Noun',\n",
       " 1542: '구린/Adjective',\n",
       " 3359: '넘/Verb',\n",
       " 5430: '들이/Verb',\n",
       " 11491: '아내/Noun',\n",
       " 2009: '기/Modifier',\n",
       " 10387: '세/Modifier',\n",
       " 10020: '상사/Noun',\n",
       " 18885: '하늘/Noun',\n",
       " 15705: '정해준/Noun',\n",
       " 139: '가는/Verb',\n",
       " 6644: '머/Noun',\n",
       " 11980: '않아/Verb',\n",
       " 15659: '정의/Noun',\n",
       " 17865: '칼/Noun',\n",
       " 5282: '든/Verb',\n",
       " 2095: '기사/Noun',\n",
       " 2926: '나타날것이다/Verb',\n",
       " 15001: '작/Modifier',\n",
       " 1952: '금/Noun',\n",
       " 7181: '무법천지/Noun',\n",
       " 13016: '영구/Noun',\n",
       " 16798: '집권/Noun',\n",
       " 20038: '획책/Noun',\n",
       " 372: '각종/Noun',\n",
       " 1699: '권력/Noun',\n",
       " 19827: '형/Suffix',\n",
       " 8120: '방탄/Noun',\n",
       " 10956: '시키는/Verb',\n",
       " 7562: '민주주의/Noun',\n",
       " 8369: '법치/Noun',\n",
       " 8367: '법질서/Noun',\n",
       " 19726: '헌/Modifier',\n",
       " 16647: '지키고/Verb',\n",
       " 1523: '구국/Noun',\n",
       " 2692: '나라/Noun',\n",
       " 16649: '지키내는/Verb',\n",
       " 756: '거/Noun',\n",
       " 17507: '초심/Noun',\n",
       " 2570: '끝/Noun',\n",
       " 19735: '헌신/Noun',\n",
       " 7885: '반드시/Noun',\n",
       " 16623: '지켜내/Verb',\n",
       " 16035: '주기/Noun',\n",
       " 7739: '바라며/Verb',\n",
       " 998: '격/Noun',\n",
       " 1001: '격려/Noun',\n",
       " 13913: '응원/Noun',\n",
       " 14714: '있다는거/Adjective',\n",
       " 12981: '염두/Noun',\n",
       " 5100: '두고/Verb',\n",
       " 13454: '용기/Noun',\n",
       " 8178: '백배/Noun',\n",
       " 20196: '힘내/Verb',\n",
       " 404: '간절히/Adjective',\n",
       " 7746: '바란다/Verb',\n",
       " 13853: '윤/Noun',\n",
       " 17538: '총장/Noun',\n",
       " 3249: '내세/Noun',\n",
       " 2859: '나와서/Verb',\n",
       " 13701: '월/Noun',\n",
       " 1039: '결정/Noun',\n",
       " 18197: '통합/Noun',\n",
       " 16580: '지원/Noun',\n",
       " 1865: '그리고/Conjunction',\n",
       " 4303: '대선/Noun',\n",
       " 10611: '수/Noun',\n",
       " 14710: '있다/Adjective',\n",
       " 7301: '문의/Noun',\n",
       " 7269: '묵인/Noun',\n",
       " 16019: '주/Modifier',\n",
       " 4044: '단지/Noun',\n",
       " 6961: '모시는/Verb',\n",
       " 915: '검/Noun',\n",
       " 10668: '수완/Noun',\n",
       " 7789: '박/Noun',\n",
       " 8972: '부패완판/Noun',\n",
       " 7559: '민주/Noun',\n",
       " 18047: '탈/Noun',\n",
       " 11419: '쓴/Verb',\n",
       " 8974: '부패한/Adjective',\n",
       " 437: '갈은/Verb',\n",
       " 12379: '어떤/Adjective',\n",
       " 1590: '구호/Noun',\n",
       " 553: '강렬하다/Adjective',\n",
       " 1390: '과연/Noun',\n",
       " 10208: '석/Modifier',\n",
       " 12952: '열/Noun',\n",
       " 18347: '판/Noun',\n",
       " 15511: '전체/Noun',\n",
       " 20142: '흔들/Verb',\n",
       " 446: '감/Noun',\n",
       " 16794: '집값/Noun',\n",
       " 18555: '폭등/Noun',\n",
       " 18213: '투기/Noun',\n",
       " 14210: '이슈/Noun',\n",
       " 8838: '부동산/Noun',\n",
       " 8994: '분노/Noun',\n",
       " 7306: '문제/Noun',\n",
       " 10103: '생겼다하면/Verb',\n",
       " 6653: '먹/Verb',\n",
       " 14878: '자당/Noun',\n",
       " 11753: '안/VerbPrefix',\n",
       " 2610: '끼이는데가/Verb',\n",
       " 3837: '능력/Noun',\n",
       " 11649: '아부/Noun',\n",
       " 11069: '실력/Noun',\n",
       " 8621: '보은/Noun',\n",
       " 18108: '택했던/Noun',\n",
       " 6356: '말로/Noun',\n",
       " 7399: '뭉가/Noun',\n",
       " 11734: '악마/Noun',\n",
       " 19511: '해주는/Verb',\n",
       " 9108: '불사/Noun',\n",
       " 15395: '적귀/Noun',\n",
       " 18559: '폭망/Noun',\n",
       " 2115: '기업/Noun',\n",
       " 9671: '사냥/Noun',\n",
       " 19394: '해도/Noun',\n",
       " 1345: '공작/Noun',\n",
       " 9917: '살아났고/Verb',\n",
       " 10777: '쉴/Verb',\n",
       " 10052: '새/Noun',\n",
       " 12763: '없이/Adverb',\n",
       " 18115: '터져/Verb',\n",
       " 2792: '나오는/Verb',\n",
       " 12151: '압승/Noun',\n",
       " 1451: '광탈/Noun',\n",
       " 738: '개판/Noun',\n",
       " 17481: '쳐도/Verb',\n",
       " 8987: '북조선/Noun',\n",
       " 19557: '핵무기/Noun',\n",
       " 17415: '철폐/Noun',\n",
       " 9660: '사기/Noun',\n",
       " 10213: '석유/Noun',\n",
       " 11269: '쌀/Noun',\n",
       " 13677: '원전/Noun',\n",
       " 1215: '고속/Noun',\n",
       " 17402: '철도/Noun',\n",
       " 1216: '고속도로/Noun',\n",
       " 6018: '마구/Noun',\n",
       " 18444: '퍼줘/Noun',\n",
       " 16381: '쥐/Noun',\n",
       " 16174: '죽은듯/Verb',\n",
       " 15825: '조용하고/Adjective',\n",
       " 13711: '월성원전/Noun',\n",
       " 18312: '파기/Noun',\n",
       " 13822: '유재수/Noun',\n",
       " 479: '감잘/Verb',\n",
       " 17529: '총/Modifier',\n",
       " 4800: '동원령/Noun',\n",
       " 13583: '울산/Noun',\n",
       " 9814: '사태/Noun',\n",
       " 4243: '대규모/Noun',\n",
       " 5584: '땅/Noun',\n",
       " 8942: '부진/Noun',\n",
       " 15673: '정지/Noun',\n",
       " 10044: '상태/Noun',\n",
       " 4347: '대통/Noun',\n",
       " 7903: '반역/Noun',\n",
       " 14279: '이적/Noun',\n",
       " 19395: '해도/Verb',\n",
       " 18415: '패스/Noun',\n",
       " 17450: '청와대/Noun',\n",
       " 10651: '수석/Noun',\n",
       " 8340: '범죄/Noun',\n",
       " 15166: '장관/Noun',\n",
       " 15824: '조용/Adjective',\n",
       " 6345: '말단/Noun',\n",
       " 17810: '친/Noun',\n",
       " 3491: '노동당/Noun',\n",
       " 6481: '망할/Adjective',\n",
       " 8358: '법안/Noun',\n",
       " 7183: '무사/Noun',\n",
       " 18176: '통과/Noun',\n",
       " 15750: '제정/Noun',\n",
       " 17548: '최근/Noun',\n",
       " 7803: '박범계/Noun',\n",
       " 8406: '변창흠/Noun',\n",
       " 14204: '이성윤/Noun',\n",
       " 5486: '등/Noun',\n",
       " 18050: '탈법/Noun',\n",
       " 6138: '막질이/Verb',\n",
       " 18184: '통용/Noun',\n",
       " 18186: '통일부/Noun',\n",
       " 17913: '코로나/Noun',\n",
       " 8108: '방역/Noun',\n",
       " 13702: '월권/Noun',\n",
       " 14253: '이용/Noun',\n",
       " 13547: '운동권/Noun',\n",
       " 8346: '법/Noun',\n",
       " 8073: '밟아도/Verb',\n",
       " 13734: '위아래/Noun',\n",
       " 19161: '한마음/Noun',\n",
       " 18185: '통일/Noun',\n",
       " 15842: '조직/Noun',\n",
       " 8366: '법죄/Noun',\n",
       " 19549: '해체/Noun',\n",
       " 8333: '범/Noun',\n",
       " 15992: '좌수사/Noun',\n",
       " 10295: '설립/Noun',\n",
       " 9396: '빨강이/Noun',\n",
       " 6410: '맘/Noun',\n",
       " 10409: '세상/Noun',\n",
       " 7020: '몰고/Verb',\n",
       " 385: '간다/Noun',\n",
       " 17733: '치가/Noun',\n",
       " 5671: '떨린다/Verb',\n",
       " 7583: '믿는/Verb',\n",
       " 13118: '오로지/Adverb',\n",
       " 14583: '입니다/Adjective',\n",
       " 5099: '두/Noun',\n",
       " 3689: '눈/Noun',\n",
       " 17952: '크게/Noun',\n",
       " 5826: '뜨고/Verb',\n",
       " 16633: '지켜봐야/Verb',\n",
       " 19319: '합니다/Verb',\n",
       " 15719: '제/Modifier',\n",
       " 15633: '정신/Noun',\n",
       " 338: '가진/Verb',\n",
       " 5790: '똥파리/Noun',\n",
       " 10476: '소굴/Noun',\n",
       " 12066: '알도/Noun',\n",
       " 5982: '리가/Noun',\n",
       " 12634: '없구나/Adjective',\n",
       " 19151: '한당/Noun',\n",
       " 15430: '적폐/Noun',\n",
       " 7074: '몰아내야/Verb',\n",
       " 547: '강둑/Noun',\n",
       " 1550: '구멍/Noun',\n",
       " 2947: '난/Noun',\n",
       " 9748: '사설/Noun',\n",
       " 10390: '세계/Noun',\n",
       " 12757: '없을/Adjective',\n",
       " 14008: '이기려/Verb',\n",
       " 13198: '온갖/Noun',\n",
       " 16844: '짓/Noun',\n",
       " 8809: '부끄러운/Adjective',\n",
       " 12857: '여성/Noun',\n",
       " 2981: '날/Noun',\n",
       " 10684: '수치/Noun',\n",
       " 10796: '스럽고/Adjective',\n",
       " 17608: '추접/Noun',\n",
       " 10379: '성폭행/Noun',\n",
       " 19119: '한국/Noun',\n",
       " 17963: '큰/Verb',\n",
       " 4600: '도시/Noun',\n",
       " 14340: '인/Noun',\n",
       " 10625: '수도/Noun',\n",
       " 12581: '얼마/Noun',\n",
       " 3063: '남지/Noun',\n",
       " 11955: '않는/Verb',\n",
       " 15025: '잔/Noun',\n",
       " 2012: '기간/Noun',\n",
       " 13751: '위해/Noun',\n",
       " 8565: '보선/Noun',\n",
       " 10682: '수천/Noun',\n",
       " 12525: '억원/Noun',\n",
       " 9317: '비하는/Verb',\n",
       " 19656: '행사/Noun',\n",
       " 14098: '이런/Adjective',\n",
       " 1859: '그로/Noun',\n",
       " 14341: '인/Suffix',\n",
       " 8831: '부담/Noun',\n",
       " 324: '가중케/Noun',\n",
       " 7899: '반성/Noun',\n",
       " 1930: '근신/Noun',\n",
       " 19022: '하여야/Verb',\n",
       " 9469: '뻔/Noun',\n",
       " 9483: '뻔하게/Adjective',\n",
       " 10312: '설친다/Adjective',\n",
       " 4395: '더나가/Adjective',\n",
       " 4204: '당한/Noun',\n",
       " 18678: '피해자/Noun',\n",
       " 9243: '비방/Noun',\n",
       " 16134: '주축/Noun',\n",
       " 17775: '치른다니/Verb',\n",
       " 19981: '환장한/Adjective',\n",
       " 14981: '자진/Noun',\n",
       " 17418: '철회/Noun',\n",
       " 6523: '맞다/Verb',\n",
       " 6853: '명분/Noun',\n",
       " 12630: '없고/Adjective',\n",
       " 15542: '절차/Noun',\n",
       " 9021: '분명히/Adjective',\n",
       " 15309: '저/Noun',\n",
       " 6425: '망국/Noun',\n",
       " 3487: '노/Noun',\n",
       " 3424: '넘의/Verb',\n",
       " 11898: '안타깝다는/Adjective',\n",
       " 19611: '했어도/Verb',\n",
       " 14595: '입막음/Noun',\n",
       " 15059: '잘못/Noun',\n",
       " 5475: '들통/Noun',\n",
       " 13490: '우두머리/Noun',\n",
       " 3975: '다운/Noun',\n",
       " 673: '개/Noun',\n",
       " 10492: '소리/Noun',\n",
       " 12166: '앞/Noun',\n",
       " 12870: '여자/Noun',\n",
       " 11618: '아렛도리/Noun',\n",
       " 701: '개방/Noun',\n",
       " 3326: '너/Noun',\n",
       " 14201: '이상할게/Adjective',\n",
       " 15609: '정말/Noun',\n",
       " 4337: '대책/Noun',\n",
       " 14343: '인간/Noun',\n",
       " 17428: '첫째/Noun',\n",
       " 5163: '둘째/Noun',\n",
       " 8344: '범한/Noun',\n",
       " 7013: '목숨/Noun',\n",
       " 2538: '끈거나/Verb',\n",
       " 17764: '치뤄지는/Verb',\n",
       " 7900: '반성은/Noun',\n",
       " 17877: '커녕/Noun',\n",
       " 13981: '이겨/Verb',\n",
       " 8458: '보겠다고/Verb',\n",
       " 16890: '짖을/Verb',\n",
       " 3873: '다/Noun',\n",
       " 9755: '사실/Noun',\n",
       " 11931: '않겠다/Verb',\n",
       " 19727: '헌/Noun',\n",
       " 12296: '약속/Noun',\n",
       " 8215: '버려진/Noun',\n",
       " 16923: '짝/Noun',\n",
       " 17353: '처럼/Noun',\n",
       " 5199: '뒤집어/Verb',\n",
       " 19806: '혈세/Noun',\n",
       " 3106: '낭비/Noun',\n",
       " 19796: '현실/Noun',\n",
       " 9793: '사재를/Verb',\n",
       " 18129: '털/Noun',\n",
       " 12443: '어서/Noun',\n",
       " 669: '갚아야/Verb',\n",
       " 19053: '하지/Verb',\n",
       " 11957: '않는가요/Verb',\n",
       " 12430: '어만/Modifier',\n",
       " 16502: '지당/Noun',\n",
       " 3585: '놈/Noun',\n",
       " 11398: '쓰레기/Noun',\n",
       " 653: '같은자/Adjective',\n",
       " 5426: '들을/Verb',\n",
       " 19789: '현명하게/Adjective',\n",
       " 18200: '퇴/Noun',\n",
       " 17652: '출/Verb',\n",
       " 19332: '합시다/Verb',\n",
       " 4429: '더럽고/Adjective',\n",
       " 17598: '추악한/Adjective',\n",
       " 15307: '저/Determiner',\n",
       " 16755: '질/Noun',\n",
       " 9764: '사악한것/Adjective',\n",
       " 16603: '지지/Noun',\n",
       " 7139: '무뇌아/Noun',\n",
       " 18370: '판치는/Verb',\n",
       " 8295: '벌/Noun',\n",
       " 16101: '주어야하는데/Verb',\n",
       " 6871: '몇/Modifier',\n",
       " 18574: '표/Noun',\n",
       " 18373: '팔/Noun',\n",
       " 6673: '먹는/Verb',\n",
       " 4420: '더러운/Adjective',\n",
       " 16863: '짓은/Verb',\n",
       " 6341: '말기/Noun',\n",
       " 1771: '그래도/Adverb',\n",
       " 3997: '다행/Noun',\n",
       " 12848: '여론조사/Noun',\n",
       " 15786: '조금/Noun',\n",
       " 12189: '앞선다니/Verb',\n",
       " 691: '개돼지/Noun',\n",
       " 8426: '변화/Noun',\n",
       " 14719: '있다는것이다/Adjective',\n",
       " 15734: '제발/Noun',\n",
       " 313: '가져라/Verb',\n",
       " 19160: '한마디/Noun',\n",
       " 15661: '정의도/Noun',\n",
       " 18320: '파렴치/Noun',\n",
       " 16697: '직접/Noun',\n",
       " 12292: '약/Modifier',\n",
       " 10537: '속/Modifier',\n",
       " 19097: '한/Modifier',\n",
       " 8246: '버리듯이/Verb',\n",
       " 1731: '규/Noun',\n",
       " 7694: '바꿔/Verb',\n",
       " 12347: '어기/Noun',\n",
       " 13518: '우습게/Verb',\n",
       " 11496: '아는/Verb',\n",
       " 7231: '무엇/Noun',\n",
       " 2052: '기대하나요/Adjective',\n",
       " 10192: '서울시장/Noun',\n",
       " 8892: '부산시/Noun',\n",
       " 16997: '쫓겨난/Verb',\n",
       " 5740: '또/Noun',\n",
       " 3185: '내는것은/Verb',\n",
       " 20064: '후안/Noun',\n",
       " 7256: '무치/Noun',\n",
       " 19648: '행동/Noun',\n",
       " 326: '가증/Noun',\n",
       " 10801: '스럽다/Adjective',\n",
       " 17072: '찍어주는/Verb',\n",
       " 11580: '아닌가요/Adjective',\n",
       " 16634: '지켜서/Verb',\n",
       " 8811: '부끄러운줄/Adjective',\n",
       " 12159: '압시/Noun',\n",
       " 4411: '더듬어/Verb',\n",
       " 1269: '골/Noun',\n",
       " 5600: '때리는/Verb',\n",
       " 10679: '수준/Noun',\n",
       " 3122: '낮아/Adjective',\n",
       " 13996: '이권/Noun',\n",
       " 16030: '주고/Verb',\n",
       " 4675: '돈좀/Noun',\n",
       " 18618: '풀어주면/Verb',\n",
       " 19363: '해/Noun',\n",
       " 8307: '벌레/Noun',\n",
       " 786: '거리/Noun',\n",
       " 7309: '문주/Verb',\n",
       " 8180: '백성/Noun',\n",
       " 14633: '잇으니/Verb',\n",
       " 18219: '투명하고/Adjective',\n",
       " 8044: '밝은/Verb',\n",
       " 15532: '절대/Noun',\n",
       " 14810: '있을수/Adjective',\n",
       " 15382: '저쪽/Noun',\n",
       " 15042: '잘/VerbPrefix',\n",
       " 19131: '한다가/Verb',\n",
       " 4477: '던데/Noun',\n",
       " 4130: '답더/Noun',\n",
       " 4769: '동네/Noun',\n",
       " 13641: '워/Noun',\n",
       " 6409: '맑은/Noun',\n",
       " 8991: '분/Noun',\n",
       " 17853: '칭송/Noun',\n",
       " 3904: '다니는/Verb',\n",
       " 10332: '성/Modifier',\n",
       " 10923: '시절/Noun',\n",
       " 3858: '니/Modifier',\n",
       " 12370: '어딨냐/Verb',\n",
       " 6814: '며/Noun',\n",
       " 10366: '성의/Noun',\n",
       " 14966: '자유/Noun',\n",
       " 3682: '누리던/Verb',\n",
       " 4364: '대해/Noun',\n",
       " 7124: '무관심해/Adjective',\n",
       " 19881: '혹시/Noun',\n",
       " 1745: '그걸/Adverb',\n",
       " 19450: '해서/Verb',\n",
       " 8165: '배지/Noun',\n",
       " 4055: '달/Noun',\n",
       " 11987: '않았나/Verb',\n",
       " 13938: '의심/Noun',\n",
       " 5038: '된다/Verb',\n",
       " 9075: '불러도/Verb',\n",
       " 14958: '자연스럽다는/Adjective',\n",
       " 3749: '느낌/Noun',\n",
       " 5229: '드는것은/Verb',\n",
       " 18072: '탓/Noun',\n",
       " 11598: '아닐것이다/Adjective',\n",
       " 4812: '동탄/Noun',\n",
       " 10865: '시/Noun',\n",
       " 1642: '국회의원/Noun',\n",
       " 907: '걸어/Verb',\n",
       " 5150: '둔/Verb',\n",
       " 7282: '문구/Noun',\n",
       " 12858: '여성인권/Noun',\n",
       " 15869: '존중/Noun',\n",
       " 3115: '낮/Noun',\n",
       " 5823: '뜨거운줄도/Adjective',\n",
       " 6912: '모르고/Verb',\n",
       " 16148: '죽고/Verb',\n",
       " 475: '감옥/Noun',\n",
       " 112: '가고/Verb',\n",
       " 4583: '도망/Noun',\n",
       " 4008: '단/Modifier',\n",
       " 3874: '다가/Noun',\n",
       " 15802: '조사/Noun',\n",
       " 7916: '받고/Verb',\n",
       " 7769: '바보/Noun',\n",
       " 12034: '알/Noun',\n",
       " 14751: '있어요/Adjective',\n",
       " 17863: '카페/Noun',\n",
       " 16609: '지지자/Noun',\n",
       " 10897: '시민단체/Noun',\n",
       " ...}"
      ]
     },
     "execution_count": 90,
     "metadata": {},
     "output_type": "execute_result"
    }
   ],
   "source": [
    "index_vectorizer.vocabulary_ # {단어: 인덱스, ...} 딕셔너리\n",
    "index_vectorizer.vocabulary_.items() #  [ (단어: 인덱스), ..] 형태\n",
    "\n",
    "# 단어 사전\n",
    "word_dict={}\n",
    "\n",
    "for pos, index in index_vectorizer.vocabulary_.items():\n",
    "    # print(pos)\n",
    "    word_dict[index] = pos\n",
    "    \n",
    "word_dict"
   ]
  },
  {
   "cell_type": "code",
   "execution_count": 91,
   "metadata": {
    "ExecuteTime": {
     "end_time": "2021-05-12T07:08:31.855343Z",
     "start_time": "2021-05-12T07:08:31.801475Z"
    }
   },
   "outputs": [
    {
     "data": {
      "text/plain": [
       "[(35.70310244942938, '홍보/Noun'),\n",
       " (34.70437779789983, '회오/Noun'),\n",
       " (28.154919367487302, '슬픈/Adjective'),\n",
       " (25.17744775893851, '할줄아는/Verb'),\n",
       " (19.261040685415438, '나은/Noun'),\n",
       " (18.640490917350636, '보인다/Verb'),\n",
       " (18.561072271731085, '납품/Noun'),\n",
       " (18.47257893522042, '니요/Noun'),\n",
       " (17.74960825633844, '민초/Noun'),\n",
       " (17.474383484032668, '그래가지고/Adjective'),\n",
       " (17.30887887211891, '가즈/Noun'),\n",
       " (16.504400552280917, '버림/Verb'),\n",
       " (16.50426654211108, '확실하다는/Adjective'),\n",
       " (16.391201007786986, '서산/Noun'),\n",
       " (15.98525413051592, '선거운운/Verb'),\n",
       " (15.445214118521104, '감면/Verb'),\n",
       " (15.359966072568954, '을/Noun'),\n",
       " (15.356053971056108, '당사자/Noun'),\n",
       " (15.33411445474605, '플레이/Noun'),\n",
       " (15.234868712597114, 'ㅜ/KoreanParticle'),\n",
       " (15.188320387260163, '철저한/Adjective'),\n",
       " (15.048275721266974, '티켓/Noun'),\n",
       " (14.645961112803295, '미끼/Noun'),\n",
       " (14.587644641461221, '가입/Noun'),\n",
       " (14.541458720154779, '시시/Noun'),\n",
       " (14.284177962243014, '핥으며/Verb'),\n",
       " (14.242138937942357, '재팬/Noun'),\n",
       " (14.081866659444449, '파렴치한/Adjective'),\n",
       " (13.90218824269729, '띄지마라/Verb'),\n",
       " (13.854154584034077, '망발/Noun'),\n",
       " (13.751006856134607, '중시/Noun'),\n",
       " (13.409160205553611, '위인/Noun'),\n",
       " (13.315280046561965, '보고싶다/Verb'),\n",
       " (13.24491154432826, '습성/Noun'),\n",
       " (13.089613621468672, '이기는거지고/Verb'),\n",
       " (13.00555052834786, '리프/Noun'),\n",
       " (13.000305280837724, '흥/Noun'),\n",
       " (12.89360826498244, '암캐/Noun'),\n",
       " (12.825660690134548, '서이다/Verb'),\n",
       " (12.710215510502078, '홍/Noun'),\n",
       " (12.637075822446965, '조직/Noun'),\n",
       " (12.605121139211999, '신임/Noun'),\n",
       " (12.571948976709775, '헬기/Noun'),\n",
       " (12.340406956318482, '뼛속/Noun'),\n",
       " (12.1756227303637, '안재/Verb'),\n",
       " (12.033636482239759, '순수한/Adjective'),\n",
       " (11.8893382090373, '가져라/Verb'),\n",
       " (11.840211989112047, '내것아니야/Verb'),\n",
       " (11.828624807168632, '회국힘/Noun'),\n",
       " (11.718059820127822, '뽑겠다는/Verb'),\n",
       " (11.624720432097908, '숨기/Noun'),\n",
       " (11.602387983217156, '개혁/Noun'),\n",
       " (11.582412012337784, '계집/Noun'),\n",
       " (11.533735905715554, '슬슬/Noun'),\n",
       " (11.531335190072124, '사나운/Adjective'),\n",
       " (11.521395623482466, '알리/Noun'),\n",
       " (11.47431641964113, '플로/Noun'),\n",
       " (11.458490884163902, '챙긴것이나/Verb'),\n",
       " (11.458490884163902, '사악하다/Adjective'),\n",
       " (11.328220089004038, '월말/Noun'),\n",
       " (11.31996252856419, '작태/Noun'),\n",
       " (11.31994750798057, '교도/Noun'),\n",
       " (11.297191692809859, '레게/Noun'),\n",
       " (11.118116067997908, '뿌러/Noun'),\n",
       " (11.109563475666592, '해지/Noun'),\n",
       " (11.094201117828417, '외상/Noun'),\n",
       " (11.025194406254073, '되는지/Verb'),\n",
       " (11.015242189625395, '이기려고/Verb'),\n",
       " (10.751185426217637, '참담하고/Adjective'),\n",
       " (10.700901637027902, '하시네/Verb'),\n",
       " (10.651685339876467, '작질/Adjective'),\n",
       " (10.482568441276953, '조리/Noun'),\n",
       " (10.465255367057473, '뽑았을까/Verb'),\n",
       " (10.449731588456402, '청고/Noun'),\n",
       " (10.422750746211278, '칠하며/Adjective'),\n",
       " (10.382539904636154, '상관/Noun'),\n",
       " (10.30992614362156, '암만/Noun'),\n",
       " (10.218747103693053, '집장/Noun'),\n",
       " (10.204349941324097, '벌/Noun'),\n",
       " (10.175446881582642, '유리하다/Adjective'),\n",
       " (10.164175663075243, '일을가지/Verb'),\n",
       " (10.089490492793358, '화났음/Verb'),\n",
       " (10.086427252285558, '납/Noun'),\n",
       " (10.03594074837871, '찾을수있다/Verb'),\n",
       " (9.9971166867211, '찌라시/Noun'),\n",
       " (9.977790435418202, '파놓은/Verb'),\n",
       " (9.935796609336183, '압승맞다/Noun'),\n",
       " (9.930559467192383, '좋아잘/Adjective'),\n",
       " (9.92838475140346, '유권/Noun'),\n",
       " (9.913768706542651, '만들어질수록/Verb'),\n",
       " (9.771140186822603, '바란다/Verb'),\n",
       " (9.74371608872028, '탄다/Verb'),\n",
       " (9.7376922655046, '망해가네/Adjective'),\n",
       " (9.68411047306154, '줄끼/Noun'),\n",
       " (9.518828571265407, '읽어/Verb'),\n",
       " (9.493038468452058, '얀/Noun'),\n",
       " (9.429038151170614, '흙/Noun'),\n",
       " (9.3731204160035, '이리/Adverb'),\n",
       " (9.346998154548288, '감잘/Verb'),\n",
       " (9.294678613800318, '있어서/Adjective'),\n",
       " (9.175683646430064, '모함/Noun'),\n",
       " (9.167851823997257, '임수/Verb'),\n",
       " (9.166019670309423, '큰소리/Noun'),\n",
       " (9.097289432990245, '행정안전부/Noun'),\n",
       " (9.09422806322365, 'ㄹㅇ/KoreanParticle'),\n",
       " (9.093629529757505, '야차/Noun'),\n",
       " (9.078718201708142, '담지도/Verb'),\n",
       " (9.076223761581211, '쥰/Noun'),\n",
       " (9.073845368992645, '토대/Noun'),\n",
       " (9.05474065506951, '후임/Noun'),\n",
       " (9.03848723277099, '복직/Noun'),\n",
       " (8.984918713409588, '아름다운단/Adjective'),\n",
       " (8.984483424497354, '만날/Noun'),\n",
       " (8.972721664940627, '끝나는/Verb'),\n",
       " (8.95382220206238, '마케팅/Noun'),\n",
       " (8.940984735784701, '도를/Verb'),\n",
       " (8.931360226349424, '일으켜/Verb'),\n",
       " (8.919104423840439, '실직/Noun'),\n",
       " (8.888696400036995, '뽑으면/Verb'),\n",
       " (8.866784852880462, '짜고/Verb'),\n",
       " (8.864842163120931, '뽑아주면/Verb'),\n",
       " (8.808617484318516, '확실한거지/Adjective'),\n",
       " (8.785143280179232, '바이/Noun'),\n",
       " (8.735019726242287, '나리/Noun'),\n",
       " (8.658753220903227, '있는데이건/Adjective'),\n",
       " (8.658753220903227, '앞뒤/Noun'),\n",
       " (8.647383911602569, '이르기까지/Verb'),\n",
       " (8.628560929837334, '찍겠고/Verb'),\n",
       " (8.62107931721122, '하게던/Verb'),\n",
       " (8.621039043340616, '현명한/Adjective'),\n",
       " (8.591911236762188, '마담/Noun'),\n",
       " (8.56260872798088, '특별히/Adjective'),\n",
       " (8.550801717244656, '파네/Noun'),\n",
       " (8.509808889072618, '전철/Noun'),\n",
       " (8.474877906031054, '찌그리고/Verb'),\n",
       " (8.473670538574948, '같다/Adjective'),\n",
       " (8.473546487127987, '는거다/Verb'),\n",
       " (8.436235091912708, '교양/Noun'),\n",
       " (8.421346815239446, '했었지/Verb'),\n",
       " (8.421346815239446, '하/Noun'),\n",
       " (8.421346815239446, '제외/Noun'),\n",
       " (8.41634149751889, '있겠나/Adjective'),\n",
       " (8.405578478966076, '나면/Verb'),\n",
       " (8.395087903379387, '가왜/Noun'),\n",
       " (8.386550177455748, '되겠는가/Verb'),\n",
       " (8.383197804183776, '미안하다/Adjective'),\n",
       " (8.364280002356615, '났/Verb'),\n",
       " (8.361924752963041, '뽑는데/Verb'),\n",
       " (8.332372700329556, '샀던/Verb'),\n",
       " (8.324712765807805, '애착/Noun'),\n",
       " (8.30432620249259, '참/Verb'),\n",
       " (8.295808252599935, '자충수/Noun'),\n",
       " (8.295542666950409, '답지/Noun'),\n",
       " (8.289829536331547, '차선/Noun'),\n",
       " (8.26453464614777, '곳간/Noun'),\n",
       " (8.249112822913236, '촉새/Noun'),\n",
       " (8.244605380724586, '중심/Noun'),\n",
       " (8.244542610071514, '차원/Noun'),\n",
       " (8.213917193922715, '시설/Noun'),\n",
       " (8.207568590765048, '가꿔가야/Verb'),\n",
       " (8.196758690488847, '손/Noun'),\n",
       " (8.15760646909819, '앞장서야/Verb'),\n",
       " (8.138445627505577, '여론조사/Noun'),\n",
       " (8.116986384820773, '해야하는데/Verb'),\n",
       " (8.115900904519577, '명/Noun'),\n",
       " (8.069915912489256, '분명히/Adjective'),\n",
       " (8.069076532829916, '지워진게/Verb'),\n",
       " (8.05403191704625, '되지요/Verb'),\n",
       " (8.050546365129293, '화법/Noun'),\n",
       " (8.047929992982683, '않은가/Verb'),\n",
       " (8.047929992982683, '숨겨주고/Verb'),\n",
       " (8.047929992982683, '돌아오겠다는/Verb'),\n",
       " (8.046071747280845, '회초리/Noun'),\n",
       " (8.019692088747862, '있겠지요/Adjective'),\n",
       " (8.004499915761974, '화팅/Noun'),\n",
       " (7.991803251183851, '몰염치/Noun'),\n",
       " (7.95884883008826, '결/Noun'),\n",
       " (7.9511499130093775, '여파/Noun'),\n",
       " (7.9071260249131425, '기한/Noun'),\n",
       " (7.896518407178671, '월급/Noun'),\n",
       " (7.876352791952069, '찍었네/Verb'),\n",
       " (7.869661682531326, '찬다리/Verb'),\n",
       " (7.869661682531326, '대단하다/Adjective'),\n",
       " (7.869661682531326, '꺼내는/Verb'),\n",
       " (7.8101826215206405, '뽑겠지/Verb'),\n",
       " (7.766729391578448, '통외/Noun'),\n",
       " (7.757782161451173, '주게/Verb'),\n",
       " (7.74135104687116, '하는거면/Verb'),\n",
       " (7.74135104687116, '소로/Noun'),\n",
       " (7.74135104687116, '감수/Noun'),\n",
       " (7.717840599885706, '꼬셔/Noun'),\n",
       " (7.717837912132136, '꼭/Noun'),\n",
       " (7.715964154771397, '예나/Noun'),\n",
       " (7.7145224252813085, '자피/Noun'),\n",
       " (7.6996569337048495, '뼈속/Noun'),\n",
       " (7.690904675214246, '잘나고/Adjective'),\n",
       " (7.67392788740003, '더덩실/Adverb'),\n",
       " (7.672435469915519, '감옥/Noun'),\n",
       " (7.647079587188884, '합리주의자/Noun'),\n",
       " (7.646467819341047, '하지말라/Verb'),\n",
       " (7.644940719535339, '해보는/Verb'),\n",
       " (7.644831178507619, '잇/Verb'),\n",
       " (7.635692205949414, '간단/Noun'),\n",
       " (7.597037916658129, '되려나/Verb'),\n",
       " (7.5922126985400045, '뻘리/Noun'),\n",
       " (7.584028465221497, '관행/Noun'),\n",
       " (7.583884679887157, '무었때문/Noun'),\n",
       " (7.580853446689172, '말리/Noun'),\n",
       " (7.580147844494981, '도와준다는/Verb'),\n",
       " (7.576604118211874, '인한/Adjective'),\n",
       " (7.5115068275598045, '폐기물/Noun'),\n",
       " (7.4948848632860505, '빼기/Noun'),\n",
       " (7.4948848632860505, '막내/Noun'),\n",
       " (7.472429510600151, '서부터/Verb'),\n",
       " (7.466249166603158, '통탄/Noun'),\n",
       " (7.434193845774409, '시세/Noun'),\n",
       " (7.403288387605036, '저지를/Verb'),\n",
       " (7.400932590836966, '알려줘/Verb'),\n",
       " (7.40057072053451, '선후배/Noun'),\n",
       " (7.3953142450707485, '정의당/Noun'),\n",
       " (7.377433908424963, '천/Suffix'),\n",
       " (7.346295777150941, '박어/Verb'),\n",
       " (7.341969082983262, '되는건/Verb'),\n",
       " (7.330585419489127, '자업자득/Noun'),\n",
       " (7.310392410460635, '예방/Noun'),\n",
       " (7.294543532479168, '나왔으며/Verb'),\n",
       " (7.283415056499583, '가난/Noun'),\n",
       " (7.260235792901015, '연필/Noun'),\n",
       " (7.258491749782303, '생겼다하면/Verb'),\n",
       " (7.255089312903122, '돌입/Noun'),\n",
       " (7.213690192109091, '대다수/Noun'),\n",
       " (7.207513396236436, '자랑/Noun'),\n",
       " (7.2070810086177, '구/Modifier'),\n",
       " (7.191833372476742, '옵션/Noun'),\n",
       " (7.169767993147502, '용기/Noun'),\n",
       " (7.169767993147502, '막아야하지만/Verb'),\n",
       " (7.169767993147502, '기각/Noun'),\n",
       " (7.165170736215861, '시스템/Noun'),\n",
       " (7.158468600536498, '적어/Verb'),\n",
       " (7.151561743894641, '대변/Noun'),\n",
       " (7.139835793125604, '밝히지/Verb'),\n",
       " (7.124427641643658, '했었단/Verb'),\n",
       " (7.081167231674605, '이긴다는/Verb'),\n",
       " (7.074792011507561, '후방/Noun'),\n",
       " (7.071164299497175, '티끌/Noun'),\n",
       " (7.071164299497175, '반대편/Noun'),\n",
       " (7.071164299497175, '되니/Verb'),\n",
       " (7.0647054314385676, '숨어서/Verb'),\n",
       " (7.046411011572033, '면책/Noun'),\n",
       " (7.041874425401418, '해보시오/Verb'),\n",
       " (7.016619511183201, '뭐라/Verb'),\n",
       " (7.014893966940655, '개표/Noun'),\n",
       " (6.987507242581829, '이/Noun'),\n",
       " (6.987297693994132, '아프게/Adjective'),\n",
       " (6.947286218033478, '긍민드덜/Noun'),\n",
       " (6.941133515196466, '적당히/Adjective'),\n",
       " (6.939298161626723, '깔았구만/Verb'),\n",
       " (6.93816155115778, '족쇄/Noun'),\n",
       " (6.933838597345118, '소식/Noun'),\n",
       " (6.928881989968518, '잠시/Noun'),\n",
       " (6.923874315528732, 'ㅉㅉㅉ/KoreanParticle'),\n",
       " (6.918482149741212, '나대고/Verb'),\n",
       " (6.916486079562154, '한/Verb'),\n",
       " (6.888466986365367, '청래/Noun'),\n",
       " (6.888466986365367, '와라/Verb'),\n",
       " (6.888466986365367, '사로잡을/Verb'),\n",
       " (6.888466986365367, '낮은데/Adjective'),\n",
       " (6.880606840043895, '발목/Noun'),\n",
       " (6.87902355376699, '로부터/Noun'),\n",
       " (6.8411818451747735, '됄까/Verb'),\n",
       " (6.835791022297979, '저랬다가/Adjective'),\n",
       " (6.830936270136968, '정구/Noun'),\n",
       " (6.824799078539437, '잔/Noun'),\n",
       " (6.810036912481695, '찍어주지/Verb'),\n",
       " (6.790569882454265, '하려는게/Verb'),\n",
       " (6.7721290969137184, '다툼/Noun'),\n",
       " (6.764084388833639, '위험하고/Adjective'),\n",
       " (6.764084388833639, '들참/Adjective'),\n",
       " (6.7412430068809766, '여하를/Verb'),\n",
       " (6.724742657891698, '포장/Noun'),\n",
       " (6.704843705469616, '들에게서/Verb'),\n",
       " (6.704635437622397, '끝나면/Verb'),\n",
       " (6.691161248844911, '옹고집/Noun'),\n",
       " (6.678849326926188, '독박/Noun'),\n",
       " (6.675874049237301, '약화/Noun'),\n",
       " (6.6726604176482, '이러면서/Verb'),\n",
       " (6.655830882494434, '변하고/Adjective'),\n",
       " (6.633697539419025, '선무당/Noun'),\n",
       " (6.6270562492261496, '적는다/Verb'),\n",
       " (6.625383414209989, '되시/Verb'),\n",
       " (6.625108551561582, '계셨는데/Adjective'),\n",
       " (6.623261607174223, '밀려나는데/Verb'),\n",
       " (6.620106966621352, '맡았던/Verb'),\n",
       " (6.618125323188707, '된장국/Noun'),\n",
       " (6.608550547592116, '버티면/Verb'),\n",
       " (6.593134422561352, 'ㅋㅋㅋㅋㅋㅋ/KoreanParticle'),\n",
       " (6.591219819724782, '허비하게/Adjective'),\n",
       " (6.581266124343953, '애비/Noun'),\n",
       " (6.572623994891823, '서울특별시/Noun'),\n",
       " (6.548642010646851, '멋있네요/Adjective'),\n",
       " (6.544574219600935, '각축/Noun'),\n",
       " (6.543615097699868, '져도/Verb'),\n",
       " (6.51596413791094, '호남/Noun'),\n",
       " (6.4970759788389, '사익/Noun'),\n",
       " (6.493257041787146, '싸우지/Verb'),\n",
       " (6.473650299625016, '열람/Noun'),\n",
       " (6.4717179068728505, '기관/Noun'),\n",
       " (6.450607598251339, '치지말고/Verb'),\n",
       " (6.444107002794678, '난파선/Noun'),\n",
       " (6.424202004704438, '호구/Noun'),\n",
       " (6.40996104508616, '없었는지/Adjective'),\n",
       " (6.3984775753635335, '호박/Noun'),\n",
       " (6.38655294354248, '은근/Noun'),\n",
       " (6.375412978837469, '쓰는듯/Verb'),\n",
       " (6.366263147295704, '하였다고/Verb'),\n",
       " (6.362186735260104, '난신/Verb'),\n",
       " (6.3613428284386195, '곡/Noun'),\n",
       " (6.356710355731801, '천박한/Adjective'),\n",
       " (6.345140889599765, '기해/Noun'),\n",
       " (6.3439052740599795, '된서리/Noun'),\n",
       " (6.342344091912537, '확실하니까/Adjective'),\n",
       " (6.342344091912537, '꿈꾸는/Verb'),\n",
       " (6.323426529609761, '이기세/Noun'),\n",
       " (6.3204203254986755, '경합/Noun'),\n",
       " (6.312434731251283, '전시장/Noun'),\n",
       " (6.287872898619951, '화해/Noun'),\n",
       " (6.2858213959117, '사람과/Noun'),\n",
       " (6.283216378374326, '구별/Noun'),\n",
       " (6.281320929775029, '실토/Noun'),\n",
       " (6.271124127834443, '아끼려고/Verb'),\n",
       " (6.252259610518204, '죽겠다/Verb'),\n",
       " (6.252259610518204, '이기려나/Verb'),\n",
       " (6.252259610518204, '마하/Noun'),\n",
       " (6.24485644523808, '사랑/Noun'),\n",
       " (6.22667498713086, '제의/Noun'),\n",
       " (6.2149159755563685, '찍어주께/Verb'),\n",
       " (6.2149159755563685, '개추/Noun'),\n",
       " (6.213357792255824, '믿어/Verb'),\n",
       " (6.187806371134882, '깨문이/Verb'),\n",
       " (6.18751539415847, '오건/Noun'),\n",
       " (6.18532052810567, '떨칠/Verb'),\n",
       " (6.1663623568642665, '뭐라도/Verb'),\n",
       " (6.146529734955047, '석수/Noun'),\n",
       " (6.146092290994479, '박친/Noun'),\n",
       " (6.13881084426108, '알파/Noun'),\n",
       " (6.13231947108775, '화신/Noun'),\n",
       " (6.128678066195075, '닫아라/Verb'),\n",
       " (6.122438876091203, '주절거리고/Verb'),\n",
       " (6.122438876091203, '떨거/Verb'),\n",
       " (6.122438876091203, '떨/Verb'),\n",
       " (6.122438876091203, '나가세요/Verb'),\n",
       " (6.115884905061222, '후예/Noun'),\n",
       " (6.104531125074231, '공/Modifier'),\n",
       " (6.101958096275291, '복당/Noun'),\n",
       " (6.101958096275291, '다니며/Verb'),\n",
       " (6.100198982287783, '니/Noun'),\n",
       " (6.084395064442281, '찬양/Noun'),\n",
       " (6.075254886006047, '간/Suffix'),\n",
       " (6.072790838634824, '화가/Noun'),\n",
       " (6.072790838634824, '결탁/Noun'),\n",
       " (6.065892401061316, '분노하는데/Adjective'),\n",
       " (6.0632487519178655, '올거야/Verb'),\n",
       " (6.063015167769041, '니미/Noun'),\n",
       " (6.0491341616444485, '경작/Noun'),\n",
       " (6.04369662062738, '유리하게/Adjective'),\n",
       " (6.03859683413299, '막힌/Verb'),\n",
       " (6.029610912677947, '상가/Noun'),\n",
       " (6.02563351130096, '없네요/Adjective'),\n",
       " (6.004653973390612, '왈가/Noun'),\n",
       " (6.004653973390612, '새누리당/Noun'),\n",
       " (5.983330730235573, '나올줄/Verb'),\n",
       " (5.975370301162212, '줄어들/Verb'),\n",
       " (5.969969765014821, '이해해/Noun'),\n",
       " (5.969969765014821, '박선/Noun'),\n",
       " (5.964107287896832, '바라보시오/Verb'),\n",
       " (5.954489971041736, '안되는것아시죠/Adjective'),\n",
       " (5.94948142502324, '물어/Noun'),\n",
       " (5.949280465746969, '정의용/Noun'),\n",
       " (5.924944900736054, '하지만/Conjunction'),\n",
       " (5.921800944623082, '안긔/Noun'),\n",
       " (5.921800944623082, '썅/Noun'),\n",
       " (5.92165047378455, '안됨니다/Adjective'),\n",
       " (5.906204408957402, '저지른것도/Verb'),\n",
       " (5.895443611618385, '함시다/Verb'),\n",
       " (5.894551871077922, '해온/Verb'),\n",
       " (5.894551871077922, 'ㅆㅅㅌㅊ/KoreanParticle'),\n",
       " (5.881127532273381, '시장깜/Noun'),\n",
       " (5.864401701962949, '보눙/Noun'),\n",
       " (5.861756407572424, '할말/Verb'),\n",
       " (5.861756407572424, '들어져다/Verb'),\n",
       " (5.861756407572424, '독고/Noun'),\n",
       " (5.861756407572424, '달성/Noun'),\n",
       " (5.860616219130897, '전만/Noun'),\n",
       " (5.8591345875160705, '병원/Noun'),\n",
       " (5.83928586492453, '바악박/Noun'),\n",
       " (5.8330548756029446, '헤벌레/Noun'),\n",
       " (5.822905926399005, '이냐/Verb'),\n",
       " (5.821054951286575, '찍은거지/Verb'),\n",
       " (5.818932747240617, '믿겠지만/Verb'),\n",
       " (5.815580290342502, '스파이/Noun'),\n",
       " (5.8143688905148645, '두/Noun'),\n",
       " (5.810995836708641, '데리구/Verb'),\n",
       " (5.7955747468291845, '보곤/Verb'),\n",
       " (5.793151868572966, '똥줄/Noun'),\n",
       " (5.764532176194453, '여기시는군요/Verb'),\n",
       " (5.761491226852663, '대문/Noun'),\n",
       " (5.7544442020921815, '시험/Noun'),\n",
       " (5.7470275743467925, '바라고/Verb'),\n",
       " (5.745514500160426, '특권/Noun'),\n",
       " (5.745514500160426, '업무/Noun'),\n",
       " (5.745514500160426, '먼저/Noun'),\n",
       " (5.745514500160426, '돌아가지/Verb'),\n",
       " (5.741649371363702, '일삼/Noun'),\n",
       " (5.741290781358928, '겠네요/Verb'),\n",
       " (5.734421223419122, '퍼센트/Noun'),\n",
       " (5.733658662667582, '떨어지는것을/Verb'),\n",
       " (5.73155773217584, '했다는데/Verb'),\n",
       " (5.729418019772556, '시끄럽다/Adjective'),\n",
       " (5.726792568356509, '닮은/Verb'),\n",
       " (5.724493151677715, '예지력/Noun'),\n",
       " (5.724493151677715, '미흡했죠/Adjective'),\n",
       " (5.712903202007777, '해야겠다/Verb'),\n",
       " (5.708842935106764, '규모/Noun'),\n",
       " (5.706267180013276, '당상/Noun'),\n",
       " (5.705883273122813, '없에는/Adjective'),\n",
       " (5.691972268368918, '돌아오니/Verb'),\n",
       " (5.6911182223592505, '기어/Noun'),\n",
       " (5.688523013877503, '폭도/Noun'),\n",
       " (5.688523013877503, '여론조작/Noun'),\n",
       " (5.688523013877503, '빼앗는/Verb'),\n",
       " (5.688523013877503, '딱한게/Adjective'),\n",
       " (5.687144295883253, '준거야/Verb'),\n",
       " (5.680371539764401, '전망/Noun'),\n",
       " (5.659757887497624, '대개/Noun'),\n",
       " (5.652058498082571, '중형/Noun'),\n",
       " (5.646805157362359, '특이한/Adjective'),\n",
       " (5.636043439659655, '항적/Noun'),\n",
       " (5.633807391002433, '미꾸라지/Noun'),\n",
       " (5.6294097932227025, '민아/Noun'),\n",
       " (5.627993743321576, '인하여/Adjective'),\n",
       " (5.6247126658227, '땅/Noun'),\n",
       " (5.621528103493941, '석희/Noun'),\n",
       " (5.620378248333063, '맡겨도/Verb'),\n",
       " (5.617077771702032, '그야/Noun'),\n",
       " (5.614011654203303, '애쓴다/Verb'),\n",
       " (5.60732147036669, '하는데요/Verb'),\n",
       " (5.605101968771908, '서자/Noun'),\n",
       " (5.599132707376306, '치사하고/Adjective'),\n",
       " (5.599132707376306, '두자고요/Verb'),\n",
       " (5.59899771325329, '당비/Noun'),\n",
       " (5.590341343283815, '겸/Noun'),\n",
       " (5.587390433700486, '추악하고/Adjective'),\n",
       " (5.582513743441045, '촬영/Noun'),\n",
       " (5.577051499142432, '당연한거기/Adjective'),\n",
       " (5.573936957189565, '앵벌이/Noun'),\n",
       " (5.570055919954118, '무능하기는/Adjective'),\n",
       " (5.56813886605995, '프/Noun'),\n",
       " (5.56813886605995, '얼른/Noun'),\n",
       " (5.567204416641145, '촌부/Noun'),\n",
       " (5.556951424516021, '자석/Noun'),\n",
       " (5.546735733280008, '몰아내야/Verb'),\n",
       " (5.532483504711536, '아웃/Noun'),\n",
       " (5.527665565047137, '냉철하게/Adjective'),\n",
       " (5.5259520153444495, '같습니다/Adjective'),\n",
       " (5.517902327562858, '관여/Noun'),\n",
       " (5.51374754802762, '저런거하나/Verb'),\n",
       " (5.5103523451266945, '자세/Noun'),\n",
       " (5.507882105619498, '스럽네/Adjective'),\n",
       " (5.500366592847463, '메우는/Verb'),\n",
       " (5.496064050603998, '알수/Verb'),\n",
       " (5.49490503967008, '팔자/Noun'),\n",
       " (5.49490503967008, '쩍/Noun'),\n",
       " (5.49490503967008, '띄게한/Verb'),\n",
       " (5.49490503967008, '기대해/Adjective'),\n",
       " (5.474896228963312, '없노라/Adjective'),\n",
       " (5.4597646308420416, '싶을까/Verb'),\n",
       " (5.4597646308420416, '사발/Noun'),\n",
       " (5.4597646308420416, '받냐/Verb'),\n",
       " (5.4597646308420416, '다를수도/Adjective'),\n",
       " (5.4597646308420416, '구걸/Noun'),\n",
       " (5.449221776371559, '번번번번번번번번번/Noun'),\n",
       " (5.444004743222081, '하지말아야지/Verb'),\n",
       " (5.438841532022199, '전세훈/Noun'),\n",
       " (5.433985676908178, '지켜주세요/Verb'),\n",
       " (5.433985676908178, '줄까/Verb'),\n",
       " (5.433985676908178, '알고있다/Verb'),\n",
       " (5.433985676908178, '않을지/Verb'),\n",
       " (5.433985676908178, '내밀/Verb'),\n",
       " (5.433985676908178, '격/Noun'),\n",
       " (5.424688967867645, '대원/Noun'),\n",
       " (5.394552257331778, '세우는/Verb'),\n",
       " (5.390612254785445, '증식/Noun'),\n",
       " (5.3880935027201895, '역겨워/Adjective'),\n",
       " (5.387912112889532, '선전/Noun'),\n",
       " (5.387912112889532, '뜨면/Verb'),\n",
       " (5.375582678167383, '사피/Noun'),\n",
       " (5.3710775360049166, '인수/Noun'),\n",
       " (5.367056324405095, '부당/Noun'),\n",
       " (5.364588805017365, '주름/Noun'),\n",
       " (5.360592043124786, '좋고/Adjective'),\n",
       " (5.359966345431977, '그랬으니/Adjective'),\n",
       " (5.354533931339945, '갔으면/Verb'),\n",
       " (5.351880654598734, '대는지/Verb'),\n",
       " (5.322570368354326, '어쨋거/Noun'),\n",
       " (5.3212247157636385, '열리고/Verb'),\n",
       " (5.315725324958696, '하/Suffix'),\n",
       " (5.315483616878251, '특별/Noun'),\n",
       " (5.308876036695941, '보여줘라/Verb'),\n",
       " (5.304303295191561, '판세가/Verb'),\n",
       " (5.304303295191561, '판다/Noun'),\n",
       " (5.304303295191561, '동탄/Noun'),\n",
       " (5.304303295191561, '나간/Verb'),\n",
       " (5.304303295191561, '가본게/Verb'),\n",
       " (5.303423317711843, '오셰/Noun'),\n",
       " (5.303423317711843, '벌었냐/Verb'),\n",
       " (5.301536289652877, '하는거다/Verb'),\n",
       " (5.3001843104488415, '생겼다/Verb'),\n",
       " (5.298007784899864, '하는거라/Verb'),\n",
       " (5.292012684770574, '닥아오/Noun'),\n",
       " (5.285822348356323, '할리/Noun'),\n",
       " (5.273368702903727, '쏘시게/Verb'),\n",
       " (5.270368159157099, '봐줄/Verb'),\n",
       " (5.269855614719257, '넣지말고/Verb'),\n",
       " (5.264228228395184, '웠/Noun'),\n",
       " (5.258560521104457, '들어가는/Verb'),\n",
       " (5.258516283399583, '뇌피셜국민/Noun'),\n",
       " (5.256758008963305, '보신탕/Noun'),\n",
       " (5.256544129783831, '보냈다고/Verb'),\n",
       " (5.243701598331156, '항로/Noun'),\n",
       " (5.242437501579626, '조중동/Noun'),\n",
       " (5.240915212239989, '대타/Noun'),\n",
       " (5.2386484922794825, '옥/Noun'),\n",
       " (5.230747440303028, '우려/Noun'),\n",
       " (5.229432917821899, '족하/Noun'),\n",
       " (5.227012764893136, '낙인찍힐것이다/Verb'),\n",
       " (5.21947486238579, '아름답겠/Adjective'),\n",
       " (5.21649722168154, '고있는/Adjective'),\n",
       " (5.205874005278433, '누나/Noun'),\n",
       " (5.200524918522384, '의범/Noun'),\n",
       " (5.200070987494774, '말려도/Verb'),\n",
       " (5.19156424857491, '세우는것/Verb'),\n",
       " (5.188849281728486, '뽑는다고/Verb'),\n",
       " (5.179802042819607, '되었다가/Verb'),\n",
       " (5.1744978669414925, '불공평하죠/Adjective'),\n",
       " (5.168196980004232, '나쁘다로/Adjective'),\n",
       " (5.167356015528752, '뽑아줄지/Verb'),\n",
       " (5.156081036707579, '느낍니다/Verb'),\n",
       " (5.1365267888469965, '어법/Noun'),\n",
       " (5.131313759440779, '일절/Noun'),\n",
       " (5.123357930433695, '검증/Noun'),\n",
       " (5.113258999914086, '세대/Noun'),\n",
       " (5.108786981419003, '거고/Eomi'),\n",
       " (5.103144892634219, '작작해라/Adjective'),\n",
       " (5.0951216596004265, '드신/Verb'),\n",
       " (5.093673790924724, '어이없고/Adjective'),\n",
       " (5.088237538413585, '하더/Verb'),\n",
       " (5.0817351389653656, '질병/Noun'),\n",
       " (5.08149894426977, '개방/Noun'),\n",
       " (5.079821724045274, '당하세요/Adjective'),\n",
       " (5.075103206176165, '느그/Modifier'),\n",
       " (5.062041114159893, '직인/Noun'),\n",
       " (5.062032420118739, '분전/Noun'),\n",
       " (5.060179314338631, '홍수/Noun'),\n",
       " (5.057467817684804, '어림없는/Adjective'),\n",
       " (5.056818931166517, '나쁘네요/Adjective'),\n",
       " (5.053592676538003, '덕교/Noun'),\n",
       " (5.053592676538003, '나일/Noun'),\n",
       " (5.043013742004796, '보고싶/Verb'),\n",
       " (5.039068622983016, 'ㄱ/KoreanParticle'),\n",
       " (5.026448931219604, '단위/Noun'),\n",
       " (5.023178475121744, '박근혜/Noun'),\n",
       " (5.0217431760688624, '본단/Verb'),\n",
       " (5.021641095643769, '지급/Noun'),\n",
       " (5.020636032661316, '관대하지/Adjective'),\n",
       " (5.016286728045731, '갈수있도록/Verb'),\n",
       " (5.015813160887944, '해준/Verb'),\n",
       " (5.007143541786997, '돌리고/Verb'),\n",
       " (5.005530083675617, '경력으루/Noun'),\n",
       " (4.980668021394317, '우수수/Noun'),\n",
       " (4.980242540691828, '산산/Noun'),\n",
       " (4.9794821113848, '챙기는/Verb'),\n",
       " (4.94185102549364, '날뛰는/Verb'),\n",
       " (4.94084261060969, '꽃으/Noun'),\n",
       " (4.940492704190883, '뿌리세요/Verb'),\n",
       " (4.933402193195081, '띄워주는/Verb'),\n",
       " (4.929074209279285, '내버립니다/Verb'),\n",
       " (4.926765069409473, '치/Noun'),\n",
       " (4.922054736953296, '표시/Noun'),\n",
       " (4.922054736953296, '줍시다오/Verb'),\n",
       " (4.921349416070536, '갓/Modifier'),\n",
       " (4.9164440368858, '붕괴/Noun'),\n",
       " (4.913916866111329, '이어지고/Verb'),\n",
       " (4.905791152811177, '소수자/Noun'),\n",
       " (4.9045676951298995, '만들지도/Verb'),\n",
       " (4.895527283907729, '악정/Noun'),\n",
       " (4.887849688326842, '청/Noun'),\n",
       " (4.88495541907743, '박현/Noun'),\n",
       " (4.88314634944413, '짜장면/Noun'),\n",
       " (4.882166809745834, '밷는/Noun'),\n",
       " (4.882091811158152, '지하철역/Noun'),\n",
       " (4.875824825206654, '링/Noun'),\n",
       " (4.872459856939165, '재난/Noun'),\n",
       " (4.866724094594396, '나오니/Noun'),\n",
       " (4.852036886978719, '닷/Noun'),\n",
       " (4.846787464916, '거꾸로/Noun'),\n",
       " (4.846397680582831, '막대/Noun'),\n",
       " (4.839801892209501, '듣고있다/Verb'),\n",
       " (4.8383126948792805, '꾸려가면/Verb'),\n",
       " (4.837416740514889, '뜨는데/Verb'),\n",
       " (4.8320594456695485, '예민한/Adjective'),\n",
       " (4.8320594456695485, '난항/Noun'),\n",
       " (4.831514338097156, '연대/Noun'),\n",
       " (4.821654582175817, '누군가/Noun'),\n",
       " (4.821232561013485, '던지며/Verb'),\n",
       " (4.816596936872216, '본연/Noun'),\n",
       " (4.813888658885602, '뉴스룸/Noun'),\n",
       " (4.8022128928289725, '옳/Adjective'),\n",
       " (4.799668241026051, '이럴까/Adjective'),\n",
       " (4.799134027617783, '선이되/Verb'),\n",
       " (4.789881857290875, '되기/Verb'),\n",
       " (4.7873616350623776, '유튜브/Noun'),\n",
       " (4.7828736219956225, '반시민/Noun'),\n",
       " (4.778673076634088, '낮다는/Adjective'),\n",
       " (4.775823120515994, '아웅/Exclamation'),\n",
       " (4.775124682365531, '보여줬냐는/Verb'),\n",
       " (4.774898072797659, '저리/Noun'),\n",
       " (4.774745496978459, '신선함과/Adjective'),\n",
       " (4.773073394466899, '성력/Noun'),\n",
       " (4.765865360287677, '가져/Verb'),\n",
       " (4.765253994954917, '협작꾼/Noun'),\n",
       " (4.765253994954917, '목소리/Noun'),\n",
       " (4.765253994954917, '만든것이다/Verb'),\n",
       " (4.765253994954917, '대루/Noun'),\n",
       " (4.762054725941703, '해보겠다는/Verb'),\n",
       " (4.762054725941703, '물어보십시오/Verb'),\n",
       " (4.761607683021293, '놨/Noun'),\n",
       " (4.755728887523725, '이내/Noun'),\n",
       " (4.752636590203398, '지으면서/Verb'),\n",
       " (4.750381756443702, '들을수/Verb'),\n",
       " (4.746143704570347, '끔찍하다/Adjective'),\n",
       " (4.733278118187444, '먹을라고/Verb'),\n",
       " (4.723998913765534, '콩크리트/Noun'),\n",
       " (4.723998913765534, '예산/Noun'),\n",
       " (4.723998913765534, '빠졌다/Verb'),\n",
       " (4.723998913765534, '듯슈구꼴툥/Noun'),\n",
       " (4.723998913765534, '들인/Verb'),\n",
       " (4.713750977805457, '노동당/Noun'),\n",
       " (4.710265063587621, '화웨이/Noun'),\n",
       " (4.710265063587621, '않으십니까/Verb'),\n",
       " (4.7005418292098415, '전당대회/Noun'),\n",
       " (4.7005418292098415, '이기주의/Noun'),\n",
       " (4.7005418292098415, '받은거냐/Verb'),\n",
       " (4.696878663923041, '기득권/Noun'),\n",
       " (4.696560260446211, '키라/Noun'),\n",
       " (4.696560260446211, '북원/Noun'),\n",
       " (4.696328100086205, '끌고로/Verb'),\n",
       " (4.692405050937804, '지킨다/Verb'),\n",
       " (4.690460677725157, '이기지도/Verb'),\n",
       " (4.6852069804313645, '이깁니다/Verb'),\n",
       " (4.657841612299472, '틀/Noun'),\n",
       " (4.657841612299472, '사직/Noun'),\n",
       " (4.654866006134723, '억이/Noun'),\n",
       " (4.654866006134723, '나온것도/Verb'),\n",
       " (4.654866006134723, '깐/Verb'),\n",
       " (4.643279138863991, '김영선/Noun'),\n",
       " (4.63593608190077, '보듬어/Verb'),\n",
       " (4.6258324035786815, '감성/Noun'),\n",
       " (4.625152608542394, '된다던/Verb'),\n",
       " (4.613466650157669, '내십시요/Verb'),\n",
       " (4.61329572862436, '깨끗하겠냐/Adjective'),\n",
       " (4.606608695157809, '어렵던/Adjective'),\n",
       " (4.60615538032321, '공감/Noun'),\n",
       " (4.604536599036671, '훔치고/Verb'),\n",
       " (4.6018794413645905, '서래/Verb'),\n",
       " (4.597910063531089, '않다나/Verb'),\n",
       " (4.597846372712685, '순서/Noun'),\n",
       " (4.593346541894137, '집어내냐/Verb'),\n",
       " (4.593346541894137, '보는게/Verb'),\n",
       " (4.593346541894137, '기대/Noun'),\n",
       " (4.5903617501840355, '수가/Noun'),\n",
       " (4.589139654632139, '큰소리쳤냐/Verb'),\n",
       " (4.588572162375404, '은총/Noun'),\n",
       " (4.584913906729344, '좀하지/Adjective'),\n",
       " (4.584913906729344, '재임/Noun'),\n",
       " (4.584913906729344, '간절히/Adjective'),\n",
       " (4.581431892262127, '초접/Noun'),\n",
       " (4.581051958661632, '된것이다/Verb'),\n",
       " (4.578882857535579, '원한다면/Adjective'),\n",
       " (4.577863370499515, '편할대로/Adjective'),\n",
       " (4.577228586173868, '통제/Noun'),\n",
       " (4.574059600682272, '대결/Noun'),\n",
       " (4.565215884174498, '모으기만/Verb'),\n",
       " (4.565060554402149, '간접/Noun'),\n",
       " (4.561373994880983, '거티브/Noun'),\n",
       " (4.552963486575155, '주로/Noun'),\n",
       " (4.544635539243271, '출하/Noun'),\n",
       " (4.544635539243271, '어려운데/Adjective'),\n",
       " (4.54292020506235, '유의/Noun'),\n",
       " (4.54292020506235, '더하고/Adjective'),\n",
       " (4.539254568407298, '취향/Noun'),\n",
       " (4.532323465579189, '극성/Noun'),\n",
       " (4.530134830619043, '무겁게/Adjective'),\n",
       " (4.530134830619043, '든다/Verb'),\n",
       " (4.5213936208976895, '안쓰러워/Adjective'),\n",
       " (4.514968714492082, '검사/Noun'),\n",
       " (4.505033548255716, '타라/Noun'),\n",
       " (4.50333521744511, '벅/Noun'),\n",
       " (4.4987832761813396, '접근성/Noun'),\n",
       " (4.491964403652728, '누릴것으로/Verb'),\n",
       " (4.481555796191235, '손명순/Noun'),\n",
       " (4.473213523662575, '신경질/Noun'),\n",
       " (4.463551750277696, '동현/Noun'),\n",
       " (4.451563372737314, '모르겠는가/Verb'),\n",
       " (4.448866102369066, '선거법/Noun'),\n",
       " (4.441670641038084, '혼돈/Noun'),\n",
       " (4.440519392019485, '처가/Noun'),\n",
       " (4.429225169571405, '싸우려면/Verb'),\n",
       " (4.429225169571405, '결점/Noun'),\n",
       " (4.4257480059489405, '어딘/Noun'),\n",
       " (4.4257480059489405, '스폰서/Noun'),\n",
       " (4.4257480059489405, '삼류/Noun'),\n",
       " (4.4257480059489405, '민들레/Noun'),\n",
       " (4.424848057190698, '득실/Noun'),\n",
       " (4.424325670603766, '텅/Noun'),\n",
       " (4.4114912177949615, '노력/Noun'),\n",
       " (4.4090682233482665, '선거이므로/Verb'),\n",
       " (4.407126790162406, '되여/Verb'),\n",
       " (4.4048805401627105, '촌/Noun'),\n",
       " (4.386667685708217, '모자랄텐데/Verb'),\n",
       " (4.384459594303157, '버리고요/Verb'),\n",
       " (4.383408903690912, '아니었나/Adjective'),\n",
       " (4.381805652330124, '오늘/Noun'),\n",
       " (4.379033486172402, '주말/Noun'),\n",
       " (4.356157562812067, '허면/Verb'),\n",
       " (4.356157562812067, '더럽힌/Verb'),\n",
       " (4.349996891738308, '호로/Noun'),\n",
       " (4.349996891738308, '들이니/Verb'),\n",
       " (4.349325556894752, '죗값/Noun'),\n",
       " (4.343831613632168, '보여줄것이다/Verb'),\n",
       " (4.320076745511011, '했을텐데/Verb'),\n",
       " (4.320076745511011, '없었나/Adjective'),\n",
       " (4.3073173606820125, '할지는/Verb'),\n",
       " (4.302085075094048, '살겠다는/Verb'),\n",
       " (4.296313359864773, '항텐데/Noun'),\n",
       " (4.2732890293140375, '저지른게/Verb'),\n",
       " (4.272433719515357, '갈/Verb'),\n",
       " (4.271742916857008, '품고/Verb'),\n",
       " (4.265154766138435, '먹냐이게/Verb'),\n",
       " (4.265154766138435, '되셔야/Verb'),\n",
       " (4.265154766138435, '나대며/Verb'),\n",
       " (4.26266594461727, '다머/Noun'),\n",
       " (4.262486790660282, '솔선/Noun'),\n",
       " (4.262486790660282, '비젼/Noun'),\n",
       " (4.261865808632632, '정당화/Noun'),\n",
       " (4.25862352919832, '설명/Noun'),\n",
       " (4.256660712408594, '광/Noun'),\n",
       " (4.25346951421269, '즈/Modifier'),\n",
       " (4.2513825406930765, '겁박/Noun'),\n",
       " (4.250627905479627, '유치한/Adjective'),\n",
       " (4.247619617368406, '치민/Noun'),\n",
       " (4.244947811007104, '앉았나/Verb'),\n",
       " (4.243690838213912, '꺼지거라/Verb'),\n",
       " (4.242822074017313, '가중/Noun'),\n",
       " (4.242746242934789, '클릭/Noun'),\n",
       " (4.239773596898549, '찬란하다/Adjective'),\n",
       " (4.238425816492595, '잘알아서/Verb'),\n",
       " (4.236921756254464, '바꾸기시전한/Verb'),\n",
       " (4.236921756254464, '될수도/Verb'),\n",
       " (4.236921756254464, '계략/Noun'),\n",
       " (4.235764218889207, '외쳐야지/Verb'),\n",
       " (4.235706415438018, '집거다/Verb'),\n",
       " (4.23215536731001, '초등/Noun'),\n",
       " (4.225340607711928, '있나요/Adjective'),\n",
       " (4.22229716990418, '그렇다치고/Adjective'),\n",
       " (4.221923869241787, '무시/Noun'),\n",
       " (4.219254642045606, '이탄/Noun'),\n",
       " (4.219254642045606, '엿/Modifier'),\n",
       " (4.2192159147416985, '상관없지/Adjective'),\n",
       " (4.217305333793856, '국제/Noun'),\n",
       " (4.206031044659378, '좋아할/Adjective'),\n",
       " (4.205400647628807, '됐다내/Verb'),\n",
       " (4.204902023565023, '일이/Modifier'),\n",
       " (4.204069150840764, '타긴/Verb'),\n",
       " (4.201838115499145, '있을까요/Adjective'),\n",
       " (4.201838115499145, '이상하지/Adjective'),\n",
       " (4.201838115499145, '신성/Noun'),\n",
       " (4.195930286485006, '우글우글/Adverb'),\n",
       " (4.195727533805393, '남음/Verb'),\n",
       " (4.195606819666434, '웃죠/Verb'),\n",
       " (4.195606819666434, '여린/Adjective'),\n",
       " (4.195606819666434, '다운/Noun'),\n",
       " (4.195606819666434, '고생/Noun'),\n",
       " (4.189266268446263, '해야하나/Verb'),\n",
       " (4.1865275523772905, '하리/Noun'),\n",
       " (4.185743392588928, '벗/Noun'),\n",
       " (4.18177135165297, '추한/Adjective'),\n",
       " (4.18177135165297, '뭉게/Noun'),\n",
       " (4.178330986759422, '성취/Noun'),\n",
       " (4.177601513369395, '굳인다/Adjective'),\n",
       " (4.1771950400538, 'ㅡ/KoreanParticle'),\n",
       " (4.169377683838524, '존경/Noun'),\n",
       " (4.169112567294231, '철회/Noun'),\n",
       " (4.167228028520936, '전시/Noun'),\n",
       " (4.159371279826564, '저력/Noun'),\n",
       " (4.159371279826564, '앞서오세/Verb'),\n",
       " (4.159371279826564, '않았나/Verb'),\n",
       " (4.159371279826564, '들어가시죠/Verb'),\n",
       " (4.159371279826564, '놓으려고/Verb'),\n",
       " (4.159371279826564, '내려라/Verb'),\n",
       " (4.157269232544497, '잠자는/Verb'),\n",
       " (4.157269232544497, '싸가지/Noun'),\n",
       " (4.157269232544497, '마타도어/Noun'),\n",
       " (4.1564332505821024, '있든지/Adjective'),\n",
       " (4.155467757565177, '감소/Noun'),\n",
       " (4.1517551848116465, '살며/Verb'),\n",
       " (4.1517551848116465, '만지고있다/Verb'),\n",
       " (4.1504382744897095, '일어나야한/Verb'),\n",
       " (4.14589821776633, '따름/Noun'),\n",
       " (4.142419205495857, '거름/Noun'),\n",
       " (4.140055530028929, '융합/Noun'),\n",
       " (4.137945493399752, '아니다/Adjective'),\n",
       " (4.132302057801916, '대라/Verb'),\n",
       " (4.128310022898357, '어지럽게/Adjective'),\n",
       " (4.111471518668463, '이길거/Verb'),\n",
       " (4.11114430592392, '의식/Noun'),\n",
       " (4.110075188055745, '버릴수/Verb'),\n",
       " (4.110075188055745, '마련/Noun'),\n",
       " (4.110075188055745, '대기업/Noun'),\n",
       " (4.100004161252562, '살려주세요/Verb'),\n",
       " (4.098234250235451, '남말하듯/Verb'),\n",
       " (4.096145660879446, '정경두/Noun'),\n",
       " (4.093211902401602, '지지도/Noun'),\n",
       " (4.093211902401602, '정해준/Noun'),\n",
       " (4.093211902401602, '어떠한/Adjective'),\n",
       " (4.087518968328083, '재산가/Noun'),\n",
       " (4.085714368624445, '놓았던/Verb'),\n",
       " (4.077918706330369, '기억/Noun'),\n",
       " (4.076913301046775, '섰지만/Verb'),\n",
       " (4.076913301046775, '녹아/Verb'),\n",
       " (4.076284289077865, '짖을/Verb'),\n",
       " (4.075945089830767, '인턴/Noun'),\n",
       " (4.074989363584525, '극좌/Noun'),\n",
       " (4.073306471540371, '대쪽/Noun'),\n",
       " (4.062742356123262, '좋아하지만/Adjective'),\n",
       " (4.051874498587284, '비위/Noun'),\n",
       " (4.050002490193144, '웃는다/Verb'),\n",
       " (4.041957293070333, '대척점/Noun'),\n",
       " (4.041525014641569, '보겠어요/Verb'),\n",
       " (4.0343874131128326, '무민/Noun'),\n",
       " (4.034316720321796, '여한/Noun'),\n",
       " (4.0324674345454445, '화난다/Verb'),\n",
       " (4.027240406880291, '쳤다/Verb'),\n",
       " (4.027240406880291, '이창호/Noun'),\n",
       " (4.027240406880291, '유기견/Noun'),\n",
       " (4.0227688832884985, '야하는/Adjective'),\n",
       " (4.016883576163885, '이겨야/Verb'),\n",
       " (4.016883576163885, '비었나/Verb'),\n",
       " (4.012592224644318, '정규/Noun'),\n",
       " (4.011201305852235, '엑/Exclamation'),\n",
       " (4.011201305852235, '안딜거/Noun'),\n",
       " (4.011201305852235, '쓴다는/Verb'),\n",
       " (4.005791778048288, '경찰/Noun'),\n",
       " (4.003036150310564, '모르는구나/Verb'),\n",
       " (4.000598005858831, '선전포고/Noun'),\n",
       " (3.9935136647777534, '긋한/Verb'),\n",
       " (3.9910543894945643, '엿/Noun'),\n",
       " (3.9866612748215284, '흔드는/Verb'),\n",
       " (3.9866612748215284, '해야하고/Verb'),\n",
       " (3.980120939471451, '나대다가는/Verb'),\n",
       " (3.979352400765343, '미화/Noun'),\n",
       " (3.979352400765343, '대소/Noun'),\n",
       " (3.979352400765343, '가야/Noun'),\n",
       " (3.9738776199089565, '승낙/Noun'),\n",
       " (3.9653063294182145, '앞서/Noun'),\n",
       " (3.9639478274594313, '하지를/Verb'),\n",
       " (3.9614047572551296, '가난한/Adjective'),\n",
       " (3.961034995556391, '사회자/Noun'),\n",
       " (3.9573185841536134, '지키는/Verb'),\n",
       " (3.957023180485257, '정신차려라/Noun'),\n",
       " (3.9506810416219826, '반기/Noun'),\n",
       " (3.9462220362068603, '징징대지/Adjective'),\n",
       " (3.943179363084959, '재고/Noun'),\n",
       " (3.9243714536654024, '믿어줄까/Verb'),\n",
       " (3.920520516055885, '잡았지만/Verb'),\n",
       " (3.915790198052838, '거칠어/Verb'),\n",
       " (3.908899615227109, '글로벌/Noun'),\n",
       " (3.9087091191181003, '불이익/Noun'),\n",
       " (3.908604976737449, '저럴수록/Verb'),\n",
       " (3.9050616964282283, '쓰레기통/Noun'),\n",
       " (3.90378610089807, '여기저기/Noun'),\n",
       " (3.901028844792295, '짜였다잔/Verb'),\n",
       " (3.901028844792295, '이쁘다/Adjective'),\n",
       " (3.900937302295665, '살때/Noun'),\n",
       " (3.898454513332619, '정신차려/Adjective'),\n",
       " (3.8950307374351887, '아니잖아/Adjective'),\n",
       " (3.893130282807916, '소름끼친다/Verb'),\n",
       " (3.893130282807916, '공유/Noun'),\n",
       " (3.892110485640299, '단/Modifier'),\n",
       " (3.8911955961931355, '보고있으면/Verb'),\n",
       " (3.8881828730494106, '건/Noun'),\n",
       " (3.8877286105041593, '뭉개/Noun'),\n",
       " (3.8828592288513426, '입정/Noun'),\n",
       " (3.8828592288513426, '쇼핑/Noun'),\n",
       " (3.8828592288513426, '사칭/Noun'),\n",
       " (3.88210703281395, '싸우고/Verb'),\n",
       " (3.8794843936365093, '나오려/Verb'),\n",
       " (3.878512199238349, '게걸스런/Adjective'),\n",
       " (3.8734074216253975, '만들고/Verb'),\n",
       " (3.8730650540285767, '더란다/Adjective'),\n",
       " (3.869868902207047, '붙을려면/Verb'),\n",
       " (3.869868902207047, '무력/Noun'),\n",
       " (3.869868902207047, '무도/Noun'),\n",
       " (3.869868902207047, '머무를것/Verb'),\n",
       " (3.869868902207047, '군중/Noun'),\n",
       " (3.86963682860913, '반성은/Noun'),\n",
       " (3.8674465342526965, '넘기시고요/Verb'),\n",
       " (3.8645684181197444, '폐/Noun'),\n",
       " (3.8630587266803955, '밀어줘라/Verb'),\n",
       " (3.8590888162720285, '믿기로/Verb'),\n",
       " (3.8555589287321674, '환장하는게/Adjective'),\n",
       " (3.854307775047894, '개무시/Noun'),\n",
       " (3.852382419292485, '인/Suffix'),\n",
       " (3.8482284722531572, '똑똑한/Adjective'),\n",
       " (3.8447640229401068, '어는/Modifier'),\n",
       " (3.839340323607082, '서을/Verb'),\n",
       " (3.835386932663236, '대폭발/Noun'),\n",
       " (3.8345099953752095, '퍼먹기/Noun'),\n",
       " (3.8280273724159386, '국채/Noun'),\n",
       " (3.8262368789235093, '장니/Noun'),\n",
       " (3.8262368789235093, '박지르나/Verb'),\n",
       " (3.8224311071610986, '어간/Noun'),\n",
       " (3.815193892421432, '컴백/Noun'),\n",
       " (3.815193892421432, '집기/Noun'),\n",
       " (3.815193892421432, '보상/Noun'),\n",
       " (3.815193892421432, '가느다란/Verb'),\n",
       " (3.815177142950608, '않으려고/Verb'),\n",
       " (3.813638526498147, '살수/Noun'),\n",
       " (3.813638526498147, '되려는/Verb'),\n",
       " (3.8108579301542043, '촌극/Noun'),\n",
       " (3.8077332493562266, '주시리라/Verb'),\n",
       " (3.8077332493562266, '옷/Noun'),\n",
       " (3.8077332493562266, '박지/Verb'),\n",
       " (3.8077332493562266, '박빵/Noun'),\n",
       " (3.807359796069582, '차리자/Verb'),\n",
       " (3.807359796069582, '찢어놓아야/Verb'),\n",
       " (3.807359796069582, '발광했던/Adjective'),\n",
       " (3.807359796069582, '박빙/Noun'),\n",
       " (3.8048349910116173, '그런데/Conjunction'),\n",
       " (3.804356145161613, '국력/Noun'),\n",
       " (3.7924751085822437, '없던/Adjective'),\n",
       " (3.792242398318477, '막는다나라/Verb'),\n",
       " (3.790667924847201, '나겠네/Verb'),\n",
       " (3.789078690538905, '코이카/Noun'),\n",
       " (3.7888934057680506, '엄격하고/Adjective'),\n",
       " (3.786757473692995, '열몐거/Noun'),\n",
       " (3.7847927945430304, '가봐야/Verb'),\n",
       " (3.7825288966024115, '돼냐/Verb'),\n",
       " (3.779336696752893, '영춘권/Noun'),\n",
       " (3.7724530197278128, '생긴다고/Verb'),\n",
       " (3.772449204394211, '원망하지말고/Adjective'),\n",
       " (3.7717083317368685, '넣으실/Verb'),\n",
       " (3.762485083639189, '사전투표/Noun'),\n",
       " (3.757062253987672, '넘아가나/Verb'),\n",
       " (3.7557960086416053, '국정원장/Noun'),\n",
       " (3.7557534137799022, '쫄개/Noun'),\n",
       " (3.7557534137799022, '보내서/Verb'),\n",
       " (3.7557534137799022, '반정부/Noun'),\n",
       " (3.7557534137799022, '들이/Verb'),\n",
       " (3.7557534137799022, '같아야/Adjective'),\n",
       " (3.7557534137799022, '가재/Noun'),\n",
       " (3.7515710519335665, '천원/Noun'),\n",
       " (3.7501537925822306, '국회/Noun'),\n",
       " (3.744455150591968, '구차/Noun'),\n",
       " (3.73355489135813, '없는한/Adjective'),\n",
       " (3.730512714895126, '그나저나/Adverb'),\n",
       " (3.7296380368822213, '차분히/Adjective'),\n",
       " (3.7296380368822213, '살림/Noun'),\n",
       " (3.7296380368822213, '바람직하다/Adjective'),\n",
       " (3.7216831076822836, '근거/Noun'),\n",
       " (3.72059685467955, '머슴/Noun'),\n",
       " (3.7145020390876025, '위안부/Noun'),\n",
       " (3.713237864583858, '거쳐/Verb'),\n",
       " (3.7070798732565953, '메는건/Verb'),\n",
       " (3.6936887641974967, '오만하게/Adjective'),\n",
       " (3.6936887641974967, '꺼리부터/Verb'),\n",
       " (3.6931222589614245, '자를거/Verb'),\n",
       " (3.6918101038751545, '각시/Noun'),\n",
       " (3.6901372598643496, '불쌍한건/Adjective'),\n",
       " (3.6896500392702136, '야합니다/Adjective'),\n",
       " (3.689480999219281, '대재앙/Noun'),\n",
       " (3.689480999219281, '눌러/Verb'),\n",
       " (3.6819538750945555, '외치기/Verb'),\n",
       " (3.6819538750945555, '박지원/Noun'),\n",
       " (3.6790381313331455, '바라나/Verb'),\n",
       " (3.6734541701438546, '제시/Noun'),\n",
       " (3.6729772183766833, '옮겼다가/Verb'),\n",
       " (3.670405279838856, '기리/Noun'),\n",
       " (3.6697924064922347, '파세요/Verb'),\n",
       " (3.664577874129103, '디자인서울/Noun'),\n",
       " (3.6615743803167655, '안산/Noun'),\n",
       " ...]"
      ]
     },
     "execution_count": 91,
     "metadata": {},
     "output_type": "execute_result"
    }
   ],
   "source": [
    "coef_pos_text = []\n",
    "\n",
    "for value, index in coef_pos_index:\n",
    "    # 각 인덱스에 해당하는 실제 단어 확인\n",
    "    # print(word_dict[index])\n",
    "    # print(value) # 회귀계수\n",
    "    coef_pos_text.append( ( value, word_dict[index]) )\n",
    "    \n",
    "coef_pos_text"
   ]
  },
  {
   "cell_type": "code",
   "execution_count": null,
   "metadata": {
    "ExecuteTime": {
     "end_time": "2021-05-12T05:32:36.219270Z",
     "start_time": "2021-05-12T05:25:31.808Z"
    }
   },
   "outputs": [],
   "source": [
    "# 회귀 계수가 높은 순으로 형용사들을 리스트에 담는다.\n",
    "adj_list_by_coef = []\n",
    "for i in coef_pos_text:\n",
    "    if i[1].split('/')[1] == 'Adjective':\n",
    "        adj_list_by_coef.append((float(i[0]),i[1].split('/')[0]))"
   ]
  },
  {
   "cell_type": "code",
   "execution_count": null,
   "metadata": {
    "ExecuteTime": {
     "end_time": "2021-05-12T05:32:36.220267Z",
     "start_time": "2021-05-12T05:25:31.814Z"
    }
   },
   "outputs": [],
   "source": [
    "# 긍정 판단에 영향을 주는 형용사 top 50\n",
    "np.array(adj_list_by_coef[:50])[:,1]\n",
    "\n",
    "plt.bar( np.array(adj_list_by_coef[:50])[:,1],\n",
    "         np.array(adj_list_by_coef[:50])[:,0].astype(float))\n",
    "plt.xticks(rotation=90)\n",
    "plt.show()"
   ]
  },
  {
   "cell_type": "code",
   "execution_count": null,
   "metadata": {
    "ExecuteTime": {
     "end_time": "2021-05-12T05:32:36.221265Z",
     "start_time": "2021-05-12T05:25:31.818Z"
    }
   },
   "outputs": [],
   "source": [
    "# 부정 판단에 영향을 주는 형용사 top 50\n",
    "np.array(adj_list_by_coef[-50:])[:,1]\n",
    "\n",
    "plt.bar( np.array(adj_list_by_coef[-50:])[:,1],\n",
    "         np.array(adj_list_by_coef[-50:])[:,0].astype(float))\n",
    "plt.xticks(rotation=90)\n",
    "plt.show()"
   ]
  },
  {
   "cell_type": "code",
   "execution_count": null,
   "metadata": {
    "ExecuteTime": {
     "end_time": "2021-05-12T05:32:36.221265Z",
     "start_time": "2021-05-12T05:25:31.821Z"
    }
   },
   "outputs": [],
   "source": [
    "adj_list_by_coef\n",
    "\n",
    "import pickle\n",
    "\n",
    "# 리스트를 저장\n",
    "with open('data/0409/adj_list_by_model1_0409.pickle', 'wb') as f:\n",
    "    pickle.dump(adj_list_by_coef, f, pickle.HIGHEST_PROTOCOL)"
   ]
  },
  {
   "cell_type": "code",
   "execution_count": null,
   "metadata": {},
   "outputs": [],
   "source": []
  },
  {
   "cell_type": "code",
   "execution_count": null,
   "metadata": {},
   "outputs": [],
   "source": []
  }
 ],
 "metadata": {
  "hide_input": false,
  "kernelspec": {
   "display_name": "Python 3",
   "language": "python",
   "name": "python3"
  },
  "language_info": {
   "codemirror_mode": {
    "name": "ipython",
    "version": 3
   },
   "file_extension": ".py",
   "mimetype": "text/x-python",
   "name": "python",
   "nbconvert_exporter": "python",
   "pygments_lexer": "ipython3",
   "version": "3.7.6"
  },
  "toc": {
   "base_numbering": 1,
   "nav_menu": {},
   "number_sections": true,
   "sideBar": true,
   "skip_h1_title": false,
   "title_cell": "Table of Contents",
   "title_sidebar": "Contents",
   "toc_cell": false,
   "toc_position": {
    "height": "calc(100% - 180px)",
    "left": "10px",
    "top": "150px",
    "width": "226.827px"
   },
   "toc_section_display": true,
   "toc_window_display": true
  },
  "varInspector": {
   "cols": {
    "lenName": 16,
    "lenType": 16,
    "lenVar": 40
   },
   "kernels_config": {
    "python": {
     "delete_cmd_postfix": "",
     "delete_cmd_prefix": "del ",
     "library": "var_list.py",
     "varRefreshCmd": "print(var_dic_list())"
    },
    "r": {
     "delete_cmd_postfix": ") ",
     "delete_cmd_prefix": "rm(",
     "library": "var_list.r",
     "varRefreshCmd": "cat(var_dic_list()) "
    }
   },
   "types_to_exclude": [
    "module",
    "function",
    "builtin_function_or_method",
    "instance",
    "_Feature"
   ],
   "window_display": false
  }
 },
 "nbformat": 4,
 "nbformat_minor": 4
}
